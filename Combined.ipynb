{
  "nbformat": 4,
  "nbformat_minor": 0,
  "metadata": {
    "colab": {
      "name": "Combined.ipynb",
      "provenance": [],
      "collapsed_sections": [
        "c__UGChytAnR",
        "MDTwHEQG1Nr6",
        "ODF-6sLB1Nr8",
        "-XZ3KbM31Ntj",
        "EXjNYPj-1NuA",
        "FnGsYuYG_Sd_",
        "62CZWrgMm4M5",
        "ZDmFviKBMKHl",
        "5mlKRaN_SmVt",
        "wH5r_cacMVPr",
        "Bp2MHHaPt5-s",
        "Vmfzx9qpkqoc",
        "kGPhiDxQkuEP",
        "tYm2lQFy-tzj",
        "tWmZfjelq9Xk",
        "4N9fJ_f0k70O",
        "k7fYYyGb3zrT",
        "Kw_3YSt63zrU",
        "w3zseGLX3zrw",
        "QgiRZuTx3zr-",
        "k8gaQxsmd1vo",
        "NHOjca93d1vq",
        "SyDFF896d1vr",
        "yRIfGiBUd1vz",
        "J0RCkhYud1v6",
        "1etprfInd1wB",
        "SE_sfFhflSzV",
        "8ctsUn4WlVkI",
        "33fZnVR5d1wK",
        "k_R521BkcHKg",
        "BGI6FUBlrzKA",
        "7-lfotQ_rzKC",
        "WYoJZyPCrzKm",
        "Ja9wwJonrzK9",
        "7ZrmMaWjrzLP",
        "wb4WkT-irzLR",
        "ztXMfsYZrzLT",
        "n2G0fLwCrzLa",
        "MTOeFEhArzLg",
        "IZNNGvZ3rzLn",
        "KBEyLIo3m_ts",
        "8dGOKlHrrzLw",
        "mThdOqYoLXYc",
        "3vFaVuJyl30s",
        "ZM9V8OKal31T",
        "GKBnJvmDl31U",
        "UzBpOymml31t",
        "rdHqCygxl314",
        "V7ButFHvl32B",
        "p9nTU6Ril32E",
        "R5n52aJMl32G",
        "f_P6WhNDl32M",
        "eg2Fzc7-l32R",
        "L25jWzBfl32W",
        "rxdosP8Wnmm7",
        "MrGb7-R4nqmZ",
        "8cXeLp9Ll32h",
        "sfS-Shuqu-2v",
        "OPYFkpzAvHGV",
        "1wsbnwsCvHGX",
        "GEgvysW5vHGw",
        "rMsTu6DtvHG5",
        "uWEyP1NbvHHE",
        "9Z7U__OnvHHF",
        "6riJpbUBvHHH",
        "xRZlseyXvHHM",
        "3MKLSZDfvHHS",
        "j9fdhNpMvHHX",
        "czADdxmToP_0",
        "yt8KQw7OoSlN",
        "UwDyzdVOvHHi",
        "Z_GBjznzmLWJ",
        "OMk_5e0M5-8G",
        "Qn2tOsH85-8Q",
        "F6Sz5Wpr5-9j",
        "jg435tai5--N",
        "LLYTSZO4lORF",
        "9WtX95KOlORH",
        "ii8DoKG-lORJ",
        "5cmYje7mlORQ",
        "hicEVgAtlORV",
        "3s24u3DflORc",
        "99xvLkgmo4oa",
        "DQnm-dxQo7us",
        "MKjv9jFnlORl",
        "ayr9jIR8eUGt",
        "a8zbsI4S2YWT",
        "AdnAj8V02YWU",
        "QI2my_Az2YWv",
        "907NqLyf2YW3",
        "37IKXRug2YXC",
        "lj5K5A9P2YXE",
        "mOLxGxZ62YXG",
        "pzaqDkZe2YXM",
        "Yq7Dew4_2YXT",
        "aN9x643Z2YXY",
        "DR8xFf2bpiXi",
        "uyfJfQeaplYB",
        "5zvTgzQk2YXh"
      ]
    },
    "kernelspec": {
      "name": "python3",
      "display_name": "Python 3"
    }
  },
  "cells": [
    {
      "cell_type": "markdown",
      "metadata": {
        "id": "c__UGChytAnR"
      },
      "source": [
        "## Reading Data"
      ]
    },
    {
      "cell_type": "code",
      "metadata": {
        "id": "VLq_PH61gZzF",
        "colab": {
          "base_uri": "https://localhost:8080/",
          "height": 52
        },
        "outputId": "c4a7b59a-254a-4763-9bda-3b27ce5e69fb"
      },
      "source": [
        "import pandas as pd\n",
        "import numpy as np\n",
        "import matplotlib.pyplot as plt\n",
        "import seaborn as sns"
      ],
      "execution_count": null,
      "outputs": [
        {
          "output_type": "stream",
          "text": [
            "/usr/local/lib/python3.6/dist-packages/statsmodels/tools/_testing.py:19: FutureWarning: pandas.util.testing is deprecated. Use the functions in the public API at pandas.testing instead.\n",
            "  import pandas.util.testing as tm\n"
          ],
          "name": "stderr"
        }
      ]
    },
    {
      "cell_type": "code",
      "metadata": {
        "id": "NB8P5HJ5hmWb",
        "colab": {
          "base_uri": "https://localhost:8080/"
        },
        "outputId": "69cb798f-b344-4dc7-d723-a738e652acf5"
      },
      "source": [
        "forest = pd.read_csv('/content/drive/My Drive/Colab Notebooks/Forest_Data/full_forest')\n",
        "forest.head()"
      ],
      "execution_count": null,
      "outputs": [
        {
          "output_type": "execute_result",
          "data": {
            "text/html": [
              "<div>\n",
              "<style scoped>\n",
              "    .dataframe tbody tr th:only-of-type {\n",
              "        vertical-align: middle;\n",
              "    }\n",
              "\n",
              "    .dataframe tbody tr th {\n",
              "        vertical-align: top;\n",
              "    }\n",
              "\n",
              "    .dataframe thead th {\n",
              "        text-align: right;\n",
              "    }\n",
              "</style>\n",
              "<table border=\"1\" class=\"dataframe\">\n",
              "  <thead>\n",
              "    <tr style=\"text-align: right;\">\n",
              "      <th></th>\n",
              "      <th>Unnamed: 0</th>\n",
              "      <th>Elevation</th>\n",
              "      <th>Aspect</th>\n",
              "      <th>Slope</th>\n",
              "      <th>Horizontal_Distance_To_Hydrology</th>\n",
              "      <th>Vertical_Distance_To_Hydrology</th>\n",
              "      <th>Horizontal_Distance_To_Roadways</th>\n",
              "      <th>Hillshade_9am</th>\n",
              "      <th>Hillshade_Noon</th>\n",
              "      <th>Hillshade_3pm</th>\n",
              "      <th>Horizontal_Distance_To_Fire_Points</th>\n",
              "      <th>Wilderness_Area_01</th>\n",
              "      <th>Wilderness_Area_02</th>\n",
              "      <th>Wilderness_Area_03</th>\n",
              "      <th>Wilderness_Area_04</th>\n",
              "      <th>Soil_Type_01</th>\n",
              "      <th>Soil_Type_02</th>\n",
              "      <th>Soil_Type_03</th>\n",
              "      <th>Soil_Type_04</th>\n",
              "      <th>Soil_Type_05</th>\n",
              "      <th>Soil_Type_06</th>\n",
              "      <th>Soil_Type_07</th>\n",
              "      <th>Soil_Type_08</th>\n",
              "      <th>Soil_Type_09</th>\n",
              "      <th>Soil_Type_10</th>\n",
              "      <th>Soil_Type_11</th>\n",
              "      <th>Soil_Type_12</th>\n",
              "      <th>Soil_Type_13</th>\n",
              "      <th>Soil_Type_14</th>\n",
              "      <th>Soil_Type_15</th>\n",
              "      <th>Soil_Type_16</th>\n",
              "      <th>Soil_Type_17</th>\n",
              "      <th>Soil_Type_18</th>\n",
              "      <th>Soil_Type_19</th>\n",
              "      <th>Soil_Type_20</th>\n",
              "      <th>Soil_Type_21</th>\n",
              "      <th>Soil_Type_22</th>\n",
              "      <th>Soil_Type_23</th>\n",
              "      <th>Soil_Type_24</th>\n",
              "      <th>Soil_Type_25</th>\n",
              "      <th>Soil_Type_26</th>\n",
              "      <th>Soil_Type_27</th>\n",
              "      <th>Soil_Type_28</th>\n",
              "      <th>Soil_Type_29</th>\n",
              "      <th>Soil_Type_30</th>\n",
              "      <th>Soil_Type_31</th>\n",
              "      <th>Soil_Type_32</th>\n",
              "      <th>Soil_Type_33</th>\n",
              "      <th>Soil_Type_34</th>\n",
              "      <th>Soil_Type_35</th>\n",
              "      <th>Soil_Type_36</th>\n",
              "      <th>Soil_Type_37</th>\n",
              "      <th>Soil_Type_38</th>\n",
              "      <th>Soil_Type_39</th>\n",
              "      <th>Soil_Type_40</th>\n",
              "      <th>Cover_Type</th>\n",
              "      <th>Wilderness</th>\n",
              "      <th>Soil</th>\n",
              "    </tr>\n",
              "  </thead>\n",
              "  <tbody>\n",
              "    <tr>\n",
              "      <th>0</th>\n",
              "      <td>0</td>\n",
              "      <td>2596</td>\n",
              "      <td>51</td>\n",
              "      <td>3</td>\n",
              "      <td>258</td>\n",
              "      <td>0</td>\n",
              "      <td>510</td>\n",
              "      <td>221</td>\n",
              "      <td>232</td>\n",
              "      <td>148</td>\n",
              "      <td>6279</td>\n",
              "      <td>1</td>\n",
              "      <td>0</td>\n",
              "      <td>0</td>\n",
              "      <td>0</td>\n",
              "      <td>0</td>\n",
              "      <td>0</td>\n",
              "      <td>0</td>\n",
              "      <td>0</td>\n",
              "      <td>0</td>\n",
              "      <td>0</td>\n",
              "      <td>0</td>\n",
              "      <td>0</td>\n",
              "      <td>0</td>\n",
              "      <td>0</td>\n",
              "      <td>0</td>\n",
              "      <td>0</td>\n",
              "      <td>0</td>\n",
              "      <td>0</td>\n",
              "      <td>0</td>\n",
              "      <td>0</td>\n",
              "      <td>0</td>\n",
              "      <td>0</td>\n",
              "      <td>0</td>\n",
              "      <td>0</td>\n",
              "      <td>0</td>\n",
              "      <td>0</td>\n",
              "      <td>0</td>\n",
              "      <td>0</td>\n",
              "      <td>0</td>\n",
              "      <td>0</td>\n",
              "      <td>0</td>\n",
              "      <td>0</td>\n",
              "      <td>1</td>\n",
              "      <td>0</td>\n",
              "      <td>0</td>\n",
              "      <td>0</td>\n",
              "      <td>0</td>\n",
              "      <td>0</td>\n",
              "      <td>0</td>\n",
              "      <td>0</td>\n",
              "      <td>0</td>\n",
              "      <td>0</td>\n",
              "      <td>0</td>\n",
              "      <td>0</td>\n",
              "      <td>5</td>\n",
              "      <td>1</td>\n",
              "      <td>29</td>\n",
              "    </tr>\n",
              "    <tr>\n",
              "      <th>1</th>\n",
              "      <td>1</td>\n",
              "      <td>2590</td>\n",
              "      <td>56</td>\n",
              "      <td>2</td>\n",
              "      <td>212</td>\n",
              "      <td>-6</td>\n",
              "      <td>390</td>\n",
              "      <td>220</td>\n",
              "      <td>235</td>\n",
              "      <td>151</td>\n",
              "      <td>6225</td>\n",
              "      <td>1</td>\n",
              "      <td>0</td>\n",
              "      <td>0</td>\n",
              "      <td>0</td>\n",
              "      <td>0</td>\n",
              "      <td>0</td>\n",
              "      <td>0</td>\n",
              "      <td>0</td>\n",
              "      <td>0</td>\n",
              "      <td>0</td>\n",
              "      <td>0</td>\n",
              "      <td>0</td>\n",
              "      <td>0</td>\n",
              "      <td>0</td>\n",
              "      <td>0</td>\n",
              "      <td>0</td>\n",
              "      <td>0</td>\n",
              "      <td>0</td>\n",
              "      <td>0</td>\n",
              "      <td>0</td>\n",
              "      <td>0</td>\n",
              "      <td>0</td>\n",
              "      <td>0</td>\n",
              "      <td>0</td>\n",
              "      <td>0</td>\n",
              "      <td>0</td>\n",
              "      <td>0</td>\n",
              "      <td>0</td>\n",
              "      <td>0</td>\n",
              "      <td>0</td>\n",
              "      <td>0</td>\n",
              "      <td>0</td>\n",
              "      <td>1</td>\n",
              "      <td>0</td>\n",
              "      <td>0</td>\n",
              "      <td>0</td>\n",
              "      <td>0</td>\n",
              "      <td>0</td>\n",
              "      <td>0</td>\n",
              "      <td>0</td>\n",
              "      <td>0</td>\n",
              "      <td>0</td>\n",
              "      <td>0</td>\n",
              "      <td>0</td>\n",
              "      <td>5</td>\n",
              "      <td>1</td>\n",
              "      <td>29</td>\n",
              "    </tr>\n",
              "    <tr>\n",
              "      <th>2</th>\n",
              "      <td>2</td>\n",
              "      <td>2804</td>\n",
              "      <td>139</td>\n",
              "      <td>9</td>\n",
              "      <td>268</td>\n",
              "      <td>65</td>\n",
              "      <td>3180</td>\n",
              "      <td>234</td>\n",
              "      <td>238</td>\n",
              "      <td>135</td>\n",
              "      <td>6121</td>\n",
              "      <td>1</td>\n",
              "      <td>0</td>\n",
              "      <td>0</td>\n",
              "      <td>0</td>\n",
              "      <td>0</td>\n",
              "      <td>0</td>\n",
              "      <td>0</td>\n",
              "      <td>0</td>\n",
              "      <td>0</td>\n",
              "      <td>0</td>\n",
              "      <td>0</td>\n",
              "      <td>0</td>\n",
              "      <td>0</td>\n",
              "      <td>0</td>\n",
              "      <td>0</td>\n",
              "      <td>1</td>\n",
              "      <td>0</td>\n",
              "      <td>0</td>\n",
              "      <td>0</td>\n",
              "      <td>0</td>\n",
              "      <td>0</td>\n",
              "      <td>0</td>\n",
              "      <td>0</td>\n",
              "      <td>0</td>\n",
              "      <td>0</td>\n",
              "      <td>0</td>\n",
              "      <td>0</td>\n",
              "      <td>0</td>\n",
              "      <td>0</td>\n",
              "      <td>0</td>\n",
              "      <td>0</td>\n",
              "      <td>0</td>\n",
              "      <td>0</td>\n",
              "      <td>0</td>\n",
              "      <td>0</td>\n",
              "      <td>0</td>\n",
              "      <td>0</td>\n",
              "      <td>0</td>\n",
              "      <td>0</td>\n",
              "      <td>0</td>\n",
              "      <td>0</td>\n",
              "      <td>0</td>\n",
              "      <td>0</td>\n",
              "      <td>0</td>\n",
              "      <td>2</td>\n",
              "      <td>1</td>\n",
              "      <td>12</td>\n",
              "    </tr>\n",
              "    <tr>\n",
              "      <th>3</th>\n",
              "      <td>3</td>\n",
              "      <td>2785</td>\n",
              "      <td>155</td>\n",
              "      <td>18</td>\n",
              "      <td>242</td>\n",
              "      <td>118</td>\n",
              "      <td>3090</td>\n",
              "      <td>238</td>\n",
              "      <td>238</td>\n",
              "      <td>122</td>\n",
              "      <td>6211</td>\n",
              "      <td>1</td>\n",
              "      <td>0</td>\n",
              "      <td>0</td>\n",
              "      <td>0</td>\n",
              "      <td>0</td>\n",
              "      <td>0</td>\n",
              "      <td>0</td>\n",
              "      <td>0</td>\n",
              "      <td>0</td>\n",
              "      <td>0</td>\n",
              "      <td>0</td>\n",
              "      <td>0</td>\n",
              "      <td>0</td>\n",
              "      <td>0</td>\n",
              "      <td>0</td>\n",
              "      <td>0</td>\n",
              "      <td>0</td>\n",
              "      <td>0</td>\n",
              "      <td>0</td>\n",
              "      <td>0</td>\n",
              "      <td>0</td>\n",
              "      <td>0</td>\n",
              "      <td>0</td>\n",
              "      <td>0</td>\n",
              "      <td>0</td>\n",
              "      <td>0</td>\n",
              "      <td>0</td>\n",
              "      <td>0</td>\n",
              "      <td>0</td>\n",
              "      <td>0</td>\n",
              "      <td>0</td>\n",
              "      <td>0</td>\n",
              "      <td>0</td>\n",
              "      <td>1</td>\n",
              "      <td>0</td>\n",
              "      <td>0</td>\n",
              "      <td>0</td>\n",
              "      <td>0</td>\n",
              "      <td>0</td>\n",
              "      <td>0</td>\n",
              "      <td>0</td>\n",
              "      <td>0</td>\n",
              "      <td>0</td>\n",
              "      <td>0</td>\n",
              "      <td>2</td>\n",
              "      <td>1</td>\n",
              "      <td>30</td>\n",
              "    </tr>\n",
              "    <tr>\n",
              "      <th>4</th>\n",
              "      <td>4</td>\n",
              "      <td>2595</td>\n",
              "      <td>45</td>\n",
              "      <td>2</td>\n",
              "      <td>153</td>\n",
              "      <td>-1</td>\n",
              "      <td>391</td>\n",
              "      <td>220</td>\n",
              "      <td>234</td>\n",
              "      <td>150</td>\n",
              "      <td>6172</td>\n",
              "      <td>1</td>\n",
              "      <td>0</td>\n",
              "      <td>0</td>\n",
              "      <td>0</td>\n",
              "      <td>0</td>\n",
              "      <td>0</td>\n",
              "      <td>0</td>\n",
              "      <td>0</td>\n",
              "      <td>0</td>\n",
              "      <td>0</td>\n",
              "      <td>0</td>\n",
              "      <td>0</td>\n",
              "      <td>0</td>\n",
              "      <td>0</td>\n",
              "      <td>0</td>\n",
              "      <td>0</td>\n",
              "      <td>0</td>\n",
              "      <td>0</td>\n",
              "      <td>0</td>\n",
              "      <td>0</td>\n",
              "      <td>0</td>\n",
              "      <td>0</td>\n",
              "      <td>0</td>\n",
              "      <td>0</td>\n",
              "      <td>0</td>\n",
              "      <td>0</td>\n",
              "      <td>0</td>\n",
              "      <td>0</td>\n",
              "      <td>0</td>\n",
              "      <td>0</td>\n",
              "      <td>0</td>\n",
              "      <td>0</td>\n",
              "      <td>1</td>\n",
              "      <td>0</td>\n",
              "      <td>0</td>\n",
              "      <td>0</td>\n",
              "      <td>0</td>\n",
              "      <td>0</td>\n",
              "      <td>0</td>\n",
              "      <td>0</td>\n",
              "      <td>0</td>\n",
              "      <td>0</td>\n",
              "      <td>0</td>\n",
              "      <td>0</td>\n",
              "      <td>5</td>\n",
              "      <td>1</td>\n",
              "      <td>29</td>\n",
              "    </tr>\n",
              "  </tbody>\n",
              "</table>\n",
              "</div>"
            ],
            "text/plain": [
              "   Unnamed: 0  Elevation  Aspect  ...  Cover_Type  Wilderness  Soil\n",
              "0           0       2596      51  ...           5           1    29\n",
              "1           1       2590      56  ...           5           1    29\n",
              "2           2       2804     139  ...           2           1    12\n",
              "3           3       2785     155  ...           2           1    30\n",
              "4           4       2595      45  ...           5           1    29\n",
              "\n",
              "[5 rows x 58 columns]"
            ]
          },
          "metadata": {
            "tags": []
          },
          "execution_count": 2
        }
      ]
    },
    {
      "cell_type": "markdown",
      "metadata": {
        "id": "9Np0SM84iDy4"
      },
      "source": [
        "Removing index column and dummy columns of soil_types and wilderness_areas and storing it in a dataframe **'forest_a'** "
      ]
    },
    {
      "cell_type": "code",
      "metadata": {
        "id": "2iQ6BnVcp-ii"
      },
      "source": [
        "forest = forest.drop(columns = forest.columns[:1])\n",
        "forest_a = forest.drop(columns = forest.columns[10:54])"
      ],
      "execution_count": null,
      "outputs": []
    },
    {
      "cell_type": "markdown",
      "metadata": {
        "id": "KRRmh93EiF2o"
      },
      "source": [
        "Combining the cover_type: 3,4,6 as '3' and cover_type: 5,7 as '4'."
      ]
    },
    {
      "cell_type": "code",
      "metadata": {
        "id": "vVhYe5jSZU3j"
      },
      "source": [
        "forest_a['Cover_Type'] = np.where(((forest_a['Cover_Type']==4)|(forest_a['Cover_Type']==6)),3,forest_a['Cover_Type'])\n",
        "forest_a['Cover_Type'] = np.where(((forest_a['Cover_Type']==5)|(forest_a['Cover_Type']==7)),4,forest_a['Cover_Type'])"
      ],
      "execution_count": null,
      "outputs": []
    },
    {
      "cell_type": "markdown",
      "metadata": {
        "id": "lv_6_IxgjHOd"
      },
      "source": [
        "Converting soil, wilderness and cover_type columns to category"
      ]
    },
    {
      "cell_type": "code",
      "metadata": {
        "id": "qJYKl5ECp-eU"
      },
      "source": [
        "for i in forest.columns[::-1][:3]:\n",
        "  forest_a[i] = forest_a[i].astype('category')"
      ],
      "execution_count": null,
      "outputs": []
    },
    {
      "cell_type": "code",
      "metadata": {
        "id": "YgoWHfn7tF2R",
        "colab": {
          "base_uri": "https://localhost:8080/"
        },
        "outputId": "eb4328e1-b309-4f08-8f6a-5f0cd0d31189"
      },
      "source": [
        "forest_a.info()"
      ],
      "execution_count": null,
      "outputs": [
        {
          "output_type": "stream",
          "text": [
            "<class 'pandas.core.frame.DataFrame'>\n",
            "RangeIndex: 581012 entries, 0 to 581011\n",
            "Data columns (total 13 columns):\n",
            " #   Column                              Non-Null Count   Dtype   \n",
            "---  ------                              --------------   -----   \n",
            " 0   Elevation                           581012 non-null  int64   \n",
            " 1   Aspect                              581012 non-null  int64   \n",
            " 2   Slope                               581012 non-null  int64   \n",
            " 3   Horizontal_Distance_To_Hydrology    581012 non-null  int64   \n",
            " 4   Vertical_Distance_To_Hydrology      581012 non-null  int64   \n",
            " 5   Horizontal_Distance_To_Roadways     581012 non-null  int64   \n",
            " 6   Hillshade_9am                       581012 non-null  int64   \n",
            " 7   Hillshade_Noon                      581012 non-null  int64   \n",
            " 8   Hillshade_3pm                       581012 non-null  int64   \n",
            " 9   Horizontal_Distance_To_Fire_Points  581012 non-null  int64   \n",
            " 10  Cover_Type                          581012 non-null  category\n",
            " 11  Wilderness                          581012 non-null  category\n",
            " 12  Soil                                581012 non-null  category\n",
            "dtypes: category(3), int64(10)\n",
            "memory usage: 46.0 MB\n"
          ],
          "name": "stdout"
        }
      ]
    },
    {
      "cell_type": "markdown",
      "metadata": {
        "id": "MDTwHEQG1Nr6"
      },
      "source": [
        "## Modelling on Original Data"
      ]
    },
    {
      "cell_type": "markdown",
      "metadata": {
        "id": "ODF-6sLB1Nr8"
      },
      "source": [
        "### Decision Tree"
      ]
    },
    {
      "cell_type": "code",
      "metadata": {
        "id": "62BI_cdK1Nr9"
      },
      "source": [
        "from sklearn.model_selection import train_test_split\n",
        "from sklearn.metrics import classification_report, confusion_matrix, accuracy_score\n",
        "from sklearn.tree import DecisionTreeClassifier\n",
        "import warnings\n",
        "warnings.filterwarnings(\"ignore\")"
      ],
      "execution_count": null,
      "outputs": []
    },
    {
      "cell_type": "markdown",
      "metadata": {
        "id": "aS6TuTcBjdOp"
      },
      "source": [
        "Dividing data into x (independent variable) and y (dependent variable) and then splitting data to train and test in 7:3 ratio"
      ]
    },
    {
      "cell_type": "code",
      "metadata": {
        "id": "gxSqBiNP1NsB"
      },
      "source": [
        "x = forest_a.drop(columns = ['Cover_Type'])\n",
        "y = forest_a['Cover_Type']"
      ],
      "execution_count": null,
      "outputs": []
    },
    {
      "cell_type": "code",
      "metadata": {
        "id": "Bb1WLTfv1NsE"
      },
      "source": [
        "x_train, x_test, y_train, y_test = train_test_split(x, y, test_size = .3, random_state=25)"
      ],
      "execution_count": null,
      "outputs": []
    },
    {
      "cell_type": "code",
      "metadata": {
        "id": "jUb55sBb1Ns9",
        "colab": {
          "base_uri": "https://localhost:8080/",
          "height": 124
        },
        "outputId": "8e5acca7-1878-4347-ec49-b11dba211a56"
      },
      "source": [
        "dt = DecisionTreeClassifier(criterion = \"entropy\", \n",
        "                                  random_state = 25,\n",
        "                                  max_depth=19, \n",
        "                                  min_samples_leaf=10,\n",
        "                                  min_samples_split=10)\n",
        "dt.fit(x_train, y_train)"
      ],
      "execution_count": null,
      "outputs": [
        {
          "output_type": "execute_result",
          "data": {
            "text/plain": [
              "DecisionTreeClassifier(ccp_alpha=0.0, class_weight=None, criterion='entropy',\n",
              "                       max_depth=19, max_features=None, max_leaf_nodes=None,\n",
              "                       min_impurity_decrease=0.0, min_impurity_split=None,\n",
              "                       min_samples_leaf=10, min_samples_split=10,\n",
              "                       min_weight_fraction_leaf=0.0, presort='deprecated',\n",
              "                       random_state=25, splitter='best')"
            ]
          },
          "metadata": {
            "tags": []
          },
          "execution_count": 29
        }
      ]
    },
    {
      "cell_type": "code",
      "metadata": {
        "id": "Tf85hFIa1NtN",
        "colab": {
          "base_uri": "https://localhost:8080/",
          "height": 52
        },
        "outputId": "1fd172b4-54ce-4729-9cc5-59be6da3c7e5"
      },
      "source": [
        "print('Training Score:',dt.score(x_train, y_train))\n",
        "print('Testing Score:',dt.score(x_test, y_test))"
      ],
      "execution_count": null,
      "outputs": [
        {
          "output_type": "stream",
          "text": [
            "Training Score: 0.9360966590280988\n",
            "Testing Score: 0.9114248668992105\n"
          ],
          "name": "stdout"
        }
      ]
    },
    {
      "cell_type": "code",
      "metadata": {
        "id": "azon_EUI1NtV",
        "colab": {
          "base_uri": "https://localhost:8080/",
          "height": 286
        },
        "outputId": "62141949-823e-4730-ccc1-2c855b8364df"
      },
      "source": [
        "y_pred = dt.predict(x_test)\n",
        "print(classification_report(y_test,y_pred))\n",
        "print(confusion_matrix(y_test,y_pred))"
      ],
      "execution_count": null,
      "outputs": [
        {
          "output_type": "stream",
          "text": [
            "              precision    recall  f1-score   support\n",
            "\n",
            "           1       0.90      0.90      0.90     63514\n",
            "           2       0.91      0.92      0.92     85045\n",
            "           3       0.96      0.96      0.96     16786\n",
            "           4       0.90      0.86      0.88      8959\n",
            "\n",
            "    accuracy                           0.91    174304\n",
            "   macro avg       0.92      0.91      0.91    174304\n",
            "weighted avg       0.91      0.91      0.91    174304\n",
            "\n",
            "[[56899  6184    21   410]\n",
            " [ 5904 78199   503   439]\n",
            " [   17   649 16093    27]\n",
            " [  523   690    72  7674]]\n"
          ],
          "name": "stdout"
        }
      ]
    },
    {
      "cell_type": "code",
      "metadata": {
        "id": "1HvjmUYv1Ntc",
        "colab": {
          "base_uri": "https://localhost:8080/",
          "height": 388
        },
        "outputId": "c1344ada-cb6c-4c30-9fff-0c00d5ff9503"
      },
      "source": [
        "pd.DataFrame({'columns':x.columns,'Importance':dt.feature_importances_})"
      ],
      "execution_count": null,
      "outputs": [
        {
          "output_type": "execute_result",
          "data": {
            "text/html": [
              "<div>\n",
              "<style scoped>\n",
              "    .dataframe tbody tr th:only-of-type {\n",
              "        vertical-align: middle;\n",
              "    }\n",
              "\n",
              "    .dataframe tbody tr th {\n",
              "        vertical-align: top;\n",
              "    }\n",
              "\n",
              "    .dataframe thead th {\n",
              "        text-align: right;\n",
              "    }\n",
              "</style>\n",
              "<table border=\"1\" class=\"dataframe\">\n",
              "  <thead>\n",
              "    <tr style=\"text-align: right;\">\n",
              "      <th></th>\n",
              "      <th>columns</th>\n",
              "      <th>Importance</th>\n",
              "    </tr>\n",
              "  </thead>\n",
              "  <tbody>\n",
              "    <tr>\n",
              "      <th>0</th>\n",
              "      <td>Elevation</td>\n",
              "      <td>0.431120</td>\n",
              "    </tr>\n",
              "    <tr>\n",
              "      <th>1</th>\n",
              "      <td>Aspect</td>\n",
              "      <td>0.017520</td>\n",
              "    </tr>\n",
              "    <tr>\n",
              "      <th>2</th>\n",
              "      <td>Slope</td>\n",
              "      <td>0.009448</td>\n",
              "    </tr>\n",
              "    <tr>\n",
              "      <th>3</th>\n",
              "      <td>Horizontal_Distance_To_Hydrology</td>\n",
              "      <td>0.047408</td>\n",
              "    </tr>\n",
              "    <tr>\n",
              "      <th>4</th>\n",
              "      <td>Vertical_Distance_To_Hydrology</td>\n",
              "      <td>0.030738</td>\n",
              "    </tr>\n",
              "    <tr>\n",
              "      <th>5</th>\n",
              "      <td>Horizontal_Distance_To_Roadways</td>\n",
              "      <td>0.123607</td>\n",
              "    </tr>\n",
              "    <tr>\n",
              "      <th>6</th>\n",
              "      <td>Hillshade_9am</td>\n",
              "      <td>0.021908</td>\n",
              "    </tr>\n",
              "    <tr>\n",
              "      <th>7</th>\n",
              "      <td>Hillshade_Noon</td>\n",
              "      <td>0.023617</td>\n",
              "    </tr>\n",
              "    <tr>\n",
              "      <th>8</th>\n",
              "      <td>Hillshade_3pm</td>\n",
              "      <td>0.014067</td>\n",
              "    </tr>\n",
              "    <tr>\n",
              "      <th>9</th>\n",
              "      <td>Horizontal_Distance_To_Fire_Points</td>\n",
              "      <td>0.120515</td>\n",
              "    </tr>\n",
              "    <tr>\n",
              "      <th>10</th>\n",
              "      <td>Wilderness</td>\n",
              "      <td>0.045447</td>\n",
              "    </tr>\n",
              "    <tr>\n",
              "      <th>11</th>\n",
              "      <td>Soil</td>\n",
              "      <td>0.114605</td>\n",
              "    </tr>\n",
              "  </tbody>\n",
              "</table>\n",
              "</div>"
            ],
            "text/plain": [
              "                               columns  Importance\n",
              "0                            Elevation    0.431120\n",
              "1                               Aspect    0.017520\n",
              "2                                Slope    0.009448\n",
              "3     Horizontal_Distance_To_Hydrology    0.047408\n",
              "4       Vertical_Distance_To_Hydrology    0.030738\n",
              "5      Horizontal_Distance_To_Roadways    0.123607\n",
              "6                        Hillshade_9am    0.021908\n",
              "7                       Hillshade_Noon    0.023617\n",
              "8                        Hillshade_3pm    0.014067\n",
              "9   Horizontal_Distance_To_Fire_Points    0.120515\n",
              "10                          Wilderness    0.045447\n",
              "11                                Soil    0.114605"
            ]
          },
          "metadata": {
            "tags": []
          },
          "execution_count": 158
        }
      ]
    },
    {
      "cell_type": "markdown",
      "metadata": {
        "id": "-XZ3KbM31Ntj"
      },
      "source": [
        "### Random Forest"
      ]
    },
    {
      "cell_type": "code",
      "metadata": {
        "id": "ORj1w5rl1Ntl"
      },
      "source": [
        "from sklearn.ensemble import RandomForestClassifier"
      ],
      "execution_count": null,
      "outputs": []
    },
    {
      "cell_type": "code",
      "metadata": {
        "id": "dfPRnqIv1Ntp",
        "colab": {
          "base_uri": "https://localhost:8080/",
          "height": 159
        },
        "outputId": "b7d67abd-5465-4e77-a667-58449dab6086"
      },
      "source": [
        "rforest = RandomForestClassifier(criterion = \"entropy\", \n",
        "                                  random_state = 25,\n",
        "                                  max_depth=19, \n",
        "                                  min_samples_leaf=10,\n",
        "                                  min_samples_split=10)\n",
        "rforest.fit(x_train, y_train)"
      ],
      "execution_count": null,
      "outputs": [
        {
          "output_type": "execute_result",
          "data": {
            "text/plain": [
              "RandomForestClassifier(bootstrap=True, ccp_alpha=0.0, class_weight=None,\n",
              "                       criterion='entropy', max_depth=19, max_features='auto',\n",
              "                       max_leaf_nodes=None, max_samples=None,\n",
              "                       min_impurity_decrease=0.0, min_impurity_split=None,\n",
              "                       min_samples_leaf=10, min_samples_split=10,\n",
              "                       min_weight_fraction_leaf=0.0, n_estimators=100,\n",
              "                       n_jobs=None, oob_score=False, random_state=25, verbose=0,\n",
              "                       warm_start=False)"
            ]
          },
          "metadata": {
            "tags": []
          },
          "execution_count": 25
        }
      ]
    },
    {
      "cell_type": "code",
      "metadata": {
        "id": "VkjMWvfH1Nty",
        "colab": {
          "base_uri": "https://localhost:8080/",
          "height": 52
        },
        "outputId": "e665c39e-6a3e-47d6-9a07-73dac7f9d7c0"
      },
      "source": [
        "print('Training Score:',rforest.score(x_train,y_train))\n",
        "print('Testing Score:',rforest.score(x_test, y_test))"
      ],
      "execution_count": null,
      "outputs": [
        {
          "output_type": "stream",
          "text": [
            "Training Score: 0.9532342614357229\n",
            "Testing Score: 0.9323136588948044\n"
          ],
          "name": "stdout"
        }
      ]
    },
    {
      "cell_type": "code",
      "metadata": {
        "id": "FLHs57Zq1Nt3",
        "colab": {
          "base_uri": "https://localhost:8080/",
          "height": 286
        },
        "outputId": "259a8694-8df7-42bd-8c99-d66518e9dcce"
      },
      "source": [
        "y_pred = rforest.predict(x_test)\n",
        "print(classification_report(y_test,y_pred))\n",
        "print(confusion_matrix(y_test,y_pred))"
      ],
      "execution_count": null,
      "outputs": [
        {
          "output_type": "stream",
          "text": [
            "              precision    recall  f1-score   support\n",
            "\n",
            "           1       0.94      0.90      0.92     63514\n",
            "           2       0.92      0.96      0.94     85045\n",
            "           3       0.97      0.97      0.97     16786\n",
            "           4       0.96      0.82      0.89      8959\n",
            "\n",
            "    accuracy                           0.93    174304\n",
            "   macro avg       0.95      0.91      0.93    174304\n",
            "weighted avg       0.93      0.93      0.93    174304\n",
            "\n",
            "[[57451  5867    16   180]\n",
            " [ 3104 81349   464   128]\n",
            " [    1   435 16346     4]\n",
            " [  584   948    67  7360]]\n"
          ],
          "name": "stdout"
        }
      ]
    },
    {
      "cell_type": "code",
      "metadata": {
        "id": "UkLZXCQ_1Nt7",
        "colab": {
          "base_uri": "https://localhost:8080/",
          "height": 388
        },
        "outputId": "eb3714c9-845c-4714-bca4-77840af81661"
      },
      "source": [
        "pd.DataFrame({'columns':x.columns,'Importance':rforest.feature_importances_})"
      ],
      "execution_count": null,
      "outputs": [
        {
          "output_type": "execute_result",
          "data": {
            "text/html": [
              "<div>\n",
              "<style scoped>\n",
              "    .dataframe tbody tr th:only-of-type {\n",
              "        vertical-align: middle;\n",
              "    }\n",
              "\n",
              "    .dataframe tbody tr th {\n",
              "        vertical-align: top;\n",
              "    }\n",
              "\n",
              "    .dataframe thead th {\n",
              "        text-align: right;\n",
              "    }\n",
              "</style>\n",
              "<table border=\"1\" class=\"dataframe\">\n",
              "  <thead>\n",
              "    <tr style=\"text-align: right;\">\n",
              "      <th></th>\n",
              "      <th>columns</th>\n",
              "      <th>Importance</th>\n",
              "    </tr>\n",
              "  </thead>\n",
              "  <tbody>\n",
              "    <tr>\n",
              "      <th>0</th>\n",
              "      <td>Elevation</td>\n",
              "      <td>0.304111</td>\n",
              "    </tr>\n",
              "    <tr>\n",
              "      <th>1</th>\n",
              "      <td>Aspect</td>\n",
              "      <td>0.027166</td>\n",
              "    </tr>\n",
              "    <tr>\n",
              "      <th>2</th>\n",
              "      <td>Slope</td>\n",
              "      <td>0.019277</td>\n",
              "    </tr>\n",
              "    <tr>\n",
              "      <th>3</th>\n",
              "      <td>Horizontal_Distance_To_Hydrology</td>\n",
              "      <td>0.041677</td>\n",
              "    </tr>\n",
              "    <tr>\n",
              "      <th>4</th>\n",
              "      <td>Vertical_Distance_To_Hydrology</td>\n",
              "      <td>0.036109</td>\n",
              "    </tr>\n",
              "    <tr>\n",
              "      <th>5</th>\n",
              "      <td>Horizontal_Distance_To_Roadways</td>\n",
              "      <td>0.107407</td>\n",
              "    </tr>\n",
              "    <tr>\n",
              "      <th>6</th>\n",
              "      <td>Hillshade_9am</td>\n",
              "      <td>0.023126</td>\n",
              "    </tr>\n",
              "    <tr>\n",
              "      <th>7</th>\n",
              "      <td>Hillshade_Noon</td>\n",
              "      <td>0.024934</td>\n",
              "    </tr>\n",
              "    <tr>\n",
              "      <th>8</th>\n",
              "      <td>Hillshade_3pm</td>\n",
              "      <td>0.021661</td>\n",
              "    </tr>\n",
              "    <tr>\n",
              "      <th>9</th>\n",
              "      <td>Horizontal_Distance_To_Fire_Points</td>\n",
              "      <td>0.098111</td>\n",
              "    </tr>\n",
              "    <tr>\n",
              "      <th>10</th>\n",
              "      <td>Wilderness</td>\n",
              "      <td>0.092268</td>\n",
              "    </tr>\n",
              "    <tr>\n",
              "      <th>11</th>\n",
              "      <td>Soil</td>\n",
              "      <td>0.204154</td>\n",
              "    </tr>\n",
              "  </tbody>\n",
              "</table>\n",
              "</div>"
            ],
            "text/plain": [
              "                               columns  Importance\n",
              "0                            Elevation    0.304111\n",
              "1                               Aspect    0.027166\n",
              "2                                Slope    0.019277\n",
              "3     Horizontal_Distance_To_Hydrology    0.041677\n",
              "4       Vertical_Distance_To_Hydrology    0.036109\n",
              "5      Horizontal_Distance_To_Roadways    0.107407\n",
              "6                        Hillshade_9am    0.023126\n",
              "7                       Hillshade_Noon    0.024934\n",
              "8                        Hillshade_3pm    0.021661\n",
              "9   Horizontal_Distance_To_Fire_Points    0.098111\n",
              "10                          Wilderness    0.092268\n",
              "11                                Soil    0.204154"
            ]
          },
          "metadata": {
            "tags": []
          },
          "execution_count": 163
        }
      ]
    },
    {
      "cell_type": "markdown",
      "metadata": {
        "id": "EXjNYPj-1NuA"
      },
      "source": [
        "### KNN"
      ]
    },
    {
      "cell_type": "markdown",
      "metadata": {
        "id": "xNHqYERtkFIb"
      },
      "source": [
        "\n",
        "*   scaling all numerical columns and saving it in a dataframe 'x_std'\n",
        "*   concatenating all the independent data into a dataframe 'x_' \n",
        "*   dividing data to x_ (independent variable) and y_ (dependent variable)\n",
        "*   splitting data into train and test in 7:3 ratio"
      ]
    },
    {
      "cell_type": "code",
      "metadata": {
        "id": "EBvqDwpN1NuA",
        "colab": {
          "base_uri": "https://localhost:8080/",
          "height": 214
        },
        "outputId": "d5abafd0-a3a1-4457-86dc-a9de54ac16da"
      },
      "source": [
        "from sklearn.preprocessing import StandardScaler\n",
        "\n",
        "x1 = forest_a.drop(columns= ['Cover_Type','Soil','Wilderness'])\n",
        "y_ = forest_a['Cover_Type']\n",
        "\n",
        "x_std = StandardScaler().fit_transform(x1)\n",
        "\n",
        "x_std = pd.DataFrame(x_std, columns = x1.columns)\n",
        "\n",
        "x_ = pd.concat([x_std,forest_a[['Soil','Wilderness']]], axis = 1)\n",
        "x_.head()"
      ],
      "execution_count": null,
      "outputs": [
        {
          "output_type": "execute_result",
          "data": {
            "text/html": [
              "<div>\n",
              "<style scoped>\n",
              "    .dataframe tbody tr th:only-of-type {\n",
              "        vertical-align: middle;\n",
              "    }\n",
              "\n",
              "    .dataframe tbody tr th {\n",
              "        vertical-align: top;\n",
              "    }\n",
              "\n",
              "    .dataframe thead th {\n",
              "        text-align: right;\n",
              "    }\n",
              "</style>\n",
              "<table border=\"1\" class=\"dataframe\">\n",
              "  <thead>\n",
              "    <tr style=\"text-align: right;\">\n",
              "      <th></th>\n",
              "      <th>Elevation</th>\n",
              "      <th>Aspect</th>\n",
              "      <th>Slope</th>\n",
              "      <th>Horizontal_Distance_To_Hydrology</th>\n",
              "      <th>Vertical_Distance_To_Hydrology</th>\n",
              "      <th>Horizontal_Distance_To_Roadways</th>\n",
              "      <th>Hillshade_9am</th>\n",
              "      <th>Hillshade_Noon</th>\n",
              "      <th>Hillshade_3pm</th>\n",
              "      <th>Horizontal_Distance_To_Fire_Points</th>\n",
              "      <th>Soil</th>\n",
              "      <th>Wilderness</th>\n",
              "    </tr>\n",
              "  </thead>\n",
              "  <tbody>\n",
              "    <tr>\n",
              "      <th>0</th>\n",
              "      <td>-1.297805</td>\n",
              "      <td>-0.935157</td>\n",
              "      <td>-1.482820</td>\n",
              "      <td>-0.053767</td>\n",
              "      <td>-0.796273</td>\n",
              "      <td>-1.180146</td>\n",
              "      <td>0.330743</td>\n",
              "      <td>0.439143</td>\n",
              "      <td>0.142960</td>\n",
              "      <td>3.246283</td>\n",
              "      <td>29</td>\n",
              "      <td>1</td>\n",
              "    </tr>\n",
              "    <tr>\n",
              "      <th>1</th>\n",
              "      <td>-1.319235</td>\n",
              "      <td>-0.890480</td>\n",
              "      <td>-1.616363</td>\n",
              "      <td>-0.270188</td>\n",
              "      <td>-0.899197</td>\n",
              "      <td>-1.257106</td>\n",
              "      <td>0.293388</td>\n",
              "      <td>0.590899</td>\n",
              "      <td>0.221342</td>\n",
              "      <td>3.205504</td>\n",
              "      <td>29</td>\n",
              "      <td>1</td>\n",
              "    </tr>\n",
              "    <tr>\n",
              "      <th>2</th>\n",
              "      <td>-0.554907</td>\n",
              "      <td>-0.148836</td>\n",
              "      <td>-0.681563</td>\n",
              "      <td>-0.006719</td>\n",
              "      <td>0.318742</td>\n",
              "      <td>0.532212</td>\n",
              "      <td>0.816364</td>\n",
              "      <td>0.742654</td>\n",
              "      <td>-0.196691</td>\n",
              "      <td>3.126965</td>\n",
              "      <td>12</td>\n",
              "      <td>1</td>\n",
              "    </tr>\n",
              "    <tr>\n",
              "      <th>3</th>\n",
              "      <td>-0.622768</td>\n",
              "      <td>-0.005869</td>\n",
              "      <td>0.520322</td>\n",
              "      <td>-0.129044</td>\n",
              "      <td>1.227908</td>\n",
              "      <td>0.474492</td>\n",
              "      <td>0.965786</td>\n",
              "      <td>0.742654</td>\n",
              "      <td>-0.536343</td>\n",
              "      <td>3.194931</td>\n",
              "      <td>30</td>\n",
              "      <td>1</td>\n",
              "    </tr>\n",
              "    <tr>\n",
              "      <th>4</th>\n",
              "      <td>-1.301377</td>\n",
              "      <td>-0.988770</td>\n",
              "      <td>-1.616363</td>\n",
              "      <td>-0.547771</td>\n",
              "      <td>-0.813427</td>\n",
              "      <td>-1.256464</td>\n",
              "      <td>0.293388</td>\n",
              "      <td>0.540313</td>\n",
              "      <td>0.195215</td>\n",
              "      <td>3.165479</td>\n",
              "      <td>29</td>\n",
              "      <td>1</td>\n",
              "    </tr>\n",
              "  </tbody>\n",
              "</table>\n",
              "</div>"
            ],
            "text/plain": [
              "   Elevation    Aspect  ...  Soil  Wilderness\n",
              "0  -1.297805 -0.935157  ...    29           1\n",
              "1  -1.319235 -0.890480  ...    29           1\n",
              "2  -0.554907 -0.148836  ...    12           1\n",
              "3  -0.622768 -0.005869  ...    30           1\n",
              "4  -1.301377 -0.988770  ...    29           1\n",
              "\n",
              "[5 rows x 12 columns]"
            ]
          },
          "metadata": {
            "tags": []
          },
          "execution_count": 26
        }
      ]
    },
    {
      "cell_type": "code",
      "metadata": {
        "id": "zAG7G41L1NuF"
      },
      "source": [
        "x_train_k, x_test_k, y_train_k, y_test_k = train_test_split(x_, y_, test_size = .3, random_state=25)"
      ],
      "execution_count": null,
      "outputs": []
    },
    {
      "cell_type": "code",
      "metadata": {
        "id": "j-EZPtXi1NuK"
      },
      "source": [
        "from sklearn.neighbors import KNeighborsClassifier"
      ],
      "execution_count": null,
      "outputs": []
    },
    {
      "cell_type": "code",
      "metadata": {
        "id": "wriYao4m1NuO"
      },
      "source": [
        "knn = KNeighborsClassifier(metric = 'cityblock', n_neighbors= 4, weights= 'distance')\n",
        "knn.fit(x_train_k,y_train_k)\n",
        "y_pred_k = knn.predict(x_test_k)"
      ],
      "execution_count": null,
      "outputs": []
    },
    {
      "cell_type": "code",
      "metadata": {
        "id": "r6CThOa21NuV",
        "colab": {
          "base_uri": "https://localhost:8080/",
          "height": 52
        },
        "outputId": "20a46b07-bb4a-4a68-a94d-fd76a2ec45e1"
      },
      "source": [
        "print('Training Score:',knn.score(x_train_k,y_train_k))\n",
        "print('Testing Score:',knn.score(x_test_k,y_test_k))"
      ],
      "execution_count": null,
      "outputs": [
        {
          "output_type": "stream",
          "text": [
            "Training Score: 1.0\n",
            "Testing Score: 0.9449639709932073\n"
          ],
          "name": "stdout"
        }
      ]
    },
    {
      "cell_type": "code",
      "metadata": {
        "id": "WZ8IY9IG1NuZ",
        "colab": {
          "base_uri": "https://localhost:8080/",
          "height": 286
        },
        "outputId": "d7ebff6f-aa3e-472d-9f4d-d07f6a28bcbb"
      },
      "source": [
        "print(classification_report(y_test_k, y_pred_k))\n",
        "print(confusion_matrix(y_test_k, y_pred_k))"
      ],
      "execution_count": null,
      "outputs": [
        {
          "output_type": "stream",
          "text": [
            "              precision    recall  f1-score   support\n",
            "\n",
            "           1       0.94      0.93      0.94     63514\n",
            "           2       0.94      0.95      0.95     85045\n",
            "           3       0.96      0.97      0.97     16786\n",
            "           4       0.92      0.90      0.91      8959\n",
            "\n",
            "    accuracy                           0.94    174304\n",
            "   macro avg       0.94      0.94      0.94    174304\n",
            "weighted avg       0.94      0.94      0.94    174304\n",
            "\n",
            "[[59348  3862    19   285]\n",
            " [ 3213 80952   521   359]\n",
            " [   16   374 16353    43]\n",
            " [  353   489    59  8058]]\n"
          ],
          "name": "stdout"
        }
      ]
    },
    {
      "cell_type": "markdown",
      "metadata": {
        "id": "FnGsYuYG_Sd_"
      },
      "source": [
        "### Ensemble Techniques on Original Data"
      ]
    },
    {
      "cell_type": "code",
      "metadata": {
        "id": "x_frdN7g_SeA"
      },
      "source": [
        "#base_LR = LogisticRegression(random_state = 25)\n",
        "base_DT = DecisionTreeClassifier(criterion = \"entropy\", \n",
        "                                  random_state = 25,\n",
        "                                  max_depth=19, \n",
        "                                  min_samples_leaf=10,\n",
        "                                  min_samples_split=10)\n",
        "#base_NB = GaussianNB()\n",
        "base_RF = RandomForestClassifier(criterion = \"entropy\", \n",
        "                                  random_state = 25,\n",
        "                                  max_depth=19, \n",
        "                                  min_samples_leaf=10,\n",
        "                                  min_samples_split=10)\n",
        "base_KNN = KNeighborsClassifier(metric = 'cityblock', \n",
        "                                n_neighbors= 4, \n",
        "                                weights= 'distance')"
      ],
      "execution_count": null,
      "outputs": []
    },
    {
      "cell_type": "markdown",
      "metadata": {
        "id": "62CZWrgMm4M5"
      },
      "source": [
        "### Bagging"
      ]
    },
    {
      "cell_type": "code",
      "metadata": {
        "id": "-AcinCODt59n"
      },
      "source": [
        "from sklearn.ensemble import BaggingClassifier"
      ],
      "execution_count": null,
      "outputs": []
    },
    {
      "cell_type": "markdown",
      "metadata": {
        "id": "ZDmFviKBMKHl"
      },
      "source": [
        "#### Decision Bag"
      ]
    },
    {
      "cell_type": "code",
      "metadata": {
        "id": "JRm9AJ4fJePE",
        "colab": {
          "base_uri": "https://localhost:8080/",
          "height": 319
        },
        "outputId": "4880061b-61ed-423e-ec92-74e853f5309a"
      },
      "source": [
        "bgcl_DT = BaggingClassifier(base_estimator=base_DT,n_estimators=51,oob_score=True,random_state=25)\n",
        "bgcl_DT.fit(x_train, y_train)"
      ],
      "execution_count": null,
      "outputs": [
        {
          "output_type": "execute_result",
          "data": {
            "text/plain": [
              "BaggingClassifier(base_estimator=DecisionTreeClassifier(ccp_alpha=0.0,\n",
              "                                                        class_weight=None,\n",
              "                                                        criterion='entropy',\n",
              "                                                        max_depth=19,\n",
              "                                                        max_features=None,\n",
              "                                                        max_leaf_nodes=None,\n",
              "                                                        min_impurity_decrease=0.0,\n",
              "                                                        min_impurity_split=None,\n",
              "                                                        min_samples_leaf=10,\n",
              "                                                        min_samples_split=10,\n",
              "                                                        min_weight_fraction_leaf=0.0,\n",
              "                                                        presort='deprecated',\n",
              "                                                        random_state=25,\n",
              "                                                        splitter='best'),\n",
              "                  bootstrap=True, bootstrap_features=False, max_features=1.0,\n",
              "                  max_samples=1.0, n_estimators=51, n_jobs=None, oob_score=True,\n",
              "                  random_state=25, verbose=0, warm_start=False)"
            ]
          },
          "metadata": {
            "tags": []
          },
          "execution_count": 32
        }
      ]
    },
    {
      "cell_type": "code",
      "metadata": {
        "id": "pZWgXjxct595",
        "colab": {
          "base_uri": "https://localhost:8080/",
          "height": 70
        },
        "outputId": "bf1eacdf-6301-4273-958f-1f3b69107121"
      },
      "source": [
        "print('OOB SCORE:',bgcl_DT.oob_score_)\n",
        "print('Training Score:',bgcl_DT.score(x_train,y_train))\n",
        "print('Testing Score:',bgcl_DT.score(x_test,y_test))"
      ],
      "execution_count": null,
      "outputs": [
        {
          "output_type": "stream",
          "text": [
            "OOB SCORE: 0.9422632453750602\n",
            "Training Score: 0.9656166094593664\n",
            "Testing Score: 0.9448664402423352\n"
          ],
          "name": "stdout"
        }
      ]
    },
    {
      "cell_type": "code",
      "metadata": {
        "id": "bJznUaJ8rQua",
        "colab": {
          "base_uri": "https://localhost:8080/",
          "height": 286
        },
        "outputId": "4ceb16d4-501e-49c4-af41-42ba8ae6fc8d"
      },
      "source": [
        "print(classification_report(y_test,bgcl_DT.predict(x_test)))\n",
        "print(confusion_matrix(y_test,bgcl_DT.predict(x_test)))"
      ],
      "execution_count": null,
      "outputs": [
        {
          "output_type": "stream",
          "text": [
            "              precision    recall  f1-score   support\n",
            "\n",
            "           1       0.95      0.93      0.94     63514\n",
            "           2       0.94      0.96      0.95     85045\n",
            "           3       0.97      0.98      0.98     16786\n",
            "           4       0.95      0.87      0.91      8959\n",
            "\n",
            "    accuracy                           0.94    174304\n",
            "   macro avg       0.95      0.93      0.94    174304\n",
            "weighted avg       0.94      0.94      0.94    174304\n",
            "\n",
            "[[58938  4353     5   218]\n",
            " [ 2909 81596   348   192]\n",
            " [   12   359 16407     8]\n",
            " [  458   672    76  7753]]\n"
          ],
          "name": "stdout"
        }
      ]
    },
    {
      "cell_type": "markdown",
      "metadata": {
        "id": "5mlKRaN_SmVt"
      },
      "source": [
        "#### Random Forest Bag"
      ]
    },
    {
      "cell_type": "code",
      "metadata": {
        "id": "u9Qg6PT_t5-G",
        "colab": {
          "base_uri": "https://localhost:8080/",
          "height": 412
        },
        "outputId": "7cabeb41-99bf-4290-87bd-703e3693c7cb"
      },
      "source": [
        "bgcl_RF = BaggingClassifier(base_estimator=base_RF,n_estimators=51,oob_score=True,random_state=25)\n",
        "bgcl_RF.fit(x_train, y_train)"
      ],
      "execution_count": null,
      "outputs": [
        {
          "output_type": "execute_result",
          "data": {
            "text/plain": [
              "BaggingClassifier(base_estimator=RandomForestClassifier(bootstrap=True,\n",
              "                                                        ccp_alpha=0.0,\n",
              "                                                        class_weight=None,\n",
              "                                                        criterion='entropy',\n",
              "                                                        max_depth=19,\n",
              "                                                        max_features='auto',\n",
              "                                                        max_leaf_nodes=None,\n",
              "                                                        max_samples=None,\n",
              "                                                        min_impurity_decrease=0.0,\n",
              "                                                        min_impurity_split=None,\n",
              "                                                        min_samples_leaf=10,\n",
              "                                                        min_samples_split=10,\n",
              "                                                        min_weight_fraction_leaf=0.0,\n",
              "                                                        n_estimators=100,\n",
              "                                                        n_jobs=None,\n",
              "                                                        oob_score=False,\n",
              "                                                        random_state=25,\n",
              "                                                        verbose=0,\n",
              "                                                        warm_start=False),\n",
              "                  bootstrap=True, bootstrap_features=False, max_features=1.0,\n",
              "                  max_samples=1.0, n_estimators=51, n_jobs=None, oob_score=True,\n",
              "                  random_state=25, verbose=0, warm_start=False)"
            ]
          },
          "metadata": {
            "tags": []
          },
          "execution_count": 34
        }
      ]
    },
    {
      "cell_type": "code",
      "metadata": {
        "id": "nvvZlk_bUIXE",
        "colab": {
          "base_uri": "https://localhost:8080/",
          "height": 70
        },
        "outputId": "d1227dae-ad54-4c5b-8365-a0791e8c738c"
      },
      "source": [
        "print('OOB SCORE:',bgcl_RF.oob_score_)\n",
        "print('Training Score:',bgcl_RF.score(x_train,y_train))\n",
        "print('Accuracy:',bgcl_RF.score(x_test,y_test))"
      ],
      "execution_count": null,
      "outputs": [
        {
          "output_type": "stream",
          "text": [
            "OOB SCORE: 0.9194335985522782\n",
            "Training Score: 0.9370457428917061\n",
            "Accuracy: 0.9200649440058748\n"
          ],
          "name": "stdout"
        }
      ]
    },
    {
      "cell_type": "code",
      "metadata": {
        "id": "3U4Ukdw7t5-W",
        "colab": {
          "base_uri": "https://localhost:8080/",
          "height": 286
        },
        "outputId": "3b15d8a9-4408-4af5-90e5-b4744843882e"
      },
      "source": [
        "print(classification_report(y_test,bgcl_RF.predict(x_test)))\n",
        "print(confusion_matrix(y_test,bgcl_RF.predict(x_test)))"
      ],
      "execution_count": null,
      "outputs": [
        {
          "output_type": "stream",
          "text": [
            "              precision    recall  f1-score   support\n",
            "\n",
            "           1       0.93      0.89      0.91     63514\n",
            "           2       0.90      0.95      0.93     85045\n",
            "           3       0.96      0.97      0.96     16786\n",
            "           4       0.96      0.78      0.86      8959\n",
            "\n",
            "    accuracy                           0.92    174304\n",
            "   macro avg       0.94      0.90      0.91    174304\n",
            "weighted avg       0.92      0.92      0.92    174304\n",
            "\n",
            "[[56542  6760    17   195]\n",
            " [ 3711 80626   585   123]\n",
            " [    1   534 16249     2]\n",
            " [  730  1206    69  6954]]\n"
          ],
          "name": "stdout"
        }
      ]
    },
    {
      "cell_type": "markdown",
      "metadata": {
        "id": "wH5r_cacMVPr"
      },
      "source": [
        "#### KNN Bag"
      ]
    },
    {
      "cell_type": "code",
      "metadata": {
        "id": "LeEiEJXwt5-d",
        "colab": {
          "base_uri": "https://localhost:8080/",
          "height": 195
        },
        "outputId": "699b1718-6bc8-4918-f763-ac5cbdbee957"
      },
      "source": [
        "bgcl_KN = BaggingClassifier(base_estimator=base_KNN,n_estimators=51,oob_score=True,random_state=25)\n",
        "bgcl_KN.fit(x_train_k, y_train_k)"
      ],
      "execution_count": null,
      "outputs": [
        {
          "output_type": "execute_result",
          "data": {
            "text/plain": [
              "BaggingClassifier(base_estimator=KNeighborsClassifier(algorithm='auto',\n",
              "                                                      leaf_size=30,\n",
              "                                                      metric='cityblock',\n",
              "                                                      metric_params=None,\n",
              "                                                      n_jobs=None,\n",
              "                                                      n_neighbors=4, p=2,\n",
              "                                                      weights='distance'),\n",
              "                  bootstrap=True, bootstrap_features=False, max_features=1.0,\n",
              "                  max_samples=1.0, n_estimators=51, n_jobs=None, oob_score=True,\n",
              "                  random_state=25, verbose=0, warm_start=False)"
            ]
          },
          "metadata": {
            "tags": []
          },
          "execution_count": 19
        }
      ]
    },
    {
      "cell_type": "code",
      "metadata": {
        "id": "-P-ubWn1L586",
        "colab": {
          "base_uri": "https://localhost:8080/",
          "height": 70
        },
        "outputId": "cdb60db3-507a-4b7d-e99a-7cdd147b4cb8"
      },
      "source": [
        "print('OOB SCORE:',bgcl_KN.oob_score_)\n",
        "print('Training Score:',bgcl_KN.score(x_train_k,y_train_k))\n",
        "print('Testing Score:',bgcl_KN.score(x_test_k,y_test_k))"
      ],
      "execution_count": null,
      "outputs": [
        {
          "output_type": "stream",
          "text": [
            "OOB SCORE: 0.9438171857942308\n",
            "Training Score: 0.9998426389448941\n",
            "Testing Score: 0.9445050027538094\n"
          ],
          "name": "stdout"
        }
      ]
    },
    {
      "cell_type": "code",
      "metadata": {
        "id": "M74y98k3rv2t",
        "colab": {
          "base_uri": "https://localhost:8080/",
          "height": 212
        },
        "outputId": "9ad5c23a-bdb9-4e0b-9862-16873f391448"
      },
      "source": [
        "print(classification_report(y_test_k,bgcl_KN.predict(x_test_k)))\n",
        "print(confusion_matrix(y_test_k,bgcl_KN.predict(x_test_k)))"
      ],
      "execution_count": null,
      "outputs": [
        {
          "output_type": "stream",
          "text": [
            "              precision    recall  f1-score   support\n",
            "\n",
            "           1       0.94      0.93      0.94     63514\n",
            "           2       0.94      0.95      0.95     85045\n",
            "           3       0.96      0.97      0.97     16786\n",
            "           4       0.92      0.90      0.91      8959\n",
            "\n",
            "    accuracy                           0.94    174304\n",
            "   macro avg       0.94      0.94      0.94    174304\n",
            "weighted avg       0.94      0.94      0.94    174304\n",
            "\n"
          ],
          "name": "stdout"
        }
      ]
    },
    {
      "cell_type": "markdown",
      "metadata": {
        "id": "Bp2MHHaPt5-s"
      },
      "source": [
        "### AdaBoost"
      ]
    },
    {
      "cell_type": "code",
      "metadata": {
        "id": "GMlsNDG4t5-t"
      },
      "source": [
        "from sklearn.ensemble import AdaBoostClassifier\n",
        "\n",
        "abcl_DT = AdaBoostClassifier(base_estimator=base_DT,n_estimators=50,random_state=25)\n",
        "\n",
        "abcl_RF = AdaBoostClassifier(base_estimator=base_RF,n_estimators=50,random_state=25)"
      ],
      "execution_count": null,
      "outputs": []
    },
    {
      "cell_type": "markdown",
      "metadata": {
        "id": "Vmfzx9qpkqoc"
      },
      "source": [
        "#### Decision Tree"
      ]
    },
    {
      "cell_type": "code",
      "metadata": {
        "id": "7O36D_aqeBKT",
        "colab": {
          "base_uri": "https://localhost:8080/",
          "height": 301
        },
        "outputId": "e5f4231c-d0f1-496e-818f-1789f59a8846"
      },
      "source": [
        "abcl_DT.fit(x_train,y_train)"
      ],
      "execution_count": null,
      "outputs": [
        {
          "output_type": "execute_result",
          "data": {
            "text/plain": [
              "AdaBoostClassifier(algorithm='SAMME.R',\n",
              "                   base_estimator=DecisionTreeClassifier(ccp_alpha=0.0,\n",
              "                                                         class_weight=None,\n",
              "                                                         criterion='entropy',\n",
              "                                                         max_depth=19,\n",
              "                                                         max_features=None,\n",
              "                                                         max_leaf_nodes=None,\n",
              "                                                         min_impurity_decrease=0.0,\n",
              "                                                         min_impurity_split=None,\n",
              "                                                         min_samples_leaf=10,\n",
              "                                                         min_samples_split=10,\n",
              "                                                         min_weight_fraction_leaf=0.0,\n",
              "                                                         presort='deprecated',\n",
              "                                                         random_state=25,\n",
              "                                                         splitter='best'),\n",
              "                   learning_rate=1.0, n_estimators=50, random_state=25)"
            ]
          },
          "metadata": {
            "tags": []
          },
          "execution_count": 32
        }
      ]
    },
    {
      "cell_type": "code",
      "metadata": {
        "scrolled": true,
        "id": "gFLWg6lUt5-2",
        "colab": {
          "base_uri": "https://localhost:8080/"
        },
        "outputId": "12f6c987-1e8e-487f-a931-060c58a1e8a2"
      },
      "source": [
        "abcl_DT.fit(x_train,y_train)\n",
        "print('AdaBoost DT Training Score:',abcl_DT.score(x_train,y_train))\n",
        "print('AdaBoost DT Testing Score:',abcl_DT.score(x_test,y_test))"
      ],
      "execution_count": null,
      "outputs": [
        {
          "output_type": "stream",
          "text": [
            "AdaBoost DT Training Score: 1.0\n",
            "AdaBoost DT Testing Score: 0.9591518266935928\n"
          ],
          "name": "stdout"
        }
      ]
    },
    {
      "cell_type": "markdown",
      "metadata": {
        "id": "kGPhiDxQkuEP"
      },
      "source": [
        "#### Random Forest"
      ]
    },
    {
      "cell_type": "code",
      "metadata": {
        "id": "NYHmfmdnUbLL",
        "colab": {
          "base_uri": "https://localhost:8080/"
        },
        "outputId": "d046cbb5-73e8-469d-e043-5dfad988d55f"
      },
      "source": [
        "print(classification_report(y_test,abcl_DT.predict(x_test)))\n",
        "print(confusion_matrix(y_test,abcl_DT.predict(x_test)))"
      ],
      "execution_count": null,
      "outputs": [
        {
          "output_type": "stream",
          "text": [
            "              precision    recall  f1-score   support\n",
            "\n",
            "           1       0.96      0.95      0.95     63514\n",
            "           2       0.95      0.97      0.96     85045\n",
            "           3       0.98      0.98      0.98     16786\n",
            "           4       0.97      0.89      0.93      8959\n",
            "\n",
            "    accuracy                           0.96    174304\n",
            "   macro avg       0.97      0.95      0.96    174304\n",
            "weighted avg       0.96      0.96      0.96    174304\n",
            "\n",
            "[[60179  3227     4   104]\n",
            " [ 2131 82514   311    89]\n",
            " [    4   261 16508    13]\n",
            " [  340   582    54  7983]]\n"
          ],
          "name": "stdout"
        }
      ]
    },
    {
      "cell_type": "code",
      "metadata": {
        "id": "OwlC671Uo1qc",
        "colab": {
          "base_uri": "https://localhost:8080/",
          "height": 52
        },
        "outputId": "c8133c1a-d17e-4828-bd10-7e706c4902de"
      },
      "source": [
        "abcl_RF.fit(x_train,y_train)\n",
        "print('AdaBoost RF Training Score:',abcl_RF.score(x_train,y_train))\n",
        "print('AdaBoost RF Testing Score:',abcl_RF.score(x_test,y_test))"
      ],
      "execution_count": null,
      "outputs": [
        {
          "output_type": "stream",
          "text": [
            "AdaBoost RF Training Score: 0.9226324537506024\n",
            "AdaBoost RF Testing Score: 0.8851259867817147\n"
          ],
          "name": "stdout"
        }
      ]
    },
    {
      "cell_type": "code",
      "metadata": {
        "id": "PmdHHHS0o1q_",
        "colab": {
          "base_uri": "https://localhost:8080/",
          "height": 284
        },
        "outputId": "1e77e6d7-5d8d-48b4-f1ac-77f95d7ad387"
      },
      "source": [
        "print(classification_report(y_test,abcl_RF.predict(x_test)))\n",
        "print(confusion_matrix(y_test,abcl_RF.predict(x_test)))"
      ],
      "execution_count": null,
      "outputs": [
        {
          "output_type": "stream",
          "text": [
            "              precision    recall  f1-score   support\n",
            "\n",
            "           1       0.87      0.85      0.86     63514\n",
            "           2       0.88      0.92      0.90     85045\n",
            "           3       0.96      0.97      0.97     16786\n",
            "           4       0.97      0.69      0.81      8959\n",
            "\n",
            "    accuracy                           0.89    174304\n",
            "   macro avg       0.92      0.86      0.88    174304\n",
            "weighted avg       0.89      0.89      0.88    174304\n",
            "\n",
            "[[53703  9706     4   101]\n",
            " [ 6338 78013   607    87]\n",
            " [    2   410 16362    12]\n",
            " [ 1740   969    47  6203]]\n"
          ],
          "name": "stdout"
        }
      ]
    },
    {
      "cell_type": "markdown",
      "metadata": {
        "id": "tYm2lQFy-tzj"
      },
      "source": [
        "### Gradient Boosting"
      ]
    },
    {
      "cell_type": "code",
      "metadata": {
        "id": "iOVicYxm-yjm",
        "colab": {
          "base_uri": "https://localhost:8080/",
          "height": 195
        },
        "outputId": "e58620dd-68bb-4230-cbe6-2396c13bc7c1"
      },
      "source": [
        "from sklearn.ensemble import GradientBoostingClassifier\n",
        "\n",
        "gbcl = GradientBoostingClassifier(random_state = 25,\n",
        "                                  max_depth=19, \n",
        "                                  min_samples_leaf=10,\n",
        "                                  min_samples_split=10,\n",
        "                                  n_estimators = 50)\n",
        "gbcl.fit(x_train, y_train)"
      ],
      "execution_count": null,
      "outputs": [
        {
          "output_type": "execute_result",
          "data": {
            "text/plain": [
              "GradientBoostingClassifier(ccp_alpha=0.0, criterion='friedman_mse', init=None,\n",
              "                           learning_rate=0.1, loss='deviance', max_depth=19,\n",
              "                           max_features=None, max_leaf_nodes=None,\n",
              "                           min_impurity_decrease=0.0, min_impurity_split=None,\n",
              "                           min_samples_leaf=10, min_samples_split=10,\n",
              "                           min_weight_fraction_leaf=0.0, n_estimators=50,\n",
              "                           n_iter_no_change=None, presort='deprecated',\n",
              "                           random_state=25, subsample=1.0, tol=0.0001,\n",
              "                           validation_fraction=0.1, verbose=0,\n",
              "                           warm_start=False)"
            ]
          },
          "metadata": {
            "tags": []
          },
          "execution_count": 33
        }
      ]
    },
    {
      "cell_type": "code",
      "metadata": {
        "id": "w-Y8P2iQ-yjv",
        "colab": {
          "base_uri": "https://localhost:8080/",
          "height": 52
        },
        "outputId": "2d9f3fc3-b395-4277-b392-bb958675437f"
      },
      "source": [
        "print('Training Score:',gbcl.score(x_train,y_train))\n",
        "print('Testing Score:',gbcl.score(x_test,y_test))"
      ],
      "execution_count": null,
      "outputs": [
        {
          "output_type": "stream",
          "text": [
            "Training Score: 1.0\n",
            "Testing Score: 0.9734601615568202\n"
          ],
          "name": "stdout"
        }
      ]
    },
    {
      "cell_type": "code",
      "metadata": {
        "id": "usCVxUVL-yjz",
        "colab": {
          "base_uri": "https://localhost:8080/",
          "height": 284
        },
        "outputId": "0aae17b6-ac57-4a02-b858-0ec2572a45b0"
      },
      "source": [
        "print(classification_report(y_test,gbcl.predict(x_test)))\n",
        "print(confusion_matrix(y_test,gbcl.predict(x_test)))"
      ],
      "execution_count": null,
      "outputs": [
        {
          "output_type": "stream",
          "text": [
            "              precision    recall  f1-score   support\n",
            "\n",
            "           1       0.97      0.97      0.97     63514\n",
            "           2       0.97      0.98      0.98     85045\n",
            "           3       0.98      0.99      0.99     16786\n",
            "           4       0.97      0.92      0.94      8959\n",
            "\n",
            "    accuracy                           0.97    174304\n",
            "   macro avg       0.97      0.96      0.97    174304\n",
            "weighted avg       0.97      0.97      0.97    174304\n",
            "\n",
            "[[61517  1869     2   126]\n",
            " [ 1364 83342   205   134]\n",
            " [    2   221 16548    15]\n",
            " [  255   383    50  8271]]\n"
          ],
          "name": "stdout"
        }
      ]
    },
    {
      "cell_type": "markdown",
      "metadata": {
        "id": "tWmZfjelq9Xk"
      },
      "source": [
        "### Stacking"
      ]
    },
    {
      "cell_type": "code",
      "metadata": {
        "id": "bS8DckCfl9PH",
        "colab": {
          "base_uri": "https://localhost:8080/",
          "height": 72
        },
        "outputId": "b90267ea-a189-4368-d95d-2fc834a099b3"
      },
      "source": [
        "from mlxtend.classifier import StackingClassifier"
      ],
      "execution_count": null,
      "outputs": [
        {
          "output_type": "stream",
          "text": [
            "/usr/local/lib/python3.6/dist-packages/sklearn/externals/six.py:31: FutureWarning: The module is deprecated in version 0.21 and will be removed in version 0.23 since we've dropped support for Python 2.7. Please rely on the official version of six (https://pypi.org/project/six/).\n",
            "  \"(https://pypi.org/project/six/).\", FutureWarning)\n"
          ],
          "name": "stderr"
        }
      ]
    },
    {
      "cell_type": "code",
      "metadata": {
        "id": "QCcobD2zl9Pd",
        "colab": {
          "base_uri": "https://localhost:8080/",
          "height": 568
        },
        "outputId": "a963d521-7429-49f4-b8fe-b23d4be8689f"
      },
      "source": [
        "sclf = StackingClassifier(classifiers=[knn, rforest, abcl_DT], \n",
        "                          meta_classifier=gbcl)\n",
        "sclf.fit(x_train,y_train)"
      ],
      "execution_count": null,
      "outputs": [
        {
          "output_type": "execute_result",
          "data": {
            "text/plain": [
              "StackingClassifier(average_probas=False,\n",
              "                   classifiers=[KNeighborsClassifier(algorithm='auto',\n",
              "                                                     leaf_size=30,\n",
              "                                                     metric='cityblock',\n",
              "                                                     metric_params=None,\n",
              "                                                     n_jobs=None, n_neighbors=4,\n",
              "                                                     p=2, weights='distance'),\n",
              "                                RandomForestClassifier(bootstrap=True,\n",
              "                                                       ccp_alpha=0.0,\n",
              "                                                       class_weight=None,\n",
              "                                                       criterion='entropy',\n",
              "                                                       max_depth=19,\n",
              "                                                       max_features='auto',\n",
              "                                                       max_leaf_nodes=None,\n",
              "                                                       max_samples=Non...\n",
              "                                                              min_impurity_split=None,\n",
              "                                                              min_samples_leaf=10,\n",
              "                                                              min_samples_split=10,\n",
              "                                                              min_weight_fraction_leaf=0.0,\n",
              "                                                              n_estimators=50,\n",
              "                                                              n_iter_no_change=None,\n",
              "                                                              presort='deprecated',\n",
              "                                                              random_state=25,\n",
              "                                                              subsample=1.0,\n",
              "                                                              tol=0.0001,\n",
              "                                                              validation_fraction=0.1,\n",
              "                                                              verbose=0,\n",
              "                                                              warm_start=False),\n",
              "                   store_train_meta_features=False, use_clones=True,\n",
              "                   use_features_in_secondary=False, use_probas=False,\n",
              "                   verbose=0)"
            ]
          },
          "metadata": {
            "tags": []
          },
          "execution_count": 34
        }
      ]
    },
    {
      "cell_type": "code",
      "metadata": {
        "id": "X4Un896Kl9Pi",
        "colab": {
          "base_uri": "https://localhost:8080/",
          "height": 52
        },
        "outputId": "afc04c0e-0482-4f90-8d21-b0ff9788b706"
      },
      "source": [
        "print('Training Score:',sclf.score(x_train,y_train))\n",
        "print('Testing Score:',sclf.score(x_test,y_test))"
      ],
      "execution_count": null,
      "outputs": [
        {
          "output_type": "stream",
          "text": [
            "Training Score: 1.0\n",
            "Testing Score: 0.9602131907472002\n"
          ],
          "name": "stdout"
        }
      ]
    },
    {
      "cell_type": "code",
      "metadata": {
        "id": "c5EWsSXbl9Pn",
        "colab": {
          "base_uri": "https://localhost:8080/",
          "height": 284
        },
        "outputId": "96b0468f-2c41-4046-f7cc-ff404669051d"
      },
      "source": [
        "print(classification_report(y_test,sclf.predict(x_test)))\n",
        "print(confusion_matrix(y_test,sclf.predict(x_test)))"
      ],
      "execution_count": null,
      "outputs": [
        {
          "output_type": "stream",
          "text": [
            "              precision    recall  f1-score   support\n",
            "\n",
            "           1       0.96      0.95      0.95     63514\n",
            "           2       0.95      0.97      0.96     85045\n",
            "           3       0.99      0.99      0.99     16786\n",
            "           4       0.98      0.88      0.93      8959\n",
            "\n",
            "    accuracy                           0.96    174304\n",
            "   macro avg       0.97      0.95      0.96    174304\n",
            "weighted avg       0.96      0.96      0.96    174304\n",
            "\n",
            "[[60221  3225     5    63]\n",
            " [ 2133 82676   180    56]\n",
            " [    3   190 16580    13]\n",
            " [  388   624    55  7892]]\n"
          ],
          "name": "stdout"
        }
      ]
    },
    {
      "cell_type": "code",
      "metadata": {
        "id": "KbtsTprqrQZW"
      },
      "source": [
        ""
      ],
      "execution_count": null,
      "outputs": []
    },
    {
      "cell_type": "markdown",
      "metadata": {
        "id": "4N9fJ_f0k70O"
      },
      "source": [
        "## Feature Engineering"
      ]
    },
    {
      "cell_type": "markdown",
      "metadata": {
        "id": "CYSBWWzOLN09"
      },
      "source": [
        "Min scaling 'vertical_distance_to_hydrology' column as it has got some negative values"
      ]
    },
    {
      "cell_type": "code",
      "metadata": {
        "id": "fPo6RPVNk70U"
      },
      "source": [
        "forest_a['Vertical_Scaled'] = forest_a['Vertical_Distance_To_Hydrology'] - min(forest_a['Vertical_Distance_To_Hydrology'])"
      ],
      "execution_count": null,
      "outputs": []
    },
    {
      "cell_type": "markdown",
      "metadata": {
        "id": "Ykdt8pc5LYE_"
      },
      "source": [
        "Calculating Euclidean distance to hydrology. As water being the necessity for a vegetation to grow."
      ]
    },
    {
      "cell_type": "code",
      "metadata": {
        "id": "0kQFYRhwk70h"
      },
      "source": [
        "forest_a['Hydr_Dist'] = (forest_a['Horizontal_Distance_To_Hydrology']**2 + forest_a['Vertical_Distance_To_Hydrology']**2)**0.5"
      ],
      "execution_count": null,
      "outputs": []
    },
    {
      "cell_type": "markdown",
      "metadata": {
        "id": "8V3Q0XBwLjnN"
      },
      "source": [
        "Taking average of all the Hillshades"
      ]
    },
    {
      "cell_type": "code",
      "metadata": {
        "id": "fw6iHeltk70m"
      },
      "source": [
        "forest_a['Hillshades'] = (forest_a['Hillshade_3pm'] + forest_a['Hillshade_Noon'] + forest_a['Hillshade_9am'])/3"
      ],
      "execution_count": null,
      "outputs": []
    },
    {
      "cell_type": "markdown",
      "metadata": {
        "id": "S0b6o33vLqbx"
      },
      "source": [
        "Taking Linear Combination of 'Horizontal_distance_to_roadways and 'Horizontal_distance_to_Firepoints'."
      ]
    },
    {
      "cell_type": "code",
      "metadata": {
        "id": "ZGTuWkz7k70q"
      },
      "source": [
        "forest_a['Fire_Road'] = forest_a['Horizontal_Distance_To_Fire_Points'] + forest_a['Horizontal_Distance_To_Roadways']"
      ],
      "execution_count": null,
      "outputs": []
    },
    {
      "cell_type": "markdown",
      "metadata": {
        "id": "u3AUI62VMDjA"
      },
      "source": [
        "Taking average of all the horizontal distances columns. Fire_points, hydrology and roadways being the basic amenities affecting any vegetation."
      ]
    },
    {
      "cell_type": "code",
      "metadata": {
        "id": "YGuDZD12k70v"
      },
      "source": [
        "forest_a['Avg_Horizontal'] = (forest_a['Horizontal_Distance_To_Fire_Points'] + \n",
        "                              forest_a['Horizontal_Distance_To_Hydrology'] + \n",
        "                              forest_a['Horizontal_Distance_To_Roadways'])/3"
      ],
      "execution_count": null,
      "outputs": []
    },
    {
      "cell_type": "markdown",
      "metadata": {
        "id": "mh2sBnceMKaQ"
      },
      "source": [
        "Taking the average of 'Horizotal_Distance_to_Fire_points' and 'Horizontal_distance_to_hydrology' column.</b>"
      ]
    },
    {
      "cell_type": "code",
      "metadata": {
        "id": "ECmjKklmk700"
      },
      "source": [
        "forest_a['Fire_Hydr'] = (forest_a['Horizontal_Distance_To_Fire_Points'] + forest_a['Horizontal_Distance_To_Hydrology'])/2"
      ],
      "execution_count": null,
      "outputs": []
    },
    {
      "cell_type": "markdown",
      "metadata": {
        "id": "1Q8dIVOrMkcX"
      },
      "source": [
        "Calculating at what steepness the particular cover_type is located from hydrology"
      ]
    },
    {
      "cell_type": "code",
      "metadata": {
        "id": "ml4vHwL8k706"
      },
      "source": [
        "forest_a['Hydr_Slope'] = forest_a['Vertical_Distance_To_Hydrology']/forest_a['Horizontal_Distance_To_Hydrology']"
      ],
      "execution_count": null,
      "outputs": []
    },
    {
      "cell_type": "markdown",
      "metadata": {
        "id": "dqC4vw8NNCw3"
      },
      "source": [
        "converting the slope values into degrees and replacing all the null values with 0"
      ]
    },
    {
      "cell_type": "code",
      "metadata": {
        "id": "wxShnXYgk70-"
      },
      "source": [
        "from math import degrees\n",
        "a = []\n",
        "for i in forest_a['Hydr_Slope']:\n",
        "  a.append(degrees(np.arctan(i)))\n",
        "\n",
        "b = pd.DataFrame({'a':a})\n",
        "forest_a['Hydr_Slope'] = np.where(b['a'].isnull(),0,b['a'])\n",
        "forest_a['Hydr_Slope'].isnull().sum()  "
      ],
      "execution_count": null,
      "outputs": []
    },
    {
      "cell_type": "markdown",
      "metadata": {
        "id": "YpE4Ur8nNu7F"
      },
      "source": [
        "Making a list of all numerical Columns and storing it in a variable 'quant_col'"
      ]
    },
    {
      "cell_type": "code",
      "metadata": {
        "id": "CWKQ_ZiBk71B",
        "colab": {
          "base_uri": "https://localhost:8080/",
          "height": 322
        },
        "outputId": "65320fe5-3771-4219-f5fe-d78ead2dd933"
      },
      "source": [
        "quant_col = list(forest_a.columns[:10])\n",
        "quant_col.extend(forest_a.columns[::-1][:7])\n",
        "quant_col"
      ],
      "execution_count": null,
      "outputs": [
        {
          "output_type": "execute_result",
          "data": {
            "text/plain": [
              "['Elevation',\n",
              " 'Aspect',\n",
              " 'Slope',\n",
              " 'Horizontal_Distance_To_Hydrology',\n",
              " 'Vertical_Distance_To_Hydrology',\n",
              " 'Horizontal_Distance_To_Roadways',\n",
              " 'Hillshade_9am',\n",
              " 'Hillshade_Noon',\n",
              " 'Hillshade_3pm',\n",
              " 'Horizontal_Distance_To_Fire_Points',\n",
              " 'Hydr_Slope',\n",
              " 'Fire_Hydr',\n",
              " 'Avg_Horizontal',\n",
              " 'Fire_Road',\n",
              " 'Hillshades',\n",
              " 'Hydr_Dist',\n",
              " 'Vertical_Scaled']"
            ]
          },
          "metadata": {
            "tags": []
          },
          "execution_count": 18
        }
      ]
    },
    {
      "cell_type": "code",
      "metadata": {
        "id": "oCsbDcvPk71F",
        "colab": {
          "base_uri": "https://localhost:8080/",
          "height": 502
        },
        "outputId": "25a71650-ca4b-4844-c834-0479d0ee84f2"
      },
      "source": [
        "forest_a.info()"
      ],
      "execution_count": null,
      "outputs": [
        {
          "output_type": "stream",
          "text": [
            "<class 'pandas.core.frame.DataFrame'>\n",
            "RangeIndex: 581012 entries, 0 to 581011\n",
            "Data columns (total 20 columns):\n",
            " #   Column                              Non-Null Count   Dtype   \n",
            "---  ------                              --------------   -----   \n",
            " 0   Elevation                           581012 non-null  int64   \n",
            " 1   Aspect                              581012 non-null  int64   \n",
            " 2   Slope                               581012 non-null  int64   \n",
            " 3   Horizontal_Distance_To_Hydrology    581012 non-null  int64   \n",
            " 4   Vertical_Distance_To_Hydrology      581012 non-null  int64   \n",
            " 5   Horizontal_Distance_To_Roadways     581012 non-null  int64   \n",
            " 6   Hillshade_9am                       581012 non-null  int64   \n",
            " 7   Hillshade_Noon                      581012 non-null  int64   \n",
            " 8   Hillshade_3pm                       581012 non-null  int64   \n",
            " 9   Horizontal_Distance_To_Fire_Points  581012 non-null  int64   \n",
            " 10  Cover_Type                          581012 non-null  category\n",
            " 11  Wilderness                          581012 non-null  category\n",
            " 12  Soil                                581012 non-null  category\n",
            " 13  Vertical_Scaled                     581012 non-null  int64   \n",
            " 14  Hydr_Dist                           581012 non-null  float64 \n",
            " 15  Hillshades                          581012 non-null  float64 \n",
            " 16  Fire_Road                           581012 non-null  int64   \n",
            " 17  Avg_Horizontal                      581012 non-null  float64 \n",
            " 18  Fire_Hydr                           581012 non-null  float64 \n",
            " 19  Hydr_Slope                          581012 non-null  float64 \n",
            "dtypes: category(3), float64(5), int64(12)\n",
            "memory usage: 77.0 MB\n"
          ],
          "name": "stdout"
        }
      ]
    },
    {
      "cell_type": "markdown",
      "metadata": {
        "id": "k7fYYyGb3zrT"
      },
      "source": [
        "## Modelling after Feature Engineering"
      ]
    },
    {
      "cell_type": "markdown",
      "metadata": {
        "id": "Kw_3YSt63zrU"
      },
      "source": [
        "### Decision Tree"
      ]
    },
    {
      "cell_type": "code",
      "metadata": {
        "id": "QJop4CQj3zrV"
      },
      "source": [
        "from sklearn.model_selection import train_test_split\n",
        "from sklearn.metrics import classification_report, confusion_matrix, accuracy_score\n",
        "from sklearn.tree import DecisionTreeClassifier\n",
        "import warnings\n",
        "warnings.filterwarnings(\"ignore\")"
      ],
      "execution_count": null,
      "outputs": []
    },
    {
      "cell_type": "markdown",
      "metadata": {
        "id": "jqfP0e_Xj-Ua"
      },
      "source": [
        "Dividing data into x (independent variable) and y (dependent variable) and then splitting data to train and test in 7:3 ratio"
      ]
    },
    {
      "cell_type": "code",
      "metadata": {
        "id": "tr6kxfs-3zrZ"
      },
      "source": [
        "x = forest_a.drop(columns = ['Cover_Type','Vertical_Scaled'])\n",
        "y = forest_a['Cover_Type'].astype('category')"
      ],
      "execution_count": null,
      "outputs": []
    },
    {
      "cell_type": "code",
      "metadata": {
        "id": "D9V1Z6ax3zrc"
      },
      "source": [
        "x_train, x_test, y_train, y_test = train_test_split(x, y, test_size = .3, random_state=25)"
      ],
      "execution_count": null,
      "outputs": []
    },
    {
      "cell_type": "code",
      "metadata": {
        "id": "myunbn8F3zrg",
        "colab": {
          "base_uri": "https://localhost:8080/",
          "height": 124
        },
        "outputId": "e2b1f99e-6b2a-4c4a-f457-93bdab384c5b"
      },
      "source": [
        "dt = DecisionTreeClassifier(criterion = \"entropy\", \n",
        "                                  random_state = 25,\n",
        "                                  max_depth=19, \n",
        "                                  min_samples_leaf=10,\n",
        "                                  min_samples_split=10)\n",
        "dt.fit(x_train, y_train)"
      ],
      "execution_count": null,
      "outputs": [
        {
          "output_type": "execute_result",
          "data": {
            "text/plain": [
              "DecisionTreeClassifier(ccp_alpha=0.0, class_weight=None, criterion='entropy',\n",
              "                       max_depth=19, max_features=None, max_leaf_nodes=None,\n",
              "                       min_impurity_decrease=0.0, min_impurity_split=None,\n",
              "                       min_samples_leaf=10, min_samples_split=10,\n",
              "                       min_weight_fraction_leaf=0.0, presort='deprecated',\n",
              "                       random_state=25, splitter='best')"
            ]
          },
          "metadata": {
            "tags": []
          },
          "execution_count": 48
        }
      ]
    },
    {
      "cell_type": "code",
      "metadata": {
        "id": "ukspHlU73zrk",
        "colab": {
          "base_uri": "https://localhost:8080/",
          "height": 52
        },
        "outputId": "318250c7-4716-4260-f580-8b590c057269"
      },
      "source": [
        "print('Training Score:',dt.score(x_train, y_train))\n",
        "print('Testing Score:',dt.score(x_test, y_test))"
      ],
      "execution_count": null,
      "outputs": [
        {
          "output_type": "stream",
          "text": [
            "Training Score: 0.9402421393235442\n",
            "Testing Score: 0.9152343032862126\n"
          ],
          "name": "stdout"
        }
      ]
    },
    {
      "cell_type": "code",
      "metadata": {
        "id": "3ENUi1JD3zro",
        "colab": {
          "base_uri": "https://localhost:8080/",
          "height": 284
        },
        "outputId": "8f2f46c0-cda5-482d-bd51-3eeb521e8440"
      },
      "source": [
        "y_pred = dt.predict(x_test)\n",
        "print(classification_report(y_test,y_pred))\n",
        "print(confusion_matrix(y_test,y_pred))"
      ],
      "execution_count": null,
      "outputs": [
        {
          "output_type": "stream",
          "text": [
            "              precision    recall  f1-score   support\n",
            "\n",
            "           1       0.91      0.90      0.90     63514\n",
            "           2       0.91      0.93      0.92     85045\n",
            "           3       0.96      0.96      0.96     16786\n",
            "           4       0.91      0.85      0.88      8959\n",
            "\n",
            "    accuracy                           0.92    174304\n",
            "   macro avg       0.92      0.91      0.92    174304\n",
            "weighted avg       0.92      0.92      0.92    174304\n",
            "\n",
            "[[57010  6190     8   306]\n",
            " [ 5360 78713   566   406]\n",
            " [   14   579 16163    30]\n",
            " [  573   662    81  7643]]\n"
          ],
          "name": "stdout"
        }
      ]
    },
    {
      "cell_type": "code",
      "metadata": {
        "id": "CBIjM72s3zrs",
        "colab": {
          "base_uri": "https://localhost:8080/",
          "height": 575
        },
        "outputId": "2d943c3b-9057-4d2f-9b5c-da0de913b297"
      },
      "source": [
        "pd.DataFrame({'columns':x.columns,'Importance':dt.feature_importances_})"
      ],
      "execution_count": null,
      "outputs": [
        {
          "output_type": "execute_result",
          "data": {
            "text/html": [
              "<div>\n",
              "<style scoped>\n",
              "    .dataframe tbody tr th:only-of-type {\n",
              "        vertical-align: middle;\n",
              "    }\n",
              "\n",
              "    .dataframe tbody tr th {\n",
              "        vertical-align: top;\n",
              "    }\n",
              "\n",
              "    .dataframe thead th {\n",
              "        text-align: right;\n",
              "    }\n",
              "</style>\n",
              "<table border=\"1\" class=\"dataframe\">\n",
              "  <thead>\n",
              "    <tr style=\"text-align: right;\">\n",
              "      <th></th>\n",
              "      <th>columns</th>\n",
              "      <th>Importance</th>\n",
              "    </tr>\n",
              "  </thead>\n",
              "  <tbody>\n",
              "    <tr>\n",
              "      <th>0</th>\n",
              "      <td>Elevation</td>\n",
              "      <td>0.423821</td>\n",
              "    </tr>\n",
              "    <tr>\n",
              "      <th>1</th>\n",
              "      <td>Aspect</td>\n",
              "      <td>0.013237</td>\n",
              "    </tr>\n",
              "    <tr>\n",
              "      <th>2</th>\n",
              "      <td>Slope</td>\n",
              "      <td>0.006039</td>\n",
              "    </tr>\n",
              "    <tr>\n",
              "      <th>3</th>\n",
              "      <td>Horizontal_Distance_To_Hydrology</td>\n",
              "      <td>0.013497</td>\n",
              "    </tr>\n",
              "    <tr>\n",
              "      <th>4</th>\n",
              "      <td>Vertical_Distance_To_Hydrology</td>\n",
              "      <td>0.018565</td>\n",
              "    </tr>\n",
              "    <tr>\n",
              "      <th>5</th>\n",
              "      <td>Horizontal_Distance_To_Roadways</td>\n",
              "      <td>0.081928</td>\n",
              "    </tr>\n",
              "    <tr>\n",
              "      <th>6</th>\n",
              "      <td>Hillshade_9am</td>\n",
              "      <td>0.020043</td>\n",
              "    </tr>\n",
              "    <tr>\n",
              "      <th>7</th>\n",
              "      <td>Hillshade_Noon</td>\n",
              "      <td>0.017263</td>\n",
              "    </tr>\n",
              "    <tr>\n",
              "      <th>8</th>\n",
              "      <td>Hillshade_3pm</td>\n",
              "      <td>0.009920</td>\n",
              "    </tr>\n",
              "    <tr>\n",
              "      <th>9</th>\n",
              "      <td>Horizontal_Distance_To_Fire_Points</td>\n",
              "      <td>0.052746</td>\n",
              "    </tr>\n",
              "    <tr>\n",
              "      <th>10</th>\n",
              "      <td>Wilderness</td>\n",
              "      <td>0.043082</td>\n",
              "    </tr>\n",
              "    <tr>\n",
              "      <th>11</th>\n",
              "      <td>Soil</td>\n",
              "      <td>0.109930</td>\n",
              "    </tr>\n",
              "    <tr>\n",
              "      <th>12</th>\n",
              "      <td>Hydr_Dist</td>\n",
              "      <td>0.026288</td>\n",
              "    </tr>\n",
              "    <tr>\n",
              "      <th>13</th>\n",
              "      <td>Hillshades</td>\n",
              "      <td>0.005919</td>\n",
              "    </tr>\n",
              "    <tr>\n",
              "      <th>14</th>\n",
              "      <td>Fire_Road</td>\n",
              "      <td>0.060682</td>\n",
              "    </tr>\n",
              "    <tr>\n",
              "      <th>15</th>\n",
              "      <td>Avg_Horizontal</td>\n",
              "      <td>0.037742</td>\n",
              "    </tr>\n",
              "    <tr>\n",
              "      <th>16</th>\n",
              "      <td>Fire_Hydr</td>\n",
              "      <td>0.043464</td>\n",
              "    </tr>\n",
              "    <tr>\n",
              "      <th>17</th>\n",
              "      <td>Hydr_Slope</td>\n",
              "      <td>0.015833</td>\n",
              "    </tr>\n",
              "  </tbody>\n",
              "</table>\n",
              "</div>"
            ],
            "text/plain": [
              "                               columns  Importance\n",
              "0                            Elevation    0.423821\n",
              "1                               Aspect    0.013237\n",
              "2                                Slope    0.006039\n",
              "3     Horizontal_Distance_To_Hydrology    0.013497\n",
              "4       Vertical_Distance_To_Hydrology    0.018565\n",
              "5      Horizontal_Distance_To_Roadways    0.081928\n",
              "6                        Hillshade_9am    0.020043\n",
              "7                       Hillshade_Noon    0.017263\n",
              "8                        Hillshade_3pm    0.009920\n",
              "9   Horizontal_Distance_To_Fire_Points    0.052746\n",
              "10                          Wilderness    0.043082\n",
              "11                                Soil    0.109930\n",
              "12                           Hydr_Dist    0.026288\n",
              "13                          Hillshades    0.005919\n",
              "14                           Fire_Road    0.060682\n",
              "15                      Avg_Horizontal    0.037742\n",
              "16                           Fire_Hydr    0.043464\n",
              "17                          Hydr_Slope    0.015833"
            ]
          },
          "metadata": {
            "tags": []
          },
          "execution_count": 27
        }
      ]
    },
    {
      "cell_type": "markdown",
      "metadata": {
        "id": "w3zseGLX3zrw"
      },
      "source": [
        "### Random Forest"
      ]
    },
    {
      "cell_type": "code",
      "metadata": {
        "id": "SPFurHMl3zrw"
      },
      "source": [
        "from sklearn.ensemble import RandomForestClassifier"
      ],
      "execution_count": null,
      "outputs": []
    },
    {
      "cell_type": "code",
      "metadata": {
        "id": "bbqc_kBJ3zrz",
        "colab": {
          "base_uri": "https://localhost:8080/"
        },
        "outputId": "1720b9d9-eb62-4f0f-b86a-bb458bbdae0a"
      },
      "source": [
        "rforest = RandomForestClassifier(criterion = \"entropy\", \n",
        "                                  random_state = 25,\n",
        "                                  max_depth=19, \n",
        "                                  min_samples_leaf=10,\n",
        "                                  min_samples_split=10)\n",
        "rforest.fit(x_train, y_train)"
      ],
      "execution_count": null,
      "outputs": [
        {
          "output_type": "execute_result",
          "data": {
            "text/plain": [
              "RandomForestClassifier(bootstrap=True, ccp_alpha=0.0, class_weight=None,\n",
              "                       criterion='entropy', max_depth=19, max_features='auto',\n",
              "                       max_leaf_nodes=None, max_samples=None,\n",
              "                       min_impurity_decrease=0.0, min_impurity_split=None,\n",
              "                       min_samples_leaf=10, min_samples_split=10,\n",
              "                       min_weight_fraction_leaf=0.0, n_estimators=100,\n",
              "                       n_jobs=None, oob_score=False, random_state=25, verbose=0,\n",
              "                       warm_start=False)"
            ]
          },
          "metadata": {
            "tags": []
          },
          "execution_count": 29
        }
      ]
    },
    {
      "cell_type": "code",
      "metadata": {
        "id": "XS-YsmKp3zr2",
        "colab": {
          "base_uri": "https://localhost:8080/"
        },
        "outputId": "7d0e5cf6-791e-48f3-d1ba-fc5f7c7e35e7"
      },
      "source": [
        "print('Training Score:',rforest.score(x_train,y_train))\n",
        "print('Testing Score:',rforest.score(x_test, y_test))"
      ],
      "execution_count": null,
      "outputs": [
        {
          "output_type": "stream",
          "text": [
            "Training Score: 0.9661255741219745\n",
            "Testing Score: 0.9468055810537911\n"
          ],
          "name": "stdout"
        }
      ]
    },
    {
      "cell_type": "code",
      "metadata": {
        "id": "p8q5BL8u3zr5",
        "colab": {
          "base_uri": "https://localhost:8080/"
        },
        "outputId": "a62ec3ed-977d-4472-d5d6-ac2acad3dab2"
      },
      "source": [
        "y_pred = rforest.predict(x_test)\n",
        "print(classification_report(y_test,y_pred))\n",
        "print(confusion_matrix(y_test,y_pred))"
      ],
      "execution_count": null,
      "outputs": [
        {
          "output_type": "stream",
          "text": [
            "              precision    recall  f1-score   support\n",
            "\n",
            "           1       0.95      0.93      0.94     63514\n",
            "           2       0.94      0.96      0.95     85045\n",
            "           3       0.97      0.98      0.98     16786\n",
            "           4       0.96      0.86      0.91      8959\n",
            "\n",
            "    accuracy                           0.95    174304\n",
            "   macro avg       0.96      0.93      0.94    174304\n",
            "weighted avg       0.95      0.95      0.95    174304\n",
            "\n",
            "[[58812  4550     8   144]\n",
            " [ 2483 82034   387   141]\n",
            " [    0   309 16473     4]\n",
            " [  437   737    72  7713]]\n"
          ],
          "name": "stdout"
        }
      ]
    },
    {
      "cell_type": "code",
      "metadata": {
        "id": "kD5dSZA53zr8",
        "colab": {
          "base_uri": "https://localhost:8080/"
        },
        "outputId": "f7025195-f6df-460f-fb1e-144cefd56ff6"
      },
      "source": [
        "pd.DataFrame({'columns':x.columns,'Importance':rforest.feature_importances_})"
      ],
      "execution_count": null,
      "outputs": [
        {
          "output_type": "execute_result",
          "data": {
            "text/html": [
              "<div>\n",
              "<style scoped>\n",
              "    .dataframe tbody tr th:only-of-type {\n",
              "        vertical-align: middle;\n",
              "    }\n",
              "\n",
              "    .dataframe tbody tr th {\n",
              "        vertical-align: top;\n",
              "    }\n",
              "\n",
              "    .dataframe thead th {\n",
              "        text-align: right;\n",
              "    }\n",
              "</style>\n",
              "<table border=\"1\" class=\"dataframe\">\n",
              "  <thead>\n",
              "    <tr style=\"text-align: right;\">\n",
              "      <th></th>\n",
              "      <th>columns</th>\n",
              "      <th>Importance</th>\n",
              "    </tr>\n",
              "  </thead>\n",
              "  <tbody>\n",
              "    <tr>\n",
              "      <th>0</th>\n",
              "      <td>Elevation</td>\n",
              "      <td>0.281791</td>\n",
              "    </tr>\n",
              "    <tr>\n",
              "      <th>1</th>\n",
              "      <td>Aspect</td>\n",
              "      <td>0.019296</td>\n",
              "    </tr>\n",
              "    <tr>\n",
              "      <th>2</th>\n",
              "      <td>Slope</td>\n",
              "      <td>0.011800</td>\n",
              "    </tr>\n",
              "    <tr>\n",
              "      <th>3</th>\n",
              "      <td>Horizontal_Distance_To_Hydrology</td>\n",
              "      <td>0.021301</td>\n",
              "    </tr>\n",
              "    <tr>\n",
              "      <th>4</th>\n",
              "      <td>Vertical_Distance_To_Hydrology</td>\n",
              "      <td>0.020570</td>\n",
              "    </tr>\n",
              "    <tr>\n",
              "      <th>5</th>\n",
              "      <td>Horizontal_Distance_To_Roadways</td>\n",
              "      <td>0.066244</td>\n",
              "    </tr>\n",
              "    <tr>\n",
              "      <th>6</th>\n",
              "      <td>Hillshade_9am</td>\n",
              "      <td>0.018238</td>\n",
              "    </tr>\n",
              "    <tr>\n",
              "      <th>7</th>\n",
              "      <td>Hillshade_Noon</td>\n",
              "      <td>0.016131</td>\n",
              "    </tr>\n",
              "    <tr>\n",
              "      <th>8</th>\n",
              "      <td>Hillshade_3pm</td>\n",
              "      <td>0.015084</td>\n",
              "    </tr>\n",
              "    <tr>\n",
              "      <th>9</th>\n",
              "      <td>Horizontal_Distance_To_Fire_Points</td>\n",
              "      <td>0.048492</td>\n",
              "    </tr>\n",
              "    <tr>\n",
              "      <th>10</th>\n",
              "      <td>Wilderness</td>\n",
              "      <td>0.060159</td>\n",
              "    </tr>\n",
              "    <tr>\n",
              "      <th>11</th>\n",
              "      <td>Soil</td>\n",
              "      <td>0.182386</td>\n",
              "    </tr>\n",
              "    <tr>\n",
              "      <th>12</th>\n",
              "      <td>Hydr_Dist</td>\n",
              "      <td>0.024116</td>\n",
              "    </tr>\n",
              "    <tr>\n",
              "      <th>13</th>\n",
              "      <td>Hillshades</td>\n",
              "      <td>0.013427</td>\n",
              "    </tr>\n",
              "    <tr>\n",
              "      <th>14</th>\n",
              "      <td>Fire_Road</td>\n",
              "      <td>0.065636</td>\n",
              "    </tr>\n",
              "    <tr>\n",
              "      <th>15</th>\n",
              "      <td>Avg_Horizontal</td>\n",
              "      <td>0.061975</td>\n",
              "    </tr>\n",
              "    <tr>\n",
              "      <th>16</th>\n",
              "      <td>Fire_Hydr</td>\n",
              "      <td>0.051146</td>\n",
              "    </tr>\n",
              "    <tr>\n",
              "      <th>17</th>\n",
              "      <td>Hydr_Slope</td>\n",
              "      <td>0.022208</td>\n",
              "    </tr>\n",
              "  </tbody>\n",
              "</table>\n",
              "</div>"
            ],
            "text/plain": [
              "                               columns  Importance\n",
              "0                            Elevation    0.281791\n",
              "1                               Aspect    0.019296\n",
              "2                                Slope    0.011800\n",
              "3     Horizontal_Distance_To_Hydrology    0.021301\n",
              "4       Vertical_Distance_To_Hydrology    0.020570\n",
              "5      Horizontal_Distance_To_Roadways    0.066244\n",
              "6                        Hillshade_9am    0.018238\n",
              "7                       Hillshade_Noon    0.016131\n",
              "8                        Hillshade_3pm    0.015084\n",
              "9   Horizontal_Distance_To_Fire_Points    0.048492\n",
              "10                          Wilderness    0.060159\n",
              "11                                Soil    0.182386\n",
              "12                           Hydr_Dist    0.024116\n",
              "13                          Hillshades    0.013427\n",
              "14                           Fire_Road    0.065636\n",
              "15                      Avg_Horizontal    0.061975\n",
              "16                           Fire_Hydr    0.051146\n",
              "17                          Hydr_Slope    0.022208"
            ]
          },
          "metadata": {
            "tags": []
          },
          "execution_count": 32
        }
      ]
    },
    {
      "cell_type": "markdown",
      "metadata": {
        "id": "QgiRZuTx3zr-"
      },
      "source": [
        "### KNN"
      ]
    },
    {
      "cell_type": "markdown",
      "metadata": {
        "id": "qWuQ-HH1kceq"
      },
      "source": [
        "\n",
        "*   scaling all numerical columns and saving it in a dataframe 'x_std'\n",
        "*   concatenating all the independent data into a dataframe 'x_' \n",
        "*   dividing data to x_ (independent variable) and y_ (dependent variable)\n",
        "*   splitting data into train and test in 7:3 ratio"
      ]
    },
    {
      "cell_type": "code",
      "metadata": {
        "id": "lzCDL6EH3zr_",
        "colab": {
          "base_uri": "https://localhost:8080/"
        },
        "outputId": "b08245db-c534-4ff7-9cc3-79cf9394fcd2"
      },
      "source": [
        "from sklearn.preprocessing import StandardScaler\n",
        "\n",
        "x1 = forest_a.drop(columns= ['Cover_Type','Soil','Wilderness','Vertical_Scaled'])\n",
        "y_ = forest_a['Cover_Type']\n",
        "\n",
        "x_std = StandardScaler().fit_transform(x1)\n",
        "\n",
        "x_std = pd.DataFrame(x_std, columns = x1.columns)\n",
        "\n",
        "x_ = pd.concat([x_std,forest_a[['Soil','Wilderness']]], axis = 1)\n",
        "x_.head()"
      ],
      "execution_count": null,
      "outputs": [
        {
          "output_type": "execute_result",
          "data": {
            "text/html": [
              "<div>\n",
              "<style scoped>\n",
              "    .dataframe tbody tr th:only-of-type {\n",
              "        vertical-align: middle;\n",
              "    }\n",
              "\n",
              "    .dataframe tbody tr th {\n",
              "        vertical-align: top;\n",
              "    }\n",
              "\n",
              "    .dataframe thead th {\n",
              "        text-align: right;\n",
              "    }\n",
              "</style>\n",
              "<table border=\"1\" class=\"dataframe\">\n",
              "  <thead>\n",
              "    <tr style=\"text-align: right;\">\n",
              "      <th></th>\n",
              "      <th>Elevation</th>\n",
              "      <th>Aspect</th>\n",
              "      <th>Slope</th>\n",
              "      <th>Horizontal_Distance_To_Hydrology</th>\n",
              "      <th>Vertical_Distance_To_Hydrology</th>\n",
              "      <th>Horizontal_Distance_To_Roadways</th>\n",
              "      <th>Hillshade_9am</th>\n",
              "      <th>Hillshade_Noon</th>\n",
              "      <th>Hillshade_3pm</th>\n",
              "      <th>Horizontal_Distance_To_Fire_Points</th>\n",
              "      <th>Hydr_Dist</th>\n",
              "      <th>Hillshades</th>\n",
              "      <th>Fire_Road</th>\n",
              "      <th>Avg_Horizontal</th>\n",
              "      <th>Fire_Hydr</th>\n",
              "      <th>Hydr_Slope</th>\n",
              "      <th>Soil</th>\n",
              "      <th>Wilderness</th>\n",
              "    </tr>\n",
              "  </thead>\n",
              "  <tbody>\n",
              "    <tr>\n",
              "      <th>0</th>\n",
              "      <td>-1.297805</td>\n",
              "      <td>-0.935157</td>\n",
              "      <td>-1.482820</td>\n",
              "      <td>-0.053767</td>\n",
              "      <td>-0.796273</td>\n",
              "      <td>-1.180146</td>\n",
              "      <td>0.330743</td>\n",
              "      <td>0.439143</td>\n",
              "      <td>0.142960</td>\n",
              "      <td>3.246283</td>\n",
              "      <td>-0.083233</td>\n",
              "      <td>0.530152</td>\n",
              "      <td>1.043224</td>\n",
              "      <td>1.027143</td>\n",
              "      <td>3.171097</td>\n",
              "      <td>-1.041587</td>\n",
              "      <td>29</td>\n",
              "      <td>1</td>\n",
              "    </tr>\n",
              "    <tr>\n",
              "      <th>1</th>\n",
              "      <td>-1.319235</td>\n",
              "      <td>-0.890480</td>\n",
              "      <td>-1.616363</td>\n",
              "      <td>-0.270188</td>\n",
              "      <td>-0.899197</td>\n",
              "      <td>-1.257106</td>\n",
              "      <td>0.293388</td>\n",
              "      <td>0.590899</td>\n",
              "      <td>0.221342</td>\n",
              "      <td>3.205504</td>\n",
              "      <td>-0.294777</td>\n",
              "      <td>0.645367</td>\n",
              "      <td>0.969391</td>\n",
              "      <td>0.934802</td>\n",
              "      <td>3.097132</td>\n",
              "      <td>-1.228740</td>\n",
              "      <td>29</td>\n",
              "      <td>1</td>\n",
              "    </tr>\n",
              "    <tr>\n",
              "      <th>2</th>\n",
              "      <td>-0.554907</td>\n",
              "      <td>-0.148836</td>\n",
              "      <td>-0.681563</td>\n",
              "      <td>-0.006719</td>\n",
              "      <td>0.318742</td>\n",
              "      <td>0.532212</td>\n",
              "      <td>0.816364</td>\n",
              "      <td>0.742654</td>\n",
              "      <td>-0.196691</td>\n",
              "      <td>3.126965</td>\n",
              "      <td>-0.001362</td>\n",
              "      <td>0.668410</td>\n",
              "      <td>2.109122</td>\n",
              "      <td>2.085710</td>\n",
              "      <td>3.061629</td>\n",
              "      <td>0.532279</td>\n",
              "      <td>12</td>\n",
              "      <td>1</td>\n",
              "    </tr>\n",
              "    <tr>\n",
              "      <th>3</th>\n",
              "      <td>-0.622768</td>\n",
              "      <td>-0.005869</td>\n",
              "      <td>0.520322</td>\n",
              "      <td>-0.129044</td>\n",
              "      <td>1.227908</td>\n",
              "      <td>0.474492</td>\n",
              "      <td>0.965786</td>\n",
              "      <td>0.742654</td>\n",
              "      <td>-0.536343</td>\n",
              "      <td>3.194931</td>\n",
              "      <td>-0.031466</td>\n",
              "      <td>0.461022</td>\n",
              "      <td>2.109122</td>\n",
              "      <td>2.074797</td>\n",
              "      <td>3.108966</td>\n",
              "      <td>1.959275</td>\n",
              "      <td>30</td>\n",
              "      <td>1</td>\n",
              "    </tr>\n",
              "    <tr>\n",
              "      <th>4</th>\n",
              "      <td>-1.301377</td>\n",
              "      <td>-0.988770</td>\n",
              "      <td>-1.616363</td>\n",
              "      <td>-0.547771</td>\n",
              "      <td>-0.813427</td>\n",
              "      <td>-1.256464</td>\n",
              "      <td>0.293388</td>\n",
              "      <td>0.540313</td>\n",
              "      <td>0.195215</td>\n",
              "      <td>3.165479</td>\n",
              "      <td>-0.566983</td>\n",
              "      <td>0.599281</td>\n",
              "      <td>0.947327</td>\n",
              "      <td>0.888212</td>\n",
              "      <td>3.014291</td>\n",
              "      <td>-1.084819</td>\n",
              "      <td>29</td>\n",
              "      <td>1</td>\n",
              "    </tr>\n",
              "  </tbody>\n",
              "</table>\n",
              "</div>"
            ],
            "text/plain": [
              "   Elevation    Aspect     Slope  ...  Hydr_Slope  Soil  Wilderness\n",
              "0  -1.297805 -0.935157 -1.482820  ...   -1.041587    29           1\n",
              "1  -1.319235 -0.890480 -1.616363  ...   -1.228740    29           1\n",
              "2  -0.554907 -0.148836 -0.681563  ...    0.532279    12           1\n",
              "3  -0.622768 -0.005869  0.520322  ...    1.959275    30           1\n",
              "4  -1.301377 -0.988770 -1.616363  ...   -1.084819    29           1\n",
              "\n",
              "[5 rows x 18 columns]"
            ]
          },
          "metadata": {
            "tags": []
          },
          "execution_count": 25
        }
      ]
    },
    {
      "cell_type": "code",
      "metadata": {
        "id": "WTrVhxwM3zsE"
      },
      "source": [
        "x_train_k, x_test_k, y_train_k, y_test_k = train_test_split(x_, y_, test_size = .3, random_state=25)"
      ],
      "execution_count": null,
      "outputs": []
    },
    {
      "cell_type": "code",
      "metadata": {
        "id": "ml-V2znR3zsG"
      },
      "source": [
        "from sklearn.neighbors import KNeighborsClassifier"
      ],
      "execution_count": null,
      "outputs": []
    },
    {
      "cell_type": "code",
      "metadata": {
        "id": "x6UrS0zr3zsJ"
      },
      "source": [
        "knn = KNeighborsClassifier(metric = 'cityblock', n_neighbors= 4, weights= 'distance')\n",
        "knn.fit(x_train_k,y_train_k)\n",
        "y_pred_k = knn.predict(x_test_k)"
      ],
      "execution_count": null,
      "outputs": []
    },
    {
      "cell_type": "code",
      "metadata": {
        "id": "tZo5cFFi3zsM",
        "colab": {
          "base_uri": "https://localhost:8080/"
        },
        "outputId": "39a46b34-409c-4248-95e9-bdf09bc51eed"
      },
      "source": [
        "print('Training Score:',knn.score(x_train_k,y_train_k))\n",
        "print('Testing Score:',knn.score(x_test_k,y_test_k))"
      ],
      "execution_count": null,
      "outputs": [
        {
          "output_type": "stream",
          "text": [
            "Training Score: 1.0\n",
            "Testing Score: 0.9537589498806682\n"
          ],
          "name": "stdout"
        }
      ]
    },
    {
      "cell_type": "code",
      "metadata": {
        "id": "CnClnYjl3zsP",
        "colab": {
          "base_uri": "https://localhost:8080/"
        },
        "outputId": "c54c9255-d14d-4dab-a54f-01160af8ecf2"
      },
      "source": [
        "print(classification_report(y_test_k, y_pred_k))\n",
        "print(confusion_matrix(y_test_k, y_pred_k))"
      ],
      "execution_count": null,
      "outputs": [
        {
          "output_type": "stream",
          "text": [
            "              precision    recall  f1-score   support\n",
            "\n",
            "           1       0.95      0.95      0.95     63514\n",
            "           2       0.95      0.96      0.96     85045\n",
            "           3       0.97      0.98      0.97     16786\n",
            "           4       0.93      0.92      0.92      8959\n",
            "\n",
            "    accuracy                           0.95    174304\n",
            "   macro avg       0.95      0.95      0.95    174304\n",
            "weighted avg       0.95      0.95      0.95    174304\n",
            "\n",
            "[[60038  3189    22   265]\n",
            " [ 2683 81605   428   329]\n",
            " [   15   335 16392    44]\n",
            " [  306   391    53  8209]]\n"
          ],
          "name": "stdout"
        }
      ]
    },
    {
      "cell_type": "markdown",
      "metadata": {
        "id": "k8gaQxsmd1vo"
      },
      "source": [
        "### Ensemble Techniques"
      ]
    },
    {
      "cell_type": "code",
      "metadata": {
        "id": "hDeeaSF3d1vo"
      },
      "source": [
        "#base_LR = LogisticRegression(random_state = 25)\n",
        "base_DT = DecisionTreeClassifier(criterion = \"entropy\", \n",
        "                                  random_state = 25,\n",
        "                                  max_depth=19, \n",
        "                                  min_samples_leaf=10,\n",
        "                                  min_samples_split=10)\n",
        "#base_NB = GaussianNB()\n",
        "base_RF = RandomForestClassifier(criterion = \"entropy\", \n",
        "                                  random_state = 25,\n",
        "                                  max_depth=19, \n",
        "                                  min_samples_leaf=10,\n",
        "                                  min_samples_split=10)\n",
        "base_KNN = KNeighborsClassifier(metric = 'cityblock', \n",
        "                                n_neighbors= 4, \n",
        "                                weights= 'distance')"
      ],
      "execution_count": null,
      "outputs": []
    },
    {
      "cell_type": "markdown",
      "metadata": {
        "id": "NHOjca93d1vq"
      },
      "source": [
        "### Bagging"
      ]
    },
    {
      "cell_type": "code",
      "metadata": {
        "id": "V3sR99P-d1vq"
      },
      "source": [
        "from sklearn.ensemble import BaggingClassifier"
      ],
      "execution_count": null,
      "outputs": []
    },
    {
      "cell_type": "markdown",
      "metadata": {
        "id": "SyDFF896d1vr"
      },
      "source": [
        "#### Decision Bag"
      ]
    },
    {
      "cell_type": "code",
      "metadata": {
        "id": "Xk48vO5zd1vs",
        "colab": {
          "base_uri": "https://localhost:8080/"
        },
        "outputId": "5e94246e-651a-48e6-b516-4111c8265f40"
      },
      "source": [
        "bgcl_DT = BaggingClassifier(base_estimator=base_DT,n_estimators=51,oob_score=True,random_state=25)\n",
        "bgcl_DT.fit(x_train, y_train)"
      ],
      "execution_count": null,
      "outputs": [
        {
          "output_type": "execute_result",
          "data": {
            "text/plain": [
              "BaggingClassifier(base_estimator=DecisionTreeClassifier(ccp_alpha=0.0,\n",
              "                                                        class_weight=None,\n",
              "                                                        criterion='entropy',\n",
              "                                                        max_depth=19,\n",
              "                                                        max_features=None,\n",
              "                                                        max_leaf_nodes=None,\n",
              "                                                        min_impurity_decrease=0.0,\n",
              "                                                        min_impurity_split=None,\n",
              "                                                        min_samples_leaf=10,\n",
              "                                                        min_samples_split=10,\n",
              "                                                        min_weight_fraction_leaf=0.0,\n",
              "                                                        presort='deprecated',\n",
              "                                                        random_state=25,\n",
              "                                                        splitter='best'),\n",
              "                  bootstrap=True, bootstrap_features=False, max_features=1.0,\n",
              "                  max_samples=1.0, n_estimators=51, n_jobs=None, oob_score=True,\n",
              "                  random_state=25, verbose=0, warm_start=False)"
            ]
          },
          "metadata": {
            "tags": []
          },
          "execution_count": 41
        }
      ]
    },
    {
      "cell_type": "code",
      "metadata": {
        "id": "VHpqAbZKd1vt",
        "colab": {
          "base_uri": "https://localhost:8080/"
        },
        "outputId": "c77a18a3-aa33-4fc5-a4b4-1475068e4232"
      },
      "source": [
        "print('OOB SCORE:',bgcl_DT.oob_score_)\n",
        "print('Training Score:',bgcl_DT.score(x_train,y_train))\n",
        "print('Testing Score:',bgcl_DT.score(x_test,y_test))"
      ],
      "execution_count": null,
      "outputs": [
        {
          "output_type": "stream",
          "text": [
            "OOB SCORE: 0.946189895453249\n",
            "Training Score: 0.9693662283505611\n",
            "Testing Score: 0.9495020194602534\n"
          ],
          "name": "stdout"
        }
      ]
    },
    {
      "cell_type": "code",
      "metadata": {
        "id": "21w_aW4td1vv",
        "colab": {
          "base_uri": "https://localhost:8080/"
        },
        "outputId": "6627403e-1fac-4815-c14e-4aeaddac837e"
      },
      "source": [
        "print(classification_report(y_test,bgcl_DT.predict(x_test)))\n",
        "print(confusion_matrix(y_test,bgcl_DT.predict(x_test)))"
      ],
      "execution_count": null,
      "outputs": [
        {
          "output_type": "stream",
          "text": [
            "              precision    recall  f1-score   support\n",
            "\n",
            "           1       0.95      0.93      0.94     63514\n",
            "           2       0.94      0.96      0.95     85045\n",
            "           3       0.97      0.98      0.98     16786\n",
            "           4       0.95      0.88      0.91      8959\n",
            "\n",
            "    accuracy                           0.95    174304\n",
            "   macro avg       0.96      0.94      0.95    174304\n",
            "weighted avg       0.95      0.95      0.95    174304\n",
            "\n",
            "[[59363  3967     6   178]\n",
            " [ 2696 81792   358   199]\n",
            " [    7   293 16481     5]\n",
            " [  413   611    69  7866]]\n"
          ],
          "name": "stdout"
        }
      ]
    },
    {
      "cell_type": "markdown",
      "metadata": {
        "id": "yRIfGiBUd1vz"
      },
      "source": [
        "#### Random Forest Bag"
      ]
    },
    {
      "cell_type": "code",
      "metadata": {
        "id": "Ll1VnLchd1v0",
        "colab": {
          "base_uri": "https://localhost:8080/"
        },
        "outputId": "e90c88cb-4ebb-4177-875d-4e8b74c93869"
      },
      "source": [
        "bgcl_RF = BaggingClassifier(base_estimator=base_RF,n_estimators=51,oob_score=True,random_state=25)\n",
        "bgcl_RF.fit(x_train, y_train)"
      ],
      "execution_count": null,
      "outputs": [
        {
          "output_type": "execute_result",
          "data": {
            "text/plain": [
              "BaggingClassifier(base_estimator=RandomForestClassifier(bootstrap=True,\n",
              "                                                        ccp_alpha=0.0,\n",
              "                                                        class_weight=None,\n",
              "                                                        criterion='entropy',\n",
              "                                                        max_depth=19,\n",
              "                                                        max_features='auto',\n",
              "                                                        max_leaf_nodes=None,\n",
              "                                                        max_samples=None,\n",
              "                                                        min_impurity_decrease=0.0,\n",
              "                                                        min_impurity_split=None,\n",
              "                                                        min_samples_leaf=10,\n",
              "                                                        min_samples_split=10,\n",
              "                                                        min_weight_fraction_leaf=0.0,\n",
              "                                                        n_estimators=100,\n",
              "                                                        n_jobs=None,\n",
              "                                                        oob_score=False,\n",
              "                                                        random_state=25,\n",
              "                                                        verbose=0,\n",
              "                                                        warm_start=False),\n",
              "                  bootstrap=True, bootstrap_features=False, max_features=1.0,\n",
              "                  max_samples=1.0, n_estimators=51, n_jobs=None, oob_score=True,\n",
              "                  random_state=25, verbose=0, warm_start=False)"
            ]
          },
          "metadata": {
            "tags": []
          },
          "execution_count": 32
        }
      ]
    },
    {
      "cell_type": "code",
      "metadata": {
        "id": "4QuaC_Bdd1v2",
        "colab": {
          "base_uri": "https://localhost:8080/"
        },
        "outputId": "931ebb8c-7c4f-4288-aa72-4c35611740ba"
      },
      "source": [
        "print('OOB SCORE:',bgcl_RF.oob_score_)\n",
        "print('Training Score:',bgcl_RF.score(x_train,y_train))\n",
        "print('Accuracy:',bgcl_RF.score(x_test,y_test))"
      ],
      "execution_count": null,
      "outputs": [
        {
          "output_type": "stream",
          "text": [
            "OOB SCORE: 0.9346312342024253\n",
            "Training Score: 0.951230366749609\n",
            "Accuracy: 0.9348838810354323\n"
          ],
          "name": "stdout"
        }
      ]
    },
    {
      "cell_type": "code",
      "metadata": {
        "id": "jaD9jMJbd1v4",
        "colab": {
          "base_uri": "https://localhost:8080/"
        },
        "outputId": "ca8cc136-70b5-4e15-bf1a-1f8717f818d3"
      },
      "source": [
        "print(classification_report(y_test,bgcl_RF.predict(x_test)))\n",
        "print(confusion_matrix(y_test,bgcl_RF.predict(x_test)))"
      ],
      "execution_count": null,
      "outputs": [
        {
          "output_type": "stream",
          "text": [
            "              precision    recall  f1-score   support\n",
            "\n",
            "           1       0.94      0.91      0.93     63514\n",
            "           2       0.92      0.96      0.94     85045\n",
            "           3       0.97      0.98      0.97     16786\n",
            "           4       0.96      0.82      0.88      8959\n",
            "\n",
            "    accuracy                           0.93    174304\n",
            "   macro avg       0.95      0.91      0.93    174304\n",
            "weighted avg       0.94      0.93      0.93    174304\n",
            "\n",
            "[[57850  5488     9   167]\n",
            " [ 3017 81421   477   130]\n",
            " [    1   403 16380     2]\n",
            " [  607   975    74  7303]]\n"
          ],
          "name": "stdout"
        }
      ]
    },
    {
      "cell_type": "markdown",
      "metadata": {
        "id": "J0RCkhYud1v6"
      },
      "source": [
        "#### KNN Bag"
      ]
    },
    {
      "cell_type": "code",
      "metadata": {
        "id": "clPDAqjnd1v7",
        "colab": {
          "base_uri": "https://localhost:8080/",
          "height": 195
        },
        "outputId": "2e01d1a9-9c0f-4acc-d79b-9d0544855143"
      },
      "source": [
        "bgcl_KN = BaggingClassifier(base_estimator=base_KNN,n_estimators=51,oob_score=True,random_state=25)\n",
        "bgcl_KN.fit(x_train_k, y_train_k)"
      ],
      "execution_count": null,
      "outputs": [
        {
          "output_type": "execute_result",
          "data": {
            "text/plain": [
              "BaggingClassifier(base_estimator=KNeighborsClassifier(algorithm='auto',\n",
              "                                                      leaf_size=30,\n",
              "                                                      metric='cityblock',\n",
              "                                                      metric_params=None,\n",
              "                                                      n_jobs=None,\n",
              "                                                      n_neighbors=4, p=2,\n",
              "                                                      weights='distance'),\n",
              "                  bootstrap=True, bootstrap_features=False, max_features=1.0,\n",
              "                  max_samples=1.0, n_estimators=51, n_jobs=None, oob_score=True,\n",
              "                  random_state=25, verbose=0, warm_start=False)"
            ]
          },
          "metadata": {
            "tags": []
          },
          "execution_count": 30
        }
      ]
    },
    {
      "cell_type": "code",
      "metadata": {
        "id": "HaObG5SDd1v8",
        "colab": {
          "base_uri": "https://localhost:8080/",
          "height": 70
        },
        "outputId": "c328527d-9187-4b7d-8923-0eb5dff063ed"
      },
      "source": [
        "print('OOB SCORE:',bgcl_KN.oob_score_)\n",
        "print('Training Score:',bgcl_KN.score(x_train_k,y_train_k))\n",
        "print('Testing Score:',bgcl_KN.score(x_test_k,y_test_k))"
      ],
      "execution_count": null,
      "outputs": [
        {
          "output_type": "stream",
          "text": [
            "OOB SCORE: 0.9515918054230553\n",
            "Training Score: 0.9998844379751566\n",
            "Testing Score: 0.952967229667707\n"
          ],
          "name": "stdout"
        }
      ]
    },
    {
      "cell_type": "code",
      "metadata": {
        "id": "VB85A4Xed1v-",
        "colab": {
          "base_uri": "https://localhost:8080/",
          "height": 284
        },
        "outputId": "8321613d-5991-43d1-a20b-4e5f6a45f6e0"
      },
      "source": [
        "print(classification_report(y_test_k,bgcl_KN.predict(x_test_k)))\n",
        "print(confusion_matrix(y_test_k,bgcl_KN.predict(x_test_k)))"
      ],
      "execution_count": null,
      "outputs": [
        {
          "output_type": "stream",
          "text": [
            "              precision    recall  f1-score   support\n",
            "\n",
            "           1       0.95      0.94      0.95     63514\n",
            "           2       0.95      0.96      0.96     85045\n",
            "           3       0.97      0.98      0.97     16786\n",
            "           4       0.93      0.91      0.92      8959\n",
            "\n",
            "    accuracy                           0.95    174304\n",
            "   macro avg       0.95      0.95      0.95    174304\n",
            "weighted avg       0.95      0.95      0.95    174304\n",
            "\n",
            "[[59948  3292    19   255]\n",
            " [ 2657 81609   459   320]\n",
            " [   14   354 16381    37]\n",
            " [  323   408    60  8168]]\n"
          ],
          "name": "stdout"
        }
      ]
    },
    {
      "cell_type": "markdown",
      "metadata": {
        "id": "1etprfInd1wB"
      },
      "source": [
        "### AdaBoost"
      ]
    },
    {
      "cell_type": "code",
      "metadata": {
        "id": "-x0SV4Wfd1wC"
      },
      "source": [
        "from sklearn.ensemble import AdaBoostClassifier\n",
        "\n",
        "abcl_DT = AdaBoostClassifier(base_estimator=base_DT,n_estimators=50,random_state=25)\n",
        "\n",
        "abcl_RF = AdaBoostClassifier(base_estimator=base_RF,n_estimators=50,random_state=25)"
      ],
      "execution_count": null,
      "outputs": []
    },
    {
      "cell_type": "markdown",
      "metadata": {
        "id": "SE_sfFhflSzV"
      },
      "source": [
        "#### Decision Tree"
      ]
    },
    {
      "cell_type": "code",
      "metadata": {
        "scrolled": true,
        "id": "qfhsqnWhd1wE",
        "colab": {
          "base_uri": "https://localhost:8080/"
        },
        "outputId": "e964696a-3a36-4efd-9dbe-b7d62a4c67e8"
      },
      "source": [
        "abcl_DT.fit(x_train,y_train)\n",
        "print('AdaBoost DT Training Score:',abcl_DT.score(x_train,y_train))\n",
        "print('AdaBoost DT Testing Score:',abcl_DT.score(x_test,y_test))"
      ],
      "execution_count": null,
      "outputs": [
        {
          "output_type": "stream",
          "text": [
            "AdaBoost DT Training Score: 1.0\n",
            "AdaBoost DT Testing Score: 0.9615097760234992\n"
          ],
          "name": "stdout"
        }
      ]
    },
    {
      "cell_type": "code",
      "metadata": {
        "id": "n1axRBDkd1wG",
        "colab": {
          "base_uri": "https://localhost:8080/"
        },
        "outputId": "8a85c3d3-73e6-487d-c88a-6666669197b0"
      },
      "source": [
        "print(classification_report(y_test,abcl_DT.predict(x_test)))\n",
        "print(confusion_matrix(y_test,abcl_DT.predict(x_test)))"
      ],
      "execution_count": null,
      "outputs": [
        {
          "output_type": "stream",
          "text": [
            "              precision    recall  f1-score   support\n",
            "\n",
            "           1       0.96      0.95      0.96     63514\n",
            "           2       0.96      0.97      0.96     85045\n",
            "           3       0.98      0.99      0.98     16786\n",
            "           4       0.98      0.90      0.94      8959\n",
            "\n",
            "    accuracy                           0.96    174304\n",
            "   macro avg       0.97      0.95      0.96    174304\n",
            "weighted avg       0.96      0.96      0.96    174304\n",
            "\n",
            "[[60354  3073     0    87]\n",
            " [ 2026 82648   282    89]\n",
            " [    1   231 16543    11]\n",
            " [  317   545    47  8050]]\n"
          ],
          "name": "stdout"
        }
      ]
    },
    {
      "cell_type": "markdown",
      "metadata": {
        "id": "8ctsUn4WlVkI"
      },
      "source": [
        "#### Random Forest"
      ]
    },
    {
      "cell_type": "code",
      "metadata": {
        "id": "jTkVYSPZd1wH",
        "colab": {
          "base_uri": "https://localhost:8080/"
        },
        "outputId": "159bbe23-3705-4eb2-fd42-e4de54599ea9"
      },
      "source": [
        "abcl_RF.fit(x_train,y_train)\n",
        "print('AdaBoost RF Training Score:',abcl_RF.score(x_train,y_train))\n",
        "print('AdaBoost RF Testing Score:',abcl_RF.score(x_test,y_test))"
      ],
      "execution_count": null,
      "outputs": [
        {
          "output_type": "stream",
          "text": [
            "AdaBoost RF Training Score: 0.9542398969285089\n",
            "AdaBoost RF Testing Score: 0.9191240591151092\n"
          ],
          "name": "stdout"
        }
      ]
    },
    {
      "cell_type": "code",
      "metadata": {
        "id": "mtO_gcQld1wJ",
        "colab": {
          "base_uri": "https://localhost:8080/"
        },
        "outputId": "173a2e34-89a9-4908-bfa5-a1262911af70"
      },
      "source": [
        "print(classification_report(y_test,abcl_RF.predict(x_test)))\n",
        "print(confusion_matrix(y_test,abcl_RF.predict(x_test)))"
      ],
      "execution_count": null,
      "outputs": [
        {
          "output_type": "stream",
          "text": [
            "              precision    recall  f1-score   support\n",
            "\n",
            "           1       0.91      0.90      0.90     63514\n",
            "           2       0.91      0.94      0.93     85045\n",
            "           3       0.97      0.98      0.98     16786\n",
            "           4       0.98      0.79      0.87      8959\n",
            "\n",
            "    accuracy                           0.92    174304\n",
            "   macro avg       0.94      0.90      0.92    174304\n",
            "weighted avg       0.92      0.92      0.92    174304\n",
            "\n",
            "[[56960  6485     3    66]\n",
            " [ 4835 79675   446    89]\n",
            " [    2   279 16495    10]\n",
            " [ 1117   718    47  7077]]\n"
          ],
          "name": "stdout"
        }
      ]
    },
    {
      "cell_type": "markdown",
      "metadata": {
        "id": "33fZnVR5d1wK"
      },
      "source": [
        "### Gradient Boosting"
      ]
    },
    {
      "cell_type": "code",
      "metadata": {
        "id": "Mz4GyxXfd1wL",
        "colab": {
          "base_uri": "https://localhost:8080/"
        },
        "outputId": "9c653e8c-3be1-4d37-a5d1-8970c24a2fad"
      },
      "source": [
        "from sklearn.ensemble import GradientBoostingClassifier\n",
        "\n",
        "gbcl = GradientBoostingClassifier(random_state = 25,\n",
        "                                  max_depth=19, \n",
        "                                  min_samples_leaf=10,\n",
        "                                  min_samples_split=10,\n",
        "                                  n_estimators = 50)\n",
        "gbcl.fit(x_train, y_train)"
      ],
      "execution_count": null,
      "outputs": [
        {
          "output_type": "execute_result",
          "data": {
            "text/plain": [
              "GradientBoostingClassifier(ccp_alpha=0.0, criterion='friedman_mse', init=None,\n",
              "                           learning_rate=0.1, loss='deviance', max_depth=19,\n",
              "                           max_features=None, max_leaf_nodes=None,\n",
              "                           min_impurity_decrease=0.0, min_impurity_split=None,\n",
              "                           min_samples_leaf=10, min_samples_split=10,\n",
              "                           min_weight_fraction_leaf=0.0, n_estimators=50,\n",
              "                           n_iter_no_change=None, presort='deprecated',\n",
              "                           random_state=25, subsample=1.0, tol=0.0001,\n",
              "                           validation_fraction=0.1, verbose=0,\n",
              "                           warm_start=False)"
            ]
          },
          "metadata": {
            "tags": []
          },
          "execution_count": 34
        }
      ]
    },
    {
      "cell_type": "code",
      "metadata": {
        "id": "yVm7gJbtd1wN",
        "colab": {
          "base_uri": "https://localhost:8080/"
        },
        "outputId": "fe4650f5-62d3-497e-a41a-2705d0d03dd2"
      },
      "source": [
        "print('Training Score:',gbcl.score(x_train,y_train))\n",
        "print('Testing Score:',gbcl.score(x_test,y_test))"
      ],
      "execution_count": null,
      "outputs": [
        {
          "output_type": "stream",
          "text": [
            "Training Score: 1.0\n",
            "Testing Score: 0.9759730126675235\n"
          ],
          "name": "stdout"
        }
      ]
    },
    {
      "cell_type": "code",
      "metadata": {
        "id": "GyUe-qTEd1wR",
        "colab": {
          "base_uri": "https://localhost:8080/"
        },
        "outputId": "961e1ccf-aa74-4ed0-b5ff-e80055efd87c"
      },
      "source": [
        "print(classification_report(y_test,gbcl.predict(x_test)))\n",
        "print(confusion_matrix(y_test,gbcl.predict(x_test)))"
      ],
      "execution_count": null,
      "outputs": [
        {
          "output_type": "stream",
          "text": [
            "              precision    recall  f1-score   support\n",
            "\n",
            "           1       0.98      0.97      0.97     63514\n",
            "           2       0.97      0.98      0.98     85045\n",
            "           3       0.98      0.99      0.99     16786\n",
            "           4       0.97      0.93      0.95      8959\n",
            "\n",
            "    accuracy                           0.98    174304\n",
            "   macro avg       0.98      0.97      0.97    174304\n",
            "weighted avg       0.98      0.98      0.98    174304\n",
            "\n",
            "[[61694  1707     2   111]\n",
            " [ 1207 83504   209   125]\n",
            " [    1   188 16587    10]\n",
            " [  218   368    42  8331]]\n"
          ],
          "name": "stdout"
        }
      ]
    },
    {
      "cell_type": "markdown",
      "metadata": {
        "id": "k_R521BkcHKg"
      },
      "source": [
        "## Added Features"
      ]
    },
    {
      "cell_type": "markdown",
      "metadata": {
        "id": "WAyAj4vmmrma"
      },
      "source": [
        "Constructing a dataframe with added features and removing features on which some feature engineering has been applied, so as to gauge their performance in classifying cover_types."
      ]
    },
    {
      "cell_type": "code",
      "metadata": {
        "id": "rrquG5k4cJnd",
        "colab": {
          "base_uri": "https://localhost:8080/",
          "height": 355
        },
        "outputId": "de0fb1ca-c237-42a3-b189-c4ff9ee367d7"
      },
      "source": [
        "forest_z = forest_a.drop(columns = forest_a.columns[3:10])\n",
        "forest_z = forest_z.drop(columns = ['Vertical_Scaled'])\n",
        "forest_z.info()"
      ],
      "execution_count": null,
      "outputs": [
        {
          "output_type": "stream",
          "text": [
            "<class 'pandas.core.frame.DataFrame'>\n",
            "RangeIndex: 581012 entries, 0 to 581011\n",
            "Data columns (total 12 columns):\n",
            " #   Column          Non-Null Count   Dtype   \n",
            "---  ------          --------------   -----   \n",
            " 0   Elevation       581012 non-null  int64   \n",
            " 1   Aspect          581012 non-null  int64   \n",
            " 2   Slope           581012 non-null  int64   \n",
            " 3   Cover_Type      581012 non-null  category\n",
            " 4   Wilderness      581012 non-null  category\n",
            " 5   Soil            581012 non-null  category\n",
            " 6   Hydr_Dist       581012 non-null  float64 \n",
            " 7   Hillshades      581012 non-null  float64 \n",
            " 8   Fire_Road       581012 non-null  int64   \n",
            " 9   Avg_Horizontal  581012 non-null  float64 \n",
            " 10  Fire_Hydr       581012 non-null  float64 \n",
            " 11  Hydr_Slope      581012 non-null  float64 \n",
            "dtypes: category(3), float64(5), int64(4)\n",
            "memory usage: 41.6 MB\n"
          ],
          "name": "stdout"
        }
      ]
    },
    {
      "cell_type": "markdown",
      "metadata": {
        "id": "BGI6FUBlrzKA"
      },
      "source": [
        "## Modelling on added features"
      ]
    },
    {
      "cell_type": "markdown",
      "metadata": {
        "id": "7-lfotQ_rzKC"
      },
      "source": [
        "### Decision Tree"
      ]
    },
    {
      "cell_type": "code",
      "metadata": {
        "id": "A3nao2zvrzKE"
      },
      "source": [
        "from sklearn.model_selection import train_test_split\n",
        "from sklearn.metrics import classification_report, confusion_matrix, accuracy_score\n",
        "from sklearn.tree import DecisionTreeClassifier\n",
        "import warnings\n",
        "warnings.filterwarnings(\"ignore\")"
      ],
      "execution_count": null,
      "outputs": []
    },
    {
      "cell_type": "markdown",
      "metadata": {
        "id": "udzZsgbLj3vv"
      },
      "source": [
        "Dividing data into x (independent variable) and y (dependent variable) and then splitting data to train and test in 7:3 ratio"
      ]
    },
    {
      "cell_type": "code",
      "metadata": {
        "id": "cjPBteURrzKK"
      },
      "source": [
        "x = forest_z.drop(columns = ['Cover_Type'])\n",
        "y = forest_z['Cover_Type']"
      ],
      "execution_count": null,
      "outputs": []
    },
    {
      "cell_type": "code",
      "metadata": {
        "id": "9b017KjcrzKR"
      },
      "source": [
        "x_train, x_test, y_train, y_test = train_test_split(x, y, test_size = .3, random_state=25)"
      ],
      "execution_count": null,
      "outputs": []
    },
    {
      "cell_type": "code",
      "metadata": {
        "id": "mU36FN6TrzKV",
        "colab": {
          "base_uri": "https://localhost:8080/"
        },
        "outputId": "06bb521b-a803-4f83-efa1-4c9702f649ef"
      },
      "source": [
        "dt = DecisionTreeClassifier(criterion = \"entropy\", \n",
        "                                  random_state = 25,\n",
        "                                  max_depth=19, \n",
        "                                  min_samples_leaf=10,\n",
        "                                  min_samples_split=10)\n",
        "dt.fit(x_train, y_train)"
      ],
      "execution_count": null,
      "outputs": [
        {
          "output_type": "execute_result",
          "data": {
            "text/plain": [
              "DecisionTreeClassifier(ccp_alpha=0.0, class_weight=None, criterion='entropy',\n",
              "                       max_depth=19, max_features=None, max_leaf_nodes=None,\n",
              "                       min_impurity_decrease=0.0, min_impurity_split=None,\n",
              "                       min_samples_leaf=10, min_samples_split=10,\n",
              "                       min_weight_fraction_leaf=0.0, presort='deprecated',\n",
              "                       random_state=25, splitter='best')"
            ]
          },
          "metadata": {
            "tags": []
          },
          "execution_count": 28
        }
      ]
    },
    {
      "cell_type": "code",
      "metadata": {
        "id": "RevTqHgtrzKa",
        "colab": {
          "base_uri": "https://localhost:8080/"
        },
        "outputId": "483ff475-39fc-4af7-c3bc-883a6267030e"
      },
      "source": [
        "print('Training Score:',dt.score(x_train, y_train))\n",
        "print('Testing Score:',dt.score(x_test, y_test))"
      ],
      "execution_count": null,
      "outputs": [
        {
          "output_type": "stream",
          "text": [
            "Training Score: 0.9327625716730431\n",
            "Testing Score: 0.9060492013952635\n"
          ],
          "name": "stdout"
        }
      ]
    },
    {
      "cell_type": "code",
      "metadata": {
        "id": "AJXXArIgrzKe",
        "colab": {
          "base_uri": "https://localhost:8080/"
        },
        "outputId": "34270612-5185-400c-a64c-c23502e1c1c0"
      },
      "source": [
        "y_pred = dt.predict(x_test)\n",
        "print(classification_report(y_test,y_pred))\n",
        "print(confusion_matrix(y_test,y_pred))"
      ],
      "execution_count": null,
      "outputs": [
        {
          "output_type": "stream",
          "text": [
            "              precision    recall  f1-score   support\n",
            "\n",
            "           1       0.89      0.89      0.89     63514\n",
            "           2       0.91      0.91      0.91     85045\n",
            "           3       0.95      0.96      0.95     16786\n",
            "           4       0.89      0.85      0.87      8959\n",
            "\n",
            "    accuracy                           0.91    174304\n",
            "   macro avg       0.91      0.90      0.91    174304\n",
            "weighted avg       0.91      0.91      0.91    174304\n",
            "\n",
            "[[56617  6486     9   402]\n",
            " [ 6087 77625   788   545]\n",
            " [   21   652 16087    26]\n",
            " [  555   721    84  7599]]\n"
          ],
          "name": "stdout"
        }
      ]
    },
    {
      "cell_type": "code",
      "metadata": {
        "id": "1eZlAZEorzKi",
        "colab": {
          "base_uri": "https://localhost:8080/"
        },
        "outputId": "399fe5dd-a55f-44c9-df62-7e25f9f1ae17"
      },
      "source": [
        "pd.DataFrame({'columns':x.columns,'Importance':dt.feature_importances_})"
      ],
      "execution_count": null,
      "outputs": [
        {
          "output_type": "execute_result",
          "data": {
            "text/html": [
              "<div>\n",
              "<style scoped>\n",
              "    .dataframe tbody tr th:only-of-type {\n",
              "        vertical-align: middle;\n",
              "    }\n",
              "\n",
              "    .dataframe tbody tr th {\n",
              "        vertical-align: top;\n",
              "    }\n",
              "\n",
              "    .dataframe thead th {\n",
              "        text-align: right;\n",
              "    }\n",
              "</style>\n",
              "<table border=\"1\" class=\"dataframe\">\n",
              "  <thead>\n",
              "    <tr style=\"text-align: right;\">\n",
              "      <th></th>\n",
              "      <th>columns</th>\n",
              "      <th>Importance</th>\n",
              "    </tr>\n",
              "  </thead>\n",
              "  <tbody>\n",
              "    <tr>\n",
              "      <th>0</th>\n",
              "      <td>Elevation</td>\n",
              "      <td>0.433052</td>\n",
              "    </tr>\n",
              "    <tr>\n",
              "      <th>1</th>\n",
              "      <td>Aspect</td>\n",
              "      <td>0.038102</td>\n",
              "    </tr>\n",
              "    <tr>\n",
              "      <th>2</th>\n",
              "      <td>Slope</td>\n",
              "      <td>0.012361</td>\n",
              "    </tr>\n",
              "    <tr>\n",
              "      <th>3</th>\n",
              "      <td>Wilderness</td>\n",
              "      <td>0.045450</td>\n",
              "    </tr>\n",
              "    <tr>\n",
              "      <th>4</th>\n",
              "      <td>Soil</td>\n",
              "      <td>0.119650</td>\n",
              "    </tr>\n",
              "    <tr>\n",
              "      <th>5</th>\n",
              "      <td>Hydr_Dist</td>\n",
              "      <td>0.048117</td>\n",
              "    </tr>\n",
              "    <tr>\n",
              "      <th>6</th>\n",
              "      <td>Hillshades</td>\n",
              "      <td>0.025277</td>\n",
              "    </tr>\n",
              "    <tr>\n",
              "      <th>7</th>\n",
              "      <td>Fire_Road</td>\n",
              "      <td>0.087597</td>\n",
              "    </tr>\n",
              "    <tr>\n",
              "      <th>8</th>\n",
              "      <td>Avg_Horizontal</td>\n",
              "      <td>0.059384</td>\n",
              "    </tr>\n",
              "    <tr>\n",
              "      <th>9</th>\n",
              "      <td>Fire_Hydr</td>\n",
              "      <td>0.098327</td>\n",
              "    </tr>\n",
              "    <tr>\n",
              "      <th>10</th>\n",
              "      <td>Hydr_Slope</td>\n",
              "      <td>0.032683</td>\n",
              "    </tr>\n",
              "  </tbody>\n",
              "</table>\n",
              "</div>"
            ],
            "text/plain": [
              "           columns  Importance\n",
              "0        Elevation    0.433052\n",
              "1           Aspect    0.038102\n",
              "2            Slope    0.012361\n",
              "3       Wilderness    0.045450\n",
              "4             Soil    0.119650\n",
              "5        Hydr_Dist    0.048117\n",
              "6       Hillshades    0.025277\n",
              "7        Fire_Road    0.087597\n",
              "8   Avg_Horizontal    0.059384\n",
              "9        Fire_Hydr    0.098327\n",
              "10      Hydr_Slope    0.032683"
            ]
          },
          "metadata": {
            "tags": []
          },
          "execution_count": 31
        }
      ]
    },
    {
      "cell_type": "markdown",
      "metadata": {
        "id": "WYoJZyPCrzKm"
      },
      "source": [
        "### Random Forest"
      ]
    },
    {
      "cell_type": "code",
      "metadata": {
        "id": "MuKniPrUrzKn"
      },
      "source": [
        "from sklearn.ensemble import RandomForestClassifier"
      ],
      "execution_count": null,
      "outputs": []
    },
    {
      "cell_type": "code",
      "metadata": {
        "id": "IofJ_5OdrzKt",
        "colab": {
          "base_uri": "https://localhost:8080/"
        },
        "outputId": "47261ae5-e8a5-4f88-8f28-50957b8e29af"
      },
      "source": [
        "rforest = RandomForestClassifier(criterion = \"entropy\", \n",
        "                                  random_state = 25,\n",
        "                                  max_depth=19, \n",
        "                                  min_samples_leaf=10,\n",
        "                                  min_samples_split=10)\n",
        "rforest.fit(x_train, y_train)"
      ],
      "execution_count": null,
      "outputs": [
        {
          "output_type": "execute_result",
          "data": {
            "text/plain": [
              "RandomForestClassifier(bootstrap=True, ccp_alpha=0.0, class_weight=None,\n",
              "                       criterion='entropy', max_depth=19, max_features='auto',\n",
              "                       max_leaf_nodes=None, max_samples=None,\n",
              "                       min_impurity_decrease=0.0, min_impurity_split=None,\n",
              "                       min_samples_leaf=10, min_samples_split=10,\n",
              "                       min_weight_fraction_leaf=0.0, n_estimators=100,\n",
              "                       n_jobs=None, oob_score=False, random_state=25, verbose=0,\n",
              "                       warm_start=False)"
            ]
          },
          "metadata": {
            "tags": []
          },
          "execution_count": 33
        }
      ]
    },
    {
      "cell_type": "code",
      "metadata": {
        "id": "WfDVW7OprzKx",
        "colab": {
          "base_uri": "https://localhost:8080/"
        },
        "outputId": "d2ba977b-9709-44fa-98b2-112e299bf5d6"
      },
      "source": [
        "print('Training Score:',rforest.score(x_train, y_train))\n",
        "print('Testing Score:',rforest.score(x_test, y_test))"
      ],
      "execution_count": null,
      "outputs": [
        {
          "output_type": "stream",
          "text": [
            "Training Score: 0.9567798027085772\n",
            "Testing Score: 0.936662382963099\n"
          ],
          "name": "stdout"
        }
      ]
    },
    {
      "cell_type": "code",
      "metadata": {
        "id": "Hy5QP3MwrzK1",
        "colab": {
          "base_uri": "https://localhost:8080/"
        },
        "outputId": "773fa2f3-14a1-4579-b528-a261aa4c8e9a"
      },
      "source": [
        "y_pred = rforest.predict(x_test)\n",
        "print(classification_report(y_test,y_pred))\n",
        "print(confusion_matrix(y_test,y_pred))"
      ],
      "execution_count": null,
      "outputs": [
        {
          "output_type": "stream",
          "text": [
            "              precision    recall  f1-score   support\n",
            "\n",
            "           1       0.94      0.91      0.93     63514\n",
            "           2       0.93      0.96      0.94     85045\n",
            "           3       0.97      0.98      0.97     16786\n",
            "           4       0.96      0.84      0.90      8959\n",
            "\n",
            "    accuracy                           0.94    174304\n",
            "   macro avg       0.95      0.92      0.93    174304\n",
            "weighted avg       0.94      0.94      0.94    174304\n",
            "\n",
            "[[57974  5365     7   168]\n",
            " [ 3128 81334   449   134]\n",
            " [    0   356 16424     6]\n",
            " [  510   841    76  7532]]\n"
          ],
          "name": "stdout"
        }
      ]
    },
    {
      "cell_type": "code",
      "metadata": {
        "id": "qMf5w3fkrzK5",
        "colab": {
          "base_uri": "https://localhost:8080/"
        },
        "outputId": "bb4c2ed2-c817-4964-e182-2437af2ff5ff"
      },
      "source": [
        "pd.DataFrame({'columns':x.columns,'Importance':rforest.feature_importances_})"
      ],
      "execution_count": null,
      "outputs": [
        {
          "output_type": "execute_result",
          "data": {
            "text/html": [
              "<div>\n",
              "<style scoped>\n",
              "    .dataframe tbody tr th:only-of-type {\n",
              "        vertical-align: middle;\n",
              "    }\n",
              "\n",
              "    .dataframe tbody tr th {\n",
              "        vertical-align: top;\n",
              "    }\n",
              "\n",
              "    .dataframe thead th {\n",
              "        text-align: right;\n",
              "    }\n",
              "</style>\n",
              "<table border=\"1\" class=\"dataframe\">\n",
              "  <thead>\n",
              "    <tr style=\"text-align: right;\">\n",
              "      <th></th>\n",
              "      <th>columns</th>\n",
              "      <th>Importance</th>\n",
              "    </tr>\n",
              "  </thead>\n",
              "  <tbody>\n",
              "    <tr>\n",
              "      <th>0</th>\n",
              "      <td>Elevation</td>\n",
              "      <td>0.297067</td>\n",
              "    </tr>\n",
              "    <tr>\n",
              "      <th>1</th>\n",
              "      <td>Aspect</td>\n",
              "      <td>0.037686</td>\n",
              "    </tr>\n",
              "    <tr>\n",
              "      <th>2</th>\n",
              "      <td>Slope</td>\n",
              "      <td>0.017801</td>\n",
              "    </tr>\n",
              "    <tr>\n",
              "      <th>3</th>\n",
              "      <td>Wilderness</td>\n",
              "      <td>0.096586</td>\n",
              "    </tr>\n",
              "    <tr>\n",
              "      <th>4</th>\n",
              "      <td>Soil</td>\n",
              "      <td>0.194250</td>\n",
              "    </tr>\n",
              "    <tr>\n",
              "      <th>5</th>\n",
              "      <td>Hydr_Dist</td>\n",
              "      <td>0.046365</td>\n",
              "    </tr>\n",
              "    <tr>\n",
              "      <th>6</th>\n",
              "      <td>Hillshades</td>\n",
              "      <td>0.027096</td>\n",
              "    </tr>\n",
              "    <tr>\n",
              "      <th>7</th>\n",
              "      <td>Fire_Road</td>\n",
              "      <td>0.081096</td>\n",
              "    </tr>\n",
              "    <tr>\n",
              "      <th>8</th>\n",
              "      <td>Avg_Horizontal</td>\n",
              "      <td>0.082020</td>\n",
              "    </tr>\n",
              "    <tr>\n",
              "      <th>9</th>\n",
              "      <td>Fire_Hydr</td>\n",
              "      <td>0.085018</td>\n",
              "    </tr>\n",
              "    <tr>\n",
              "      <th>10</th>\n",
              "      <td>Hydr_Slope</td>\n",
              "      <td>0.035015</td>\n",
              "    </tr>\n",
              "  </tbody>\n",
              "</table>\n",
              "</div>"
            ],
            "text/plain": [
              "           columns  Importance\n",
              "0        Elevation    0.297067\n",
              "1           Aspect    0.037686\n",
              "2            Slope    0.017801\n",
              "3       Wilderness    0.096586\n",
              "4             Soil    0.194250\n",
              "5        Hydr_Dist    0.046365\n",
              "6       Hillshades    0.027096\n",
              "7        Fire_Road    0.081096\n",
              "8   Avg_Horizontal    0.082020\n",
              "9        Fire_Hydr    0.085018\n",
              "10      Hydr_Slope    0.035015"
            ]
          },
          "metadata": {
            "tags": []
          },
          "execution_count": 36
        }
      ]
    },
    {
      "cell_type": "markdown",
      "metadata": {
        "id": "Ja9wwJonrzK9"
      },
      "source": [
        "### KNN"
      ]
    },
    {
      "cell_type": "markdown",
      "metadata": {
        "id": "fsXZv-qVkZgC"
      },
      "source": [
        "\n",
        "*   scaling all numerical columns and saving it in a dataframe 'x_std'\n",
        "*   concatenating all the independent data into a dataframe 'x_' \n",
        "*   dividing data to x_ (independent variable) and y_ (dependent variable)\n",
        "*   splitting data into train and test in 7:3 ratio"
      ]
    },
    {
      "cell_type": "code",
      "metadata": {
        "id": "yF3n6znwrzK-",
        "colab": {
          "base_uri": "https://localhost:8080/"
        },
        "outputId": "f23b2a90-18fd-424c-c62d-2416d955ff35"
      },
      "source": [
        "from sklearn.preprocessing import StandardScaler\n",
        "\n",
        "x1 = forest_z.drop(columns= ['Cover_Type','Soil','Wilderness'])\n",
        "y_ = forest_z['Cover_Type']\n",
        "\n",
        "x_std = StandardScaler().fit_transform(x1)\n",
        "\n",
        "x_std = pd.DataFrame(x_std, columns = x1.columns)\n",
        "\n",
        "x_ = pd.concat([x_std,forest_z[['Soil','Wilderness']]], axis = 1)\n",
        "x_.head()"
      ],
      "execution_count": null,
      "outputs": [
        {
          "output_type": "execute_result",
          "data": {
            "text/html": [
              "<div>\n",
              "<style scoped>\n",
              "    .dataframe tbody tr th:only-of-type {\n",
              "        vertical-align: middle;\n",
              "    }\n",
              "\n",
              "    .dataframe tbody tr th {\n",
              "        vertical-align: top;\n",
              "    }\n",
              "\n",
              "    .dataframe thead th {\n",
              "        text-align: right;\n",
              "    }\n",
              "</style>\n",
              "<table border=\"1\" class=\"dataframe\">\n",
              "  <thead>\n",
              "    <tr style=\"text-align: right;\">\n",
              "      <th></th>\n",
              "      <th>Elevation</th>\n",
              "      <th>Aspect</th>\n",
              "      <th>Slope</th>\n",
              "      <th>Hydr_Dist</th>\n",
              "      <th>Hillshades</th>\n",
              "      <th>Fire_Road</th>\n",
              "      <th>Avg_Horizontal</th>\n",
              "      <th>Fire_Hydr</th>\n",
              "      <th>Hydr_Slope</th>\n",
              "      <th>Soil</th>\n",
              "      <th>Wilderness</th>\n",
              "    </tr>\n",
              "  </thead>\n",
              "  <tbody>\n",
              "    <tr>\n",
              "      <th>0</th>\n",
              "      <td>-1.297805</td>\n",
              "      <td>-0.935157</td>\n",
              "      <td>-1.482820</td>\n",
              "      <td>-0.083233</td>\n",
              "      <td>0.530152</td>\n",
              "      <td>1.043224</td>\n",
              "      <td>1.027143</td>\n",
              "      <td>3.171097</td>\n",
              "      <td>-1.041587</td>\n",
              "      <td>29</td>\n",
              "      <td>1</td>\n",
              "    </tr>\n",
              "    <tr>\n",
              "      <th>1</th>\n",
              "      <td>-1.319235</td>\n",
              "      <td>-0.890480</td>\n",
              "      <td>-1.616363</td>\n",
              "      <td>-0.294777</td>\n",
              "      <td>0.645367</td>\n",
              "      <td>0.969391</td>\n",
              "      <td>0.934802</td>\n",
              "      <td>3.097132</td>\n",
              "      <td>-1.228740</td>\n",
              "      <td>29</td>\n",
              "      <td>1</td>\n",
              "    </tr>\n",
              "    <tr>\n",
              "      <th>2</th>\n",
              "      <td>-0.554907</td>\n",
              "      <td>-0.148836</td>\n",
              "      <td>-0.681563</td>\n",
              "      <td>-0.001362</td>\n",
              "      <td>0.668410</td>\n",
              "      <td>2.109122</td>\n",
              "      <td>2.085710</td>\n",
              "      <td>3.061629</td>\n",
              "      <td>0.532279</td>\n",
              "      <td>12</td>\n",
              "      <td>1</td>\n",
              "    </tr>\n",
              "    <tr>\n",
              "      <th>3</th>\n",
              "      <td>-0.622768</td>\n",
              "      <td>-0.005869</td>\n",
              "      <td>0.520322</td>\n",
              "      <td>-0.031466</td>\n",
              "      <td>0.461022</td>\n",
              "      <td>2.109122</td>\n",
              "      <td>2.074797</td>\n",
              "      <td>3.108966</td>\n",
              "      <td>1.959275</td>\n",
              "      <td>30</td>\n",
              "      <td>1</td>\n",
              "    </tr>\n",
              "    <tr>\n",
              "      <th>4</th>\n",
              "      <td>-1.301377</td>\n",
              "      <td>-0.988770</td>\n",
              "      <td>-1.616363</td>\n",
              "      <td>-0.566983</td>\n",
              "      <td>0.599281</td>\n",
              "      <td>0.947327</td>\n",
              "      <td>0.888212</td>\n",
              "      <td>3.014291</td>\n",
              "      <td>-1.084819</td>\n",
              "      <td>29</td>\n",
              "      <td>1</td>\n",
              "    </tr>\n",
              "  </tbody>\n",
              "</table>\n",
              "</div>"
            ],
            "text/plain": [
              "   Elevation    Aspect     Slope  ...  Hydr_Slope  Soil  Wilderness\n",
              "0  -1.297805 -0.935157 -1.482820  ...   -1.041587    29           1\n",
              "1  -1.319235 -0.890480 -1.616363  ...   -1.228740    29           1\n",
              "2  -0.554907 -0.148836 -0.681563  ...    0.532279    12           1\n",
              "3  -0.622768 -0.005869  0.520322  ...    1.959275    30           1\n",
              "4  -1.301377 -0.988770 -1.616363  ...   -1.084819    29           1\n",
              "\n",
              "[5 rows x 11 columns]"
            ]
          },
          "metadata": {
            "tags": []
          },
          "execution_count": 26
        }
      ]
    },
    {
      "cell_type": "code",
      "metadata": {
        "id": "5UeHELVgrzLB"
      },
      "source": [
        "x_train_k, x_test_k, y_train_k, y_test_k = train_test_split(x_, y_, test_size = .3, random_state=25)"
      ],
      "execution_count": null,
      "outputs": []
    },
    {
      "cell_type": "code",
      "metadata": {
        "id": "AdVpBmXsrzLE"
      },
      "source": [
        "from sklearn.neighbors import KNeighborsClassifier"
      ],
      "execution_count": null,
      "outputs": []
    },
    {
      "cell_type": "code",
      "metadata": {
        "id": "d-s4XJzXrzLI"
      },
      "source": [
        "knn = KNeighborsClassifier(metric = 'cityblock', n_neighbors= 4, weights= 'distance')\n",
        "knn.fit(x_train_k,y_train_k)\n",
        "y_pred_k = knn.predict(x_test_k)"
      ],
      "execution_count": null,
      "outputs": []
    },
    {
      "cell_type": "code",
      "metadata": {
        "id": "0r-BayuDrzLK",
        "colab": {
          "base_uri": "https://localhost:8080/"
        },
        "outputId": "c3ace062-997f-41ad-c261-45731746beca"
      },
      "source": [
        "print('Training Score:',knn.score(x_train_k,y_train_k))\n",
        "print('Testing Score:',knn.score(x_test_k,y_test_k))"
      ],
      "execution_count": null,
      "outputs": [
        {
          "output_type": "stream",
          "text": [
            "Training Score: 1.0\n",
            "Testing Score: 0.954447402239765\n"
          ],
          "name": "stdout"
        }
      ]
    },
    {
      "cell_type": "code",
      "metadata": {
        "id": "Iy9HW202rzLN",
        "colab": {
          "base_uri": "https://localhost:8080/"
        },
        "outputId": "72b15d4e-f9e8-4e80-f3ec-ca238436e4a9"
      },
      "source": [
        "print(classification_report(y_test_k, y_pred_k))\n",
        "print(confusion_matrix(y_test_k, y_pred_k))"
      ],
      "execution_count": null,
      "outputs": [
        {
          "output_type": "stream",
          "text": [
            "              precision    recall  f1-score   support\n",
            "\n",
            "           1       0.95      0.95      0.95     63514\n",
            "           2       0.95      0.96      0.96     85045\n",
            "           3       0.97      0.98      0.98     16786\n",
            "           4       0.93      0.92      0.92      8959\n",
            "\n",
            "    accuracy                           0.95    174304\n",
            "   macro avg       0.95      0.95      0.95    174304\n",
            "weighted avg       0.95      0.95      0.95    174304\n",
            "\n",
            "[[60029  3201    19   265]\n",
            " [ 2622 81705   403   315]\n",
            " [   14   309 16428    35]\n",
            " [  315   392    50  8202]]\n"
          ],
          "name": "stdout"
        }
      ]
    },
    {
      "cell_type": "markdown",
      "metadata": {
        "id": "7ZrmMaWjrzLP"
      },
      "source": [
        "### Ensemble techniques"
      ]
    },
    {
      "cell_type": "code",
      "metadata": {
        "id": "WFlXbuW_rzLP"
      },
      "source": [
        "#base_LR = LogisticRegression(random_state = 25)\n",
        "base_DT = DecisionTreeClassifier(criterion = \"entropy\", \n",
        "                                  random_state = 25,\n",
        "                                  max_depth=19, \n",
        "                                  min_samples_leaf=10,\n",
        "                                  min_samples_split=10)\n",
        "#base_NB = GaussianNB()\n",
        "base_RF = RandomForestClassifier(criterion = \"entropy\", \n",
        "                                  random_state = 25,\n",
        "                                  max_depth=19, \n",
        "                                  min_samples_leaf=10,\n",
        "                                  min_samples_split=10)\n",
        "base_KNN = KNeighborsClassifier(metric = 'cityblock', \n",
        "                                n_neighbors= 4, \n",
        "                                weights= 'distance')"
      ],
      "execution_count": null,
      "outputs": []
    },
    {
      "cell_type": "markdown",
      "metadata": {
        "id": "wb4WkT-irzLR"
      },
      "source": [
        "### Bagging"
      ]
    },
    {
      "cell_type": "code",
      "metadata": {
        "id": "Q9TsqKN0rzLR"
      },
      "source": [
        "from sklearn.ensemble import BaggingClassifier"
      ],
      "execution_count": null,
      "outputs": []
    },
    {
      "cell_type": "markdown",
      "metadata": {
        "id": "ztXMfsYZrzLT"
      },
      "source": [
        "#### Decision Bag"
      ]
    },
    {
      "cell_type": "code",
      "metadata": {
        "id": "IeutsjaSrzLU",
        "colab": {
          "base_uri": "https://localhost:8080/"
        },
        "outputId": "00c5bb66-b39b-4ec2-9c58-7916a5e024cb"
      },
      "source": [
        "bgcl_DT = BaggingClassifier(base_estimator=base_DT,n_estimators=51,oob_score=True,random_state=25)\n",
        "bgcl_DT.fit(x_train, y_train)"
      ],
      "execution_count": null,
      "outputs": [
        {
          "output_type": "execute_result",
          "data": {
            "text/plain": [
              "BaggingClassifier(base_estimator=DecisionTreeClassifier(ccp_alpha=0.0,\n",
              "                                                        class_weight=None,\n",
              "                                                        criterion='entropy',\n",
              "                                                        max_depth=19,\n",
              "                                                        max_features=None,\n",
              "                                                        max_leaf_nodes=None,\n",
              "                                                        min_impurity_decrease=0.0,\n",
              "                                                        min_impurity_split=None,\n",
              "                                                        min_samples_leaf=10,\n",
              "                                                        min_samples_split=10,\n",
              "                                                        min_weight_fraction_leaf=0.0,\n",
              "                                                        presort='deprecated',\n",
              "                                                        random_state=25,\n",
              "                                                        splitter='best'),\n",
              "                  bootstrap=True, bootstrap_features=False, max_features=1.0,\n",
              "                  max_samples=1.0, n_estimators=51, n_jobs=None, oob_score=True,\n",
              "                  random_state=25, verbose=0, warm_start=False)"
            ]
          },
          "metadata": {
            "tags": []
          },
          "execution_count": 46
        }
      ]
    },
    {
      "cell_type": "code",
      "metadata": {
        "id": "5Fx0dU6RrzLX",
        "colab": {
          "base_uri": "https://localhost:8080/"
        },
        "outputId": "3aa295f8-9527-43f0-daec-e866310e49c1"
      },
      "source": [
        "print('OOB SCORE:',bgcl_DT.oob_score_)\n",
        "print('Training Score:',bgcl_DT.score(x_train,y_train))\n",
        "print('Testing Score:',bgcl_DT.score(x_test,y_test))"
      ],
      "execution_count": null,
      "outputs": [
        {
          "output_type": "stream",
          "text": [
            "OOB SCORE: 0.9415231566627654\n",
            "Training Score: 0.9656780786215171\n",
            "Testing Score: 0.9440116118964568\n"
          ],
          "name": "stdout"
        }
      ]
    },
    {
      "cell_type": "code",
      "metadata": {
        "id": "H-9Fi9PNrzLY",
        "colab": {
          "base_uri": "https://localhost:8080/"
        },
        "outputId": "a6b99ec4-2ed0-4472-c2cb-b888a85a8805"
      },
      "source": [
        "print(classification_report(y_test,bgcl_DT.predict(x_test)))\n",
        "print(confusion_matrix(y_test,bgcl_DT.predict(x_test)))"
      ],
      "execution_count": null,
      "outputs": [
        {
          "output_type": "stream",
          "text": [
            "              precision    recall  f1-score   support\n",
            "\n",
            "           1       0.94      0.93      0.94     63514\n",
            "           2       0.94      0.96      0.95     85045\n",
            "           3       0.97      0.98      0.97     16786\n",
            "           4       0.95      0.87      0.91      8959\n",
            "\n",
            "    accuracy                           0.94    174304\n",
            "   macro avg       0.95      0.93      0.94    174304\n",
            "weighted avg       0.94      0.94      0.94    174304\n",
            "\n",
            "[[58956  4352     6   200]\n",
            " [ 3083 81337   436   189]\n",
            " [    8   339 16429    10]\n",
            " [  417   646    73  7823]]\n"
          ],
          "name": "stdout"
        }
      ]
    },
    {
      "cell_type": "markdown",
      "metadata": {
        "id": "n2G0fLwCrzLa"
      },
      "source": [
        "#### Random Forest Bag"
      ]
    },
    {
      "cell_type": "code",
      "metadata": {
        "id": "qzPxDQ2zrzLb",
        "colab": {
          "base_uri": "https://localhost:8080/"
        },
        "outputId": "9df394a9-15ea-4282-8c6b-2a59f6f099a9"
      },
      "source": [
        "bgcl_RF = BaggingClassifier(base_estimator=base_RF,n_estimators=51,oob_score=True,random_state=25)\n",
        "bgcl_RF.fit(x_train, y_train)"
      ],
      "execution_count": null,
      "outputs": [
        {
          "output_type": "execute_result",
          "data": {
            "text/plain": [
              "BaggingClassifier(base_estimator=RandomForestClassifier(bootstrap=True,\n",
              "                                                        ccp_alpha=0.0,\n",
              "                                                        class_weight=None,\n",
              "                                                        criterion='entropy',\n",
              "                                                        max_depth=19,\n",
              "                                                        max_features='auto',\n",
              "                                                        max_leaf_nodes=None,\n",
              "                                                        max_samples=None,\n",
              "                                                        min_impurity_decrease=0.0,\n",
              "                                                        min_impurity_split=None,\n",
              "                                                        min_samples_leaf=10,\n",
              "                                                        min_samples_split=10,\n",
              "                                                        min_weight_fraction_leaf=0.0,\n",
              "                                                        n_estimators=100,\n",
              "                                                        n_jobs=None,\n",
              "                                                        oob_score=False,\n",
              "                                                        random_state=25,\n",
              "                                                        verbose=0,\n",
              "                                                        warm_start=False),\n",
              "                  bootstrap=True, bootstrap_features=False, max_features=1.0,\n",
              "                  max_samples=1.0, n_estimators=51, n_jobs=None, oob_score=True,\n",
              "                  random_state=25, verbose=0, warm_start=False)"
            ]
          },
          "metadata": {
            "tags": []
          },
          "execution_count": 49
        }
      ]
    },
    {
      "cell_type": "code",
      "metadata": {
        "id": "3mhAxYQjrzLc",
        "colab": {
          "base_uri": "https://localhost:8080/"
        },
        "outputId": "a4bc47a2-fd9a-4b05-8a1d-30dcc07165d3"
      },
      "source": [
        "print('OOB SCORE:',bgcl_RF.oob_score_)\n",
        "print('Training Score:',bgcl_RF.score(x_train,y_train))\n",
        "print('Accuracy:',bgcl_RF.score(x_test,y_test))"
      ],
      "execution_count": null,
      "outputs": [
        {
          "output_type": "stream",
          "text": [
            "OOB SCORE: 0.9262689693834397\n",
            "Training Score: 0.9430057928538411\n",
            "Accuracy: 0.9266167156232789\n"
          ],
          "name": "stdout"
        }
      ]
    },
    {
      "cell_type": "code",
      "metadata": {
        "id": "Hw4Hk0d9rzLe",
        "colab": {
          "base_uri": "https://localhost:8080/"
        },
        "outputId": "e0b29d29-6eeb-45bc-be2a-54a5c7e5718b"
      },
      "source": [
        "print(classification_report(y_test,bgcl_RF.predict(x_test)))\n",
        "print(confusion_matrix(y_test,bgcl_RF.predict(x_test)))"
      ],
      "execution_count": null,
      "outputs": [
        {
          "output_type": "stream",
          "text": [
            "              precision    recall  f1-score   support\n",
            "\n",
            "           1       0.93      0.90      0.92     63514\n",
            "           2       0.91      0.95      0.93     85045\n",
            "           3       0.96      0.97      0.97     16786\n",
            "           4       0.95      0.80      0.87      8959\n",
            "\n",
            "    accuracy                           0.93    174304\n",
            "   macro avg       0.94      0.91      0.92    174304\n",
            "weighted avg       0.93      0.93      0.93    174304\n",
            "\n",
            "[[57205  6090    10   209]\n",
            " [ 3520 80816   580   129]\n",
            " [    0   452 16331     3]\n",
            " [  646  1080    72  7161]]\n"
          ],
          "name": "stdout"
        }
      ]
    },
    {
      "cell_type": "markdown",
      "metadata": {
        "id": "MTOeFEhArzLg"
      },
      "source": [
        "#### KNN Bag"
      ]
    },
    {
      "cell_type": "code",
      "metadata": {
        "id": "dyrpc9e7rzLg",
        "colab": {
          "base_uri": "https://localhost:8080/"
        },
        "outputId": "f3ce48b3-c6d8-48e9-e2af-b5d8e3f13d9e"
      },
      "source": [
        "bgcl_KN = BaggingClassifier(base_estimator=base_KNN,n_estimators=51,oob_score=True,random_state=25)\n",
        "bgcl_KN.fit(x_train_k, y_train_k)"
      ],
      "execution_count": null,
      "outputs": [
        {
          "output_type": "execute_result",
          "data": {
            "text/plain": [
              "BaggingClassifier(base_estimator=KNeighborsClassifier(algorithm='auto',\n",
              "                                                      leaf_size=30,\n",
              "                                                      metric='cityblock',\n",
              "                                                      metric_params=None,\n",
              "                                                      n_jobs=None,\n",
              "                                                      n_neighbors=4, p=2,\n",
              "                                                      weights='distance'),\n",
              "                  bootstrap=True, bootstrap_features=False, max_features=1.0,\n",
              "                  max_samples=1.0, n_estimators=51, n_jobs=None, oob_score=True,\n",
              "                  random_state=25, verbose=0, warm_start=False)"
            ]
          },
          "metadata": {
            "tags": []
          },
          "execution_count": 31
        }
      ]
    },
    {
      "cell_type": "code",
      "metadata": {
        "id": "kJcjYoQErzLj",
        "colab": {
          "base_uri": "https://localhost:8080/"
        },
        "outputId": "3f4ac871-6c30-4735-a0eb-6aec9613f4a1"
      },
      "source": [
        "print('OOB SCORE:',bgcl_KN.oob_score_)\n",
        "print('Training Score:',bgcl_KN.score(x_train_k,y_train_k))\n",
        "print('Testing Score:',bgcl_KN.score(x_test_k,y_test_k))"
      ],
      "execution_count": null,
      "outputs": [
        {
          "output_type": "stream",
          "text": [
            "OOB SCORE: 0.9528506938639023\n",
            "Training Score: 0.9998942730411008\n",
            "Testing Score: 0.954338397282908\n"
          ],
          "name": "stdout"
        }
      ]
    },
    {
      "cell_type": "code",
      "metadata": {
        "id": "Uzv63FMyrzLl",
        "colab": {
          "base_uri": "https://localhost:8080/"
        },
        "outputId": "fea6c785-dcdf-4b4b-cdb6-be16d251a18c"
      },
      "source": [
        "print(classification_report(y_test_k,bgcl_KN.predict(x_test_k)))\n",
        "print(confusion_matrix(y_test_k,bgcl_KN.predict(x_test_k)))"
      ],
      "execution_count": null,
      "outputs": [
        {
          "output_type": "stream",
          "text": [
            "              precision    recall  f1-score   support\n",
            "\n",
            "           1       0.95      0.94      0.95     63514\n",
            "           2       0.95      0.96      0.96     85045\n",
            "           3       0.97      0.98      0.97     16786\n",
            "           4       0.93      0.91      0.92      8959\n",
            "\n",
            "    accuracy                           0.95    174304\n",
            "   macro avg       0.95      0.95      0.95    174304\n",
            "weighted avg       0.95      0.95      0.95    174304\n",
            "\n",
            "[[59969  3264    15   266]\n",
            " [ 2546 81767   417   315]\n",
            " [   12   301 16438    35]\n",
            " [  324   400    64  8171]]\n"
          ],
          "name": "stdout"
        }
      ]
    },
    {
      "cell_type": "markdown",
      "metadata": {
        "id": "IZNNGvZ3rzLn"
      },
      "source": [
        "### AdaBoost"
      ]
    },
    {
      "cell_type": "code",
      "metadata": {
        "id": "Fj3KnEfHrzLn"
      },
      "source": [
        "from sklearn.ensemble import AdaBoostClassifier\n",
        "\n",
        "abcl_DT = AdaBoostClassifier(base_estimator=base_DT,n_estimators=50,random_state=25)\n",
        "\n",
        "abcl_RF = AdaBoostClassifier(base_estimator=base_RF,n_estimators=50,random_state=25)"
      ],
      "execution_count": null,
      "outputs": []
    },
    {
      "cell_type": "markdown",
      "metadata": {
        "id": "KBEyLIo3m_ts"
      },
      "source": [
        "#### Decision Tree"
      ]
    },
    {
      "cell_type": "code",
      "metadata": {
        "scrolled": true,
        "id": "DwUdn0J6rzLp",
        "colab": {
          "base_uri": "https://localhost:8080/"
        },
        "outputId": "61bcd662-1a93-4dd4-a356-abe285785d00"
      },
      "source": [
        "abcl_DT.fit(x_train,y_train)\n",
        "print('AdaBoost DT Training Score:',abcl_DT.score(x_train,y_train))\n",
        "print('AdaBoost DT Testing Score:',abcl_DT.score(x_test,y_test))"
      ],
      "execution_count": null,
      "outputs": [
        {
          "output_type": "stream",
          "text": [
            "AdaBoost DT Training Score: 1.0\n",
            "AdaBoost DT Testing Score: 0.958279787038737\n"
          ],
          "name": "stdout"
        }
      ]
    },
    {
      "cell_type": "code",
      "metadata": {
        "id": "7BWv2pZQrzLq",
        "colab": {
          "base_uri": "https://localhost:8080/"
        },
        "outputId": "400d9751-0d45-4f0a-d7d4-23dd48392621"
      },
      "source": [
        "print(classification_report(y_test,abcl_DT.predict(x_test)))\n",
        "print(confusion_matrix(y_test,abcl_DT.predict(x_test)))"
      ],
      "execution_count": null,
      "outputs": [
        {
          "output_type": "stream",
          "text": [
            "              precision    recall  f1-score   support\n",
            "\n",
            "           1       0.96      0.95      0.95     63514\n",
            "           2       0.95      0.97      0.96     85045\n",
            "           3       0.98      0.98      0.98     16786\n",
            "           4       0.98      0.89      0.93      8959\n",
            "\n",
            "    accuracy                           0.96    174304\n",
            "   macro avg       0.97      0.95      0.96    174304\n",
            "weighted avg       0.96      0.96      0.96    174304\n",
            "\n",
            "[[60167  3252     1    94]\n",
            " [ 2239 82370   339    97]\n",
            " [    3   259 16514    10]\n",
            " [  362   569    47  7981]]\n"
          ],
          "name": "stdout"
        }
      ]
    },
    {
      "cell_type": "markdown",
      "metadata": {
        "id": "v7vTY72Xm8q7"
      },
      "source": [
        "#### Random Forest"
      ]
    },
    {
      "cell_type": "code",
      "metadata": {
        "id": "JBNfXf3CrzLs",
        "colab": {
          "base_uri": "https://localhost:8080/"
        },
        "outputId": "6479f90a-021f-4ad0-e7c0-a63bb132eb11"
      },
      "source": [
        "abcl_RF.fit(x_train,y_train)\n",
        "print('AdaBoost RF Training Score:',abcl_RF.score(x_train,y_train))\n",
        "print('AdaBoost RF Testing Score:',abcl_RF.score(x_test,y_test))"
      ],
      "execution_count": null,
      "outputs": [
        {
          "output_type": "stream",
          "text": [
            "AdaBoost RF Training Score: 0.931744642347827\n",
            "AdaBoost RF Testing Score: 0.9010636588948044\n"
          ],
          "name": "stdout"
        }
      ]
    },
    {
      "cell_type": "code",
      "metadata": {
        "id": "wd108FyxrzLt",
        "colab": {
          "base_uri": "https://localhost:8080/"
        },
        "outputId": "49599dc8-3627-4291-a730-c4090de47546"
      },
      "source": [
        "print(classification_report(y_test,abcl_RF.predict(x_test)))\n",
        "print(confusion_matrix(y_test,abcl_RF.predict(x_test)))"
      ],
      "execution_count": null,
      "outputs": [
        {
          "output_type": "stream",
          "text": [
            "              precision    recall  f1-score   support\n",
            "\n",
            "           1       0.90      0.86      0.88     63514\n",
            "           2       0.89      0.93      0.91     85045\n",
            "           3       0.96      0.98      0.97     16786\n",
            "           4       0.97      0.74      0.84      8959\n",
            "\n",
            "    accuracy                           0.90    174304\n",
            "   macro avg       0.93      0.88      0.90    174304\n",
            "weighted avg       0.90      0.90      0.90    174304\n",
            "\n",
            "[[54478  8944     3    89]\n",
            " [ 4825 79501   616   103]\n",
            " [    1   298 16475    12]\n",
            " [ 1402   908    44  6605]]\n"
          ],
          "name": "stdout"
        }
      ]
    },
    {
      "cell_type": "markdown",
      "metadata": {
        "id": "8dGOKlHrrzLw"
      },
      "source": [
        "### Gradient Boosting"
      ]
    },
    {
      "cell_type": "code",
      "metadata": {
        "id": "-oi3VNfvrzLw",
        "colab": {
          "base_uri": "https://localhost:8080/"
        },
        "outputId": "de703e5b-c49f-453e-c0e9-c096a4f813c6"
      },
      "source": [
        "from sklearn.ensemble import GradientBoostingClassifier\n",
        "\n",
        "gbcl = GradientBoostingClassifier(random_state = 25,\n",
        "                                  max_depth=19, \n",
        "                                  min_samples_leaf=10,\n",
        "                                  min_samples_split=10,\n",
        "                                  n_estimators = 50)\n",
        "gbcl.fit(x_train, y_train)"
      ],
      "execution_count": null,
      "outputs": [
        {
          "output_type": "execute_result",
          "data": {
            "text/plain": [
              "GradientBoostingClassifier(ccp_alpha=0.0, criterion='friedman_mse', init=None,\n",
              "                           learning_rate=0.1, loss='deviance', max_depth=19,\n",
              "                           max_features=None, max_leaf_nodes=None,\n",
              "                           min_impurity_decrease=0.0, min_impurity_split=None,\n",
              "                           min_samples_leaf=10, min_samples_split=10,\n",
              "                           min_weight_fraction_leaf=0.0, n_estimators=50,\n",
              "                           n_iter_no_change=None, presort='deprecated',\n",
              "                           random_state=25, subsample=1.0, tol=0.0001,\n",
              "                           validation_fraction=0.1, verbose=0,\n",
              "                           warm_start=False)"
            ]
          },
          "metadata": {
            "tags": []
          },
          "execution_count": 38
        }
      ]
    },
    {
      "cell_type": "code",
      "metadata": {
        "id": "JfXsJqdTrzLy",
        "colab": {
          "base_uri": "https://localhost:8080/"
        },
        "outputId": "4809ede3-ef76-4459-8b56-0953537bfbcb"
      },
      "source": [
        "print('Training Score:',gbcl.score(x_train,y_train))\n",
        "print('Testing Score:',gbcl.score(x_test,y_test))"
      ],
      "execution_count": null,
      "outputs": [
        {
          "output_type": "stream",
          "text": [
            "Training Score: 1.0\n",
            "Testing Score: 0.9723701119882504\n"
          ],
          "name": "stdout"
        }
      ]
    },
    {
      "cell_type": "code",
      "metadata": {
        "id": "WKvtFn0lrzLz",
        "colab": {
          "base_uri": "https://localhost:8080/"
        },
        "outputId": "9f765ecb-41ee-479f-c3fa-ed02cb81dc8b"
      },
      "source": [
        "print(classification_report(y_test,gbcl.predict(x_test)))\n",
        "print(confusion_matrix(y_test,gbcl.predict(x_test)))"
      ],
      "execution_count": null,
      "outputs": [
        {
          "output_type": "stream",
          "text": [
            "              precision    recall  f1-score   support\n",
            "\n",
            "           1       0.97      0.97      0.97     63514\n",
            "           2       0.97      0.98      0.97     85045\n",
            "           3       0.98      0.99      0.99     16786\n",
            "           4       0.97      0.93      0.95      8959\n",
            "\n",
            "    accuracy                           0.97    174304\n",
            "   macro avg       0.97      0.96      0.97    174304\n",
            "weighted avg       0.97      0.97      0.97    174304\n",
            "\n",
            "[[61384  1992     5   133]\n",
            " [ 1435 83235   235   140]\n",
            " [    4   193 16581     8]\n",
            " [  260   372    39  8288]]\n"
          ],
          "name": "stdout"
        }
      ]
    },
    {
      "cell_type": "markdown",
      "metadata": {
        "id": "mThdOqYoLXYc"
      },
      "source": [
        "## Transformations nd Outliers"
      ]
    },
    {
      "cell_type": "markdown",
      "metadata": {
        "id": "ELLmBAMDPcE_"
      },
      "source": [
        "\n",
        "\n",
        "*   Making three new dataframes forest_sqrt, forest_log, forest_cos\n",
        "*   Storing the square root transformation of all numerical columns in forest_sqrt\n",
        "*   Storing the log transformation of all numerical columns in forest_log\n",
        "*   Storing the cos transformation of all numerical columns in forest_cos\n",
        "\n"
      ]
    },
    {
      "cell_type": "code",
      "metadata": {
        "id": "19q2vY9LLXYq",
        "colab": {
          "base_uri": "https://localhost:8080/"
        },
        "outputId": "6bc24e89-ef30-4dc3-d07a-2e56228a1736"
      },
      "source": [
        "forest_sqrt = pd.DataFrame()\n",
        "forest_log = pd.DataFrame()\n",
        "forest_cos = pd.DataFrame()\n",
        "for i in quant_col:\n",
        "  forest_sqrt[i] = np.sqrt(forest_a[i])\n",
        "  forest_log[i] = np.log(forest_a[i]+1)\n",
        "  forest_cos[i] = np.cos(forest_a[i])"
      ],
      "execution_count": null,
      "outputs": [
        {
          "output_type": "stream",
          "text": [
            "/usr/local/lib/python3.6/dist-packages/pandas/core/series.py:679: RuntimeWarning: invalid value encountered in sqrt\n",
            "  result = getattr(ufunc, method)(*inputs, **kwargs)\n",
            "/usr/local/lib/python3.6/dist-packages/pandas/core/series.py:679: RuntimeWarning: divide by zero encountered in log\n",
            "  result = getattr(ufunc, method)(*inputs, **kwargs)\n",
            "/usr/local/lib/python3.6/dist-packages/pandas/core/series.py:679: RuntimeWarning: invalid value encountered in log\n",
            "  result = getattr(ufunc, method)(*inputs, **kwargs)\n"
          ],
          "name": "stderr"
        }
      ]
    },
    {
      "cell_type": "markdown",
      "metadata": {
        "id": "KeJRXMJ_QDap"
      },
      "source": [
        "Calculating the number of outliers in each numerical columns of original data after feature engineering"
      ]
    },
    {
      "cell_type": "code",
      "metadata": {
        "id": "oZQ8y1vSLXY0"
      },
      "source": [
        "outliers = []\n",
        "for i in quant_col:\n",
        "    q1 = forest_a[i].quantile(0.25)\n",
        "    q3 = forest_a[i].quantile(0.75)\n",
        "    IQR = q3- q1\n",
        "    outlier = forest_a[i][(forest_a[i] < (q1 - IQR*1.5)) | (forest_a[i] > (q3 + 1.5*IQR))].count()\n",
        "    outliers.append(outlier)"
      ],
      "execution_count": null,
      "outputs": []
    },
    {
      "cell_type": "markdown",
      "metadata": {
        "id": "V5tHSEWiQSKS"
      },
      "source": [
        "Calculating the number of outliers in each numerical columns of square root transformed data"
      ]
    },
    {
      "cell_type": "code",
      "metadata": {
        "id": "Sk_fb8ZOLXY7"
      },
      "source": [
        "outliers_sqrt = []\n",
        "for i in quant_col:\n",
        "    q1 = forest_sqrt[i].quantile(0.25)\n",
        "    q3 = forest_sqrt[i].quantile(0.75)\n",
        "    IQR = q3- q1\n",
        "    outlier_sqrt = forest_sqrt[i][(forest_sqrt[i] < (q1 - IQR*1.5)) | (forest_sqrt[i] > (q3 + 1.5*IQR))].count()\n",
        "    outliers_sqrt.append(outlier_sqrt)"
      ],
      "execution_count": null,
      "outputs": []
    },
    {
      "cell_type": "markdown",
      "metadata": {
        "id": "DDmS772VQYBd"
      },
      "source": [
        "Calculating the number of outliers in each numerical columns of log transformed data"
      ]
    },
    {
      "cell_type": "code",
      "metadata": {
        "id": "Eq9qTBRXLXY_"
      },
      "source": [
        "outliers_log = []\n",
        "for i in quant_col:\n",
        "    q1 = forest_log[i].quantile(0.25)\n",
        "    q3 = forest_log[i].quantile(0.75)\n",
        "    IQR = q3- q1\n",
        "    outlier_log = forest_log[i][(forest_log[i] < (q1 - IQR*1.5)) | (forest_log[i] > (q3 + 1.5*IQR))].count()\n",
        "    outliers_log.append(outlier_log)"
      ],
      "execution_count": null,
      "outputs": []
    },
    {
      "cell_type": "markdown",
      "metadata": {
        "id": "aqnT7Rl_QoGe"
      },
      "source": [
        "Calculating the number of outliers in each numerical columns of cos transformed data"
      ]
    },
    {
      "cell_type": "code",
      "metadata": {
        "id": "HYwWjqv_LXZC"
      },
      "source": [
        "outliers_cos = []\n",
        "for i in quant_col:\n",
        "    q1 = forest_cos[i].quantile(0.25)\n",
        "    q3 = forest_cos[i].quantile(0.75)\n",
        "    IQR = q3- q1\n",
        "    outlier_cos = forest_cos[i][(forest_cos[i] < (q1 - IQR*1.5)) | (forest_cos[i] > (q3 + 1.5*IQR))].count()\n",
        "    outliers_cos.append(outlier_cos)"
      ],
      "execution_count": null,
      "outputs": []
    },
    {
      "cell_type": "markdown",
      "metadata": {
        "id": "qmegosw5QuSy"
      },
      "source": [
        "Constructing a new dataframe and listing the number of outliers after each transformation to their respective columns"
      ]
    },
    {
      "cell_type": "code",
      "metadata": {
        "id": "0CFFgqA5LXZE",
        "colab": {
          "base_uri": "https://localhost:8080/"
        },
        "outputId": "190d99c4-c779-46fe-d1ae-d4383b6a1975"
      },
      "source": [
        "outliers = pd.DataFrame({'columns': quant_col, 'outlier':outliers, \n",
        "                          'sqrt_outlier': outliers_sqrt, \n",
        "                          'log_outlier': outliers_log,\n",
        "                          'cos_outlier':outliers_cos})\n",
        "outliers"
      ],
      "execution_count": null,
      "outputs": [
        {
          "output_type": "execute_result",
          "data": {
            "text/html": [
              "<div>\n",
              "<style scoped>\n",
              "    .dataframe tbody tr th:only-of-type {\n",
              "        vertical-align: middle;\n",
              "    }\n",
              "\n",
              "    .dataframe tbody tr th {\n",
              "        vertical-align: top;\n",
              "    }\n",
              "\n",
              "    .dataframe thead th {\n",
              "        text-align: right;\n",
              "    }\n",
              "</style>\n",
              "<table border=\"1\" class=\"dataframe\">\n",
              "  <thead>\n",
              "    <tr style=\"text-align: right;\">\n",
              "      <th></th>\n",
              "      <th>columns</th>\n",
              "      <th>outlier</th>\n",
              "      <th>sqrt_outlier</th>\n",
              "      <th>log_outlier</th>\n",
              "      <th>cos_outlier</th>\n",
              "    </tr>\n",
              "  </thead>\n",
              "  <tbody>\n",
              "    <tr>\n",
              "      <th>0</th>\n",
              "      <td>Elevation</td>\n",
              "      <td>15569</td>\n",
              "      <td>19308</td>\n",
              "      <td>22889</td>\n",
              "      <td>0</td>\n",
              "    </tr>\n",
              "    <tr>\n",
              "      <th>1</th>\n",
              "      <td>Aspect</td>\n",
              "      <td>0</td>\n",
              "      <td>0</td>\n",
              "      <td>14762</td>\n",
              "      <td>0</td>\n",
              "    </tr>\n",
              "    <tr>\n",
              "      <th>2</th>\n",
              "      <td>Slope</td>\n",
              "      <td>15316</td>\n",
              "      <td>7331</td>\n",
              "      <td>12186</td>\n",
              "      <td>0</td>\n",
              "    </tr>\n",
              "    <tr>\n",
              "      <th>3</th>\n",
              "      <td>Horizontal_Distance_To_Hydrology</td>\n",
              "      <td>14557</td>\n",
              "      <td>1262</td>\n",
              "      <td>24603</td>\n",
              "      <td>0</td>\n",
              "    </tr>\n",
              "    <tr>\n",
              "      <th>4</th>\n",
              "      <td>Vertical_Distance_To_Hydrology</td>\n",
              "      <td>31463</td>\n",
              "      <td>4380</td>\n",
              "      <td>4858</td>\n",
              "      <td>0</td>\n",
              "    </tr>\n",
              "    <tr>\n",
              "      <th>5</th>\n",
              "      <td>Horizontal_Distance_To_Roadways</td>\n",
              "      <td>669</td>\n",
              "      <td>0</td>\n",
              "      <td>10940</td>\n",
              "      <td>0</td>\n",
              "    </tr>\n",
              "    <tr>\n",
              "      <th>6</th>\n",
              "      <td>Hillshade_9am</td>\n",
              "      <td>17433</td>\n",
              "      <td>21984</td>\n",
              "      <td>26073</td>\n",
              "      <td>0</td>\n",
              "    </tr>\n",
              "    <tr>\n",
              "      <th>7</th>\n",
              "      <td>Hillshade_Noon</td>\n",
              "      <td>15672</td>\n",
              "      <td>18866</td>\n",
              "      <td>21368</td>\n",
              "      <td>0</td>\n",
              "    </tr>\n",
              "    <tr>\n",
              "      <th>8</th>\n",
              "      <td>Hillshade_3pm</td>\n",
              "      <td>7832</td>\n",
              "      <td>14563</td>\n",
              "      <td>21476</td>\n",
              "      <td>0</td>\n",
              "    </tr>\n",
              "    <tr>\n",
              "      <th>9</th>\n",
              "      <td>Horizontal_Distance_To_Fire_Points</td>\n",
              "      <td>31157</td>\n",
              "      <td>8120</td>\n",
              "      <td>11907</td>\n",
              "      <td>0</td>\n",
              "    </tr>\n",
              "    <tr>\n",
              "      <th>10</th>\n",
              "      <td>Hydr_Slope</td>\n",
              "      <td>11266</td>\n",
              "      <td>275</td>\n",
              "      <td>47465</td>\n",
              "      <td>0</td>\n",
              "    </tr>\n",
              "    <tr>\n",
              "      <th>11</th>\n",
              "      <td>Fire_Hydr</td>\n",
              "      <td>28673</td>\n",
              "      <td>8893</td>\n",
              "      <td>9506</td>\n",
              "      <td>0</td>\n",
              "    </tr>\n",
              "    <tr>\n",
              "      <th>12</th>\n",
              "      <td>Avg_Horizontal</td>\n",
              "      <td>9480</td>\n",
              "      <td>714</td>\n",
              "      <td>6820</td>\n",
              "      <td>0</td>\n",
              "    </tr>\n",
              "    <tr>\n",
              "      <th>13</th>\n",
              "      <td>Fire_Road</td>\n",
              "      <td>9508</td>\n",
              "      <td>81</td>\n",
              "      <td>7370</td>\n",
              "      <td>0</td>\n",
              "    </tr>\n",
              "    <tr>\n",
              "      <th>14</th>\n",
              "      <td>Hillshades</td>\n",
              "      <td>18939</td>\n",
              "      <td>21571</td>\n",
              "      <td>23888</td>\n",
              "      <td>0</td>\n",
              "    </tr>\n",
              "    <tr>\n",
              "      <th>15</th>\n",
              "      <td>Hydr_Dist</td>\n",
              "      <td>13795</td>\n",
              "      <td>1052</td>\n",
              "      <td>24603</td>\n",
              "      <td>0</td>\n",
              "    </tr>\n",
              "    <tr>\n",
              "      <th>16</th>\n",
              "      <td>Vertical_Scaled</td>\n",
              "      <td>31463</td>\n",
              "      <td>24756</td>\n",
              "      <td>17250</td>\n",
              "      <td>0</td>\n",
              "    </tr>\n",
              "  </tbody>\n",
              "</table>\n",
              "</div>"
            ],
            "text/plain": [
              "                               columns  outlier  ...  log_outlier  cos_outlier\n",
              "0                            Elevation    15569  ...        22889            0\n",
              "1                               Aspect        0  ...        14762            0\n",
              "2                                Slope    15316  ...        12186            0\n",
              "3     Horizontal_Distance_To_Hydrology    14557  ...        24603            0\n",
              "4       Vertical_Distance_To_Hydrology    31463  ...         4858            0\n",
              "5      Horizontal_Distance_To_Roadways      669  ...        10940            0\n",
              "6                        Hillshade_9am    17433  ...        26073            0\n",
              "7                       Hillshade_Noon    15672  ...        21368            0\n",
              "8                        Hillshade_3pm     7832  ...        21476            0\n",
              "9   Horizontal_Distance_To_Fire_Points    31157  ...        11907            0\n",
              "10                          Hydr_Slope    11266  ...        47465            0\n",
              "11                           Fire_Hydr    28673  ...         9506            0\n",
              "12                      Avg_Horizontal     9480  ...         6820            0\n",
              "13                           Fire_Road     9508  ...         7370            0\n",
              "14                          Hillshades    18939  ...        23888            0\n",
              "15                           Hydr_Dist    13795  ...        24603            0\n",
              "16                     Vertical_Scaled    31463  ...        17250            0\n",
              "\n",
              "[17 rows x 5 columns]"
            ]
          },
          "metadata": {
            "tags": []
          },
          "execution_count": 26
        }
      ]
    },
    {
      "cell_type": "markdown",
      "metadata": {
        "id": "yjXXFg3GRU3N"
      },
      "source": [
        "*   Will be taking Elevation, Aspect and all Hillshade columns original whereas the degree columns (slope & hydr_slope) to be cos transformed, vertical_scaled log transformed and others square root transformed; so as to have least outliers in each column.\n",
        "*   We won't be dropping any outliers because they contain major data of least distributed cover_types.\n",
        "\n"
      ]
    },
    {
      "cell_type": "markdown",
      "metadata": {
        "id": "3vFaVuJyl30s"
      },
      "source": [
        "## Transformed Data"
      ]
    },
    {
      "cell_type": "code",
      "metadata": {
        "id": "9ay1s7fal31C"
      },
      "source": [
        "forest_b = pd.DataFrame()\n",
        "forest_b['Elevation'] = forest_a['Elevation']\n",
        "forest_b['Aspect'] = forest_a['Aspect']\n",
        "forest_b['Slope'] = forest_cos['Slope']\n",
        "forest_b['Horizontal_Distance_To_Hydrology'] = forest_sqrt['Horizontal_Distance_To_Hydrology']\n",
        "forest_b['Vertical_Scaled'] = forest_log['Vertical_Scaled']\n",
        "forest_b['Horizontal_Distance_To_Roadways'] = forest_sqrt['Horizontal_Distance_To_Roadways']\n",
        "forest_b['Hillshade_9am'] = forest_a['Hillshade_9am']\n",
        "forest_b['Hillshade_Noon'] = forest_a['Hillshade_Noon']\n",
        "forest_b['Hillshade_3pm'] = forest_a['Hillshade_3pm']\n",
        "forest_b['Horizontal_Distance_To_Fire_Points'] = forest_sqrt['Horizontal_Distance_To_Fire_Points']\n",
        "forest_b['Hydr_Slope'] = forest_cos['Hydr_Slope']\n",
        "forest_b['Avg_Horizontal'] = forest_sqrt['Avg_Horizontal']\n",
        "forest_b['Fire_Road'] = forest_sqrt['Fire_Road']\n",
        "forest_b['Hillshades'] = forest_a['Hillshades']\n",
        "forest_b['Hydr_Dist'] = forest_sqrt['Hydr_Dist']\n",
        "forest_b['Fire_Hydr'] = forest_sqrt['Fire_Hydr']\n",
        "forest_b['Wilderness'] = forest_a['Wilderness'].astype('category')\n",
        "forest_b['Soil'] = forest_a['Soil'].astype('category')\n",
        "forest_b['Cover_Type'] = forest_a['Cover_Type'].astype('category')"
      ],
      "execution_count": null,
      "outputs": []
    },
    {
      "cell_type": "code",
      "metadata": {
        "id": "BOR58tA3l31N",
        "colab": {
          "base_uri": "https://localhost:8080/",
          "height": 479
        },
        "outputId": "7d8aa2cd-6d5e-4bf7-d82a-1f1c0cead70f"
      },
      "source": [
        "forest_b.info()"
      ],
      "execution_count": null,
      "outputs": [
        {
          "output_type": "stream",
          "text": [
            "<class 'pandas.core.frame.DataFrame'>\n",
            "RangeIndex: 581012 entries, 0 to 581011\n",
            "Data columns (total 19 columns):\n",
            " #   Column                              Non-Null Count   Dtype   \n",
            "---  ------                              --------------   -----   \n",
            " 0   Elevation                           581012 non-null  int64   \n",
            " 1   Aspect                              581012 non-null  int64   \n",
            " 2   Slope                               581012 non-null  float64 \n",
            " 3   Horizontal_Distance_To_Hydrology    581012 non-null  float64 \n",
            " 4   Vertical_Scaled                     581012 non-null  float64 \n",
            " 5   Horizontal_Distance_To_Roadways     581012 non-null  float64 \n",
            " 6   Hillshade_9am                       581012 non-null  int64   \n",
            " 7   Hillshade_Noon                      581012 non-null  int64   \n",
            " 8   Hillshade_3pm                       581012 non-null  int64   \n",
            " 9   Horizontal_Distance_To_Fire_Points  581012 non-null  float64 \n",
            " 10  Hydr_Slope                          581012 non-null  float64 \n",
            " 11  Avg_Horizontal                      581012 non-null  float64 \n",
            " 12  Fire_Road                           581012 non-null  float64 \n",
            " 13  Hillshades                          581012 non-null  float64 \n",
            " 14  Hydr_Dist                           581012 non-null  float64 \n",
            " 15  Fire_Hydr                           581012 non-null  float64 \n",
            " 16  Wilderness                          581012 non-null  category\n",
            " 17  Soil                                581012 non-null  category\n",
            " 18  Cover_Type                          581012 non-null  category\n",
            "dtypes: category(3), float64(11), int64(5)\n",
            "memory usage: 72.6 MB\n"
          ],
          "name": "stdout"
        }
      ]
    },
    {
      "cell_type": "markdown",
      "metadata": {
        "id": "ZM9V8OKal31T"
      },
      "source": [
        "## Modelling after Transforming data"
      ]
    },
    {
      "cell_type": "markdown",
      "metadata": {
        "id": "GKBnJvmDl31U"
      },
      "source": [
        "### Decision Tree"
      ]
    },
    {
      "cell_type": "code",
      "metadata": {
        "id": "Wl4pNRtEl31V"
      },
      "source": [
        "from sklearn.model_selection import train_test_split\n",
        "from sklearn.metrics import classification_report, confusion_matrix, accuracy_score\n",
        "from sklearn.tree import DecisionTreeClassifier\n",
        "import warnings\n",
        "warnings.filterwarnings(\"ignore\")"
      ],
      "execution_count": null,
      "outputs": []
    },
    {
      "cell_type": "markdown",
      "metadata": {
        "id": "ENX2ax9UjtFP"
      },
      "source": [
        "Dividing data into x (independent variable) and y (dependent variable) and then splitting data to train and test in 7:3 ratio"
      ]
    },
    {
      "cell_type": "code",
      "metadata": {
        "id": "CZEkgOGMl31a"
      },
      "source": [
        "x = forest_b.drop(columns = ['Cover_Type'])\n",
        "y = forest_b['Cover_Type']"
      ],
      "execution_count": null,
      "outputs": []
    },
    {
      "cell_type": "code",
      "metadata": {
        "id": "K7TnvJnwl31e"
      },
      "source": [
        "x_train, x_test, y_train, y_test = train_test_split(x, y, test_size = .3, random_state=25)"
      ],
      "execution_count": null,
      "outputs": []
    },
    {
      "cell_type": "code",
      "metadata": {
        "id": "_EFxG-DRl31i",
        "colab": {
          "base_uri": "https://localhost:8080/",
          "height": 124
        },
        "outputId": "ce20e136-0894-41d5-a6a1-6bb8a8b7e643"
      },
      "source": [
        "dt = DecisionTreeClassifier(criterion = \"entropy\", \n",
        "                                  random_state = 25,\n",
        "                                  max_depth=19, \n",
        "                                  min_samples_leaf=10,\n",
        "                                  min_samples_split=10)\n",
        "dt.fit(x_train, y_train)"
      ],
      "execution_count": null,
      "outputs": [
        {
          "output_type": "execute_result",
          "data": {
            "text/plain": [
              "DecisionTreeClassifier(ccp_alpha=0.0, class_weight=None, criterion='entropy',\n",
              "                       max_depth=19, max_features=None, max_leaf_nodes=None,\n",
              "                       min_impurity_decrease=0.0, min_impurity_split=None,\n",
              "                       min_samples_leaf=10, min_samples_split=10,\n",
              "                       min_weight_fraction_leaf=0.0, presort='deprecated',\n",
              "                       random_state=25, splitter='best')"
            ]
          },
          "metadata": {
            "tags": []
          },
          "execution_count": 32
        }
      ]
    },
    {
      "cell_type": "code",
      "metadata": {
        "id": "ZFeGubCvl31l",
        "colab": {
          "base_uri": "https://localhost:8080/",
          "height": 52
        },
        "outputId": "14bfb4f1-7a05-44b6-a41c-7f7487558ba3"
      },
      "source": [
        "print('Training Score:',dt.score(x_train, y_train))\n",
        "print('Testing Score:',dt.score(x_test, y_test))"
      ],
      "execution_count": null,
      "outputs": [
        {
          "output_type": "stream",
          "text": [
            "Training Score: 0.9404044179116221\n",
            "Testing Score: 0.9161465026620158\n"
          ],
          "name": "stdout"
        }
      ]
    },
    {
      "cell_type": "code",
      "metadata": {
        "id": "-kPIvvN4l31p",
        "colab": {
          "base_uri": "https://localhost:8080/",
          "height": 284
        },
        "outputId": "2941c2ac-8e25-46cd-aac6-de2a09e8cf18"
      },
      "source": [
        "y_pred = dt.predict(x_test)\n",
        "print(classification_report(y_test,y_pred))\n",
        "print(confusion_matrix(y_test,y_pred))"
      ],
      "execution_count": null,
      "outputs": [
        {
          "output_type": "stream",
          "text": [
            "              precision    recall  f1-score   support\n",
            "\n",
            "           1       0.91      0.90      0.90     63514\n",
            "           2       0.92      0.93      0.92     85045\n",
            "           3       0.96      0.96      0.96     16786\n",
            "           4       0.91      0.86      0.88      8959\n",
            "\n",
            "    accuracy                           0.92    174304\n",
            "   macro avg       0.92      0.91      0.92    174304\n",
            "weighted avg       0.92      0.92      0.92    174304\n",
            "\n",
            "[[57146  6042     6   320]\n",
            " [ 5333 78742   560   410]\n",
            " [    8   612 16138    28]\n",
            " [  561   656    80  7662]]\n"
          ],
          "name": "stdout"
        }
      ]
    },
    {
      "cell_type": "code",
      "metadata": {
        "id": "yQ_o5UcEl31r",
        "colab": {
          "base_uri": "https://localhost:8080/",
          "height": 575
        },
        "outputId": "1c40b2aa-e0ca-4862-dae9-cfbb0305e175"
      },
      "source": [
        "pd.DataFrame({'columns':x.columns,'Importance':dt.feature_importances_})"
      ],
      "execution_count": null,
      "outputs": [
        {
          "output_type": "execute_result",
          "data": {
            "text/html": [
              "<div>\n",
              "<style scoped>\n",
              "    .dataframe tbody tr th:only-of-type {\n",
              "        vertical-align: middle;\n",
              "    }\n",
              "\n",
              "    .dataframe tbody tr th {\n",
              "        vertical-align: top;\n",
              "    }\n",
              "\n",
              "    .dataframe thead th {\n",
              "        text-align: right;\n",
              "    }\n",
              "</style>\n",
              "<table border=\"1\" class=\"dataframe\">\n",
              "  <thead>\n",
              "    <tr style=\"text-align: right;\">\n",
              "      <th></th>\n",
              "      <th>columns</th>\n",
              "      <th>Importance</th>\n",
              "    </tr>\n",
              "  </thead>\n",
              "  <tbody>\n",
              "    <tr>\n",
              "      <th>0</th>\n",
              "      <td>Elevation</td>\n",
              "      <td>0.423873</td>\n",
              "    </tr>\n",
              "    <tr>\n",
              "      <th>1</th>\n",
              "      <td>Aspect</td>\n",
              "      <td>0.013340</td>\n",
              "    </tr>\n",
              "    <tr>\n",
              "      <th>2</th>\n",
              "      <td>Slope</td>\n",
              "      <td>0.000704</td>\n",
              "    </tr>\n",
              "    <tr>\n",
              "      <th>3</th>\n",
              "      <td>Horizontal_Distance_To_Hydrology</td>\n",
              "      <td>0.014165</td>\n",
              "    </tr>\n",
              "    <tr>\n",
              "      <th>4</th>\n",
              "      <td>Vertical_Scaled</td>\n",
              "      <td>0.023879</td>\n",
              "    </tr>\n",
              "    <tr>\n",
              "      <th>5</th>\n",
              "      <td>Horizontal_Distance_To_Roadways</td>\n",
              "      <td>0.083519</td>\n",
              "    </tr>\n",
              "    <tr>\n",
              "      <th>6</th>\n",
              "      <td>Hillshade_9am</td>\n",
              "      <td>0.022137</td>\n",
              "    </tr>\n",
              "    <tr>\n",
              "      <th>7</th>\n",
              "      <td>Hillshade_Noon</td>\n",
              "      <td>0.017396</td>\n",
              "    </tr>\n",
              "    <tr>\n",
              "      <th>8</th>\n",
              "      <td>Hillshade_3pm</td>\n",
              "      <td>0.012002</td>\n",
              "    </tr>\n",
              "    <tr>\n",
              "      <th>9</th>\n",
              "      <td>Horizontal_Distance_To_Fire_Points</td>\n",
              "      <td>0.054779</td>\n",
              "    </tr>\n",
              "    <tr>\n",
              "      <th>10</th>\n",
              "      <td>Hydr_Slope</td>\n",
              "      <td>0.001633</td>\n",
              "    </tr>\n",
              "    <tr>\n",
              "      <th>11</th>\n",
              "      <td>Avg_Horizontal</td>\n",
              "      <td>0.038288</td>\n",
              "    </tr>\n",
              "    <tr>\n",
              "      <th>12</th>\n",
              "      <td>Fire_Road</td>\n",
              "      <td>0.064701</td>\n",
              "    </tr>\n",
              "    <tr>\n",
              "      <th>13</th>\n",
              "      <td>Hillshades</td>\n",
              "      <td>0.006210</td>\n",
              "    </tr>\n",
              "    <tr>\n",
              "      <th>14</th>\n",
              "      <td>Hydr_Dist</td>\n",
              "      <td>0.026882</td>\n",
              "    </tr>\n",
              "    <tr>\n",
              "      <th>15</th>\n",
              "      <td>Fire_Hydr</td>\n",
              "      <td>0.043100</td>\n",
              "    </tr>\n",
              "    <tr>\n",
              "      <th>16</th>\n",
              "      <td>Wilderness</td>\n",
              "      <td>0.043444</td>\n",
              "    </tr>\n",
              "    <tr>\n",
              "      <th>17</th>\n",
              "      <td>Soil</td>\n",
              "      <td>0.109949</td>\n",
              "    </tr>\n",
              "  </tbody>\n",
              "</table>\n",
              "</div>"
            ],
            "text/plain": [
              "                               columns  Importance\n",
              "0                            Elevation    0.423873\n",
              "1                               Aspect    0.013340\n",
              "2                                Slope    0.000704\n",
              "3     Horizontal_Distance_To_Hydrology    0.014165\n",
              "4                      Vertical_Scaled    0.023879\n",
              "5      Horizontal_Distance_To_Roadways    0.083519\n",
              "6                        Hillshade_9am    0.022137\n",
              "7                       Hillshade_Noon    0.017396\n",
              "8                        Hillshade_3pm    0.012002\n",
              "9   Horizontal_Distance_To_Fire_Points    0.054779\n",
              "10                          Hydr_Slope    0.001633\n",
              "11                      Avg_Horizontal    0.038288\n",
              "12                           Fire_Road    0.064701\n",
              "13                          Hillshades    0.006210\n",
              "14                           Hydr_Dist    0.026882\n",
              "15                           Fire_Hydr    0.043100\n",
              "16                          Wilderness    0.043444\n",
              "17                                Soil    0.109949"
            ]
          },
          "metadata": {
            "tags": []
          },
          "execution_count": 36
        }
      ]
    },
    {
      "cell_type": "markdown",
      "metadata": {
        "id": "UzBpOymml31t"
      },
      "source": [
        "### Random Forest"
      ]
    },
    {
      "cell_type": "code",
      "metadata": {
        "id": "sNzO2A7Hl31u"
      },
      "source": [
        "from sklearn.ensemble import RandomForestClassifier"
      ],
      "execution_count": null,
      "outputs": []
    },
    {
      "cell_type": "code",
      "metadata": {
        "id": "iwAi4YnCl31w",
        "colab": {
          "base_uri": "https://localhost:8080/",
          "height": 159
        },
        "outputId": "037e6b8f-926b-4a71-f7bd-915c2dcfdde1"
      },
      "source": [
        "rforest = RandomForestClassifier(criterion = \"entropy\", \n",
        "                                  random_state = 25,\n",
        "                                  max_depth=19, \n",
        "                                  min_samples_leaf=10,\n",
        "                                  min_samples_split=10)\n",
        "rforest.fit(x_train, y_train)"
      ],
      "execution_count": null,
      "outputs": [
        {
          "output_type": "execute_result",
          "data": {
            "text/plain": [
              "RandomForestClassifier(bootstrap=True, ccp_alpha=0.0, class_weight=None,\n",
              "                       criterion='entropy', max_depth=19, max_features='auto',\n",
              "                       max_leaf_nodes=None, max_samples=None,\n",
              "                       min_impurity_decrease=0.0, min_impurity_split=None,\n",
              "                       min_samples_leaf=10, min_samples_split=10,\n",
              "                       min_weight_fraction_leaf=0.0, n_estimators=100,\n",
              "                       n_jobs=None, oob_score=False, random_state=25, verbose=0,\n",
              "                       warm_start=False)"
            ]
          },
          "metadata": {
            "tags": []
          },
          "execution_count": 34
        }
      ]
    },
    {
      "cell_type": "code",
      "metadata": {
        "id": "NsTXQF5fl31x",
        "colab": {
          "base_uri": "https://localhost:8080/",
          "height": 52
        },
        "outputId": "1ced31ad-18d4-4593-ec41-b23b72c3afcc"
      },
      "source": [
        "print('Training Score:',rforest.score(x_train, y_train))\n",
        "print('Testing Score:',rforest.score(x_test, y_test))"
      ],
      "execution_count": null,
      "outputs": [
        {
          "output_type": "stream",
          "text": [
            "Training Score: 0.9639618596142687\n",
            "Testing Score: 0.9444361575178998\n"
          ],
          "name": "stdout"
        }
      ]
    },
    {
      "cell_type": "code",
      "metadata": {
        "id": "jvv6qZpdl31z",
        "colab": {
          "base_uri": "https://localhost:8080/",
          "height": 284
        },
        "outputId": "1c979451-b99e-4764-895b-b41c99c1d4f6"
      },
      "source": [
        "y_pred = rforest.predict(x_test)\n",
        "print(classification_report(y_test,y_pred))\n",
        "print(confusion_matrix(y_test,y_pred))"
      ],
      "execution_count": null,
      "outputs": [
        {
          "output_type": "stream",
          "text": [
            "              precision    recall  f1-score   support\n",
            "\n",
            "           1       0.95      0.92      0.94     63514\n",
            "           2       0.93      0.96      0.95     85045\n",
            "           3       0.97      0.98      0.98     16786\n",
            "           4       0.96      0.86      0.91      8959\n",
            "\n",
            "    accuracy                           0.94    174304\n",
            "   macro avg       0.95      0.93      0.94    174304\n",
            "weighted avg       0.94      0.94      0.94    174304\n",
            "\n",
            "[[58534  4830     9   141]\n",
            " [ 2576 81940   377   152]\n",
            " [    0   324 16457     5]\n",
            " [  456   735    80  7688]]\n"
          ],
          "name": "stdout"
        }
      ]
    },
    {
      "cell_type": "code",
      "metadata": {
        "id": "SAA5L7KUl311",
        "colab": {
          "base_uri": "https://localhost:8080/",
          "height": 575
        },
        "outputId": "d6d0f376-2ce0-41fa-9c56-8a35fa60d17d"
      },
      "source": [
        "pd.DataFrame({'columns':x.columns,'Importance':rforest.feature_importances_})"
      ],
      "execution_count": null,
      "outputs": [
        {
          "output_type": "execute_result",
          "data": {
            "text/html": [
              "<div>\n",
              "<style scoped>\n",
              "    .dataframe tbody tr th:only-of-type {\n",
              "        vertical-align: middle;\n",
              "    }\n",
              "\n",
              "    .dataframe tbody tr th {\n",
              "        vertical-align: top;\n",
              "    }\n",
              "\n",
              "    .dataframe thead th {\n",
              "        text-align: right;\n",
              "    }\n",
              "</style>\n",
              "<table border=\"1\" class=\"dataframe\">\n",
              "  <thead>\n",
              "    <tr style=\"text-align: right;\">\n",
              "      <th></th>\n",
              "      <th>columns</th>\n",
              "      <th>Importance</th>\n",
              "    </tr>\n",
              "  </thead>\n",
              "  <tbody>\n",
              "    <tr>\n",
              "      <th>0</th>\n",
              "      <td>Elevation</td>\n",
              "      <td>0.279158</td>\n",
              "    </tr>\n",
              "    <tr>\n",
              "      <th>1</th>\n",
              "      <td>Aspect</td>\n",
              "      <td>0.020532</td>\n",
              "    </tr>\n",
              "    <tr>\n",
              "      <th>2</th>\n",
              "      <td>Slope</td>\n",
              "      <td>0.001374</td>\n",
              "    </tr>\n",
              "    <tr>\n",
              "      <th>3</th>\n",
              "      <td>Horizontal_Distance_To_Hydrology</td>\n",
              "      <td>0.022255</td>\n",
              "    </tr>\n",
              "    <tr>\n",
              "      <th>4</th>\n",
              "      <td>Vertical_Scaled</td>\n",
              "      <td>0.025170</td>\n",
              "    </tr>\n",
              "    <tr>\n",
              "      <th>5</th>\n",
              "      <td>Horizontal_Distance_To_Roadways</td>\n",
              "      <td>0.066961</td>\n",
              "    </tr>\n",
              "    <tr>\n",
              "      <th>6</th>\n",
              "      <td>Hillshade_9am</td>\n",
              "      <td>0.019895</td>\n",
              "    </tr>\n",
              "    <tr>\n",
              "      <th>7</th>\n",
              "      <td>Hillshade_Noon</td>\n",
              "      <td>0.016980</td>\n",
              "    </tr>\n",
              "    <tr>\n",
              "      <th>8</th>\n",
              "      <td>Hillshade_3pm</td>\n",
              "      <td>0.017283</td>\n",
              "    </tr>\n",
              "    <tr>\n",
              "      <th>9</th>\n",
              "      <td>Horizontal_Distance_To_Fire_Points</td>\n",
              "      <td>0.050663</td>\n",
              "    </tr>\n",
              "    <tr>\n",
              "      <th>10</th>\n",
              "      <td>Hydr_Slope</td>\n",
              "      <td>0.003272</td>\n",
              "    </tr>\n",
              "    <tr>\n",
              "      <th>11</th>\n",
              "      <td>Avg_Horizontal</td>\n",
              "      <td>0.062158</td>\n",
              "    </tr>\n",
              "    <tr>\n",
              "      <th>12</th>\n",
              "      <td>Fire_Road</td>\n",
              "      <td>0.064699</td>\n",
              "    </tr>\n",
              "    <tr>\n",
              "      <th>13</th>\n",
              "      <td>Hillshades</td>\n",
              "      <td>0.015717</td>\n",
              "    </tr>\n",
              "    <tr>\n",
              "      <th>14</th>\n",
              "      <td>Hydr_Dist</td>\n",
              "      <td>0.024587</td>\n",
              "    </tr>\n",
              "    <tr>\n",
              "      <th>15</th>\n",
              "      <td>Fire_Hydr</td>\n",
              "      <td>0.050505</td>\n",
              "    </tr>\n",
              "    <tr>\n",
              "      <th>16</th>\n",
              "      <td>Wilderness</td>\n",
              "      <td>0.078351</td>\n",
              "    </tr>\n",
              "    <tr>\n",
              "      <th>17</th>\n",
              "      <td>Soil</td>\n",
              "      <td>0.180440</td>\n",
              "    </tr>\n",
              "  </tbody>\n",
              "</table>\n",
              "</div>"
            ],
            "text/plain": [
              "                               columns  Importance\n",
              "0                            Elevation    0.279158\n",
              "1                               Aspect    0.020532\n",
              "2                                Slope    0.001374\n",
              "3     Horizontal_Distance_To_Hydrology    0.022255\n",
              "4                      Vertical_Scaled    0.025170\n",
              "5      Horizontal_Distance_To_Roadways    0.066961\n",
              "6                        Hillshade_9am    0.019895\n",
              "7                       Hillshade_Noon    0.016980\n",
              "8                        Hillshade_3pm    0.017283\n",
              "9   Horizontal_Distance_To_Fire_Points    0.050663\n",
              "10                          Hydr_Slope    0.003272\n",
              "11                      Avg_Horizontal    0.062158\n",
              "12                           Fire_Road    0.064699\n",
              "13                          Hillshades    0.015717\n",
              "14                           Hydr_Dist    0.024587\n",
              "15                           Fire_Hydr    0.050505\n",
              "16                          Wilderness    0.078351\n",
              "17                                Soil    0.180440"
            ]
          },
          "metadata": {
            "tags": []
          },
          "execution_count": 41
        }
      ]
    },
    {
      "cell_type": "markdown",
      "metadata": {
        "id": "rdHqCygxl314"
      },
      "source": [
        "### KNN"
      ]
    },
    {
      "cell_type": "markdown",
      "metadata": {
        "id": "pB_G7arqkSsw"
      },
      "source": [
        "\n",
        "*   scaling all numerical columns and saving it in a dataframe 'x_std'\n",
        "*   concatenating all the independent data into a dataframe 'x_' \n",
        "*   dividing data to x_ (independent variable) and y_ (dependent variable)\n",
        "*   splitting data into train and test in 7:3 ratio"
      ]
    },
    {
      "cell_type": "code",
      "metadata": {
        "id": "NxKO9Dnkl314",
        "colab": {
          "base_uri": "https://localhost:8080/"
        },
        "outputId": "c2e679e5-28a6-4949-a10a-5b4b55f3d59c"
      },
      "source": [
        "from sklearn.preprocessing import StandardScaler\n",
        "\n",
        "x1 = forest_b.drop(columns= ['Cover_Type','Soil','Wilderness'])\n",
        "y_ = forest_b['Cover_Type']\n",
        "\n",
        "x_std = StandardScaler().fit_transform(x1)\n",
        "\n",
        "x_std = pd.DataFrame(x_std, columns = x1.columns)\n",
        "\n",
        "x_ = pd.concat([x_std,forest_b[['Soil','Wilderness']]], axis = 1)\n",
        "x_.head()"
      ],
      "execution_count": null,
      "outputs": [
        {
          "output_type": "execute_result",
          "data": {
            "text/html": [
              "<div>\n",
              "<style scoped>\n",
              "    .dataframe tbody tr th:only-of-type {\n",
              "        vertical-align: middle;\n",
              "    }\n",
              "\n",
              "    .dataframe tbody tr th {\n",
              "        vertical-align: top;\n",
              "    }\n",
              "\n",
              "    .dataframe thead th {\n",
              "        text-align: right;\n",
              "    }\n",
              "</style>\n",
              "<table border=\"1\" class=\"dataframe\">\n",
              "  <thead>\n",
              "    <tr style=\"text-align: right;\">\n",
              "      <th></th>\n",
              "      <th>Elevation</th>\n",
              "      <th>Aspect</th>\n",
              "      <th>Slope</th>\n",
              "      <th>Horizontal_Distance_To_Hydrology</th>\n",
              "      <th>Vertical_Scaled</th>\n",
              "      <th>Horizontal_Distance_To_Roadways</th>\n",
              "      <th>Hillshade_9am</th>\n",
              "      <th>Hillshade_Noon</th>\n",
              "      <th>Hillshade_3pm</th>\n",
              "      <th>Horizontal_Distance_To_Fire_Points</th>\n",
              "      <th>Hydr_Slope</th>\n",
              "      <th>Avg_Horizontal</th>\n",
              "      <th>Fire_Road</th>\n",
              "      <th>Hillshades</th>\n",
              "      <th>Hydr_Dist</th>\n",
              "      <th>Fire_Hydr</th>\n",
              "      <th>Soil</th>\n",
              "      <th>Wilderness</th>\n",
              "    </tr>\n",
              "  </thead>\n",
              "  <tbody>\n",
              "    <tr>\n",
              "      <th>0</th>\n",
              "      <td>-1.297805</td>\n",
              "      <td>-0.935157</td>\n",
              "      <td>-1.389008</td>\n",
              "      <td>0.164973</td>\n",
              "      <td>-0.867052</td>\n",
              "      <td>-1.395274</td>\n",
              "      <td>0.330743</td>\n",
              "      <td>0.439143</td>\n",
              "      <td>0.142960</td>\n",
              "      <td>2.587999</td>\n",
              "      <td>1.300680</td>\n",
              "      <td>1.054833</td>\n",
              "      <td>1.068195</td>\n",
              "      <td>0.530152</td>\n",
              "      <td>0.135858</td>\n",
              "      <td>2.574818</td>\n",
              "      <td>29</td>\n",
              "      <td>1</td>\n",
              "    </tr>\n",
              "    <tr>\n",
              "      <th>1</th>\n",
              "      <td>-1.319235</td>\n",
              "      <td>-0.890480</td>\n",
              "      <td>-0.578038</td>\n",
              "      <td>-0.056053</td>\n",
              "      <td>-1.014305</td>\n",
              "      <td>-1.567204</td>\n",
              "      <td>0.293388</td>\n",
              "      <td>0.590899</td>\n",
              "      <td>0.221342</td>\n",
              "      <td>2.564187</td>\n",
              "      <td>-0.148505</td>\n",
              "      <td>0.979149</td>\n",
              "      <td>1.008612</td>\n",
              "      <td>0.645367</td>\n",
              "      <td>-0.082435</td>\n",
              "      <td>2.529746</td>\n",
              "      <td>29</td>\n",
              "      <td>1</td>\n",
              "    </tr>\n",
              "    <tr>\n",
              "      <th>2</th>\n",
              "      <td>-0.554907</td>\n",
              "      <td>-0.148836</td>\n",
              "      <td>-1.277558</td>\n",
              "      <td>0.210340</td>\n",
              "      <td>0.464875</td>\n",
              "      <td>0.655217</td>\n",
              "      <td>0.816364</td>\n",
              "      <td>0.742654</td>\n",
              "      <td>-0.196691</td>\n",
              "      <td>2.518036</td>\n",
              "      <td>0.587323</td>\n",
              "      <td>1.849922</td>\n",
              "      <td>1.855709</td>\n",
              "      <td>0.668410</td>\n",
              "      <td>0.215057</td>\n",
              "      <td>2.507987</td>\n",
              "      <td>12</td>\n",
              "      <td>1</td>\n",
              "    </tr>\n",
              "    <tr>\n",
              "      <th>3</th>\n",
              "      <td>-0.622768</td>\n",
              "      <td>-0.005869</td>\n",
              "      <td>0.943243</td>\n",
              "      <td>0.090516</td>\n",
              "      <td>1.305345</td>\n",
              "      <td>0.606471</td>\n",
              "      <td>0.965786</td>\n",
              "      <td>0.742654</td>\n",
              "      <td>-0.536343</td>\n",
              "      <td>2.557997</td>\n",
              "      <td>0.819799</td>\n",
              "      <td>1.842302</td>\n",
              "      <td>1.855709</td>\n",
              "      <td>0.461022</td>\n",
              "      <td>0.186241</td>\n",
              "      <td>2.536981</td>\n",
              "      <td>30</td>\n",
              "      <td>1</td>\n",
              "    </tr>\n",
              "    <tr>\n",
              "      <th>4</th>\n",
              "      <td>-1.301377</td>\n",
              "      <td>-0.988770</td>\n",
              "      <td>-0.578038</td>\n",
              "      <td>-0.378421</td>\n",
              "      <td>-0.891238</td>\n",
              "      <td>-1.565670</td>\n",
              "      <td>0.293388</td>\n",
              "      <td>0.540313</td>\n",
              "      <td>0.195215</td>\n",
              "      <td>2.540716</td>\n",
              "      <td>1.205062</td>\n",
              "      <td>0.940499</td>\n",
              "      <td>0.990654</td>\n",
              "      <td>0.599281</td>\n",
              "      <td>-0.401841</td>\n",
              "      <td>2.478848</td>\n",
              "      <td>29</td>\n",
              "      <td>1</td>\n",
              "    </tr>\n",
              "  </tbody>\n",
              "</table>\n",
              "</div>"
            ],
            "text/plain": [
              "   Elevation    Aspect     Slope  ...  Fire_Hydr  Soil  Wilderness\n",
              "0  -1.297805 -0.935157 -1.389008  ...   2.574818    29           1\n",
              "1  -1.319235 -0.890480 -0.578038  ...   2.529746    29           1\n",
              "2  -0.554907 -0.148836 -1.277558  ...   2.507987    12           1\n",
              "3  -0.622768 -0.005869  0.943243  ...   2.536981    30           1\n",
              "4  -1.301377 -0.988770 -0.578038  ...   2.478848    29           1\n",
              "\n",
              "[5 rows x 18 columns]"
            ]
          },
          "metadata": {
            "tags": []
          },
          "execution_count": 34
        }
      ]
    },
    {
      "cell_type": "code",
      "metadata": {
        "id": "oFMcSTEdl316"
      },
      "source": [
        "x_train_k, x_test_k, y_train_k, y_test_k = train_test_split(x_, y_, test_size = .3, random_state=25)"
      ],
      "execution_count": null,
      "outputs": []
    },
    {
      "cell_type": "code",
      "metadata": {
        "id": "XB8hsZdCl317"
      },
      "source": [
        "from sklearn.neighbors import KNeighborsClassifier"
      ],
      "execution_count": null,
      "outputs": []
    },
    {
      "cell_type": "code",
      "metadata": {
        "id": "qXEptiS-l318"
      },
      "source": [
        "knn = KNeighborsClassifier(metric = 'cityblock', n_neighbors= 4, weights= 'distance')\n",
        "knn.fit(x_train_k,y_train_k)\n",
        "y_pred_k = knn.predict(x_test_k)"
      ],
      "execution_count": null,
      "outputs": []
    },
    {
      "cell_type": "code",
      "metadata": {
        "id": "C-KQYlfSl31-",
        "colab": {
          "base_uri": "https://localhost:8080/",
          "height": 52
        },
        "outputId": "b39cfcd9-8be8-4123-ebd2-38e99b47320b"
      },
      "source": [
        "print('Training Score:',knn.score(x_train_k,y_train_k))\n",
        "print('Testing Score:',knn.score(x_test_k,y_test_k))"
      ],
      "execution_count": null,
      "outputs": [
        {
          "output_type": "stream",
          "text": [
            "Training Score: 1.0\n",
            "Testing Score: 0.9298180190930787\n"
          ],
          "name": "stdout"
        }
      ]
    },
    {
      "cell_type": "code",
      "metadata": {
        "id": "m_c7q-Wdl31_",
        "colab": {
          "base_uri": "https://localhost:8080/",
          "height": 284
        },
        "outputId": "1b01d696-8eae-49e0-a855-45ceb0f83db1"
      },
      "source": [
        "print(classification_report(y_test_k, y_pred_k))\n",
        "print(confusion_matrix(y_test_k, y_pred_k))"
      ],
      "execution_count": null,
      "outputs": [
        {
          "output_type": "stream",
          "text": [
            "              precision    recall  f1-score   support\n",
            "\n",
            "           1       0.93      0.92      0.92     63514\n",
            "           2       0.93      0.94      0.93     85045\n",
            "           3       0.96      0.97      0.96     16786\n",
            "           4       0.90      0.87      0.89      8959\n",
            "\n",
            "    accuracy                           0.93    174304\n",
            "   macro avg       0.93      0.92      0.93    174304\n",
            "weighted avg       0.93      0.93      0.93    174304\n",
            "\n",
            "[[58187  4946    21   360]\n",
            " [ 4144 79845   636   420]\n",
            " [   25   505 16202    54]\n",
            " [  474   582    66  7837]]\n"
          ],
          "name": "stdout"
        }
      ]
    },
    {
      "cell_type": "markdown",
      "metadata": {
        "id": "V7ButFHvl32B"
      },
      "source": [
        "### Ensemble techniques "
      ]
    },
    {
      "cell_type": "code",
      "metadata": {
        "id": "5lCKx1wgl32C"
      },
      "source": [
        "#base_LR = LogisticRegression(random_state = 25)\n",
        "base_DT = DecisionTreeClassifier(criterion = \"entropy\", \n",
        "                                  random_state = 25,\n",
        "                                  max_depth=19, \n",
        "                                  min_samples_leaf=10,\n",
        "                                  min_samples_split=10)\n",
        "#base_NB = GaussianNB()\n",
        "base_RF = RandomForestClassifier(criterion = \"entropy\", \n",
        "                                  random_state = 25,\n",
        "                                  max_depth=19, \n",
        "                                  min_samples_leaf=10,\n",
        "                                  min_samples_split=10)\n",
        "base_KNN = KNeighborsClassifier(metric = 'cityblock', \n",
        "                                n_neighbors= 4, \n",
        "                                weights= 'distance')"
      ],
      "execution_count": null,
      "outputs": []
    },
    {
      "cell_type": "markdown",
      "metadata": {
        "id": "p9nTU6Ril32E"
      },
      "source": [
        "### Bagging"
      ]
    },
    {
      "cell_type": "code",
      "metadata": {
        "id": "SO_AwuB2l32F"
      },
      "source": [
        "from sklearn.ensemble import BaggingClassifier"
      ],
      "execution_count": null,
      "outputs": []
    },
    {
      "cell_type": "markdown",
      "metadata": {
        "id": "R5n52aJMl32G"
      },
      "source": [
        "#### Decision Bag"
      ]
    },
    {
      "cell_type": "code",
      "metadata": {
        "id": "3ja5YVt0l32H",
        "colab": {
          "base_uri": "https://localhost:8080/"
        },
        "outputId": "d0d382ce-612a-424e-f964-4f81654305ba"
      },
      "source": [
        "bgcl_DT = BaggingClassifier(base_estimator=base_DT,n_estimators=51,oob_score=True,random_state=25)\n",
        "bgcl_DT.fit(x_train, y_train)"
      ],
      "execution_count": null,
      "outputs": [
        {
          "output_type": "execute_result",
          "data": {
            "text/plain": [
              "BaggingClassifier(base_estimator=DecisionTreeClassifier(ccp_alpha=0.0,\n",
              "                                                        class_weight=None,\n",
              "                                                        criterion='entropy',\n",
              "                                                        max_depth=19,\n",
              "                                                        max_features=None,\n",
              "                                                        max_leaf_nodes=None,\n",
              "                                                        min_impurity_decrease=0.0,\n",
              "                                                        min_impurity_split=None,\n",
              "                                                        min_samples_leaf=10,\n",
              "                                                        min_samples_split=10,\n",
              "                                                        min_weight_fraction_leaf=0.0,\n",
              "                                                        presort='deprecated',\n",
              "                                                        random_state=25,\n",
              "                                                        splitter='best'),\n",
              "                  bootstrap=True, bootstrap_features=False, max_features=1.0,\n",
              "                  max_samples=1.0, n_estimators=51, n_jobs=None, oob_score=True,\n",
              "                  random_state=25, verbose=0, warm_start=False)"
            ]
          },
          "metadata": {
            "tags": []
          },
          "execution_count": 50
        }
      ]
    },
    {
      "cell_type": "code",
      "metadata": {
        "id": "nMrWnP_7l32I",
        "colab": {
          "base_uri": "https://localhost:8080/"
        },
        "outputId": "635d3f77-5061-4c36-c52a-ebc65793cc56"
      },
      "source": [
        "print('OOB SCORE:',bgcl_DT.oob_score_)\n",
        "print('Training Score:',bgcl_DT.score(x_train,y_train))\n",
        "print('Testing Score:',bgcl_DT.score(x_test,y_test))"
      ],
      "execution_count": null,
      "outputs": [
        {
          "output_type": "stream",
          "text": [
            "OOB SCORE: 0.945348997315027\n",
            "Training Score: 0.9685450003442273\n",
            "Testing Score: 0.9484349183036533\n"
          ],
          "name": "stdout"
        }
      ]
    },
    {
      "cell_type": "code",
      "metadata": {
        "id": "mPwbmGp3l32K",
        "colab": {
          "base_uri": "https://localhost:8080/"
        },
        "outputId": "78d5b3eb-3994-4847-d287-d6b19dfac9b4"
      },
      "source": [
        "print(classification_report(y_test,bgcl_DT.predict(x_test)))\n",
        "print(confusion_matrix(y_test,bgcl_DT.predict(x_test)))"
      ],
      "execution_count": null,
      "outputs": [
        {
          "output_type": "stream",
          "text": [
            "              precision    recall  f1-score   support\n",
            "\n",
            "           1       0.95      0.93      0.94     63514\n",
            "           2       0.94      0.96      0.95     85045\n",
            "           3       0.97      0.98      0.98     16786\n",
            "           4       0.95      0.88      0.91      8959\n",
            "\n",
            "    accuracy                           0.95    174304\n",
            "   macro avg       0.95      0.94      0.95    174304\n",
            "weighted avg       0.95      0.95      0.95    174304\n",
            "\n",
            "[[59231  4092     7   184]\n",
            " [ 2722 81753   361   209]\n",
            " [    4   304 16472     6]\n",
            " [  420   608    71  7860]]\n"
          ],
          "name": "stdout"
        }
      ]
    },
    {
      "cell_type": "markdown",
      "metadata": {
        "id": "f_P6WhNDl32M"
      },
      "source": [
        "#### Random Forest Bag"
      ]
    },
    {
      "cell_type": "code",
      "metadata": {
        "id": "PiR48_k1l32M",
        "colab": {
          "base_uri": "https://localhost:8080/"
        },
        "outputId": "d0c70f91-cf5d-4a1b-9042-fb245af86570"
      },
      "source": [
        "bgcl_RF = BaggingClassifier(base_estimator=base_RF,n_estimators=51,oob_score=True,random_state=25)\n",
        "bgcl_RF.fit(x_train, y_train)"
      ],
      "execution_count": null,
      "outputs": [
        {
          "output_type": "execute_result",
          "data": {
            "text/plain": [
              "BaggingClassifier(base_estimator=RandomForestClassifier(bootstrap=True,\n",
              "                                                        ccp_alpha=0.0,\n",
              "                                                        class_weight=None,\n",
              "                                                        criterion='entropy',\n",
              "                                                        max_depth=19,\n",
              "                                                        max_features='auto',\n",
              "                                                        max_leaf_nodes=None,\n",
              "                                                        max_samples=None,\n",
              "                                                        min_impurity_decrease=0.0,\n",
              "                                                        min_impurity_split=None,\n",
              "                                                        min_samples_leaf=10,\n",
              "                                                        min_samples_split=10,\n",
              "                                                        min_weight_fraction_leaf=0.0,\n",
              "                                                        n_estimators=100,\n",
              "                                                        n_jobs=None,\n",
              "                                                        oob_score=False,\n",
              "                                                        random_state=25,\n",
              "                                                        verbose=0,\n",
              "                                                        warm_start=False),\n",
              "                  bootstrap=True, bootstrap_features=False, max_features=1.0,\n",
              "                  max_samples=1.0, n_estimators=51, n_jobs=None, oob_score=True,\n",
              "                  random_state=25, verbose=0, warm_start=False)"
            ]
          },
          "metadata": {
            "tags": []
          },
          "execution_count": 53
        }
      ]
    },
    {
      "cell_type": "code",
      "metadata": {
        "id": "FRzbUSeKl32N",
        "colab": {
          "base_uri": "https://localhost:8080/"
        },
        "outputId": "c3a3706f-6452-4b90-e3a2-269baf68dbdc"
      },
      "source": [
        "print('OOB SCORE:',bgcl_RF.oob_score_)\n",
        "print('Training Score:',bgcl_RF.score(x_train,y_train))\n",
        "print('Accuracy:',bgcl_RF.score(x_test,y_test))"
      ],
      "execution_count": null,
      "outputs": [
        {
          "output_type": "stream",
          "text": [
            "OOB SCORE: 0.933254324970249\n",
            "Training Score: 0.9503402932816665\n",
            "Accuracy: 0.9336331925830732\n"
          ],
          "name": "stdout"
        }
      ]
    },
    {
      "cell_type": "code",
      "metadata": {
        "id": "KpNkTEPkl32Q",
        "colab": {
          "base_uri": "https://localhost:8080/"
        },
        "outputId": "d9133b56-d9ce-4f75-d4d5-cc289fd91e47"
      },
      "source": [
        "print(classification_report(y_test,bgcl_RF.predict(x_test)))\n",
        "print(confusion_matrix(y_test,bgcl_RF.predict(x_test)))"
      ],
      "execution_count": null,
      "outputs": [
        {
          "output_type": "stream",
          "text": [
            "              precision    recall  f1-score   support\n",
            "\n",
            "           1       0.94      0.91      0.92     63514\n",
            "           2       0.92      0.96      0.94     85045\n",
            "           3       0.97      0.98      0.97     16786\n",
            "           4       0.96      0.81      0.88      8959\n",
            "\n",
            "    accuracy                           0.93    174304\n",
            "   macro avg       0.95      0.91      0.93    174304\n",
            "weighted avg       0.93      0.93      0.93    174304\n",
            "\n",
            "[[57703  5636    10   165]\n",
            " [ 3041 81375   489   140]\n",
            " [    1   414 16369     2]\n",
            " [  604   989    77  7289]]\n"
          ],
          "name": "stdout"
        }
      ]
    },
    {
      "cell_type": "markdown",
      "metadata": {
        "id": "eg2Fzc7-l32R"
      },
      "source": [
        "#### KNN Bag"
      ]
    },
    {
      "cell_type": "code",
      "metadata": {
        "id": "VJAWDRgtl32S",
        "colab": {
          "base_uri": "https://localhost:8080/",
          "height": 195
        },
        "outputId": "95eec82b-1c52-456c-d8cf-dc48c92dd624"
      },
      "source": [
        "bgcl_KN = BaggingClassifier(base_estimator=base_KNN,n_estimators=51,oob_score=True,random_state=25)\n",
        "bgcl_KN.fit(x_train_k, y_train_k)"
      ],
      "execution_count": null,
      "outputs": [
        {
          "output_type": "execute_result",
          "data": {
            "text/plain": [
              "BaggingClassifier(base_estimator=KNeighborsClassifier(algorithm='auto',\n",
              "                                                      leaf_size=30,\n",
              "                                                      metric='cityblock',\n",
              "                                                      metric_params=None,\n",
              "                                                      n_jobs=None,\n",
              "                                                      n_neighbors=4, p=2,\n",
              "                                                      weights='distance'),\n",
              "                  bootstrap=True, bootstrap_features=False, max_features=1.0,\n",
              "                  max_samples=1.0, n_estimators=51, n_jobs=None, oob_score=True,\n",
              "                  random_state=25, verbose=0, warm_start=False)"
            ]
          },
          "metadata": {
            "tags": []
          },
          "execution_count": 39
        }
      ]
    },
    {
      "cell_type": "code",
      "metadata": {
        "id": "GcymfWRGl32T",
        "colab": {
          "base_uri": "https://localhost:8080/",
          "height": 70
        },
        "outputId": "58dfa497-e7f2-4c40-eb20-59a3f2a10db2"
      },
      "source": [
        "print('OOB SCORE:',bgcl_KN.oob_score_)\n",
        "print('Training Score:',bgcl_KN.score(x_train_k,y_train_k))\n",
        "print('Testing Score:',bgcl_KN.score(x_test_k,y_test_k))"
      ],
      "execution_count": null,
      "outputs": [
        {
          "output_type": "stream",
          "text": [
            "OOB SCORE: 0.9289539423861837\n",
            "Training Score: 0.9998475564778662\n",
            "Testing Score: 0.930500734349183\n"
          ],
          "name": "stdout"
        }
      ]
    },
    {
      "cell_type": "code",
      "metadata": {
        "id": "P6v4hG_Bl32V",
        "colab": {
          "base_uri": "https://localhost:8080/",
          "height": 284
        },
        "outputId": "517d5408-e3cd-4bcb-8a18-84e73a23e142"
      },
      "source": [
        "print(classification_report(y_test_k,bgcl_KN.predict(x_test_k)))\n",
        "print(confusion_matrix(y_test_k,bgcl_KN.predict(x_test_k)))"
      ],
      "execution_count": null,
      "outputs": [
        {
          "output_type": "stream",
          "text": [
            "              precision    recall  f1-score   support\n",
            "\n",
            "           1       0.93      0.91      0.92     63514\n",
            "           2       0.93      0.94      0.94     85045\n",
            "           3       0.96      0.97      0.96     16786\n",
            "           4       0.91      0.87      0.89      8959\n",
            "\n",
            "    accuracy                           0.93    174304\n",
            "   macro avg       0.93      0.92      0.93    174304\n",
            "weighted avg       0.93      0.93      0.93    174304\n",
            "\n",
            "[[58107  5037    21   349]\n",
            " [ 3946 80046   652   401]\n",
            " [   27   499 16212    48]\n",
            " [  470   594    70  7825]]\n"
          ],
          "name": "stdout"
        }
      ]
    },
    {
      "cell_type": "markdown",
      "metadata": {
        "id": "L25jWzBfl32W"
      },
      "source": [
        "### AdaBoost"
      ]
    },
    {
      "cell_type": "code",
      "metadata": {
        "id": "975oIJiZl32X"
      },
      "source": [
        "from sklearn.ensemble import AdaBoostClassifier\n",
        "\n",
        "abcl_DT = AdaBoostClassifier(base_estimator=base_DT,n_estimators=50,random_state=25)\n",
        "\n",
        "abcl_RF = AdaBoostClassifier(base_estimator=base_RF,n_estimators=50,random_state=25)"
      ],
      "execution_count": null,
      "outputs": []
    },
    {
      "cell_type": "markdown",
      "metadata": {
        "id": "rxdosP8Wnmm7"
      },
      "source": [
        "#### Decision Tree"
      ]
    },
    {
      "cell_type": "code",
      "metadata": {
        "scrolled": true,
        "id": "aLocJ2_sl32Y",
        "colab": {
          "base_uri": "https://localhost:8080/"
        },
        "outputId": "8dc2779c-8676-49af-94a9-2977afe8103f"
      },
      "source": [
        "abcl_DT.fit(x_train,y_train)\n",
        "print('AdaBoost DT Training Score:',abcl_DT.score(x_train,y_train))\n",
        "print('AdaBoost DT Testing Score:',abcl_DT.score(x_test,y_test))"
      ],
      "execution_count": null,
      "outputs": [
        {
          "output_type": "stream",
          "text": [
            "AdaBoost DT Training Score: 0.9999975412335139\n",
            "AdaBoost DT Testing Score: 0.9449180741692675\n"
          ],
          "name": "stdout"
        }
      ]
    },
    {
      "cell_type": "code",
      "metadata": {
        "id": "tzoyatxNl32a",
        "colab": {
          "base_uri": "https://localhost:8080/"
        },
        "outputId": "e84c9dfb-57c0-4ab9-9591-b4628b2c8213"
      },
      "source": [
        "print(classification_report(y_test,abcl_DT.predict(x_test)))\n",
        "print(confusion_matrix(y_test,abcl_DT.predict(x_test)))"
      ],
      "execution_count": null,
      "outputs": [
        {
          "output_type": "stream",
          "text": [
            "              precision    recall  f1-score   support\n",
            "\n",
            "           1       0.94      0.93      0.94     63514\n",
            "           2       0.94      0.96      0.95     85045\n",
            "           3       0.97      0.98      0.97     16786\n",
            "           4       0.98      0.85      0.91      8959\n",
            "\n",
            "    accuracy                           0.94    174304\n",
            "   macro avg       0.96      0.93      0.94    174304\n",
            "weighted avg       0.95      0.94      0.94    174304\n",
            "\n",
            "[[59158  4265     1    90]\n",
            " [ 3005 81512   445    83]\n",
            " [    3   375 16402     6]\n",
            " [  484   785    59  7631]]\n"
          ],
          "name": "stdout"
        }
      ]
    },
    {
      "cell_type": "markdown",
      "metadata": {
        "id": "MrGb7-R4nqmZ"
      },
      "source": [
        "#### Random Forest"
      ]
    },
    {
      "cell_type": "code",
      "metadata": {
        "id": "qpGgeHdGl32c",
        "colab": {
          "base_uri": "https://localhost:8080/"
        },
        "outputId": "4a32d34f-5903-49f0-f1a7-792a57aef0b0"
      },
      "source": [
        "abcl_RF.fit(x_train,y_train)\n",
        "print('AdaBoost RF Training Score:',abcl_RF.score(x_train,y_train))\n",
        "print('AdaBoost RF Testing Score:',abcl_RF.score(x_test,y_test))"
      ],
      "execution_count": null,
      "outputs": [
        {
          "output_type": "stream",
          "text": [
            "AdaBoost RF Training Score: 0.9516336044533179\n",
            "AdaBoost RF Testing Score: 0.9126870295575547\n"
          ],
          "name": "stdout"
        }
      ]
    },
    {
      "cell_type": "code",
      "metadata": {
        "id": "vrfyoJGxl32f",
        "colab": {
          "base_uri": "https://localhost:8080/"
        },
        "outputId": "f19d5de2-a9a4-48b4-fdd5-767db3f2b32f"
      },
      "source": [
        "print(classification_report(y_test,abcl_RF.predict(x_test)))\n",
        "print(confusion_matrix(y_test,abcl_RF.predict(x_test)))"
      ],
      "execution_count": null,
      "outputs": [
        {
          "output_type": "stream",
          "text": [
            "              precision    recall  f1-score   support\n",
            "\n",
            "           1       0.91      0.88      0.89     63514\n",
            "           2       0.90      0.94      0.92     85045\n",
            "           3       0.97      0.98      0.98     16786\n",
            "           4       0.98      0.77      0.86      8959\n",
            "\n",
            "    accuracy                           0.91    174304\n",
            "   macro avg       0.94      0.89      0.91    174304\n",
            "weighted avg       0.91      0.91      0.91    174304\n",
            "\n",
            "[[55789  7653     3    69]\n",
            " [ 4548 79967   450    80]\n",
            " [    1   308 16469     8]\n",
            " [ 1243   808    48  6860]]\n"
          ],
          "name": "stdout"
        }
      ]
    },
    {
      "cell_type": "markdown",
      "metadata": {
        "id": "8cXeLp9Ll32h"
      },
      "source": [
        "### Gradient Boosting"
      ]
    },
    {
      "cell_type": "code",
      "metadata": {
        "id": "x9r7097il32h",
        "colab": {
          "base_uri": "https://localhost:8080/",
          "height": 195
        },
        "outputId": "b213f6ce-4352-4d54-e9d5-dfab5f613ecd"
      },
      "source": [
        "from sklearn.ensemble import GradientBoostingClassifier\n",
        "\n",
        "gbcl = GradientBoostingClassifier(random_state = 25,\n",
        "                                  max_depth=19, \n",
        "                                  min_samples_leaf=10,\n",
        "                                  min_samples_split=10,\n",
        "                                  n_estimators = 50)\n",
        "gbcl.fit(x_train, y_train)"
      ],
      "execution_count": null,
      "outputs": [
        {
          "output_type": "execute_result",
          "data": {
            "text/plain": [
              "GradientBoostingClassifier(ccp_alpha=0.0, criterion='friedman_mse', init=None,\n",
              "                           learning_rate=0.1, loss='deviance', max_depth=19,\n",
              "                           max_features=None, max_leaf_nodes=None,\n",
              "                           min_impurity_decrease=0.0, min_impurity_split=None,\n",
              "                           min_samples_leaf=10, min_samples_split=10,\n",
              "                           min_weight_fraction_leaf=0.0, n_estimators=50,\n",
              "                           n_iter_no_change=None, presort='deprecated',\n",
              "                           random_state=25, subsample=1.0, tol=0.0001,\n",
              "                           validation_fraction=0.1, verbose=0,\n",
              "                           warm_start=False)"
            ]
          },
          "metadata": {
            "tags": []
          },
          "execution_count": 32
        }
      ]
    },
    {
      "cell_type": "code",
      "metadata": {
        "id": "Zdqv7aDTl32j",
        "colab": {
          "base_uri": "https://localhost:8080/",
          "height": 52
        },
        "outputId": "0f986094-09a4-45b6-e3c1-c6b761b5c69e"
      },
      "source": [
        "print('Training Score:',gbcl.score(x_train,y_train))\n",
        "print('Testing Score:',gbcl.score(x_test,y_test))"
      ],
      "execution_count": null,
      "outputs": [
        {
          "output_type": "stream",
          "text": [
            "Training Score: 1.0\n",
            "Testing Score: 0.9756115751789977\n"
          ],
          "name": "stdout"
        }
      ]
    },
    {
      "cell_type": "code",
      "metadata": {
        "id": "DT5LaMZJl32k",
        "colab": {
          "base_uri": "https://localhost:8080/"
        },
        "outputId": "84bda8c7-fc7e-4226-d2a3-cc3db546f4a2"
      },
      "source": [
        "print(classification_report(y_test,gbcl.predict(x_test)))\n",
        "print(confusion_matrix(y_test,gbcl.predict(x_test)))"
      ],
      "execution_count": null,
      "outputs": [
        {
          "output_type": "stream",
          "text": [
            "              precision    recall  f1-score   support\n",
            "\n",
            "           1       0.98      0.97      0.97     63514\n",
            "           2       0.97      0.98      0.98     85045\n",
            "           3       0.98      0.99      0.99     16786\n",
            "           4       0.97      0.93      0.95      8959\n",
            "\n",
            "    accuracy                           0.98    174304\n",
            "   macro avg       0.98      0.97      0.97    174304\n",
            "weighted avg       0.98      0.98      0.98    174304\n",
            "\n",
            "[[61658  1739     1   116]\n",
            " [ 1217 83475   210   143]\n",
            " [    0   188 16592     6]\n",
            " [  227   361    43  8328]]\n",
            "              precision    recall  f1-score   support\n",
            "\n",
            "           1       0.98      0.97      0.97     63514\n",
            "           2       0.97      0.98      0.98     85045\n",
            "           3       0.98      0.99      0.99     16786\n",
            "           4       0.97      0.93      0.95      8959\n",
            "\n",
            "    accuracy                           0.98    174304\n",
            "   macro avg       0.98      0.97      0.97    174304\n",
            "weighted avg       0.98      0.98      0.98    174304\n",
            "\n",
            "[[61658  1739     1   116]\n",
            " [ 1217 83475   210   143]\n",
            " [    0   188 16592     6]\n",
            " [  227   361    43  8328]]\n"
          ],
          "name": "stdout"
        }
      ]
    },
    {
      "cell_type": "markdown",
      "metadata": {
        "id": "sfS-Shuqu-2v"
      },
      "source": [
        "## Original Transformed features"
      ]
    },
    {
      "cell_type": "markdown",
      "metadata": {
        "id": "RB5B-pWon_TX"
      },
      "source": [
        "Constructing a dataframe with original features after transformation"
      ]
    },
    {
      "cell_type": "code",
      "metadata": {
        "id": "8I02JHfKvEEk",
        "colab": {
          "base_uri": "https://localhost:8080/",
          "height": 372
        },
        "outputId": "f858b72e-ea48-4d2b-cc7e-f914c66bae17"
      },
      "source": [
        "forest_d = forest_b.drop(columns = forest_b.columns[10:16])\n",
        "forest_d.info()"
      ],
      "execution_count": null,
      "outputs": [
        {
          "output_type": "stream",
          "text": [
            "<class 'pandas.core.frame.DataFrame'>\n",
            "RangeIndex: 581012 entries, 0 to 581011\n",
            "Data columns (total 13 columns):\n",
            " #   Column                              Non-Null Count   Dtype   \n",
            "---  ------                              --------------   -----   \n",
            " 0   Elevation                           581012 non-null  int64   \n",
            " 1   Aspect                              581012 non-null  int64   \n",
            " 2   Slope                               581012 non-null  float64 \n",
            " 3   Horizontal_Distance_To_Hydrology    581012 non-null  float64 \n",
            " 4   Vertical_Scaled                     581012 non-null  float64 \n",
            " 5   Horizontal_Distance_To_Roadways     581012 non-null  float64 \n",
            " 6   Hillshade_9am                       581012 non-null  int64   \n",
            " 7   Hillshade_Noon                      581012 non-null  int64   \n",
            " 8   Hillshade_3pm                       581012 non-null  int64   \n",
            " 9   Horizontal_Distance_To_Fire_Points  581012 non-null  float64 \n",
            " 10  Wilderness                          581012 non-null  category\n",
            " 11  Soil                                581012 non-null  category\n",
            " 12  Cover_Type                          581012 non-null  category\n",
            "dtypes: category(3), float64(5), int64(5)\n",
            "memory usage: 46.0 MB\n"
          ],
          "name": "stdout"
        }
      ]
    },
    {
      "cell_type": "markdown",
      "metadata": {
        "id": "OPYFkpzAvHGV"
      },
      "source": [
        "## Modelling on Original Transformed Features"
      ]
    },
    {
      "cell_type": "markdown",
      "metadata": {
        "id": "1wsbnwsCvHGX"
      },
      "source": [
        "### Decision Tree"
      ]
    },
    {
      "cell_type": "code",
      "metadata": {
        "id": "tFK_BXgvvHGY"
      },
      "source": [
        "from sklearn.model_selection import train_test_split\n",
        "from sklearn.metrics import classification_report, confusion_matrix, accuracy_score\n",
        "from sklearn.tree import DecisionTreeClassifier\n",
        "import warnings\n",
        "warnings.filterwarnings(\"ignore\")"
      ],
      "execution_count": null,
      "outputs": []
    },
    {
      "cell_type": "markdown",
      "metadata": {
        "id": "aDZqXbUkjqLe"
      },
      "source": [
        "Dividing data into x (independent variable) and y (dependent variable) and then splitting data to train and test in 7:3 ratio"
      ]
    },
    {
      "cell_type": "code",
      "metadata": {
        "id": "UZ20B5ONvHGc"
      },
      "source": [
        "x = forest_d.drop(columns = ['Cover_Type'])\n",
        "y = forest_d['Cover_Type']"
      ],
      "execution_count": null,
      "outputs": []
    },
    {
      "cell_type": "code",
      "metadata": {
        "id": "zrxA-XYavHGh"
      },
      "source": [
        "x_train, x_test, y_train, y_test = train_test_split(x, y, test_size = .3, random_state=25)"
      ],
      "execution_count": null,
      "outputs": []
    },
    {
      "cell_type": "code",
      "metadata": {
        "id": "6Ciu6B7QvHGl",
        "colab": {
          "base_uri": "https://localhost:8080/",
          "height": 124
        },
        "outputId": "db93dfb7-fe54-4647-cf67-b1b4ad61ac0e"
      },
      "source": [
        "dt = DecisionTreeClassifier(criterion = \"entropy\", \n",
        "                                  random_state = 25,\n",
        "                                  max_depth=19, \n",
        "                                  min_samples_leaf=10,\n",
        "                                  min_samples_split=10)\n",
        "dt.fit(x_train, y_train)"
      ],
      "execution_count": null,
      "outputs": [
        {
          "output_type": "execute_result",
          "data": {
            "text/plain": [
              "DecisionTreeClassifier(ccp_alpha=0.0, class_weight=None, criterion='entropy',\n",
              "                       max_depth=19, max_features=None, max_leaf_nodes=None,\n",
              "                       min_impurity_decrease=0.0, min_impurity_split=None,\n",
              "                       min_samples_leaf=10, min_samples_split=10,\n",
              "                       min_weight_fraction_leaf=0.0, presort='deprecated',\n",
              "                       random_state=25, splitter='best')"
            ]
          },
          "metadata": {
            "tags": []
          },
          "execution_count": 33
        }
      ]
    },
    {
      "cell_type": "code",
      "metadata": {
        "id": "YduhEpcWvHGp",
        "colab": {
          "base_uri": "https://localhost:8080/",
          "height": 52
        },
        "outputId": "5e78200e-b623-4f12-dc74-6c500d666e58"
      },
      "source": [
        "print('Training Score:',dt.score(x_train, y_train))\n",
        "print('Testing Score:',dt.score(x_test, y_test))"
      ],
      "execution_count": null,
      "outputs": [
        {
          "output_type": "stream",
          "text": [
            "Training Score: 0.9351721628293518\n",
            "Testing Score: 0.9111035891316321\n"
          ],
          "name": "stdout"
        }
      ]
    },
    {
      "cell_type": "code",
      "metadata": {
        "id": "g4b3RZl9vHGs",
        "colab": {
          "base_uri": "https://localhost:8080/",
          "height": 284
        },
        "outputId": "2e8d6dd9-9720-4d7f-9ac1-798e5277b252"
      },
      "source": [
        "y_pred = dt.predict(x_test)\n",
        "print(classification_report(y_test,y_pred))\n",
        "print(confusion_matrix(y_test,y_pred))"
      ],
      "execution_count": null,
      "outputs": [
        {
          "output_type": "stream",
          "text": [
            "              precision    recall  f1-score   support\n",
            "\n",
            "           1       0.90      0.89      0.90     63514\n",
            "           2       0.91      0.92      0.92     85045\n",
            "           3       0.97      0.96      0.96     16786\n",
            "           4       0.90      0.86      0.88      8959\n",
            "\n",
            "    accuracy                           0.91    174304\n",
            "   macro avg       0.92      0.91      0.91    174304\n",
            "weighted avg       0.91      0.91      0.91    174304\n",
            "\n",
            "[[56755  6341    19   399]\n",
            " [ 5899 78253   484   409]\n",
            " [   14   626 16121    25]\n",
            " [  521   696    62  7680]]\n"
          ],
          "name": "stdout"
        }
      ]
    },
    {
      "cell_type": "code",
      "metadata": {
        "id": "QFVljdK7vHGu",
        "colab": {
          "base_uri": "https://localhost:8080/",
          "height": 399
        },
        "outputId": "2fc28e61-1a04-494a-ee60-aa111b81f9bf"
      },
      "source": [
        "pd.DataFrame({'columns':x.columns,'Importance':dt.feature_importances_})"
      ],
      "execution_count": null,
      "outputs": [
        {
          "output_type": "execute_result",
          "data": {
            "text/html": [
              "<div>\n",
              "<style scoped>\n",
              "    .dataframe tbody tr th:only-of-type {\n",
              "        vertical-align: middle;\n",
              "    }\n",
              "\n",
              "    .dataframe tbody tr th {\n",
              "        vertical-align: top;\n",
              "    }\n",
              "\n",
              "    .dataframe thead th {\n",
              "        text-align: right;\n",
              "    }\n",
              "</style>\n",
              "<table border=\"1\" class=\"dataframe\">\n",
              "  <thead>\n",
              "    <tr style=\"text-align: right;\">\n",
              "      <th></th>\n",
              "      <th>columns</th>\n",
              "      <th>Importance</th>\n",
              "    </tr>\n",
              "  </thead>\n",
              "  <tbody>\n",
              "    <tr>\n",
              "      <th>0</th>\n",
              "      <td>Elevation</td>\n",
              "      <td>0.431695</td>\n",
              "    </tr>\n",
              "    <tr>\n",
              "      <th>1</th>\n",
              "      <td>Aspect</td>\n",
              "      <td>0.017499</td>\n",
              "    </tr>\n",
              "    <tr>\n",
              "      <th>2</th>\n",
              "      <td>Slope</td>\n",
              "      <td>0.000859</td>\n",
              "    </tr>\n",
              "    <tr>\n",
              "      <th>3</th>\n",
              "      <td>Horizontal_Distance_To_Hydrology</td>\n",
              "      <td>0.047369</td>\n",
              "    </tr>\n",
              "    <tr>\n",
              "      <th>4</th>\n",
              "      <td>Vertical_Scaled</td>\n",
              "      <td>0.030493</td>\n",
              "    </tr>\n",
              "    <tr>\n",
              "      <th>5</th>\n",
              "      <td>Horizontal_Distance_To_Roadways</td>\n",
              "      <td>0.124322</td>\n",
              "    </tr>\n",
              "    <tr>\n",
              "      <th>6</th>\n",
              "      <td>Hillshade_9am</td>\n",
              "      <td>0.023697</td>\n",
              "    </tr>\n",
              "    <tr>\n",
              "      <th>7</th>\n",
              "      <td>Hillshade_Noon</td>\n",
              "      <td>0.025402</td>\n",
              "    </tr>\n",
              "    <tr>\n",
              "      <th>8</th>\n",
              "      <td>Hillshade_3pm</td>\n",
              "      <td>0.015113</td>\n",
              "    </tr>\n",
              "    <tr>\n",
              "      <th>9</th>\n",
              "      <td>Horizontal_Distance_To_Fire_Points</td>\n",
              "      <td>0.120681</td>\n",
              "    </tr>\n",
              "    <tr>\n",
              "      <th>10</th>\n",
              "      <td>Wilderness</td>\n",
              "      <td>0.044975</td>\n",
              "    </tr>\n",
              "    <tr>\n",
              "      <th>11</th>\n",
              "      <td>Soil</td>\n",
              "      <td>0.117895</td>\n",
              "    </tr>\n",
              "  </tbody>\n",
              "</table>\n",
              "</div>"
            ],
            "text/plain": [
              "                               columns  Importance\n",
              "0                            Elevation    0.431695\n",
              "1                               Aspect    0.017499\n",
              "2                                Slope    0.000859\n",
              "3     Horizontal_Distance_To_Hydrology    0.047369\n",
              "4                      Vertical_Scaled    0.030493\n",
              "5      Horizontal_Distance_To_Roadways    0.124322\n",
              "6                        Hillshade_9am    0.023697\n",
              "7                       Hillshade_Noon    0.025402\n",
              "8                        Hillshade_3pm    0.015113\n",
              "9   Horizontal_Distance_To_Fire_Points    0.120681\n",
              "10                          Wilderness    0.044975\n",
              "11                                Soil    0.117895"
            ]
          },
          "metadata": {
            "tags": []
          },
          "execution_count": 36
        }
      ]
    },
    {
      "cell_type": "markdown",
      "metadata": {
        "id": "GEgvysW5vHGw"
      },
      "source": [
        "### Random Forest"
      ]
    },
    {
      "cell_type": "code",
      "metadata": {
        "id": "mL1zaqm3vHGw"
      },
      "source": [
        "from sklearn.ensemble import RandomForestClassifier"
      ],
      "execution_count": null,
      "outputs": []
    },
    {
      "cell_type": "code",
      "metadata": {
        "id": "aGxtt0OjvHGy",
        "colab": {
          "base_uri": "https://localhost:8080/",
          "height": 159
        },
        "outputId": "27fca820-44e9-4acc-c0c0-06347ff6359f"
      },
      "source": [
        "rforest = RandomForestClassifier(criterion = \"entropy\", \n",
        "                                  random_state = 25,\n",
        "                                  max_depth=19, \n",
        "                                  min_samples_leaf=10,\n",
        "                                  min_samples_split=10)\n",
        "rforest.fit(x_train, y_train)"
      ],
      "execution_count": null,
      "outputs": [
        {
          "output_type": "execute_result",
          "data": {
            "text/plain": [
              "RandomForestClassifier(bootstrap=True, ccp_alpha=0.0, class_weight=None,\n",
              "                       criterion='entropy', max_depth=19, max_features='auto',\n",
              "                       max_leaf_nodes=None, max_samples=None,\n",
              "                       min_impurity_decrease=0.0, min_impurity_split=None,\n",
              "                       min_samples_leaf=10, min_samples_split=10,\n",
              "                       min_weight_fraction_leaf=0.0, n_estimators=100,\n",
              "                       n_jobs=None, oob_score=False, random_state=25, verbose=0,\n",
              "                       warm_start=False)"
            ]
          },
          "metadata": {
            "tags": []
          },
          "execution_count": 38
        }
      ]
    },
    {
      "cell_type": "code",
      "metadata": {
        "id": "LxCNi0hvvHG0",
        "colab": {
          "base_uri": "https://localhost:8080/",
          "height": 52
        },
        "outputId": "b0b23be2-143b-4d94-b189-19b8abe7823b"
      },
      "source": [
        "print('Training Score:',rforest.score(x_train, y_train))\n",
        "print('Testing Score:',rforest.score(x_test, y_test))"
      ],
      "execution_count": null,
      "outputs": [
        {
          "output_type": "stream",
          "text": [
            "Training Score: 0.9523909045310148\n",
            "Testing Score: 0.931992381127226\n"
          ],
          "name": "stdout"
        }
      ]
    },
    {
      "cell_type": "code",
      "metadata": {
        "id": "aCXaDZLdvHG1",
        "colab": {
          "base_uri": "https://localhost:8080/",
          "height": 284
        },
        "outputId": "a43bf27f-80d8-4c1c-e2cc-a3ebc1087287"
      },
      "source": [
        "y_pred = rforest.predict(x_test)\n",
        "print(classification_report(y_test,y_pred))\n",
        "print(confusion_matrix(y_test,y_pred))"
      ],
      "execution_count": null,
      "outputs": [
        {
          "output_type": "stream",
          "text": [
            "              precision    recall  f1-score   support\n",
            "\n",
            "           1       0.94      0.90      0.92     63514\n",
            "           2       0.92      0.96      0.94     85045\n",
            "           3       0.97      0.98      0.97     16786\n",
            "           4       0.96      0.82      0.88      8959\n",
            "\n",
            "    accuracy                           0.93    174304\n",
            "   macro avg       0.95      0.91      0.93    174304\n",
            "weighted avg       0.93      0.93      0.93    174304\n",
            "\n",
            "[[57387  5944    18   165]\n",
            " [ 3107 81334   457   147]\n",
            " [    1   410 16370     5]\n",
            " [  572   962    66  7359]]\n"
          ],
          "name": "stdout"
        }
      ]
    },
    {
      "cell_type": "code",
      "metadata": {
        "id": "GWOoU6zcvHG4",
        "colab": {
          "base_uri": "https://localhost:8080/",
          "height": 399
        },
        "outputId": "3b432cab-3339-4e80-898e-b5c3ff5dbe04"
      },
      "source": [
        "pd.DataFrame({'columns':x.columns,'Importance':rforest.feature_importances_})"
      ],
      "execution_count": null,
      "outputs": [
        {
          "output_type": "execute_result",
          "data": {
            "text/html": [
              "<div>\n",
              "<style scoped>\n",
              "    .dataframe tbody tr th:only-of-type {\n",
              "        vertical-align: middle;\n",
              "    }\n",
              "\n",
              "    .dataframe tbody tr th {\n",
              "        vertical-align: top;\n",
              "    }\n",
              "\n",
              "    .dataframe thead th {\n",
              "        text-align: right;\n",
              "    }\n",
              "</style>\n",
              "<table border=\"1\" class=\"dataframe\">\n",
              "  <thead>\n",
              "    <tr style=\"text-align: right;\">\n",
              "      <th></th>\n",
              "      <th>columns</th>\n",
              "      <th>Importance</th>\n",
              "    </tr>\n",
              "  </thead>\n",
              "  <tbody>\n",
              "    <tr>\n",
              "      <th>0</th>\n",
              "      <td>Elevation</td>\n",
              "      <td>0.302668</td>\n",
              "    </tr>\n",
              "    <tr>\n",
              "      <th>1</th>\n",
              "      <td>Aspect</td>\n",
              "      <td>0.028356</td>\n",
              "    </tr>\n",
              "    <tr>\n",
              "      <th>2</th>\n",
              "      <td>Slope</td>\n",
              "      <td>0.003151</td>\n",
              "    </tr>\n",
              "    <tr>\n",
              "      <th>3</th>\n",
              "      <td>Horizontal_Distance_To_Hydrology</td>\n",
              "      <td>0.042356</td>\n",
              "    </tr>\n",
              "    <tr>\n",
              "      <th>4</th>\n",
              "      <td>Vertical_Scaled</td>\n",
              "      <td>0.036576</td>\n",
              "    </tr>\n",
              "    <tr>\n",
              "      <th>5</th>\n",
              "      <td>Horizontal_Distance_To_Roadways</td>\n",
              "      <td>0.107635</td>\n",
              "    </tr>\n",
              "    <tr>\n",
              "      <th>6</th>\n",
              "      <td>Hillshade_9am</td>\n",
              "      <td>0.025252</td>\n",
              "    </tr>\n",
              "    <tr>\n",
              "      <th>7</th>\n",
              "      <td>Hillshade_Noon</td>\n",
              "      <td>0.027604</td>\n",
              "    </tr>\n",
              "    <tr>\n",
              "      <th>8</th>\n",
              "      <td>Hillshade_3pm</td>\n",
              "      <td>0.023500</td>\n",
              "    </tr>\n",
              "    <tr>\n",
              "      <th>9</th>\n",
              "      <td>Horizontal_Distance_To_Fire_Points</td>\n",
              "      <td>0.099782</td>\n",
              "    </tr>\n",
              "    <tr>\n",
              "      <th>10</th>\n",
              "      <td>Wilderness</td>\n",
              "      <td>0.091337</td>\n",
              "    </tr>\n",
              "    <tr>\n",
              "      <th>11</th>\n",
              "      <td>Soil</td>\n",
              "      <td>0.211784</td>\n",
              "    </tr>\n",
              "  </tbody>\n",
              "</table>\n",
              "</div>"
            ],
            "text/plain": [
              "                               columns  Importance\n",
              "0                            Elevation    0.302668\n",
              "1                               Aspect    0.028356\n",
              "2                                Slope    0.003151\n",
              "3     Horizontal_Distance_To_Hydrology    0.042356\n",
              "4                      Vertical_Scaled    0.036576\n",
              "5      Horizontal_Distance_To_Roadways    0.107635\n",
              "6                        Hillshade_9am    0.025252\n",
              "7                       Hillshade_Noon    0.027604\n",
              "8                        Hillshade_3pm    0.023500\n",
              "9   Horizontal_Distance_To_Fire_Points    0.099782\n",
              "10                          Wilderness    0.091337\n",
              "11                                Soil    0.211784"
            ]
          },
          "metadata": {
            "tags": []
          },
          "execution_count": 41
        }
      ]
    },
    {
      "cell_type": "markdown",
      "metadata": {
        "id": "rMsTu6DtvHG5"
      },
      "source": [
        "### KNN"
      ]
    },
    {
      "cell_type": "markdown",
      "metadata": {
        "id": "UPLcIUobkPrA"
      },
      "source": [
        "\n",
        "*   scaling all numerical columns and saving it in a dataframe 'x_std'\n",
        "*   concatenating all the independent data into a dataframe 'x_' \n",
        "*   dividing data to x_ (independent variable) and y_ (dependent variable)\n",
        "*   splitting data into train and test in 7:3 ratio"
      ]
    },
    {
      "cell_type": "code",
      "metadata": {
        "id": "WNCeXr8PvHG6",
        "colab": {
          "base_uri": "https://localhost:8080/",
          "height": 214
        },
        "outputId": "ed247da0-01b2-4389-fe84-8a307014b848"
      },
      "source": [
        "from sklearn.preprocessing import StandardScaler\n",
        "\n",
        "x1 = forest_d.drop(columns= ['Cover_Type','Soil','Wilderness'])\n",
        "y_ = forest_d['Cover_Type']\n",
        "\n",
        "x_std = StandardScaler().fit_transform(x1)\n",
        "\n",
        "x_std = pd.DataFrame(x_std, columns = x1.columns)\n",
        "\n",
        "x_ = pd.concat([x_std,forest_d[['Soil','Wilderness']]], axis = 1)\n",
        "x_.head()"
      ],
      "execution_count": null,
      "outputs": [
        {
          "output_type": "execute_result",
          "data": {
            "text/html": [
              "<div>\n",
              "<style scoped>\n",
              "    .dataframe tbody tr th:only-of-type {\n",
              "        vertical-align: middle;\n",
              "    }\n",
              "\n",
              "    .dataframe tbody tr th {\n",
              "        vertical-align: top;\n",
              "    }\n",
              "\n",
              "    .dataframe thead th {\n",
              "        text-align: right;\n",
              "    }\n",
              "</style>\n",
              "<table border=\"1\" class=\"dataframe\">\n",
              "  <thead>\n",
              "    <tr style=\"text-align: right;\">\n",
              "      <th></th>\n",
              "      <th>Elevation</th>\n",
              "      <th>Aspect</th>\n",
              "      <th>Slope</th>\n",
              "      <th>Horizontal_Distance_To_Hydrology</th>\n",
              "      <th>Vertical_Scaled</th>\n",
              "      <th>Horizontal_Distance_To_Roadways</th>\n",
              "      <th>Hillshade_9am</th>\n",
              "      <th>Hillshade_Noon</th>\n",
              "      <th>Hillshade_3pm</th>\n",
              "      <th>Horizontal_Distance_To_Fire_Points</th>\n",
              "      <th>Soil</th>\n",
              "      <th>Wilderness</th>\n",
              "    </tr>\n",
              "  </thead>\n",
              "  <tbody>\n",
              "    <tr>\n",
              "      <th>0</th>\n",
              "      <td>-1.297805</td>\n",
              "      <td>-0.935157</td>\n",
              "      <td>-1.389008</td>\n",
              "      <td>0.164973</td>\n",
              "      <td>-0.867052</td>\n",
              "      <td>-1.395274</td>\n",
              "      <td>0.330743</td>\n",
              "      <td>0.439143</td>\n",
              "      <td>0.142960</td>\n",
              "      <td>2.587999</td>\n",
              "      <td>29</td>\n",
              "      <td>1</td>\n",
              "    </tr>\n",
              "    <tr>\n",
              "      <th>1</th>\n",
              "      <td>-1.319235</td>\n",
              "      <td>-0.890480</td>\n",
              "      <td>-0.578038</td>\n",
              "      <td>-0.056053</td>\n",
              "      <td>-1.014305</td>\n",
              "      <td>-1.567204</td>\n",
              "      <td>0.293388</td>\n",
              "      <td>0.590899</td>\n",
              "      <td>0.221342</td>\n",
              "      <td>2.564187</td>\n",
              "      <td>29</td>\n",
              "      <td>1</td>\n",
              "    </tr>\n",
              "    <tr>\n",
              "      <th>2</th>\n",
              "      <td>-0.554907</td>\n",
              "      <td>-0.148836</td>\n",
              "      <td>-1.277558</td>\n",
              "      <td>0.210340</td>\n",
              "      <td>0.464875</td>\n",
              "      <td>0.655217</td>\n",
              "      <td>0.816364</td>\n",
              "      <td>0.742654</td>\n",
              "      <td>-0.196691</td>\n",
              "      <td>2.518036</td>\n",
              "      <td>12</td>\n",
              "      <td>1</td>\n",
              "    </tr>\n",
              "    <tr>\n",
              "      <th>3</th>\n",
              "      <td>-0.622768</td>\n",
              "      <td>-0.005869</td>\n",
              "      <td>0.943243</td>\n",
              "      <td>0.090516</td>\n",
              "      <td>1.305345</td>\n",
              "      <td>0.606471</td>\n",
              "      <td>0.965786</td>\n",
              "      <td>0.742654</td>\n",
              "      <td>-0.536343</td>\n",
              "      <td>2.557997</td>\n",
              "      <td>30</td>\n",
              "      <td>1</td>\n",
              "    </tr>\n",
              "    <tr>\n",
              "      <th>4</th>\n",
              "      <td>-1.301377</td>\n",
              "      <td>-0.988770</td>\n",
              "      <td>-0.578038</td>\n",
              "      <td>-0.378421</td>\n",
              "      <td>-0.891238</td>\n",
              "      <td>-1.565670</td>\n",
              "      <td>0.293388</td>\n",
              "      <td>0.540313</td>\n",
              "      <td>0.195215</td>\n",
              "      <td>2.540716</td>\n",
              "      <td>29</td>\n",
              "      <td>1</td>\n",
              "    </tr>\n",
              "  </tbody>\n",
              "</table>\n",
              "</div>"
            ],
            "text/plain": [
              "   Elevation    Aspect  ...  Soil  Wilderness\n",
              "0  -1.297805 -0.935157  ...    29           1\n",
              "1  -1.319235 -0.890480  ...    29           1\n",
              "2  -0.554907 -0.148836  ...    12           1\n",
              "3  -0.622768 -0.005869  ...    30           1\n",
              "4  -1.301377 -0.988770  ...    29           1\n",
              "\n",
              "[5 rows x 12 columns]"
            ]
          },
          "metadata": {
            "tags": []
          },
          "execution_count": 34
        }
      ]
    },
    {
      "cell_type": "code",
      "metadata": {
        "id": "218oepYDvHG7"
      },
      "source": [
        "x_train_k, x_test_k, y_train_k, y_test_k = train_test_split(x_, y_, test_size = .3, random_state=25)"
      ],
      "execution_count": null,
      "outputs": []
    },
    {
      "cell_type": "code",
      "metadata": {
        "id": "_AixFMWIvHG9"
      },
      "source": [
        "from sklearn.neighbors import KNeighborsClassifier"
      ],
      "execution_count": null,
      "outputs": []
    },
    {
      "cell_type": "code",
      "metadata": {
        "id": "X0c5v_ZovHG-"
      },
      "source": [
        "knn = KNeighborsClassifier(metric = 'cityblock', n_neighbors= 4, weights= 'distance')\n",
        "knn.fit(x_train_k,y_train_k)\n",
        "y_pred_k = knn.predict(x_test_k)"
      ],
      "execution_count": null,
      "outputs": []
    },
    {
      "cell_type": "code",
      "metadata": {
        "id": "XvGq3QqRvHG_",
        "colab": {
          "base_uri": "https://localhost:8080/",
          "height": 52
        },
        "outputId": "eabe895e-64c7-4e9b-943a-7df79ee4e160"
      },
      "source": [
        "print('Training Score:',knn.score(x_train_k,y_train_k))\n",
        "print('Testing Score:',knn.score(x_test_k,y_test_k))"
      ],
      "execution_count": null,
      "outputs": [
        {
          "output_type": "stream",
          "text": [
            "Training Score: 1.0\n",
            "Testing Score: 0.9260544795300165\n"
          ],
          "name": "stdout"
        }
      ]
    },
    {
      "cell_type": "code",
      "metadata": {
        "id": "_jjFkuX0vHHC",
        "colab": {
          "base_uri": "https://localhost:8080/",
          "height": 284
        },
        "outputId": "f384b55d-1b31-49d9-9fcd-841ee9697af7"
      },
      "source": [
        "print(classification_report(y_test_k, y_pred_k))\n",
        "print(confusion_matrix(y_test_k, y_pred_k))"
      ],
      "execution_count": null,
      "outputs": [
        {
          "output_type": "stream",
          "text": [
            "              precision    recall  f1-score   support\n",
            "\n",
            "           1       0.92      0.91      0.92     63514\n",
            "           2       0.93      0.94      0.93     85045\n",
            "           3       0.96      0.96      0.96     16786\n",
            "           4       0.90      0.86      0.88      8959\n",
            "\n",
            "    accuracy                           0.93    174304\n",
            "   macro avg       0.93      0.92      0.92    174304\n",
            "weighted avg       0.93      0.93      0.93    174304\n",
            "\n",
            "[[57831  5264    29   390]\n",
            " [ 4327 79666   632   420]\n",
            " [   23   530 16192    41]\n",
            " [  525   644    64  7726]]\n"
          ],
          "name": "stdout"
        }
      ]
    },
    {
      "cell_type": "markdown",
      "metadata": {
        "id": "uWEyP1NbvHHE"
      },
      "source": [
        "### Ensemble Techniques"
      ]
    },
    {
      "cell_type": "code",
      "metadata": {
        "id": "hmwjqAZ5vHHE"
      },
      "source": [
        "#base_LR = LogisticRegression(random_state = 25)\n",
        "base_DT = DecisionTreeClassifier(criterion = \"entropy\", \n",
        "                                  random_state = 25,\n",
        "                                  max_depth=19, \n",
        "                                  min_samples_leaf=10,\n",
        "                                  min_samples_split=10)\n",
        "#base_NB = GaussianNB()\n",
        "base_RF = RandomForestClassifier(criterion = \"entropy\", \n",
        "                                  random_state = 25,\n",
        "                                  max_depth=19, \n",
        "                                  min_samples_leaf=10,\n",
        "                                  min_samples_split=10)\n",
        "base_KNN = KNeighborsClassifier(metric = 'cityblock', \n",
        "                                n_neighbors= 4, \n",
        "                                weights= 'distance')"
      ],
      "execution_count": null,
      "outputs": []
    },
    {
      "cell_type": "markdown",
      "metadata": {
        "id": "9Z7U__OnvHHF"
      },
      "source": [
        "### Bagging"
      ]
    },
    {
      "cell_type": "code",
      "metadata": {
        "id": "A8tz2ohFvHHG"
      },
      "source": [
        "from sklearn.ensemble import BaggingClassifier"
      ],
      "execution_count": null,
      "outputs": []
    },
    {
      "cell_type": "markdown",
      "metadata": {
        "id": "6riJpbUBvHHH"
      },
      "source": [
        "#### Decision Bag"
      ]
    },
    {
      "cell_type": "code",
      "metadata": {
        "id": "sMzlnMhgvHHH",
        "colab": {
          "base_uri": "https://localhost:8080/",
          "height": 319
        },
        "outputId": "2c991f81-7af1-4f1e-f6d2-b9d415cc5519"
      },
      "source": [
        "bgcl_DT = BaggingClassifier(base_estimator=base_DT,n_estimators=51,oob_score=True,random_state=25)\n",
        "bgcl_DT.fit(x_train, y_train)"
      ],
      "execution_count": null,
      "outputs": [
        {
          "output_type": "execute_result",
          "data": {
            "text/plain": [
              "BaggingClassifier(base_estimator=DecisionTreeClassifier(ccp_alpha=0.0,\n",
              "                                                        class_weight=None,\n",
              "                                                        criterion='entropy',\n",
              "                                                        max_depth=19,\n",
              "                                                        max_features=None,\n",
              "                                                        max_leaf_nodes=None,\n",
              "                                                        min_impurity_decrease=0.0,\n",
              "                                                        min_impurity_split=None,\n",
              "                                                        min_samples_leaf=10,\n",
              "                                                        min_samples_split=10,\n",
              "                                                        min_weight_fraction_leaf=0.0,\n",
              "                                                        presort='deprecated',\n",
              "                                                        random_state=25,\n",
              "                                                        splitter='best'),\n",
              "                  bootstrap=True, bootstrap_features=False, max_features=1.0,\n",
              "                  max_samples=1.0, n_estimators=51, n_jobs=None, oob_score=True,\n",
              "                  random_state=25, verbose=0, warm_start=False)"
            ]
          },
          "metadata": {
            "tags": []
          },
          "execution_count": 50
        }
      ]
    },
    {
      "cell_type": "code",
      "metadata": {
        "id": "N4WODkMGvHHJ",
        "colab": {
          "base_uri": "https://localhost:8080/",
          "height": 70
        },
        "outputId": "c8c0badd-84c9-42ee-dd29-1b3eb64d970b"
      },
      "source": [
        "print('OOB SCORE:',bgcl_DT.oob_score_)\n",
        "print('Training Score:',bgcl_DT.score(x_train,y_train))\n",
        "print('Testing Score:',bgcl_DT.score(x_test,y_test))"
      ],
      "execution_count": null,
      "outputs": [
        {
          "output_type": "stream",
          "text": [
            "OOB SCORE: 0.9421255544518427\n",
            "Training Score: 0.965574810429104\n",
            "Testing Score: 0.9447115384615384\n"
          ],
          "name": "stdout"
        }
      ]
    },
    {
      "cell_type": "code",
      "metadata": {
        "id": "0rwyqpQWvHHK",
        "colab": {
          "base_uri": "https://localhost:8080/",
          "height": 284
        },
        "outputId": "87eb6663-0420-4198-9937-c377c3fe580f"
      },
      "source": [
        "print(classification_report(y_test,bgcl_DT.predict(x_test)))\n",
        "print(confusion_matrix(y_test,bgcl_DT.predict(x_test)))"
      ],
      "execution_count": null,
      "outputs": [
        {
          "output_type": "stream",
          "text": [
            "              precision    recall  f1-score   support\n",
            "\n",
            "           1       0.95      0.93      0.94     63514\n",
            "           2       0.94      0.96      0.95     85045\n",
            "           3       0.97      0.98      0.98     16786\n",
            "           4       0.95      0.87      0.91      8959\n",
            "\n",
            "    accuracy                           0.94    174304\n",
            "   macro avg       0.95      0.93      0.94    174304\n",
            "weighted avg       0.94      0.94      0.94    174304\n",
            "\n",
            "[[58881  4418     6   209]\n",
            " [ 2888 81617   350   190]\n",
            " [   11   359 16407     9]\n",
            " [  453   671    73  7762]]\n"
          ],
          "name": "stdout"
        }
      ]
    },
    {
      "cell_type": "markdown",
      "metadata": {
        "id": "xRZlseyXvHHM"
      },
      "source": [
        "#### Random Forest Bag"
      ]
    },
    {
      "cell_type": "code",
      "metadata": {
        "id": "cTfjBuuSvHHO",
        "colab": {
          "base_uri": "https://localhost:8080/",
          "height": 408
        },
        "outputId": "76c52943-500c-4fbf-f721-03127e50dd20"
      },
      "source": [
        "bgcl_RF = BaggingClassifier(base_estimator=base_RF,n_estimators=51,oob_score=True,random_state=25)\n",
        "bgcl_RF.fit(x_train, y_train)"
      ],
      "execution_count": null,
      "outputs": [
        {
          "output_type": "execute_result",
          "data": {
            "text/plain": [
              "BaggingClassifier(base_estimator=RandomForestClassifier(bootstrap=True,\n",
              "                                                        ccp_alpha=0.0,\n",
              "                                                        class_weight=None,\n",
              "                                                        criterion='entropy',\n",
              "                                                        max_depth=19,\n",
              "                                                        max_features='auto',\n",
              "                                                        max_leaf_nodes=None,\n",
              "                                                        max_samples=None,\n",
              "                                                        min_impurity_decrease=0.0,\n",
              "                                                        min_impurity_split=None,\n",
              "                                                        min_samples_leaf=10,\n",
              "                                                        min_samples_split=10,\n",
              "                                                        min_weight_fraction_leaf=0.0,\n",
              "                                                        n_estimators=100,\n",
              "                                                        n_jobs=None,\n",
              "                                                        oob_score=False,\n",
              "                                                        random_state=25,\n",
              "                                                        verbose=0,\n",
              "                                                        warm_start=False),\n",
              "                  bootstrap=True, bootstrap_features=False, max_features=1.0,\n",
              "                  max_samples=1.0, n_estimators=51, n_jobs=None, oob_score=True,\n",
              "                  random_state=25, verbose=0, warm_start=False)"
            ]
          },
          "metadata": {
            "tags": []
          },
          "execution_count": 53
        }
      ]
    },
    {
      "cell_type": "code",
      "metadata": {
        "id": "VujkF__dvHHP",
        "colab": {
          "base_uri": "https://localhost:8080/",
          "height": 70
        },
        "outputId": "7fbac6f4-8239-495d-865a-824c857f4ad8"
      },
      "source": [
        "print('OOB SCORE:',bgcl_RF.oob_score_)\n",
        "print('Training Score:',bgcl_RF.score(x_train,y_train))\n",
        "print('Accuracy:',bgcl_RF.score(x_test,y_test))"
      ],
      "execution_count": null,
      "outputs": [
        {
          "output_type": "stream",
          "text": [
            "OOB SCORE: 0.918735308870246\n",
            "Training Score: 0.9361482931243054\n",
            "Accuracy: 0.9193822287497705\n"
          ],
          "name": "stdout"
        }
      ]
    },
    {
      "cell_type": "code",
      "metadata": {
        "id": "btrT--wyvHHR",
        "colab": {
          "base_uri": "https://localhost:8080/",
          "height": 284
        },
        "outputId": "b7407ac0-d0eb-4e7e-c257-6a6f188c2dc2"
      },
      "source": [
        "print(classification_report(y_test,bgcl_RF.predict(x_test)))\n",
        "print(confusion_matrix(y_test,bgcl_RF.predict(x_test)))"
      ],
      "execution_count": null,
      "outputs": [
        {
          "output_type": "stream",
          "text": [
            "              precision    recall  f1-score   support\n",
            "\n",
            "           1       0.93      0.89      0.91     63514\n",
            "           2       0.90      0.95      0.93     85045\n",
            "           3       0.96      0.97      0.96     16786\n",
            "           4       0.96      0.77      0.86      8959\n",
            "\n",
            "    accuracy                           0.92    174304\n",
            "   macro avg       0.94      0.89      0.91    174304\n",
            "weighted avg       0.92      0.92      0.92    174304\n",
            "\n",
            "[[56476  6827    16   195]\n",
            " [ 3740 80591   587   127]\n",
            " [    1   537 16245     3]\n",
            " [  734  1213    72  6940]]\n"
          ],
          "name": "stdout"
        }
      ]
    },
    {
      "cell_type": "markdown",
      "metadata": {
        "id": "3MKLSZDfvHHS"
      },
      "source": [
        "#### KNN Bag"
      ]
    },
    {
      "cell_type": "code",
      "metadata": {
        "id": "FxdtBMrlvHHS",
        "colab": {
          "base_uri": "https://localhost:8080/",
          "height": 195
        },
        "outputId": "4ca04a1f-c192-4d05-bc37-2f6a6c0c38fa"
      },
      "source": [
        "bgcl_KN = BaggingClassifier(base_estimator=base_KNN,n_estimators=51,oob_score=True,random_state=25)\n",
        "bgcl_KN.fit(x_train_k, y_train_k)"
      ],
      "execution_count": null,
      "outputs": [
        {
          "output_type": "execute_result",
          "data": {
            "text/plain": [
              "BaggingClassifier(base_estimator=KNeighborsClassifier(algorithm='auto',\n",
              "                                                      leaf_size=30,\n",
              "                                                      metric='cityblock',\n",
              "                                                      metric_params=None,\n",
              "                                                      n_jobs=None,\n",
              "                                                      n_neighbors=4, p=2,\n",
              "                                                      weights='distance'),\n",
              "                  bootstrap=True, bootstrap_features=False, max_features=1.0,\n",
              "                  max_samples=1.0, n_estimators=51, n_jobs=None, oob_score=True,\n",
              "                  random_state=25, verbose=0, warm_start=False)"
            ]
          },
          "metadata": {
            "tags": []
          },
          "execution_count": 39
        }
      ]
    },
    {
      "cell_type": "code",
      "metadata": {
        "id": "JbjU8VB8vHHU",
        "colab": {
          "base_uri": "https://localhost:8080/",
          "height": 70
        },
        "outputId": "de3402e2-1718-4892-ea10-307011d3ddc9"
      },
      "source": [
        "print('OOB SCORE:',bgcl_KN.oob_score_)\n",
        "print('Training Score:',bgcl_KN.score(x_train_k,y_train_k))\n",
        "print('Testing Score:',bgcl_KN.score(x_test_k,y_test_k))"
      ],
      "execution_count": null,
      "outputs": [
        {
          "output_type": "stream",
          "text": [
            "OOB SCORE: 0.9247224052637273\n",
            "Training Score: 0.9997811697827433\n",
            "Testing Score: 0.9263183862676703\n"
          ],
          "name": "stdout"
        }
      ]
    },
    {
      "cell_type": "code",
      "metadata": {
        "id": "u5FVXJh_vHHV",
        "colab": {
          "base_uri": "https://localhost:8080/",
          "height": 284
        },
        "outputId": "f733b1de-f52d-4904-bf75-5ae03c93ef88"
      },
      "source": [
        "print(classification_report(y_test_k,bgcl_KN.predict(x_test_k)))\n",
        "print(confusion_matrix(y_test_k,bgcl_KN.predict(x_test_k)))"
      ],
      "execution_count": null,
      "outputs": [
        {
          "output_type": "stream",
          "text": [
            "              precision    recall  f1-score   support\n",
            "\n",
            "           1       0.93      0.91      0.92     63514\n",
            "           2       0.92      0.94      0.93     85045\n",
            "           3       0.96      0.97      0.96     16786\n",
            "           4       0.90      0.86      0.88      8959\n",
            "\n",
            "    accuracy                           0.93    174304\n",
            "   macro avg       0.93      0.92      0.92    174304\n",
            "weighted avg       0.93      0.93      0.93    174304\n",
            "\n",
            "[[57679  5429    29   377]\n",
            " [ 4105 79886   646   408]\n",
            " [   22   518 16206    40]\n",
            " [  543   657    69  7690]]\n"
          ],
          "name": "stdout"
        }
      ]
    },
    {
      "cell_type": "markdown",
      "metadata": {
        "id": "j9fdhNpMvHHX"
      },
      "source": [
        "### AdaBoost"
      ]
    },
    {
      "cell_type": "code",
      "metadata": {
        "id": "lTIVFcEzvHHX"
      },
      "source": [
        "from sklearn.ensemble import AdaBoostClassifier\n",
        "\n",
        "abcl_DT = AdaBoostClassifier(base_estimator=base_DT,n_estimators=50,random_state=25)\n",
        "\n",
        "abcl_RF = AdaBoostClassifier(base_estimator=base_RF,n_estimators=50,random_state=25)"
      ],
      "execution_count": null,
      "outputs": []
    },
    {
      "cell_type": "markdown",
      "metadata": {
        "id": "czADdxmToP_0"
      },
      "source": [
        "#### Decision Tree"
      ]
    },
    {
      "cell_type": "code",
      "metadata": {
        "scrolled": true,
        "id": "kCtpXFduvHHa",
        "colab": {
          "base_uri": "https://localhost:8080/",
          "height": 52
        },
        "outputId": "564bc37a-a4d1-4974-b6d5-bcaf325ace7a"
      },
      "source": [
        "abcl_DT.fit(x_train,y_train)\n",
        "print('AdaBoost DT Training Score:',abcl_DT.score(x_train,y_train))\n",
        "print('AdaBoost DT Testing Score:',abcl_DT.score(x_test,y_test))"
      ],
      "execution_count": null,
      "outputs": [
        {
          "output_type": "stream",
          "text": [
            "AdaBoost DT Training Score: 0.9999975412335139\n",
            "AdaBoost DT Testing Score: 0.9502535799522673\n"
          ],
          "name": "stdout"
        }
      ]
    },
    {
      "cell_type": "code",
      "metadata": {
        "id": "-u0-UqdsvHHb",
        "colab": {
          "base_uri": "https://localhost:8080/",
          "height": 284
        },
        "outputId": "4199a7ea-1527-4de3-940d-4e82ef0611ce"
      },
      "source": [
        "print(classification_report(y_test,abcl_DT.predict(x_test)))\n",
        "print(confusion_matrix(y_test,abcl_DT.predict(x_test)))"
      ],
      "execution_count": null,
      "outputs": [
        {
          "output_type": "stream",
          "text": [
            "              precision    recall  f1-score   support\n",
            "\n",
            "           1       0.95      0.94      0.94     63514\n",
            "           2       0.94      0.96      0.95     85045\n",
            "           3       0.98      0.98      0.98     16786\n",
            "           4       0.97      0.87      0.92      8959\n",
            "\n",
            "    accuracy                           0.95    174304\n",
            "   macro avg       0.96      0.94      0.95    174304\n",
            "weighted avg       0.95      0.95      0.95    174304\n",
            "\n",
            "[[59495  3908     3   108]\n",
            " [ 2683 81923   346    93]\n",
            " [    3   324 16451     8]\n",
            " [  438   697    60  7764]]\n"
          ],
          "name": "stdout"
        }
      ]
    },
    {
      "cell_type": "markdown",
      "metadata": {
        "id": "yt8KQw7OoSlN"
      },
      "source": [
        "#### Random Forest\n"
      ]
    },
    {
      "cell_type": "code",
      "metadata": {
        "id": "A5M-BCGtvHHd",
        "colab": {
          "base_uri": "https://localhost:8080/",
          "height": 52
        },
        "outputId": "8bf8b7ea-3f7f-4442-af76-a813f76bd6e3"
      },
      "source": [
        "abcl_RF.fit(x_train,y_train)\n",
        "print('AdaBoost RF Training Score:',abcl_RF.score(x_train,y_train))\n",
        "print('AdaBoost RF Testing Score:',abcl_RF.score(x_test,y_test))"
      ],
      "execution_count": null,
      "outputs": [
        {
          "output_type": "stream",
          "text": [
            "AdaBoost RF Training Score: 0.9222341335798656\n",
            "AdaBoost RF Testing Score: 0.8827565632458234\n"
          ],
          "name": "stdout"
        }
      ]
    },
    {
      "cell_type": "code",
      "metadata": {
        "id": "eyTdoy2DvHHe",
        "colab": {
          "base_uri": "https://localhost:8080/",
          "height": 284
        },
        "outputId": "246111b9-3cf7-481a-84b4-9244a767d5c0"
      },
      "source": [
        "print(classification_report(y_test,abcl_RF.predict(x_test)))\n",
        "print(confusion_matrix(y_test,abcl_RF.predict(x_test)))"
      ],
      "execution_count": null,
      "outputs": [
        {
          "output_type": "stream",
          "text": [
            "              precision    recall  f1-score   support\n",
            "\n",
            "           1       0.87      0.84      0.85     63514\n",
            "           2       0.87      0.92      0.89     85045\n",
            "           3       0.96      0.97      0.97     16786\n",
            "           4       0.97      0.68      0.80      8959\n",
            "\n",
            "    accuracy                           0.88    174304\n",
            "   macro avg       0.92      0.85      0.88    174304\n",
            "weighted avg       0.88      0.88      0.88    174304\n",
            "\n",
            "[[53436  9972     6   100]\n",
            " [ 6390 77945   615    95]\n",
            " [    1   416 16356    13]\n",
            " [ 1739  1035    54  6131]]\n"
          ],
          "name": "stdout"
        }
      ]
    },
    {
      "cell_type": "markdown",
      "metadata": {
        "id": "UwDyzdVOvHHi"
      },
      "source": [
        "### Gradient Boosting"
      ]
    },
    {
      "cell_type": "code",
      "metadata": {
        "id": "ER5dz_MhvHHi",
        "colab": {
          "base_uri": "https://localhost:8080/",
          "height": 195
        },
        "outputId": "e73a3422-ce67-4fa3-e49f-0bfe403616e1"
      },
      "source": [
        "from sklearn.ensemble import GradientBoostingClassifier\n",
        "\n",
        "gbcl = GradientBoostingClassifier(random_state = 25,\n",
        "                                  max_depth=19, \n",
        "                                  min_samples_leaf=10,\n",
        "                                  min_samples_split=10,\n",
        "                                  n_estimators = 50)\n",
        "gbcl.fit(x_train, y_train)"
      ],
      "execution_count": null,
      "outputs": [
        {
          "output_type": "execute_result",
          "data": {
            "text/plain": [
              "GradientBoostingClassifier(ccp_alpha=0.0, criterion='friedman_mse', init=None,\n",
              "                           learning_rate=0.1, loss='deviance', max_depth=19,\n",
              "                           max_features=None, max_leaf_nodes=None,\n",
              "                           min_impurity_decrease=0.0, min_impurity_split=None,\n",
              "                           min_samples_leaf=10, min_samples_split=10,\n",
              "                           min_weight_fraction_leaf=0.0, n_estimators=50,\n",
              "                           n_iter_no_change=None, presort='deprecated',\n",
              "                           random_state=25, subsample=1.0, tol=0.0001,\n",
              "                           validation_fraction=0.1, verbose=0,\n",
              "                           warm_start=False)"
            ]
          },
          "metadata": {
            "tags": []
          },
          "execution_count": 44
        }
      ]
    },
    {
      "cell_type": "code",
      "metadata": {
        "id": "Epm6CznQvHHk",
        "colab": {
          "base_uri": "https://localhost:8080/",
          "height": 52
        },
        "outputId": "9af04c14-1ded-41be-9a7e-315ec7e81400"
      },
      "source": [
        "print('Training Score:',gbcl.score(x_train,y_train))\n",
        "print('Testing Score:',gbcl.score(x_test,y_test))"
      ],
      "execution_count": null,
      "outputs": [
        {
          "output_type": "stream",
          "text": [
            "Training Score: 1.0\n",
            "Testing Score: 0.9729782449054526\n"
          ],
          "name": "stdout"
        }
      ]
    },
    {
      "cell_type": "code",
      "metadata": {
        "id": "UqvH7zm2vHHm",
        "colab": {
          "base_uri": "https://localhost:8080/",
          "height": 284
        },
        "outputId": "a55e56b3-73a2-4ecc-90ce-8f50008b79bd"
      },
      "source": [
        "print(classification_report(y_test,gbcl.predict(x_test)))\n",
        "print(confusion_matrix(y_test,gbcl.predict(x_test)))"
      ],
      "execution_count": null,
      "outputs": [
        {
          "output_type": "stream",
          "text": [
            "              precision    recall  f1-score   support\n",
            "\n",
            "           1       0.97      0.97      0.97     63514\n",
            "           2       0.97      0.98      0.98     85045\n",
            "           3       0.98      0.99      0.98     16786\n",
            "           4       0.97      0.92      0.94      8959\n",
            "\n",
            "    accuracy                           0.97    174304\n",
            "   macro avg       0.97      0.96      0.97    174304\n",
            "weighted avg       0.97      0.97      0.97    174304\n",
            "\n",
            "[[61472  1911     3   128]\n",
            " [ 1372 83309   222   142]\n",
            " [    4   221 16548    13]\n",
            " [  258   383    53  8265]]\n"
          ],
          "name": "stdout"
        }
      ]
    },
    {
      "cell_type": "code",
      "metadata": {
        "id": "HK__9Y70v2qH"
      },
      "source": [
        ""
      ],
      "execution_count": null,
      "outputs": []
    },
    {
      "cell_type": "markdown",
      "metadata": {
        "id": "Z_GBjznzmLWJ"
      },
      "source": [
        "## Added Features"
      ]
    },
    {
      "cell_type": "markdown",
      "metadata": {
        "id": "UrlDV-Sjonba"
      },
      "source": [
        "Constructing a dataframe with added features and removing features on which some feature engineering has been applied, so as to gauge their performance in classifying cover_types."
      ]
    },
    {
      "cell_type": "code",
      "metadata": {
        "id": "rmCfG6COl2OD",
        "colab": {
          "base_uri": "https://localhost:8080/",
          "height": 355
        },
        "outputId": "05e32a9f-7d3f-4a8b-bd8f-beabb655ca9d"
      },
      "source": [
        "forest_c = forest_b.drop(columns = forest_b.columns[3:10])\n",
        "forest_c.info()"
      ],
      "execution_count": null,
      "outputs": [
        {
          "output_type": "stream",
          "text": [
            "<class 'pandas.core.frame.DataFrame'>\n",
            "RangeIndex: 581012 entries, 0 to 581011\n",
            "Data columns (total 12 columns):\n",
            " #   Column          Non-Null Count   Dtype   \n",
            "---  ------          --------------   -----   \n",
            " 0   Elevation       581012 non-null  int64   \n",
            " 1   Aspect          581012 non-null  int64   \n",
            " 2   Slope           581012 non-null  float64 \n",
            " 3   Hydr_Slope      581012 non-null  float64 \n",
            " 4   Avg_Horizontal  581012 non-null  float64 \n",
            " 5   Fire_Road       581012 non-null  float64 \n",
            " 6   Hillshades      581012 non-null  float64 \n",
            " 7   Hydr_Dist       581012 non-null  float64 \n",
            " 8   Fire_Hydr       581012 non-null  float64 \n",
            " 9   Wilderness      581012 non-null  category\n",
            " 10  Soil            581012 non-null  category\n",
            " 11  Cover_Type      581012 non-null  category\n",
            "dtypes: category(3), float64(7), int64(2)\n",
            "memory usage: 41.6 MB\n"
          ],
          "name": "stdout"
        }
      ]
    },
    {
      "cell_type": "markdown",
      "metadata": {
        "id": "OMk_5e0M5-8G"
      },
      "source": [
        "## Modelling on added features"
      ]
    },
    {
      "cell_type": "markdown",
      "metadata": {
        "id": "Qn2tOsH85-8Q"
      },
      "source": [
        "### Decision Tree"
      ]
    },
    {
      "cell_type": "code",
      "metadata": {
        "id": "rc3MlvkY5-8T"
      },
      "source": [
        "from sklearn.model_selection import train_test_split\n",
        "from sklearn.metrics import classification_report, confusion_matrix, accuracy_score\n",
        "from sklearn.tree import DecisionTreeClassifier\n",
        "import warnings\n",
        "warnings.filterwarnings(\"ignore\")"
      ],
      "execution_count": null,
      "outputs": []
    },
    {
      "cell_type": "markdown",
      "metadata": {
        "id": "vhR6ohj1jnBw"
      },
      "source": [
        "Dividing data into x (independent variable) and y (dependent variable) and then splitting data to train and test in 7:3 ratio"
      ]
    },
    {
      "cell_type": "code",
      "metadata": {
        "id": "askbpJcK5-8i"
      },
      "source": [
        "x = forest_c.drop(columns = ['Cover_Type'])\n",
        "y = forest_c['Cover_Type']"
      ],
      "execution_count": null,
      "outputs": []
    },
    {
      "cell_type": "code",
      "metadata": {
        "id": "6sjW-BlX5-8s"
      },
      "source": [
        "x_train, x_test, y_train, y_test = train_test_split(x, y, test_size = .3, random_state=25)"
      ],
      "execution_count": null,
      "outputs": []
    },
    {
      "cell_type": "code",
      "metadata": {
        "id": "9Q57PlKV5-81",
        "colab": {
          "base_uri": "https://localhost:8080/"
        },
        "outputId": "edfd381b-f9aa-4e87-8c59-4d4613c4988d"
      },
      "source": [
        "dt = DecisionTreeClassifier(criterion = \"entropy\", \n",
        "                                  random_state = 25,\n",
        "                                  max_depth=19, \n",
        "                                  min_samples_leaf=10,\n",
        "                                  min_samples_split=10)\n",
        "dt.fit(x_train, y_train)"
      ],
      "execution_count": null,
      "outputs": [
        {
          "output_type": "execute_result",
          "data": {
            "text/plain": [
              "DecisionTreeClassifier(ccp_alpha=0.0, class_weight=None, criterion='entropy',\n",
              "                       max_depth=19, max_features=None, max_leaf_nodes=None,\n",
              "                       min_impurity_decrease=0.0, min_impurity_split=None,\n",
              "                       min_samples_leaf=10, min_samples_split=10,\n",
              "                       min_weight_fraction_leaf=0.0, presort='deprecated',\n",
              "                       random_state=25, splitter='best')"
            ]
          },
          "metadata": {
            "tags": []
          },
          "execution_count": 34
        }
      ]
    },
    {
      "cell_type": "code",
      "metadata": {
        "id": "V1oRaMUg5-9F",
        "colab": {
          "base_uri": "https://localhost:8080/"
        },
        "outputId": "59efabab-3d8d-4ab1-ec06-192d4331a76a"
      },
      "source": [
        "print('Training Score:',dt.score(x_train, y_train))\n",
        "print('Testing Score:',dt.score(x_test, y_test))"
      ],
      "execution_count": null,
      "outputs": [
        {
          "output_type": "stream",
          "text": [
            "Training Score: 0.9310168474679623\n",
            "Testing Score: 0.9055271250229484\n"
          ],
          "name": "stdout"
        }
      ]
    },
    {
      "cell_type": "code",
      "metadata": {
        "id": "1q_FKxoe5-9P",
        "colab": {
          "base_uri": "https://localhost:8080/"
        },
        "outputId": "ef27ae34-87d5-4a8e-90a3-319210962e95"
      },
      "source": [
        "y_pred = dt.predict(x_test)\n",
        "print(classification_report(y_test,y_pred))\n",
        "print(confusion_matrix(y_test,y_pred))"
      ],
      "execution_count": null,
      "outputs": [
        {
          "output_type": "stream",
          "text": [
            "              precision    recall  f1-score   support\n",
            "\n",
            "           1       0.89      0.89      0.89     63514\n",
            "           2       0.91      0.91      0.91     85045\n",
            "           3       0.95      0.96      0.95     16786\n",
            "           4       0.89      0.85      0.87      8959\n",
            "\n",
            "    accuracy                           0.91    174304\n",
            "   macro avg       0.91      0.90      0.91    174304\n",
            "weighted avg       0.91      0.91      0.91    174304\n",
            "\n",
            "[[56639  6448     8   419]\n",
            " [ 6254 77522   776   493]\n",
            " [   19   653 16084    30]\n",
            " [  535   756    76  7592]]\n"
          ],
          "name": "stdout"
        }
      ]
    },
    {
      "cell_type": "code",
      "metadata": {
        "id": "vj8EmRdF5-9Y",
        "colab": {
          "base_uri": "https://localhost:8080/"
        },
        "outputId": "d1ecdb29-bd4c-4f0e-aa3a-6612900c19f9"
      },
      "source": [
        "pd.DataFrame({'columns':x.columns,'Importance':dt.feature_importances_})"
      ],
      "execution_count": null,
      "outputs": [
        {
          "output_type": "execute_result",
          "data": {
            "text/html": [
              "<div>\n",
              "<style scoped>\n",
              "    .dataframe tbody tr th:only-of-type {\n",
              "        vertical-align: middle;\n",
              "    }\n",
              "\n",
              "    .dataframe tbody tr th {\n",
              "        vertical-align: top;\n",
              "    }\n",
              "\n",
              "    .dataframe thead th {\n",
              "        text-align: right;\n",
              "    }\n",
              "</style>\n",
              "<table border=\"1\" class=\"dataframe\">\n",
              "  <thead>\n",
              "    <tr style=\"text-align: right;\">\n",
              "      <th></th>\n",
              "      <th>columns</th>\n",
              "      <th>Importance</th>\n",
              "    </tr>\n",
              "  </thead>\n",
              "  <tbody>\n",
              "    <tr>\n",
              "      <th>0</th>\n",
              "      <td>Elevation</td>\n",
              "      <td>0.438735</td>\n",
              "    </tr>\n",
              "    <tr>\n",
              "      <th>1</th>\n",
              "      <td>Aspect</td>\n",
              "      <td>0.043515</td>\n",
              "    </tr>\n",
              "    <tr>\n",
              "      <th>2</th>\n",
              "      <td>Slope</td>\n",
              "      <td>0.001225</td>\n",
              "    </tr>\n",
              "    <tr>\n",
              "      <th>3</th>\n",
              "      <td>Hydr_Slope</td>\n",
              "      <td>0.003349</td>\n",
              "    </tr>\n",
              "    <tr>\n",
              "      <th>4</th>\n",
              "      <td>Avg_Horizontal</td>\n",
              "      <td>0.063481</td>\n",
              "    </tr>\n",
              "    <tr>\n",
              "      <th>5</th>\n",
              "      <td>Fire_Road</td>\n",
              "      <td>0.093511</td>\n",
              "    </tr>\n",
              "    <tr>\n",
              "      <th>6</th>\n",
              "      <td>Hillshades</td>\n",
              "      <td>0.029338</td>\n",
              "    </tr>\n",
              "    <tr>\n",
              "      <th>7</th>\n",
              "      <td>Hydr_Dist</td>\n",
              "      <td>0.052525</td>\n",
              "    </tr>\n",
              "    <tr>\n",
              "      <th>8</th>\n",
              "      <td>Fire_Hydr</td>\n",
              "      <td>0.103629</td>\n",
              "    </tr>\n",
              "    <tr>\n",
              "      <th>9</th>\n",
              "      <td>Wilderness</td>\n",
              "      <td>0.045393</td>\n",
              "    </tr>\n",
              "    <tr>\n",
              "      <th>10</th>\n",
              "      <td>Soil</td>\n",
              "      <td>0.125300</td>\n",
              "    </tr>\n",
              "  </tbody>\n",
              "</table>\n",
              "</div>"
            ],
            "text/plain": [
              "           columns  Importance\n",
              "0        Elevation    0.438735\n",
              "1           Aspect    0.043515\n",
              "2            Slope    0.001225\n",
              "3       Hydr_Slope    0.003349\n",
              "4   Avg_Horizontal    0.063481\n",
              "5        Fire_Road    0.093511\n",
              "6       Hillshades    0.029338\n",
              "7        Hydr_Dist    0.052525\n",
              "8        Fire_Hydr    0.103629\n",
              "9       Wilderness    0.045393\n",
              "10            Soil    0.125300"
            ]
          },
          "metadata": {
            "tags": []
          },
          "execution_count": 37
        }
      ]
    },
    {
      "cell_type": "markdown",
      "metadata": {
        "id": "F6Sz5Wpr5-9j"
      },
      "source": [
        "### Random Forest"
      ]
    },
    {
      "cell_type": "code",
      "metadata": {
        "id": "fARHLXjw5-9l"
      },
      "source": [
        "from sklearn.ensemble import RandomForestClassifier"
      ],
      "execution_count": null,
      "outputs": []
    },
    {
      "cell_type": "code",
      "metadata": {
        "id": "7pxRUcIh5-9u",
        "colab": {
          "base_uri": "https://localhost:8080/"
        },
        "outputId": "03c0c365-af62-47ab-ba61-d57446ac09e5"
      },
      "source": [
        "rforest = RandomForestClassifier(criterion = \"entropy\", \n",
        "                                  random_state = 25,\n",
        "                                  max_depth=19, \n",
        "                                  min_samples_leaf=10,\n",
        "                                  min_samples_split=10)\n",
        "rforest.fit(x_train, y_train)"
      ],
      "execution_count": null,
      "outputs": [
        {
          "output_type": "execute_result",
          "data": {
            "text/plain": [
              "RandomForestClassifier(bootstrap=True, ccp_alpha=0.0, class_weight=None,\n",
              "                       criterion='entropy', max_depth=19, max_features='auto',\n",
              "                       max_leaf_nodes=None, max_samples=None,\n",
              "                       min_impurity_decrease=0.0, min_impurity_split=None,\n",
              "                       min_samples_leaf=10, min_samples_split=10,\n",
              "                       min_weight_fraction_leaf=0.0, n_estimators=100,\n",
              "                       n_jobs=None, oob_score=False, random_state=25, verbose=0,\n",
              "                       warm_start=False)"
            ]
          },
          "metadata": {
            "tags": []
          },
          "execution_count": 39
        }
      ]
    },
    {
      "cell_type": "code",
      "metadata": {
        "id": "Nxv4ko9k5-92",
        "colab": {
          "base_uri": "https://localhost:8080/"
        },
        "outputId": "5d5dc66d-8fbb-4381-f2ae-5c862653f62e"
      },
      "source": [
        "print('Training Score:',rforest.score(x_train, y_train))\n",
        "print('Testing Score:',rforest.score(x_test, y_test))"
      ],
      "execution_count": null,
      "outputs": [
        {
          "output_type": "stream",
          "text": [
            "Training Score: 0.9546210057338435\n",
            "Testing Score: 0.9331856985496604\n"
          ],
          "name": "stdout"
        }
      ]
    },
    {
      "cell_type": "code",
      "metadata": {
        "id": "fAr6wRop5-9_",
        "colab": {
          "base_uri": "https://localhost:8080/"
        },
        "outputId": "8b3c89cb-cc38-4996-cd60-aa1dd3f2139d"
      },
      "source": [
        "y_pred = rforest.predict(x_test)\n",
        "print(classification_report(y_test,y_pred))\n",
        "print(confusion_matrix(y_test,y_pred))"
      ],
      "execution_count": null,
      "outputs": [
        {
          "output_type": "stream",
          "text": [
            "              precision    recall  f1-score   support\n",
            "\n",
            "           1       0.94      0.91      0.92     63514\n",
            "           2       0.92      0.95      0.94     85045\n",
            "           3       0.97      0.98      0.97     16786\n",
            "           4       0.96      0.84      0.89      8959\n",
            "\n",
            "    accuracy                           0.93    174304\n",
            "   macro avg       0.95      0.92      0.93    174304\n",
            "weighted avg       0.93      0.93      0.93    174304\n",
            "\n",
            "[[57649  5684     6   175]\n",
            " [ 3299 81116   476   154]\n",
            " [    1   389 16392     4]\n",
            " [  502   880    76  7501]]\n"
          ],
          "name": "stdout"
        }
      ]
    },
    {
      "cell_type": "code",
      "metadata": {
        "id": "nwwUVeCL5--H",
        "colab": {
          "base_uri": "https://localhost:8080/"
        },
        "outputId": "75d3540b-7038-4b49-d56a-975d2775f96b"
      },
      "source": [
        "pd.DataFrame({'columns':x.columns,'Importance':rforest.feature_importances_})"
      ],
      "execution_count": null,
      "outputs": [
        {
          "output_type": "execute_result",
          "data": {
            "text/html": [
              "<div>\n",
              "<style scoped>\n",
              "    .dataframe tbody tr th:only-of-type {\n",
              "        vertical-align: middle;\n",
              "    }\n",
              "\n",
              "    .dataframe tbody tr th {\n",
              "        vertical-align: top;\n",
              "    }\n",
              "\n",
              "    .dataframe thead th {\n",
              "        text-align: right;\n",
              "    }\n",
              "</style>\n",
              "<table border=\"1\" class=\"dataframe\">\n",
              "  <thead>\n",
              "    <tr style=\"text-align: right;\">\n",
              "      <th></th>\n",
              "      <th>columns</th>\n",
              "      <th>Importance</th>\n",
              "    </tr>\n",
              "  </thead>\n",
              "  <tbody>\n",
              "    <tr>\n",
              "      <th>0</th>\n",
              "      <td>Elevation</td>\n",
              "      <td>0.312647</td>\n",
              "    </tr>\n",
              "    <tr>\n",
              "      <th>1</th>\n",
              "      <td>Aspect</td>\n",
              "      <td>0.043193</td>\n",
              "    </tr>\n",
              "    <tr>\n",
              "      <th>2</th>\n",
              "      <td>Slope</td>\n",
              "      <td>0.003384</td>\n",
              "    </tr>\n",
              "    <tr>\n",
              "      <th>3</th>\n",
              "      <td>Hydr_Slope</td>\n",
              "      <td>0.007781</td>\n",
              "    </tr>\n",
              "    <tr>\n",
              "      <th>4</th>\n",
              "      <td>Avg_Horizontal</td>\n",
              "      <td>0.084352</td>\n",
              "    </tr>\n",
              "    <tr>\n",
              "      <th>5</th>\n",
              "      <td>Fire_Road</td>\n",
              "      <td>0.094981</td>\n",
              "    </tr>\n",
              "    <tr>\n",
              "      <th>6</th>\n",
              "      <td>Hillshades</td>\n",
              "      <td>0.032670</td>\n",
              "    </tr>\n",
              "    <tr>\n",
              "      <th>7</th>\n",
              "      <td>Hydr_Dist</td>\n",
              "      <td>0.050086</td>\n",
              "    </tr>\n",
              "    <tr>\n",
              "      <th>8</th>\n",
              "      <td>Fire_Hydr</td>\n",
              "      <td>0.091183</td>\n",
              "    </tr>\n",
              "    <tr>\n",
              "      <th>9</th>\n",
              "      <td>Wilderness</td>\n",
              "      <td>0.081561</td>\n",
              "    </tr>\n",
              "    <tr>\n",
              "      <th>10</th>\n",
              "      <td>Soil</td>\n",
              "      <td>0.198160</td>\n",
              "    </tr>\n",
              "  </tbody>\n",
              "</table>\n",
              "</div>"
            ],
            "text/plain": [
              "           columns  Importance\n",
              "0        Elevation    0.312647\n",
              "1           Aspect    0.043193\n",
              "2            Slope    0.003384\n",
              "3       Hydr_Slope    0.007781\n",
              "4   Avg_Horizontal    0.084352\n",
              "5        Fire_Road    0.094981\n",
              "6       Hillshades    0.032670\n",
              "7        Hydr_Dist    0.050086\n",
              "8        Fire_Hydr    0.091183\n",
              "9       Wilderness    0.081561\n",
              "10            Soil    0.198160"
            ]
          },
          "metadata": {
            "tags": []
          },
          "execution_count": 42
        }
      ]
    },
    {
      "cell_type": "markdown",
      "metadata": {
        "id": "jg435tai5--N"
      },
      "source": [
        "### KNN"
      ]
    },
    {
      "cell_type": "markdown",
      "metadata": {
        "id": "GbJGDmdjkMI-"
      },
      "source": [
        "\n",
        "*   scaling all numerical columns and saving it in a dataframe 'x_std'\n",
        "*   concatenating all the independent data into a dataframe 'x_' \n",
        "*   dividing data to x_ (independent variable) and y_ (dependent variable)\n",
        "*   splitting data into train and test in 7:3 ratio"
      ]
    },
    {
      "cell_type": "code",
      "metadata": {
        "id": "017ApPgt5--O",
        "colab": {
          "base_uri": "https://localhost:8080/",
          "height": 194
        },
        "outputId": "d483c2b7-9a7c-4f94-e2f4-8efbf63e5d8e"
      },
      "source": [
        "from sklearn.preprocessing import StandardScaler\n",
        "\n",
        "x1 = forest_c.drop(columns= ['Cover_Type','Soil','Wilderness'])\n",
        "y_ = forest_c['Cover_Type']\n",
        "\n",
        "x_std = StandardScaler().fit_transform(x1)\n",
        "\n",
        "x_std = pd.DataFrame(x_std, columns = x1.columns)\n",
        "\n",
        "x_ = pd.concat([x_std,forest_c[['Soil','Wilderness']]], axis = 1)\n",
        "x_.head()"
      ],
      "execution_count": null,
      "outputs": [
        {
          "output_type": "execute_result",
          "data": {
            "text/html": [
              "<div>\n",
              "<style scoped>\n",
              "    .dataframe tbody tr th:only-of-type {\n",
              "        vertical-align: middle;\n",
              "    }\n",
              "\n",
              "    .dataframe tbody tr th {\n",
              "        vertical-align: top;\n",
              "    }\n",
              "\n",
              "    .dataframe thead th {\n",
              "        text-align: right;\n",
              "    }\n",
              "</style>\n",
              "<table border=\"1\" class=\"dataframe\">\n",
              "  <thead>\n",
              "    <tr style=\"text-align: right;\">\n",
              "      <th></th>\n",
              "      <th>Elevation</th>\n",
              "      <th>Aspect</th>\n",
              "      <th>Slope</th>\n",
              "      <th>Hydr_Slope</th>\n",
              "      <th>Avg_Horizontal</th>\n",
              "      <th>Fire_Road</th>\n",
              "      <th>Hillshades</th>\n",
              "      <th>Hydr_Dist</th>\n",
              "      <th>Fire_Hydr</th>\n",
              "      <th>Soil</th>\n",
              "      <th>Wilderness</th>\n",
              "    </tr>\n",
              "  </thead>\n",
              "  <tbody>\n",
              "    <tr>\n",
              "      <th>0</th>\n",
              "      <td>-1.297805</td>\n",
              "      <td>-0.935157</td>\n",
              "      <td>-1.389008</td>\n",
              "      <td>1.300680</td>\n",
              "      <td>1.054833</td>\n",
              "      <td>1.068195</td>\n",
              "      <td>0.530152</td>\n",
              "      <td>0.135858</td>\n",
              "      <td>2.574818</td>\n",
              "      <td>29</td>\n",
              "      <td>1</td>\n",
              "    </tr>\n",
              "    <tr>\n",
              "      <th>1</th>\n",
              "      <td>-1.319235</td>\n",
              "      <td>-0.890480</td>\n",
              "      <td>-0.578038</td>\n",
              "      <td>-0.148505</td>\n",
              "      <td>0.979149</td>\n",
              "      <td>1.008612</td>\n",
              "      <td>0.645367</td>\n",
              "      <td>-0.082435</td>\n",
              "      <td>2.529746</td>\n",
              "      <td>29</td>\n",
              "      <td>1</td>\n",
              "    </tr>\n",
              "    <tr>\n",
              "      <th>2</th>\n",
              "      <td>-0.554907</td>\n",
              "      <td>-0.148836</td>\n",
              "      <td>-1.277558</td>\n",
              "      <td>0.587323</td>\n",
              "      <td>1.849922</td>\n",
              "      <td>1.855709</td>\n",
              "      <td>0.668410</td>\n",
              "      <td>0.215057</td>\n",
              "      <td>2.507987</td>\n",
              "      <td>12</td>\n",
              "      <td>1</td>\n",
              "    </tr>\n",
              "    <tr>\n",
              "      <th>3</th>\n",
              "      <td>-0.622768</td>\n",
              "      <td>-0.005869</td>\n",
              "      <td>0.943243</td>\n",
              "      <td>0.819799</td>\n",
              "      <td>1.842302</td>\n",
              "      <td>1.855709</td>\n",
              "      <td>0.461022</td>\n",
              "      <td>0.186241</td>\n",
              "      <td>2.536981</td>\n",
              "      <td>30</td>\n",
              "      <td>1</td>\n",
              "    </tr>\n",
              "    <tr>\n",
              "      <th>4</th>\n",
              "      <td>-1.301377</td>\n",
              "      <td>-0.988770</td>\n",
              "      <td>-0.578038</td>\n",
              "      <td>1.205062</td>\n",
              "      <td>0.940499</td>\n",
              "      <td>0.990654</td>\n",
              "      <td>0.599281</td>\n",
              "      <td>-0.401841</td>\n",
              "      <td>2.478848</td>\n",
              "      <td>29</td>\n",
              "      <td>1</td>\n",
              "    </tr>\n",
              "  </tbody>\n",
              "</table>\n",
              "</div>"
            ],
            "text/plain": [
              "   Elevation    Aspect     Slope  ...  Fire_Hydr  Soil  Wilderness\n",
              "0  -1.297805 -0.935157 -1.389008  ...   2.574818    29           1\n",
              "1  -1.319235 -0.890480 -0.578038  ...   2.529746    29           1\n",
              "2  -0.554907 -0.148836 -1.277558  ...   2.507987    12           1\n",
              "3  -0.622768 -0.005869  0.943243  ...   2.536981    30           1\n",
              "4  -1.301377 -0.988770 -0.578038  ...   2.478848    29           1\n",
              "\n",
              "[5 rows x 11 columns]"
            ]
          },
          "metadata": {
            "tags": []
          },
          "execution_count": 34
        }
      ]
    },
    {
      "cell_type": "code",
      "metadata": {
        "id": "EXlKF_B75--S"
      },
      "source": [
        "x_train_k, x_test_k, y_train_k, y_test_k = train_test_split(x_, y_, test_size = .3, random_state=25)"
      ],
      "execution_count": null,
      "outputs": []
    },
    {
      "cell_type": "code",
      "metadata": {
        "id": "o-6bclgg5--W"
      },
      "source": [
        "from sklearn.neighbors import KNeighborsClassifier"
      ],
      "execution_count": null,
      "outputs": []
    },
    {
      "cell_type": "code",
      "metadata": {
        "id": "XkbO9gbn5--a"
      },
      "source": [
        "knn = KNeighborsClassifier(metric = 'cityblock', n_neighbors= 4, weights= 'distance')\n",
        "knn.fit(x_train_k,y_train_k)\n",
        "y_pred_k = knn.predict(x_test_k)"
      ],
      "execution_count": null,
      "outputs": []
    },
    {
      "cell_type": "code",
      "metadata": {
        "id": "GZPA8-Xwa1A9",
        "colab": {
          "base_uri": "https://localhost:8080/"
        },
        "outputId": "98474b58-99bd-45ce-ce3e-c5570b7a7a7c"
      },
      "source": [
        "print('Training Score:',knn.score(x_train_k,y_train_k))\n",
        "print('Testing Score:',knn.score(x_test_k,y_test_k))"
      ],
      "execution_count": null,
      "outputs": [
        {
          "output_type": "stream",
          "text": [
            "Training Score: 1.0\n",
            "Testing Score: 0.9120502111253901\n"
          ],
          "name": "stdout"
        }
      ]
    },
    {
      "cell_type": "code",
      "metadata": {
        "id": "snzKROfM5--e",
        "colab": {
          "base_uri": "https://localhost:8080/"
        },
        "outputId": "bcb8b9c4-2990-4039-8956-a5984643b0bb"
      },
      "source": [
        "print(classification_report(y_test_k, y_pred_k))\n",
        "print(confusion_matrix(y_test_k, y_pred_k))"
      ],
      "execution_count": null,
      "outputs": [
        {
          "output_type": "stream",
          "text": [
            "              precision    recall  f1-score   support\n",
            "\n",
            "           1       0.91      0.89      0.90     63514\n",
            "           2       0.91      0.92      0.92     85045\n",
            "           3       0.95      0.96      0.95     16786\n",
            "           4       0.87      0.84      0.86      8959\n",
            "\n",
            "    accuracy                           0.91    174304\n",
            "   macro avg       0.91      0.90      0.91    174304\n",
            "weighted avg       0.91      0.91      0.91    174304\n",
            "\n",
            "[[56782  6196    29   507]\n",
            " [ 5164 78581   765   535]\n",
            " [   23   652 16069    42]\n",
            " [  569   779    69  7542]]\n"
          ],
          "name": "stdout"
        }
      ]
    },
    {
      "cell_type": "markdown",
      "metadata": {
        "id": "LLYTSZO4lORF"
      },
      "source": [
        "### Ensemble techniques"
      ]
    },
    {
      "cell_type": "code",
      "metadata": {
        "id": "ur4U9sc1lORG"
      },
      "source": [
        "#base_LR = LogisticRegression(random_state = 25)\n",
        "base_DT = DecisionTreeClassifier(criterion = \"entropy\", \n",
        "                                  random_state = 25,\n",
        "                                  max_depth=19, \n",
        "                                  min_samples_leaf=10,\n",
        "                                  min_samples_split=10)\n",
        "#base_NB = GaussianNB()\n",
        "base_RF = RandomForestClassifier(criterion = \"entropy\", \n",
        "                                  random_state = 25,\n",
        "                                  max_depth=19, \n",
        "                                  min_samples_leaf=10,\n",
        "                                  min_samples_split=10)\n",
        "base_KNN = KNeighborsClassifier(metric = 'cityblock', \n",
        "                                n_neighbors= 4, \n",
        "                                weights= 'distance')"
      ],
      "execution_count": null,
      "outputs": []
    },
    {
      "cell_type": "markdown",
      "metadata": {
        "id": "9WtX95KOlORH"
      },
      "source": [
        "### Bagging"
      ]
    },
    {
      "cell_type": "code",
      "metadata": {
        "id": "rKQVX6EjlORI"
      },
      "source": [
        "from sklearn.ensemble import BaggingClassifier"
      ],
      "execution_count": null,
      "outputs": []
    },
    {
      "cell_type": "markdown",
      "metadata": {
        "id": "ii8DoKG-lORJ"
      },
      "source": [
        "#### Decision Bag"
      ]
    },
    {
      "cell_type": "code",
      "metadata": {
        "id": "6nq3xY3elORK",
        "colab": {
          "base_uri": "https://localhost:8080/"
        },
        "outputId": "4dabd408-80da-4dc5-cc0d-7640eda7f71c"
      },
      "source": [
        "bgcl_DT = BaggingClassifier(base_estimator=base_DT,n_estimators=51,oob_score=True,random_state=25)\n",
        "bgcl_DT.fit(x_train, y_train)"
      ],
      "execution_count": null,
      "outputs": [
        {
          "output_type": "execute_result",
          "data": {
            "text/plain": [
              "BaggingClassifier(base_estimator=DecisionTreeClassifier(ccp_alpha=0.0,\n",
              "                                                        class_weight=None,\n",
              "                                                        criterion='entropy',\n",
              "                                                        max_depth=19,\n",
              "                                                        max_features=None,\n",
              "                                                        max_leaf_nodes=None,\n",
              "                                                        min_impurity_decrease=0.0,\n",
              "                                                        min_impurity_split=None,\n",
              "                                                        min_samples_leaf=10,\n",
              "                                                        min_samples_split=10,\n",
              "                                                        min_weight_fraction_leaf=0.0,\n",
              "                                                        presort='deprecated',\n",
              "                                                        random_state=25,\n",
              "                                                        splitter='best'),\n",
              "                  bootstrap=True, bootstrap_features=False, max_features=1.0,\n",
              "                  max_samples=1.0, n_estimators=51, n_jobs=None, oob_score=True,\n",
              "                  random_state=25, verbose=0, warm_start=False)"
            ]
          },
          "metadata": {
            "tags": []
          },
          "execution_count": 51
        }
      ]
    },
    {
      "cell_type": "code",
      "metadata": {
        "id": "3lQd_mZclORM",
        "colab": {
          "base_uri": "https://localhost:8080/"
        },
        "outputId": "01f52564-f738-494d-b935-2fcd3ff7ed6e"
      },
      "source": [
        "print('OOB SCORE:',bgcl_DT.oob_score_)\n",
        "print('Training Score:',bgcl_DT.score(x_train,y_train))\n",
        "print('Testing Score:',bgcl_DT.score(x_test,y_test))"
      ],
      "execution_count": null,
      "outputs": [
        {
          "output_type": "stream",
          "text": [
            "OOB SCORE: 0.9388332661270494\n",
            "Training Score: 0.9635856683419063\n",
            "Testing Score: 0.9418544611712869\n"
          ],
          "name": "stdout"
        }
      ]
    },
    {
      "cell_type": "code",
      "metadata": {
        "id": "VLVGXLVslORP",
        "colab": {
          "base_uri": "https://localhost:8080/"
        },
        "outputId": "9cbdf6e8-8096-4427-b31d-78d70875ea01"
      },
      "source": [
        "print(classification_report(y_test,bgcl_DT.predict(x_test)))\n",
        "print(confusion_matrix(y_test,bgcl_DT.predict(x_test)))"
      ],
      "execution_count": null,
      "outputs": [
        {
          "output_type": "stream",
          "text": [
            "              precision    recall  f1-score   support\n",
            "\n",
            "           1       0.94      0.93      0.93     63514\n",
            "           2       0.94      0.95      0.95     85045\n",
            "           3       0.97      0.98      0.97     16786\n",
            "           4       0.95      0.87      0.91      8959\n",
            "\n",
            "    accuracy                           0.94    174304\n",
            "   macro avg       0.95      0.93      0.94    174304\n",
            "weighted avg       0.94      0.94      0.94    174304\n",
            "\n",
            "[[58778  4520     6   210]\n",
            " [ 3256 81179   409   201]\n",
            " [    9   357 16413     7]\n",
            " [  420   659    81  7799]]\n"
          ],
          "name": "stdout"
        }
      ]
    },
    {
      "cell_type": "markdown",
      "metadata": {
        "id": "5cmYje7mlORQ"
      },
      "source": [
        "#### Random Forest Bag"
      ]
    },
    {
      "cell_type": "code",
      "metadata": {
        "id": "YBCKuQSqlORR",
        "colab": {
          "base_uri": "https://localhost:8080/"
        },
        "outputId": "770cb7d1-bb68-44e6-958d-a222dfbfc6df"
      },
      "source": [
        "bgcl_RF = BaggingClassifier(base_estimator=base_RF,n_estimators=51,oob_score=True,random_state=25)\n",
        "bgcl_RF.fit(x_train, y_train)"
      ],
      "execution_count": null,
      "outputs": [
        {
          "output_type": "execute_result",
          "data": {
            "text/plain": [
              "BaggingClassifier(base_estimator=RandomForestClassifier(bootstrap=True,\n",
              "                                                        ccp_alpha=0.0,\n",
              "                                                        class_weight=None,\n",
              "                                                        criterion='entropy',\n",
              "                                                        max_depth=19,\n",
              "                                                        max_features='auto',\n",
              "                                                        max_leaf_nodes=None,\n",
              "                                                        max_samples=None,\n",
              "                                                        min_impurity_decrease=0.0,\n",
              "                                                        min_impurity_split=None,\n",
              "                                                        min_samples_leaf=10,\n",
              "                                                        min_samples_split=10,\n",
              "                                                        min_weight_fraction_leaf=0.0,\n",
              "                                                        n_estimators=100,\n",
              "                                                        n_jobs=None,\n",
              "                                                        oob_score=False,\n",
              "                                                        random_state=25,\n",
              "                                                        verbose=0,\n",
              "                                                        warm_start=False),\n",
              "                  bootstrap=True, bootstrap_features=False, max_features=1.0,\n",
              "                  max_samples=1.0, n_estimators=51, n_jobs=None, oob_score=True,\n",
              "                  random_state=25, verbose=0, warm_start=False)"
            ]
          },
          "metadata": {
            "tags": []
          },
          "execution_count": 54
        }
      ]
    },
    {
      "cell_type": "code",
      "metadata": {
        "id": "FUer46tklORS",
        "colab": {
          "base_uri": "https://localhost:8080/"
        },
        "outputId": "76535836-ceca-44b8-cb3c-3cbae1556cd1"
      },
      "source": [
        "print('OOB SCORE:',bgcl_RF.oob_score_)\n",
        "print('Training Score:',bgcl_RF.score(x_train,y_train))\n",
        "print('Accuracy:',bgcl_RF.score(x_test,y_test))"
      ],
      "execution_count": null,
      "outputs": [
        {
          "output_type": "stream",
          "text": [
            "OOB SCORE: 0.9208228016168848\n",
            "Training Score: 0.9385849307119605\n",
            "Accuracy: 0.9211549935744446\n"
          ],
          "name": "stdout"
        }
      ]
    },
    {
      "cell_type": "code",
      "metadata": {
        "id": "qyT2B0VMlORU",
        "colab": {
          "base_uri": "https://localhost:8080/"
        },
        "outputId": "2999f6bd-7717-440d-d2b6-7b913dfb4efb"
      },
      "source": [
        "print(classification_report(y_test,bgcl_RF.predict(x_test)))\n",
        "print(confusion_matrix(y_test,bgcl_RF.predict(x_test)))"
      ],
      "execution_count": null,
      "outputs": [
        {
          "output_type": "stream",
          "text": [
            "              precision    recall  f1-score   support\n",
            "\n",
            "           1       0.93      0.89      0.91     63514\n",
            "           2       0.91      0.95      0.93     85045\n",
            "           3       0.96      0.97      0.96     16786\n",
            "           4       0.95      0.79      0.86      8959\n",
            "\n",
            "    accuracy                           0.92    174304\n",
            "   macro avg       0.94      0.90      0.92    174304\n",
            "weighted avg       0.92      0.92      0.92    174304\n",
            "\n",
            "[[56691  6605     7   211]\n",
            " [ 3782 80484   631   148]\n",
            " [    1   494 16288     3]\n",
            " [  660  1125    76  7098]]\n"
          ],
          "name": "stdout"
        }
      ]
    },
    {
      "cell_type": "markdown",
      "metadata": {
        "id": "hicEVgAtlORV"
      },
      "source": [
        "#### KNN Bag"
      ]
    },
    {
      "cell_type": "code",
      "metadata": {
        "id": "9BWgQ92YlORW",
        "colab": {
          "base_uri": "https://localhost:8080/",
          "height": 195
        },
        "outputId": "9c5cf0f8-7b27-4c6e-de81-dfd6bc9c208e"
      },
      "source": [
        "bgcl_KN = BaggingClassifier(base_estimator=base_KNN,n_estimators=51,oob_score=True,random_state=25)\n",
        "bgcl_KN.fit(x_train_k, y_train_k)"
      ],
      "execution_count": null,
      "outputs": [
        {
          "output_type": "execute_result",
          "data": {
            "text/plain": [
              "BaggingClassifier(base_estimator=KNeighborsClassifier(algorithm='auto',\n",
              "                                                      leaf_size=30,\n",
              "                                                      metric='cityblock',\n",
              "                                                      metric_params=None,\n",
              "                                                      n_jobs=None,\n",
              "                                                      n_neighbors=4, p=2,\n",
              "                                                      weights='distance'),\n",
              "                  bootstrap=True, bootstrap_features=False, max_features=1.0,\n",
              "                  max_samples=1.0, n_estimators=51, n_jobs=None, oob_score=True,\n",
              "                  random_state=25, verbose=0, warm_start=False)"
            ]
          },
          "metadata": {
            "tags": []
          },
          "execution_count": 39
        }
      ]
    },
    {
      "cell_type": "code",
      "metadata": {
        "id": "EHDebW17lORX",
        "colab": {
          "base_uri": "https://localhost:8080/",
          "height": 70
        },
        "outputId": "0c5ba517-f6f4-4806-e21f-ebe5d97f19c3"
      },
      "source": [
        "print('OOB SCORE:',bgcl_KN.oob_score_)\n",
        "print('Training Score:',bgcl_KN.score(x_train_k,y_train_k))\n",
        "print('Testing Score:',bgcl_KN.score(x_test_k,y_test_k))"
      ],
      "execution_count": null,
      "outputs": [
        {
          "output_type": "stream",
          "text": [
            "OOB SCORE: 0.9111254265959853\n",
            "Training Score: 0.9997713347167992\n",
            "Testing Score: 0.9126526069395998\n"
          ],
          "name": "stdout"
        }
      ]
    },
    {
      "cell_type": "code",
      "metadata": {
        "id": "5kP9-GdOlORa",
        "colab": {
          "base_uri": "https://localhost:8080/",
          "height": 284
        },
        "outputId": "7069e324-017d-4d07-8549-e67890a1968e"
      },
      "source": [
        "print(classification_report(y_test_k,bgcl_KN.predict(x_test_k)))\n",
        "print(confusion_matrix(y_test_k,bgcl_KN.predict(x_test_k)))"
      ],
      "execution_count": null,
      "outputs": [
        {
          "output_type": "stream",
          "text": [
            "              precision    recall  f1-score   support\n",
            "\n",
            "           1       0.91      0.89      0.90     63514\n",
            "           2       0.91      0.93      0.92     85045\n",
            "           3       0.95      0.96      0.95     16786\n",
            "           4       0.88      0.84      0.86      8959\n",
            "\n",
            "    accuracy                           0.91    174304\n",
            "   macro avg       0.91      0.90      0.91    174304\n",
            "weighted avg       0.91      0.91      0.91    174304\n",
            "\n",
            "[[56650  6376    26   462]\n",
            " [ 4946 78847   776   476]\n",
            " [   21   638 16087    40]\n",
            " [  593   797    74  7495]]\n"
          ],
          "name": "stdout"
        }
      ]
    },
    {
      "cell_type": "markdown",
      "metadata": {
        "id": "3s24u3DflORc"
      },
      "source": [
        "### AdaBoost"
      ]
    },
    {
      "cell_type": "code",
      "metadata": {
        "id": "A9NOUAMelORc"
      },
      "source": [
        "from sklearn.ensemble import AdaBoostClassifier\n",
        "\n",
        "abcl_DT = AdaBoostClassifier(base_estimator=base_DT,n_estimators=50,random_state=25)\n",
        "\n",
        "abcl_RF = AdaBoostClassifier(base_estimator=base_RF,n_estimators=50,random_state=25)"
      ],
      "execution_count": null,
      "outputs": []
    },
    {
      "cell_type": "markdown",
      "metadata": {
        "id": "99xvLkgmo4oa"
      },
      "source": [
        "#### Decision Tree"
      ]
    },
    {
      "cell_type": "code",
      "metadata": {
        "scrolled": true,
        "id": "j1Oum9DHlORf",
        "colab": {
          "base_uri": "https://localhost:8080/",
          "height": 52
        },
        "outputId": "f717ab79-d545-4580-cefd-757774f6ad30"
      },
      "source": [
        "abcl_DT.fit(x_train,y_train)\n",
        "print('AdaBoost DT Training Score:',abcl_DT.score(x_train,y_train))\n",
        "print('AdaBoost DT Testing Score:',abcl_DT.score(x_test,y_test))"
      ],
      "execution_count": null,
      "outputs": [
        {
          "output_type": "stream",
          "text": [
            "AdaBoost DT Training Score: 0.9998475564778662\n",
            "AdaBoost DT Testing Score: 0.9328070497521571\n"
          ],
          "name": "stdout"
        }
      ]
    },
    {
      "cell_type": "code",
      "metadata": {
        "id": "68sKJm6klORg",
        "colab": {
          "base_uri": "https://localhost:8080/",
          "height": 284
        },
        "outputId": "ef17ce27-5d01-4927-f8a3-e1cff467bb09"
      },
      "source": [
        "print(classification_report(y_test,abcl_DT.predict(x_test)))\n",
        "print(confusion_matrix(y_test,abcl_DT.predict(x_test)))"
      ],
      "execution_count": null,
      "outputs": [
        {
          "output_type": "stream",
          "text": [
            "              precision    recall  f1-score   support\n",
            "\n",
            "           1       0.93      0.91      0.92     63514\n",
            "           2       0.92      0.95      0.94     85045\n",
            "           3       0.97      0.97      0.97     16786\n",
            "           4       0.97      0.83      0.90      8959\n",
            "\n",
            "    accuracy                           0.93    174304\n",
            "   macro avg       0.95      0.92      0.93    174304\n",
            "weighted avg       0.93      0.93      0.93    174304\n",
            "\n",
            "[[58113  5291     2   108]\n",
            " [ 3746 80708   502    89]\n",
            " [    0   448 16330     8]\n",
            " [  595   864    59  7441]]\n"
          ],
          "name": "stdout"
        }
      ]
    },
    {
      "cell_type": "markdown",
      "metadata": {
        "id": "DQnm-dxQo7us"
      },
      "source": [
        "#### Random Forest"
      ]
    },
    {
      "cell_type": "code",
      "metadata": {
        "id": "KpqMYJp4lORi",
        "colab": {
          "base_uri": "https://localhost:8080/",
          "height": 52
        },
        "outputId": "a156479f-7e0b-48fd-baaa-165972aa06b3"
      },
      "source": [
        "abcl_RF.fit(x_train,y_train)\n",
        "print('AdaBoost RF Training Score:',abcl_RF.score(x_train,y_train))\n",
        "print('AdaBoost RF Testing Score:',abcl_RF.score(x_test,y_test))"
      ],
      "execution_count": null,
      "outputs": [
        {
          "output_type": "stream",
          "text": [
            "AdaBoost RF Training Score: 0.9239306824552259\n",
            "AdaBoost RF Testing Score: 0.8834507527079126\n"
          ],
          "name": "stdout"
        }
      ]
    },
    {
      "cell_type": "code",
      "metadata": {
        "id": "95tdnXIslORk",
        "colab": {
          "base_uri": "https://localhost:8080/",
          "height": 284
        },
        "outputId": "ca40dc2d-c5ba-48e6-9c99-33cbf2992e79"
      },
      "source": [
        "print(classification_report(y_test,abcl_RF.predict(x_test)))\n",
        "print(confusion_matrix(y_test,abcl_RF.predict(x_test)))"
      ],
      "execution_count": null,
      "outputs": [
        {
          "output_type": "stream",
          "text": [
            "              precision    recall  f1-score   support\n",
            "\n",
            "           1       0.88      0.83      0.85     63514\n",
            "           2       0.86      0.93      0.89     85045\n",
            "           3       0.96      0.98      0.97     16786\n",
            "           4       0.97      0.71      0.82      8959\n",
            "\n",
            "    accuracy                           0.88    174304\n",
            "   macro avg       0.92      0.86      0.88    174304\n",
            "weighted avg       0.89      0.88      0.88    174304\n",
            "\n",
            "[[52494 10921     1    98]\n",
            " [ 5520 78777   651    97]\n",
            " [    1   378 16399     8]\n",
            " [ 1558  1029    53  6319]]\n"
          ],
          "name": "stdout"
        }
      ]
    },
    {
      "cell_type": "markdown",
      "metadata": {
        "id": "MKjv9jFnlORl"
      },
      "source": [
        "### Gradient Boosting"
      ]
    },
    {
      "cell_type": "code",
      "metadata": {
        "id": "7R7j9q2UlORl",
        "colab": {
          "base_uri": "https://localhost:8080/",
          "height": 195
        },
        "outputId": "ccc30ef2-9bca-475f-9d5d-0e3df3c8f642"
      },
      "source": [
        "from sklearn.ensemble import GradientBoostingClassifier\n",
        "\n",
        "gbcl = GradientBoostingClassifier(random_state = 25,\n",
        "                                  max_depth=19, \n",
        "                                  min_samples_leaf=10,\n",
        "                                  min_samples_split=10,\n",
        "                                  n_estimators = 50)\n",
        "gbcl.fit(x_train, y_train)"
      ],
      "execution_count": null,
      "outputs": [
        {
          "output_type": "execute_result",
          "data": {
            "text/plain": [
              "GradientBoostingClassifier(ccp_alpha=0.0, criterion='friedman_mse', init=None,\n",
              "                           learning_rate=0.1, loss='deviance', max_depth=19,\n",
              "                           max_features=None, max_leaf_nodes=None,\n",
              "                           min_impurity_decrease=0.0, min_impurity_split=None,\n",
              "                           min_samples_leaf=10, min_samples_split=10,\n",
              "                           min_weight_fraction_leaf=0.0, n_estimators=50,\n",
              "                           n_iter_no_change=None, presort='deprecated',\n",
              "                           random_state=25, subsample=1.0, tol=0.0001,\n",
              "                           validation_fraction=0.1, verbose=0,\n",
              "                           warm_start=False)"
            ]
          },
          "metadata": {
            "tags": []
          },
          "execution_count": 37
        }
      ]
    },
    {
      "cell_type": "code",
      "metadata": {
        "id": "8qC2d9INlORp",
        "colab": {
          "base_uri": "https://localhost:8080/",
          "height": 52
        },
        "outputId": "12c5870c-c350-4f0b-f4f0-ae812790a3a1"
      },
      "source": [
        "print('Training Score:',gbcl.score(x_train,y_train))\n",
        "print('Testing Score:',gbcl.score(x_test,y_test))"
      ],
      "execution_count": null,
      "outputs": [
        {
          "output_type": "stream",
          "text": [
            "Training Score: 1.0\n",
            "Testing Score: 0.9706145584725537\n"
          ],
          "name": "stdout"
        }
      ]
    },
    {
      "cell_type": "code",
      "metadata": {
        "id": "0DRoV-3jlORq",
        "colab": {
          "base_uri": "https://localhost:8080/",
          "height": 284
        },
        "outputId": "423c4394-100c-46e4-c112-eb5d380a74d8"
      },
      "source": [
        "print(classification_report(y_test,gbcl.predict(x_test)))\n",
        "print(confusion_matrix(y_test,gbcl.predict(x_test)))"
      ],
      "execution_count": null,
      "outputs": [
        {
          "output_type": "stream",
          "text": [
            "              precision    recall  f1-score   support\n",
            "\n",
            "           1       0.97      0.96      0.97     63514\n",
            "           2       0.97      0.98      0.97     85045\n",
            "           3       0.98      0.99      0.99     16786\n",
            "           4       0.96      0.92      0.94      8959\n",
            "\n",
            "    accuracy                           0.97    174304\n",
            "   macro avg       0.97      0.96      0.97    174304\n",
            "weighted avg       0.97      0.97      0.97    174304\n",
            "\n",
            "[[61215  2163     3   133]\n",
            " [ 1515 83116   239   175]\n",
            " [    5   200 16573     8]\n",
            " [  253   380    48  8278]]\n"
          ],
          "name": "stdout"
        }
      ]
    },
    {
      "cell_type": "markdown",
      "metadata": {
        "id": "ayr9jIR8eUGt"
      },
      "source": [
        "## Feature Selection"
      ]
    },
    {
      "cell_type": "markdown",
      "metadata": {
        "id": "veEgKA2DpS0K"
      },
      "source": [
        "Selecting features on basis of their importance in decision tree and random forest models. Also, considering the overall performance of the models."
      ]
    },
    {
      "cell_type": "code",
      "metadata": {
        "id": "RxtqHaWGfAaS",
        "colab": {
          "base_uri": "https://localhost:8080/",
          "height": 355
        },
        "outputId": "17d1aaae-fe7a-4a8e-beac-0847d3eace2c"
      },
      "source": [
        "forest_e = forest_b.drop(columns = forest_b.columns[2:5])\n",
        "forest_e = forest_e.drop(columns = forest_b.columns[7:9])\n",
        "forest_e = forest_e.drop(columns = forest_b.columns[10])\n",
        "forest_e = forest_e.drop(columns = forest_b.columns[13])\n",
        "forest_e.info()"
      ],
      "execution_count": null,
      "outputs": [
        {
          "output_type": "stream",
          "text": [
            "<class 'pandas.core.frame.DataFrame'>\n",
            "RangeIndex: 581012 entries, 0 to 581011\n",
            "Data columns (total 12 columns):\n",
            " #   Column                              Non-Null Count   Dtype   \n",
            "---  ------                              --------------   -----   \n",
            " 0   Elevation                           581012 non-null  int64   \n",
            " 1   Aspect                              581012 non-null  int64   \n",
            " 2   Horizontal_Distance_To_Roadways     581012 non-null  float64 \n",
            " 3   Hillshade_9am                       581012 non-null  int64   \n",
            " 4   Horizontal_Distance_To_Fire_Points  581012 non-null  float64 \n",
            " 5   Avg_Horizontal                      581012 non-null  float64 \n",
            " 6   Fire_Road                           581012 non-null  float64 \n",
            " 7   Hydr_Dist                           581012 non-null  float64 \n",
            " 8   Fire_Hydr                           581012 non-null  float64 \n",
            " 9   Wilderness                          581012 non-null  category\n",
            " 10  Soil                                581012 non-null  category\n",
            " 11  Cover_Type                          581012 non-null  category\n",
            "dtypes: category(3), float64(6), int64(3)\n",
            "memory usage: 41.6 MB\n"
          ],
          "name": "stdout"
        }
      ]
    },
    {
      "cell_type": "markdown",
      "metadata": {
        "id": "a8zbsI4S2YWT"
      },
      "source": [
        "## Modelling after Feature Selection"
      ]
    },
    {
      "cell_type": "markdown",
      "metadata": {
        "id": "AdnAj8V02YWU"
      },
      "source": [
        "### Decision Tree"
      ]
    },
    {
      "cell_type": "code",
      "metadata": {
        "id": "eyWH0IKo2YWV"
      },
      "source": [
        "from sklearn.model_selection import train_test_split\n",
        "from sklearn.metrics import classification_report, confusion_matrix, accuracy_score\n",
        "from sklearn.tree import DecisionTreeClassifier\n",
        "import warnings\n",
        "warnings.filterwarnings(\"ignore\")"
      ],
      "execution_count": null,
      "outputs": []
    },
    {
      "cell_type": "markdown",
      "metadata": {
        "id": "beBZHjpTjhTX"
      },
      "source": [
        "Dividing data into x (independent variable) and y (dependent variable) and then splitting data to train and test in 7:3 ratio"
      ]
    },
    {
      "cell_type": "code",
      "metadata": {
        "id": "8su1C3BR2YWZ"
      },
      "source": [
        "x = forest_e.drop(columns = ['Cover_Type'])\n",
        "y = forest_e['Cover_Type']"
      ],
      "execution_count": null,
      "outputs": []
    },
    {
      "cell_type": "code",
      "metadata": {
        "id": "uIHppHQ12YWd"
      },
      "source": [
        "x_train, x_test, y_train, y_test = train_test_split(x, y, test_size = .3, random_state=25)"
      ],
      "execution_count": null,
      "outputs": []
    },
    {
      "cell_type": "code",
      "metadata": {
        "id": "HCbUJbbs2YWh",
        "colab": {
          "base_uri": "https://localhost:8080/",
          "height": 124
        },
        "outputId": "07d06ef7-ae33-4b2a-d3ef-822436f6da7d"
      },
      "source": [
        "dt = DecisionTreeClassifier(criterion = \"entropy\", \n",
        "                                  random_state = 25,\n",
        "                                  max_depth=19, \n",
        "                                  min_samples_leaf=10,\n",
        "                                  min_samples_split=10)\n",
        "dt.fit(x_train, y_train)"
      ],
      "execution_count": null,
      "outputs": [
        {
          "output_type": "execute_result",
          "data": {
            "text/plain": [
              "DecisionTreeClassifier(ccp_alpha=0.0, class_weight=None, criterion='entropy',\n",
              "                       max_depth=19, max_features=None, max_leaf_nodes=None,\n",
              "                       min_impurity_decrease=0.0, min_impurity_split=None,\n",
              "                       min_samples_leaf=10, min_samples_split=10,\n",
              "                       min_weight_fraction_leaf=0.0, presort='deprecated',\n",
              "                       random_state=25, splitter='best')"
            ]
          },
          "metadata": {
            "tags": []
          },
          "execution_count": 33
        }
      ]
    },
    {
      "cell_type": "code",
      "metadata": {
        "id": "0AyC_GkL2YWl",
        "colab": {
          "base_uri": "https://localhost:8080/",
          "height": 52
        },
        "outputId": "38d56585-99c1-415e-c2a2-57de5555427a"
      },
      "source": [
        "print('Training Score:',dt.score(x_train, y_train))\n",
        "print('Testing Score:',dt.score(x_test, y_test))"
      ],
      "execution_count": null,
      "outputs": [
        {
          "output_type": "stream",
          "text": [
            "Training Score: 0.9382579147693185\n",
            "Testing Score: 0.9158022764824674\n"
          ],
          "name": "stdout"
        }
      ]
    },
    {
      "cell_type": "code",
      "metadata": {
        "id": "Ghp8UcbH2YWo",
        "colab": {
          "base_uri": "https://localhost:8080/",
          "height": 284
        },
        "outputId": "a846fa74-b2a1-49f9-f837-abe0e121e4a8"
      },
      "source": [
        "y_pred = dt.predict(x_test)\n",
        "print(classification_report(y_test,y_pred))\n",
        "print(confusion_matrix(y_test,y_pred))"
      ],
      "execution_count": null,
      "outputs": [
        {
          "output_type": "stream",
          "text": [
            "              precision    recall  f1-score   support\n",
            "\n",
            "           1       0.90      0.90      0.90     63514\n",
            "           2       0.92      0.92      0.92     85045\n",
            "           3       0.96      0.96      0.96     16786\n",
            "           4       0.90      0.87      0.89      8959\n",
            "\n",
            "    accuracy                           0.92    174304\n",
            "   macro avg       0.92      0.91      0.92    174304\n",
            "weighted avg       0.92      0.92      0.92    174304\n",
            "\n",
            "[[57388  5755    18   353]\n",
            " [ 5804 78261   534   446]\n",
            " [   14   579 16165    28]\n",
            " [  430   645    70  7814]]\n"
          ],
          "name": "stdout"
        }
      ]
    },
    {
      "cell_type": "code",
      "metadata": {
        "id": "UG7qTKK02YWu",
        "colab": {
          "base_uri": "https://localhost:8080/",
          "height": 370
        },
        "outputId": "bf463309-e521-4e22-bbd3-88100b542522"
      },
      "source": [
        "pd.DataFrame({'columns':x.columns,'Importance':dt.feature_importances_})"
      ],
      "execution_count": null,
      "outputs": [
        {
          "output_type": "execute_result",
          "data": {
            "text/html": [
              "<div>\n",
              "<style scoped>\n",
              "    .dataframe tbody tr th:only-of-type {\n",
              "        vertical-align: middle;\n",
              "    }\n",
              "\n",
              "    .dataframe tbody tr th {\n",
              "        vertical-align: top;\n",
              "    }\n",
              "\n",
              "    .dataframe thead th {\n",
              "        text-align: right;\n",
              "    }\n",
              "</style>\n",
              "<table border=\"1\" class=\"dataframe\">\n",
              "  <thead>\n",
              "    <tr style=\"text-align: right;\">\n",
              "      <th></th>\n",
              "      <th>columns</th>\n",
              "      <th>Importance</th>\n",
              "    </tr>\n",
              "  </thead>\n",
              "  <tbody>\n",
              "    <tr>\n",
              "      <th>0</th>\n",
              "      <td>Elevation</td>\n",
              "      <td>0.427199</td>\n",
              "    </tr>\n",
              "    <tr>\n",
              "      <th>1</th>\n",
              "      <td>Aspect</td>\n",
              "      <td>0.033876</td>\n",
              "    </tr>\n",
              "    <tr>\n",
              "      <th>2</th>\n",
              "      <td>Horizontal_Distance_To_Roadways</td>\n",
              "      <td>0.085645</td>\n",
              "    </tr>\n",
              "    <tr>\n",
              "      <th>3</th>\n",
              "      <td>Hillshade_9am</td>\n",
              "      <td>0.026552</td>\n",
              "    </tr>\n",
              "    <tr>\n",
              "      <th>4</th>\n",
              "      <td>Horizontal_Distance_To_Fire_Points</td>\n",
              "      <td>0.062435</td>\n",
              "    </tr>\n",
              "    <tr>\n",
              "      <th>5</th>\n",
              "      <td>Avg_Horizontal</td>\n",
              "      <td>0.040512</td>\n",
              "    </tr>\n",
              "    <tr>\n",
              "      <th>6</th>\n",
              "      <td>Fire_Road</td>\n",
              "      <td>0.071148</td>\n",
              "    </tr>\n",
              "    <tr>\n",
              "      <th>7</th>\n",
              "      <td>Hydr_Dist</td>\n",
              "      <td>0.048804</td>\n",
              "    </tr>\n",
              "    <tr>\n",
              "      <th>8</th>\n",
              "      <td>Fire_Hydr</td>\n",
              "      <td>0.043741</td>\n",
              "    </tr>\n",
              "    <tr>\n",
              "      <th>9</th>\n",
              "      <td>Wilderness</td>\n",
              "      <td>0.042433</td>\n",
              "    </tr>\n",
              "    <tr>\n",
              "      <th>10</th>\n",
              "      <td>Soil</td>\n",
              "      <td>0.117654</td>\n",
              "    </tr>\n",
              "  </tbody>\n",
              "</table>\n",
              "</div>"
            ],
            "text/plain": [
              "                               columns  Importance\n",
              "0                            Elevation    0.427199\n",
              "1                               Aspect    0.033876\n",
              "2      Horizontal_Distance_To_Roadways    0.085645\n",
              "3                        Hillshade_9am    0.026552\n",
              "4   Horizontal_Distance_To_Fire_Points    0.062435\n",
              "5                       Avg_Horizontal    0.040512\n",
              "6                            Fire_Road    0.071148\n",
              "7                            Hydr_Dist    0.048804\n",
              "8                            Fire_Hydr    0.043741\n",
              "9                           Wilderness    0.042433\n",
              "10                                Soil    0.117654"
            ]
          },
          "metadata": {
            "tags": []
          },
          "execution_count": 36
        }
      ]
    },
    {
      "cell_type": "markdown",
      "metadata": {
        "id": "QI2my_Az2YWv"
      },
      "source": [
        "### Random Forest"
      ]
    },
    {
      "cell_type": "code",
      "metadata": {
        "id": "qShDeoeM2YWw"
      },
      "source": [
        "from sklearn.ensemble import RandomForestClassifier"
      ],
      "execution_count": null,
      "outputs": []
    },
    {
      "cell_type": "code",
      "metadata": {
        "id": "AOIUWZU52YWx",
        "colab": {
          "base_uri": "https://localhost:8080/",
          "height": 159
        },
        "outputId": "81e31c35-861b-4996-c616-2396d2dfda74"
      },
      "source": [
        "rforest = RandomForestClassifier(criterion = \"entropy\", \n",
        "                                  random_state = 25,\n",
        "                                  max_depth=19, \n",
        "                                  min_samples_leaf=10,\n",
        "                                  min_samples_split=10)\n",
        "rforest.fit(x_train, y_train)"
      ],
      "execution_count": null,
      "outputs": [
        {
          "output_type": "execute_result",
          "data": {
            "text/plain": [
              "RandomForestClassifier(bootstrap=True, ccp_alpha=0.0, class_weight=None,\n",
              "                       criterion='entropy', max_depth=19, max_features='auto',\n",
              "                       max_leaf_nodes=None, max_samples=None,\n",
              "                       min_impurity_decrease=0.0, min_impurity_split=None,\n",
              "                       min_samples_leaf=10, min_samples_split=10,\n",
              "                       min_weight_fraction_leaf=0.0, n_estimators=100,\n",
              "                       n_jobs=None, oob_score=False, random_state=25, verbose=0,\n",
              "                       warm_start=False)"
            ]
          },
          "metadata": {
            "tags": []
          },
          "execution_count": 38
        }
      ]
    },
    {
      "cell_type": "code",
      "metadata": {
        "id": "rR231yas2YWz",
        "colab": {
          "base_uri": "https://localhost:8080/",
          "height": 52
        },
        "outputId": "1560573f-4b01-42a1-b481-77666bf90794"
      },
      "source": [
        "print('Training Score:',rforest.score(x_train, y_train))\n",
        "print('Testing Score:',rforest.score(x_test, y_test))"
      ],
      "execution_count": null,
      "outputs": [
        {
          "output_type": "stream",
          "text": [
            "Training Score: 0.9652920522832106\n",
            "Testing Score: 0.9477235175325868\n"
          ],
          "name": "stdout"
        }
      ]
    },
    {
      "cell_type": "code",
      "metadata": {
        "id": "YLHoYNvC2YW0",
        "colab": {
          "base_uri": "https://localhost:8080/",
          "height": 284
        },
        "outputId": "01936cb0-eeda-4c67-ca05-9bcf9a70d23d"
      },
      "source": [
        "y_pred = rforest.predict(x_test)\n",
        "print(classification_report(y_test,y_pred))\n",
        "print(confusion_matrix(y_test,y_pred))"
      ],
      "execution_count": null,
      "outputs": [
        {
          "output_type": "stream",
          "text": [
            "              precision    recall  f1-score   support\n",
            "\n",
            "           1       0.95      0.93      0.94     63514\n",
            "           2       0.94      0.96      0.95     85045\n",
            "           3       0.97      0.98      0.98     16786\n",
            "           4       0.96      0.87      0.91      8959\n",
            "\n",
            "    accuracy                           0.95    174304\n",
            "   macro avg       0.96      0.93      0.94    174304\n",
            "weighted avg       0.95      0.95      0.95    174304\n",
            "\n",
            "[[58978  4359     4   173]\n",
            " [ 2509 82005   368   163]\n",
            " [    0   331 16450     5]\n",
            " [  404   719    77  7759]]\n"
          ],
          "name": "stdout"
        }
      ]
    },
    {
      "cell_type": "code",
      "metadata": {
        "id": "2AMO16HK2YW2",
        "colab": {
          "base_uri": "https://localhost:8080/",
          "height": 370
        },
        "outputId": "638a8695-f93b-4ba7-c5ca-774324d13256"
      },
      "source": [
        "pd.DataFrame({'columns':x.columns,'Importance':rforest.feature_importances_})"
      ],
      "execution_count": null,
      "outputs": [
        {
          "output_type": "execute_result",
          "data": {
            "text/html": [
              "<div>\n",
              "<style scoped>\n",
              "    .dataframe tbody tr th:only-of-type {\n",
              "        vertical-align: middle;\n",
              "    }\n",
              "\n",
              "    .dataframe tbody tr th {\n",
              "        vertical-align: top;\n",
              "    }\n",
              "\n",
              "    .dataframe thead th {\n",
              "        text-align: right;\n",
              "    }\n",
              "</style>\n",
              "<table border=\"1\" class=\"dataframe\">\n",
              "  <thead>\n",
              "    <tr style=\"text-align: right;\">\n",
              "      <th></th>\n",
              "      <th>columns</th>\n",
              "      <th>Importance</th>\n",
              "    </tr>\n",
              "  </thead>\n",
              "  <tbody>\n",
              "    <tr>\n",
              "      <th>0</th>\n",
              "      <td>Elevation</td>\n",
              "      <td>0.293586</td>\n",
              "    </tr>\n",
              "    <tr>\n",
              "      <th>1</th>\n",
              "      <td>Aspect</td>\n",
              "      <td>0.035508</td>\n",
              "    </tr>\n",
              "    <tr>\n",
              "      <th>2</th>\n",
              "      <td>Horizontal_Distance_To_Roadways</td>\n",
              "      <td>0.074809</td>\n",
              "    </tr>\n",
              "    <tr>\n",
              "      <th>3</th>\n",
              "      <td>Hillshade_9am</td>\n",
              "      <td>0.028406</td>\n",
              "    </tr>\n",
              "    <tr>\n",
              "      <th>4</th>\n",
              "      <td>Horizontal_Distance_To_Fire_Points</td>\n",
              "      <td>0.055968</td>\n",
              "    </tr>\n",
              "    <tr>\n",
              "      <th>5</th>\n",
              "      <td>Avg_Horizontal</td>\n",
              "      <td>0.074931</td>\n",
              "    </tr>\n",
              "    <tr>\n",
              "      <th>6</th>\n",
              "      <td>Fire_Road</td>\n",
              "      <td>0.072505</td>\n",
              "    </tr>\n",
              "    <tr>\n",
              "      <th>7</th>\n",
              "      <td>Hydr_Dist</td>\n",
              "      <td>0.043682</td>\n",
              "    </tr>\n",
              "    <tr>\n",
              "      <th>8</th>\n",
              "      <td>Fire_Hydr</td>\n",
              "      <td>0.055738</td>\n",
              "    </tr>\n",
              "    <tr>\n",
              "      <th>9</th>\n",
              "      <td>Wilderness</td>\n",
              "      <td>0.075564</td>\n",
              "    </tr>\n",
              "    <tr>\n",
              "      <th>10</th>\n",
              "      <td>Soil</td>\n",
              "      <td>0.189303</td>\n",
              "    </tr>\n",
              "  </tbody>\n",
              "</table>\n",
              "</div>"
            ],
            "text/plain": [
              "                               columns  Importance\n",
              "0                            Elevation    0.293586\n",
              "1                               Aspect    0.035508\n",
              "2      Horizontal_Distance_To_Roadways    0.074809\n",
              "3                        Hillshade_9am    0.028406\n",
              "4   Horizontal_Distance_To_Fire_Points    0.055968\n",
              "5                       Avg_Horizontal    0.074931\n",
              "6                            Fire_Road    0.072505\n",
              "7                            Hydr_Dist    0.043682\n",
              "8                            Fire_Hydr    0.055738\n",
              "9                           Wilderness    0.075564\n",
              "10                                Soil    0.189303"
            ]
          },
          "metadata": {
            "tags": []
          },
          "execution_count": 41
        }
      ]
    },
    {
      "cell_type": "markdown",
      "metadata": {
        "id": "907NqLyf2YW3"
      },
      "source": [
        "### KNN"
      ]
    },
    {
      "cell_type": "markdown",
      "metadata": {
        "id": "8y3mZlLlkIvC"
      },
      "source": [
        "\n",
        "*   scaling all numerical columns and saving it in a dataframe 'x_std'\n",
        "*   concatenating all the independent data into a dataframe 'x_' \n",
        "*   dividing data to x_ (independent variable) and y_ (dependent variable)\n",
        "*   splitting data into train and test in 7:3 ratio"
      ]
    },
    {
      "cell_type": "code",
      "metadata": {
        "id": "CL2P-nRN2YW4",
        "colab": {
          "base_uri": "https://localhost:8080/",
          "height": 194
        },
        "outputId": "01e45582-cb9c-4148-f0de-ee42c19cb53b"
      },
      "source": [
        "from sklearn.preprocessing import StandardScaler\n",
        "\n",
        "x1 = forest_e.drop(columns= ['Cover_Type','Soil','Wilderness'])\n",
        "y_ = forest_e['Cover_Type']\n",
        "\n",
        "x_std = StandardScaler().fit_transform(x1)\n",
        "\n",
        "x_std = pd.DataFrame(x_std, columns = x1.columns)\n",
        "\n",
        "x_ = pd.concat([x_std,forest_e[['Soil','Wilderness']]], axis = 1)\n",
        "x_.head()"
      ],
      "execution_count": null,
      "outputs": [
        {
          "output_type": "execute_result",
          "data": {
            "text/html": [
              "<div>\n",
              "<style scoped>\n",
              "    .dataframe tbody tr th:only-of-type {\n",
              "        vertical-align: middle;\n",
              "    }\n",
              "\n",
              "    .dataframe tbody tr th {\n",
              "        vertical-align: top;\n",
              "    }\n",
              "\n",
              "    .dataframe thead th {\n",
              "        text-align: right;\n",
              "    }\n",
              "</style>\n",
              "<table border=\"1\" class=\"dataframe\">\n",
              "  <thead>\n",
              "    <tr style=\"text-align: right;\">\n",
              "      <th></th>\n",
              "      <th>Elevation</th>\n",
              "      <th>Aspect</th>\n",
              "      <th>Horizontal_Distance_To_Roadways</th>\n",
              "      <th>Hillshade_9am</th>\n",
              "      <th>Horizontal_Distance_To_Fire_Points</th>\n",
              "      <th>Avg_Horizontal</th>\n",
              "      <th>Fire_Road</th>\n",
              "      <th>Hydr_Dist</th>\n",
              "      <th>Fire_Hydr</th>\n",
              "      <th>Soil</th>\n",
              "      <th>Wilderness</th>\n",
              "    </tr>\n",
              "  </thead>\n",
              "  <tbody>\n",
              "    <tr>\n",
              "      <th>0</th>\n",
              "      <td>-1.297805</td>\n",
              "      <td>-0.935157</td>\n",
              "      <td>-1.395274</td>\n",
              "      <td>0.330743</td>\n",
              "      <td>2.587999</td>\n",
              "      <td>1.054833</td>\n",
              "      <td>1.068195</td>\n",
              "      <td>0.135858</td>\n",
              "      <td>2.574818</td>\n",
              "      <td>29</td>\n",
              "      <td>1</td>\n",
              "    </tr>\n",
              "    <tr>\n",
              "      <th>1</th>\n",
              "      <td>-1.319235</td>\n",
              "      <td>-0.890480</td>\n",
              "      <td>-1.567204</td>\n",
              "      <td>0.293388</td>\n",
              "      <td>2.564187</td>\n",
              "      <td>0.979149</td>\n",
              "      <td>1.008612</td>\n",
              "      <td>-0.082435</td>\n",
              "      <td>2.529746</td>\n",
              "      <td>29</td>\n",
              "      <td>1</td>\n",
              "    </tr>\n",
              "    <tr>\n",
              "      <th>2</th>\n",
              "      <td>-0.554907</td>\n",
              "      <td>-0.148836</td>\n",
              "      <td>0.655217</td>\n",
              "      <td>0.816364</td>\n",
              "      <td>2.518036</td>\n",
              "      <td>1.849922</td>\n",
              "      <td>1.855709</td>\n",
              "      <td>0.215057</td>\n",
              "      <td>2.507987</td>\n",
              "      <td>12</td>\n",
              "      <td>1</td>\n",
              "    </tr>\n",
              "    <tr>\n",
              "      <th>3</th>\n",
              "      <td>-0.622768</td>\n",
              "      <td>-0.005869</td>\n",
              "      <td>0.606471</td>\n",
              "      <td>0.965786</td>\n",
              "      <td>2.557997</td>\n",
              "      <td>1.842302</td>\n",
              "      <td>1.855709</td>\n",
              "      <td>0.186241</td>\n",
              "      <td>2.536981</td>\n",
              "      <td>30</td>\n",
              "      <td>1</td>\n",
              "    </tr>\n",
              "    <tr>\n",
              "      <th>4</th>\n",
              "      <td>-1.301377</td>\n",
              "      <td>-0.988770</td>\n",
              "      <td>-1.565670</td>\n",
              "      <td>0.293388</td>\n",
              "      <td>2.540716</td>\n",
              "      <td>0.940499</td>\n",
              "      <td>0.990654</td>\n",
              "      <td>-0.401841</td>\n",
              "      <td>2.478848</td>\n",
              "      <td>29</td>\n",
              "      <td>1</td>\n",
              "    </tr>\n",
              "  </tbody>\n",
              "</table>\n",
              "</div>"
            ],
            "text/plain": [
              "   Elevation    Aspect  ...  Soil  Wilderness\n",
              "0  -1.297805 -0.935157  ...    29           1\n",
              "1  -1.319235 -0.890480  ...    29           1\n",
              "2  -0.554907 -0.148836  ...    12           1\n",
              "3  -0.622768 -0.005869  ...    30           1\n",
              "4  -1.301377 -0.988770  ...    29           1\n",
              "\n",
              "[5 rows x 11 columns]"
            ]
          },
          "metadata": {
            "tags": []
          },
          "execution_count": 34
        }
      ]
    },
    {
      "cell_type": "code",
      "metadata": {
        "id": "gnla0XeW2YW6"
      },
      "source": [
        "x_train_k, x_test_k, y_train_k, y_test_k = train_test_split(x_, y_, test_size = .3, random_state=25)"
      ],
      "execution_count": null,
      "outputs": []
    },
    {
      "cell_type": "code",
      "metadata": {
        "id": "ZJHGujTP2YW8"
      },
      "source": [
        "from sklearn.neighbors import KNeighborsClassifier"
      ],
      "execution_count": null,
      "outputs": []
    },
    {
      "cell_type": "code",
      "metadata": {
        "id": "cyHCLDI12YW9"
      },
      "source": [
        "knn = KNeighborsClassifier(metric = 'cityblock', n_neighbors= 4, weights= 'distance')\n",
        "knn.fit(x_train_k,y_train_k)\n",
        "y_pred_k = knn.predict(x_test_k)"
      ],
      "execution_count": null,
      "outputs": []
    },
    {
      "cell_type": "code",
      "metadata": {
        "id": "9rRbaPBX2YW_",
        "colab": {
          "base_uri": "https://localhost:8080/",
          "height": 52
        },
        "outputId": "2d5baf1a-5c45-45bc-fad5-f322d2c5d90f"
      },
      "source": [
        "print('Training Score:',knn.score(x_train_k,y_train_k))\n",
        "print('Testing Score:',knn.score(x_test_k,y_test_k))"
      ],
      "execution_count": null,
      "outputs": [
        {
          "output_type": "stream",
          "text": [
            "Training Score: 1.0\n",
            "Testing Score: 0.9659043969157334\n"
          ],
          "name": "stdout"
        }
      ]
    },
    {
      "cell_type": "code",
      "metadata": {
        "id": "wPeq1xAQ2YXA",
        "colab": {
          "base_uri": "https://localhost:8080/",
          "height": 284
        },
        "outputId": "fea385d1-2dfd-46dd-b4d8-e5fea947e041"
      },
      "source": [
        "print(classification_report(y_test_k, y_pred_k))\n",
        "print(confusion_matrix(y_test_k, y_pred_k))"
      ],
      "execution_count": null,
      "outputs": [
        {
          "output_type": "stream",
          "text": [
            "              precision    recall  f1-score   support\n",
            "\n",
            "           1       0.96      0.96      0.96     63514\n",
            "           2       0.97      0.97      0.97     85045\n",
            "           3       0.98      0.98      0.98     16786\n",
            "           4       0.94      0.93      0.94      8959\n",
            "\n",
            "    accuracy                           0.97    174304\n",
            "   macro avg       0.96      0.96      0.96    174304\n",
            "weighted avg       0.97      0.97      0.97    174304\n",
            "\n",
            "[[60955  2346    10   203]\n",
            " [ 2004 82550   230   261]\n",
            " [    8   236 16500    42]\n",
            " [  241   322    40  8356]]\n"
          ],
          "name": "stdout"
        }
      ]
    },
    {
      "cell_type": "markdown",
      "metadata": {
        "id": "37IKXRug2YXC"
      },
      "source": [
        "### Ensemble Techniques"
      ]
    },
    {
      "cell_type": "code",
      "metadata": {
        "id": "uxCzCgOk2YXC"
      },
      "source": [
        "#base_LR = LogisticRegression(random_state = 25)\n",
        "base_DT = DecisionTreeClassifier(criterion = \"entropy\", \n",
        "                                  random_state = 25,\n",
        "                                  max_depth=19, \n",
        "                                  min_samples_leaf=10,\n",
        "                                  min_samples_split=10)\n",
        "#base_NB = GaussianNB()\n",
        "base_RF = RandomForestClassifier(criterion = \"entropy\", \n",
        "                                  random_state = 25,\n",
        "                                  max_depth=19, \n",
        "                                  min_samples_leaf=10,\n",
        "                                  min_samples_split=10)\n",
        "base_KNN = KNeighborsClassifier(metric = 'cityblock', \n",
        "                                n_neighbors= 4, \n",
        "                                weights= 'distance')"
      ],
      "execution_count": null,
      "outputs": []
    },
    {
      "cell_type": "markdown",
      "metadata": {
        "id": "lj5K5A9P2YXE"
      },
      "source": [
        "### Bagging"
      ]
    },
    {
      "cell_type": "code",
      "metadata": {
        "id": "j8pGkJZt2YXE"
      },
      "source": [
        "from sklearn.ensemble import BaggingClassifier"
      ],
      "execution_count": null,
      "outputs": []
    },
    {
      "cell_type": "markdown",
      "metadata": {
        "id": "mOLxGxZ62YXG"
      },
      "source": [
        "#### Decision Bag"
      ]
    },
    {
      "cell_type": "code",
      "metadata": {
        "id": "5H4uHpav2YXH",
        "colab": {
          "base_uri": "https://localhost:8080/",
          "height": 319
        },
        "outputId": "39f98b26-46fe-4457-f1a7-bf152485bab3"
      },
      "source": [
        "bgcl_DT = BaggingClassifier(base_estimator=base_DT,n_estimators=51,oob_score=True,random_state=25)\n",
        "bgcl_DT.fit(x_train, y_train)"
      ],
      "execution_count": null,
      "outputs": [
        {
          "output_type": "execute_result",
          "data": {
            "text/plain": [
              "BaggingClassifier(base_estimator=DecisionTreeClassifier(ccp_alpha=0.0,\n",
              "                                                        class_weight=None,\n",
              "                                                        criterion='entropy',\n",
              "                                                        max_depth=19,\n",
              "                                                        max_features=None,\n",
              "                                                        max_leaf_nodes=None,\n",
              "                                                        min_impurity_decrease=0.0,\n",
              "                                                        min_impurity_split=None,\n",
              "                                                        min_samples_leaf=10,\n",
              "                                                        min_samples_split=10,\n",
              "                                                        min_weight_fraction_leaf=0.0,\n",
              "                                                        presort='deprecated',\n",
              "                                                        random_state=25,\n",
              "                                                        splitter='best'),\n",
              "                  bootstrap=True, bootstrap_features=False, max_features=1.0,\n",
              "                  max_samples=1.0, n_estimators=51, n_jobs=None, oob_score=True,\n",
              "                  random_state=25, verbose=0, warm_start=False)"
            ]
          },
          "metadata": {
            "tags": []
          },
          "execution_count": 50
        }
      ]
    },
    {
      "cell_type": "code",
      "metadata": {
        "id": "2xR-g08m2YXI",
        "colab": {
          "base_uri": "https://localhost:8080/",
          "height": 70
        },
        "outputId": "4e3a15a5-d485-4416-c8e1-c7185914fc72"
      },
      "source": [
        "print('OOB SCORE:',bgcl_DT.oob_score_)\n",
        "print('Training Score:',bgcl_DT.score(x_train,y_train))\n",
        "print('Testing Score:',bgcl_DT.score(x_test,y_test))"
      ],
      "execution_count": null,
      "outputs": [
        {
          "output_type": "stream",
          "text": [
            "OOB SCORE: 0.9460743334284056\n",
            "Training Score: 0.9678590044946251\n",
            "Testing Score: 0.9489684688819534\n"
          ],
          "name": "stdout"
        }
      ]
    },
    {
      "cell_type": "code",
      "metadata": {
        "id": "11ZL1Cer2YXK",
        "colab": {
          "base_uri": "https://localhost:8080/",
          "height": 284
        },
        "outputId": "c95bd0e7-77b3-4d18-d6cf-2cc41ae26a65"
      },
      "source": [
        "print(classification_report(y_test,bgcl_DT.predict(x_test)))\n",
        "print(confusion_matrix(y_test,bgcl_DT.predict(x_test)))"
      ],
      "execution_count": null,
      "outputs": [
        {
          "output_type": "stream",
          "text": [
            "              precision    recall  f1-score   support\n",
            "\n",
            "           1       0.95      0.94      0.94     63514\n",
            "           2       0.95      0.96      0.95     85045\n",
            "           3       0.97      0.98      0.98     16786\n",
            "           4       0.95      0.88      0.92      8959\n",
            "\n",
            "    accuracy                           0.95    174304\n",
            "   macro avg       0.95      0.94      0.95    174304\n",
            "weighted avg       0.95      0.95      0.95    174304\n",
            "\n",
            "[[59508  3809     4   193]\n",
            " [ 2935 81524   368   218]\n",
            " [    5   311 16463     7]\n",
            " [  374   598    73  7914]]\n"
          ],
          "name": "stdout"
        }
      ]
    },
    {
      "cell_type": "markdown",
      "metadata": {
        "id": "pzaqDkZe2YXM"
      },
      "source": [
        "#### Random Forest Bag"
      ]
    },
    {
      "cell_type": "code",
      "metadata": {
        "id": "UTtrGiff2YXN",
        "colab": {
          "base_uri": "https://localhost:8080/",
          "height": 408
        },
        "outputId": "bbace8b2-8b63-4e43-c563-3ed66c46e0aa"
      },
      "source": [
        "bgcl_RF = BaggingClassifier(base_estimator=base_RF,n_estimators=51,oob_score=True,random_state=25)\n",
        "bgcl_RF.fit(x_train, y_train)"
      ],
      "execution_count": null,
      "outputs": [
        {
          "output_type": "execute_result",
          "data": {
            "text/plain": [
              "BaggingClassifier(base_estimator=RandomForestClassifier(bootstrap=True,\n",
              "                                                        ccp_alpha=0.0,\n",
              "                                                        class_weight=None,\n",
              "                                                        criterion='entropy',\n",
              "                                                        max_depth=19,\n",
              "                                                        max_features='auto',\n",
              "                                                        max_leaf_nodes=None,\n",
              "                                                        max_samples=None,\n",
              "                                                        min_impurity_decrease=0.0,\n",
              "                                                        min_impurity_split=None,\n",
              "                                                        min_samples_leaf=10,\n",
              "                                                        min_samples_split=10,\n",
              "                                                        min_weight_fraction_leaf=0.0,\n",
              "                                                        n_estimators=100,\n",
              "                                                        n_jobs=None,\n",
              "                                                        oob_score=False,\n",
              "                                                        random_state=25,\n",
              "                                                        verbose=0,\n",
              "                                                        warm_start=False),\n",
              "                  bootstrap=True, bootstrap_features=False, max_features=1.0,\n",
              "                  max_samples=1.0, n_estimators=51, n_jobs=None, oob_score=True,\n",
              "                  random_state=25, verbose=0, warm_start=False)"
            ]
          },
          "metadata": {
            "tags": []
          },
          "execution_count": 39
        }
      ]
    },
    {
      "cell_type": "code",
      "metadata": {
        "id": "Wa_xgG4B2YXO",
        "colab": {
          "base_uri": "https://localhost:8080/",
          "height": 70
        },
        "outputId": "e34369f1-eb4a-4ad4-bdde-e5f1f65190fb"
      },
      "source": [
        "print('OOB SCORE:',bgcl_RF.oob_score_)\n",
        "print('Training Score:',bgcl_RF.score(x_train,y_train))\n",
        "print('Accuracy:',bgcl_RF.score(x_test,y_test))"
      ],
      "execution_count": null,
      "outputs": [
        {
          "output_type": "stream",
          "text": [
            "OOB SCORE: 0.9389832508826972\n",
            "Training Score: 0.9532662254000414\n",
            "Accuracy: 0.9389973838810355\n"
          ],
          "name": "stdout"
        }
      ]
    },
    {
      "cell_type": "code",
      "metadata": {
        "id": "YqIuWhmE2YXQ",
        "colab": {
          "base_uri": "https://localhost:8080/",
          "height": 284
        },
        "outputId": "a74e07b1-1e59-483e-8353-e513c677a3bc"
      },
      "source": [
        "print(classification_report(y_test,bgcl_RF.predict(x_test)))\n",
        "print(confusion_matrix(y_test,bgcl_RF.predict(x_test)))"
      ],
      "execution_count": null,
      "outputs": [
        {
          "output_type": "stream",
          "text": [
            "              precision    recall  f1-score   support\n",
            "\n",
            "           1       0.94      0.92      0.93     63514\n",
            "           2       0.93      0.96      0.94     85045\n",
            "           3       0.97      0.98      0.97     16786\n",
            "           4       0.96      0.83      0.89      8959\n",
            "\n",
            "    accuracy                           0.94    174304\n",
            "   macro avg       0.95      0.92      0.93    174304\n",
            "weighted avg       0.94      0.94      0.94    174304\n",
            "\n",
            "[[58276  5039     9   190]\n",
            " [ 2895 81548   448   154]\n",
            " [    0   405 16379     2]\n",
            " [  524   885    82  7468]]\n"
          ],
          "name": "stdout"
        }
      ]
    },
    {
      "cell_type": "markdown",
      "metadata": {
        "id": "Yq7Dew4_2YXT"
      },
      "source": [
        "#### KNN Bag"
      ]
    },
    {
      "cell_type": "code",
      "metadata": {
        "id": "whLsF3KO2YXT",
        "colab": {
          "base_uri": "https://localhost:8080/",
          "height": 195
        },
        "outputId": "fbe8be02-5e6b-4b9f-932d-fe8a9d780516"
      },
      "source": [
        "bgcl_KN = BaggingClassifier(base_estimator=base_KNN,n_estimators=51,oob_score=True,random_state=25)\n",
        "bgcl_KN.fit(x_train_k, y_train_k)"
      ],
      "execution_count": null,
      "outputs": [
        {
          "output_type": "execute_result",
          "data": {
            "text/plain": [
              "BaggingClassifier(base_estimator=KNeighborsClassifier(algorithm='auto',\n",
              "                                                      leaf_size=30,\n",
              "                                                      metric='cityblock',\n",
              "                                                      metric_params=None,\n",
              "                                                      n_jobs=None,\n",
              "                                                      n_neighbors=4, p=2,\n",
              "                                                      weights='distance'),\n",
              "                  bootstrap=True, bootstrap_features=False, max_features=1.0,\n",
              "                  max_samples=1.0, n_estimators=51, n_jobs=None, oob_score=True,\n",
              "                  random_state=25, verbose=0, warm_start=False)"
            ]
          },
          "metadata": {
            "tags": []
          },
          "execution_count": 39
        }
      ]
    },
    {
      "cell_type": "code",
      "metadata": {
        "id": "1abu_jbj2YXV",
        "colab": {
          "base_uri": "https://localhost:8080/",
          "height": 70
        },
        "outputId": "935bd093-4a61-4244-eaa4-7601ac24780a"
      },
      "source": [
        "print('OOB SCORE:',bgcl_KN.oob_score_)\n",
        "print('Training Score:',bgcl_KN.score(x_train_k,y_train_k))\n",
        "print('Testing Score:',bgcl_KN.score(x_test_k,y_test_k))"
      ],
      "execution_count": null,
      "outputs": [
        {
          "output_type": "stream",
          "text": [
            "OOB SCORE: 0.9640454576747937\n",
            "Training Score: 0.9999114844065029\n",
            "Testing Score: 0.9658011290618689\n"
          ],
          "name": "stdout"
        }
      ]
    },
    {
      "cell_type": "code",
      "metadata": {
        "id": "C1OELlzK2YXW",
        "colab": {
          "base_uri": "https://localhost:8080/",
          "height": 284
        },
        "outputId": "c74e17bf-6439-4cf6-c62a-76f6f3d41844"
      },
      "source": [
        "print(classification_report(y_test_k,bgcl_KN.predict(x_test_k)))\n",
        "print(confusion_matrix(y_test_k,bgcl_KN.predict(x_test_k)))"
      ],
      "execution_count": null,
      "outputs": [
        {
          "output_type": "stream",
          "text": [
            "              precision    recall  f1-score   support\n",
            "\n",
            "           1       0.96      0.96      0.96     63514\n",
            "           2       0.97      0.97      0.97     85045\n",
            "           3       0.98      0.98      0.98     16786\n",
            "           4       0.94      0.93      0.94      8959\n",
            "\n",
            "    accuracy                           0.97    174304\n",
            "   macro avg       0.96      0.96      0.96    174304\n",
            "weighted avg       0.97      0.97      0.97    174304\n",
            "\n",
            "[[60908  2396    11   199]\n",
            " [ 1960 82593   235   257]\n",
            " [    8   244 16498    36]\n",
            " [  246   322    47  8344]]\n"
          ],
          "name": "stdout"
        }
      ]
    },
    {
      "cell_type": "markdown",
      "metadata": {
        "id": "aN9x643Z2YXY"
      },
      "source": [
        "### AdaBoost"
      ]
    },
    {
      "cell_type": "code",
      "metadata": {
        "id": "mYKBJNBG2YXY"
      },
      "source": [
        "from sklearn.ensemble import AdaBoostClassifier\n",
        "\n",
        "abcl_DT = AdaBoostClassifier(base_estimator=base_DT,n_estimators=50,random_state=25)\n",
        "\n",
        "abcl_RF = AdaBoostClassifier(base_estimator=base_RF,n_estimators=50,random_state=25)"
      ],
      "execution_count": null,
      "outputs": []
    },
    {
      "cell_type": "markdown",
      "metadata": {
        "id": "DR8xFf2bpiXi"
      },
      "source": [
        "#### Decision Tree"
      ]
    },
    {
      "cell_type": "code",
      "metadata": {
        "scrolled": true,
        "id": "t_KLmhM12YXa",
        "colab": {
          "base_uri": "https://localhost:8080/",
          "height": 52
        },
        "outputId": "7d44f046-1088-4d2c-bcfe-d2ef6f0f0c11"
      },
      "source": [
        "abcl_DT.fit(x_train,y_train)\n",
        "print('AdaBoost DT Training Score:',abcl_DT.score(x_train,y_train))\n",
        "print('AdaBoost DT Testing Score:',abcl_DT.score(x_test,y_test))"
      ],
      "execution_count": null,
      "outputs": [
        {
          "output_type": "stream",
          "text": [
            "AdaBoost DT Training Score: 1.0\n",
            "AdaBoost DT Testing Score: 0.9670346062052506\n"
          ],
          "name": "stdout"
        }
      ]
    },
    {
      "cell_type": "code",
      "metadata": {
        "id": "SqbIqJTG2YXc",
        "colab": {
          "base_uri": "https://localhost:8080/",
          "height": 284
        },
        "outputId": "524a1832-d821-4685-ab48-cc7daf5ee8f3"
      },
      "source": [
        "print(classification_report(y_test,abcl_DT.predict(x_test)))\n",
        "print(confusion_matrix(y_test,abcl_DT.predict(x_test)))"
      ],
      "execution_count": null,
      "outputs": [
        {
          "output_type": "stream",
          "text": [
            "              precision    recall  f1-score   support\n",
            "\n",
            "           1       0.97      0.96      0.96     63514\n",
            "           2       0.96      0.98      0.97     85045\n",
            "           3       0.98      0.99      0.98     16786\n",
            "           4       0.97      0.91      0.94      8959\n",
            "\n",
            "    accuracy                           0.97    174304\n",
            "   macro avg       0.97      0.96      0.96    174304\n",
            "weighted avg       0.97      0.97      0.97    174304\n",
            "\n",
            "[[60862  2551     0   101]\n",
            " [ 1733 82953   250   109]\n",
            " [    1   226 16551     8]\n",
            " [  258   463    46  8192]]\n"
          ],
          "name": "stdout"
        }
      ]
    },
    {
      "cell_type": "markdown",
      "metadata": {
        "id": "uyfJfQeaplYB"
      },
      "source": [
        "#### Random Forest"
      ]
    },
    {
      "cell_type": "code",
      "metadata": {
        "id": "--G1lnXM2YXd",
        "colab": {
          "base_uri": "https://localhost:8080/",
          "height": 52
        },
        "outputId": "4f529dba-019a-4b4b-c94a-96abcf83addd"
      },
      "source": [
        "abcl_RF.fit(x_train,y_train)\n",
        "print('AdaBoost RF Training Score:',abcl_RF.score(x_train,y_train))\n",
        "print('AdaBoost RF Testing Score:',abcl_RF.score(x_test,y_test))"
      ],
      "execution_count": null,
      "outputs": [
        {
          "output_type": "stream",
          "text": [
            "AdaBoost RF Training Score: 0.9280146935885205\n",
            "AdaBoost RF Testing Score: 0.9030372223242151\n"
          ],
          "name": "stdout"
        }
      ]
    },
    {
      "cell_type": "code",
      "metadata": {
        "id": "n7v9feVB2YXf",
        "colab": {
          "base_uri": "https://localhost:8080/",
          "height": 284
        },
        "outputId": "15764e5b-ebfe-41c0-eb38-04809d708971"
      },
      "source": [
        "print(classification_report(y_test,abcl_RF.predict(x_test)))\n",
        "print(confusion_matrix(y_test,abcl_RF.predict(x_test)))"
      ],
      "execution_count": null,
      "outputs": [
        {
          "output_type": "stream",
          "text": [
            "              precision    recall  f1-score   support\n",
            "\n",
            "           1       0.90      0.86      0.88     63514\n",
            "           2       0.89      0.94      0.91     85045\n",
            "           3       0.97      0.98      0.98     16786\n",
            "           4       0.97      0.75      0.85      8959\n",
            "\n",
            "    accuracy                           0.90    174304\n",
            "   macro avg       0.93      0.88      0.90    174304\n",
            "weighted avg       0.90      0.90      0.90    174304\n",
            "\n",
            "[[54617  8832     0    65]\n",
            " [ 4874 79600   447   124]\n",
            " [    0   293 16489     4]\n",
            " [ 1449   766    47  6697]]\n"
          ],
          "name": "stdout"
        }
      ]
    },
    {
      "cell_type": "markdown",
      "metadata": {
        "id": "5zvTgzQk2YXh"
      },
      "source": [
        "### Gradient Boosting"
      ]
    },
    {
      "cell_type": "code",
      "metadata": {
        "id": "-v9skoE_2YXi",
        "colab": {
          "base_uri": "https://localhost:8080/",
          "height": 195
        },
        "outputId": "f411e57a-6836-4f87-908e-0a527921ec8d"
      },
      "source": [
        "from sklearn.ensemble import GradientBoostingClassifier\n",
        "\n",
        "gbcl = GradientBoostingClassifier(random_state = 25,\n",
        "                                  max_depth=19, \n",
        "                                  min_samples_leaf=10,\n",
        "                                  min_samples_split=10,\n",
        "                                  n_estimators = 50)\n",
        "gbcl.fit(x_train, y_train)"
      ],
      "execution_count": null,
      "outputs": [
        {
          "output_type": "execute_result",
          "data": {
            "text/plain": [
              "GradientBoostingClassifier(ccp_alpha=0.0, criterion='friedman_mse', init=None,\n",
              "                           learning_rate=0.1, loss='deviance', max_depth=19,\n",
              "                           max_features=None, max_leaf_nodes=None,\n",
              "                           min_impurity_decrease=0.0, min_impurity_split=None,\n",
              "                           min_samples_leaf=10, min_samples_split=10,\n",
              "                           min_weight_fraction_leaf=0.0, n_estimators=50,\n",
              "                           n_iter_no_change=None, presort='deprecated',\n",
              "                           random_state=25, subsample=1.0, tol=0.0001,\n",
              "                           validation_fraction=0.1, verbose=0,\n",
              "                           warm_start=False)"
            ]
          },
          "metadata": {
            "tags": []
          },
          "execution_count": 83
        }
      ]
    },
    {
      "cell_type": "code",
      "metadata": {
        "id": "kxSw6XbY2YXj",
        "colab": {
          "base_uri": "https://localhost:8080/",
          "height": 52
        },
        "outputId": "5f774322-247a-495b-c4d3-cdc0fd7f6247"
      },
      "source": [
        "print('Training Score:',gbcl.score(x_train,y_train))\n",
        "print('Testing Score:',gbcl.score(x_test,y_test))"
      ],
      "execution_count": null,
      "outputs": [
        {
          "output_type": "stream",
          "text": [
            "Training Score: 1.0\n",
            "Testing Score: 0.9753419313383513\n"
          ],
          "name": "stdout"
        }
      ]
    },
    {
      "cell_type": "code",
      "metadata": {
        "id": "lr_9FGg-2YXl",
        "colab": {
          "base_uri": "https://localhost:8080/",
          "height": 284
        },
        "outputId": "a3e1a342-1bf7-4bc1-99fa-1eb177f30796"
      },
      "source": [
        "print(classification_report(y_test,gbcl.predict(x_test)))\n",
        "print(confusion_matrix(y_test,gbcl.predict(x_test)))"
      ],
      "execution_count": null,
      "outputs": [
        {
          "output_type": "stream",
          "text": [
            "              precision    recall  f1-score   support\n",
            "\n",
            "           1       0.98      0.97      0.97     63514\n",
            "           2       0.97      0.98      0.98     85045\n",
            "           3       0.98      0.99      0.99     16786\n",
            "           4       0.97      0.93      0.95      8959\n",
            "\n",
            "    accuracy                           0.98    174304\n",
            "   macro avg       0.98      0.97      0.97    174304\n",
            "weighted avg       0.98      0.98      0.98    174304\n",
            "\n",
            "[[61640  1742     6   126]\n",
            " [ 1271 83404   214   156]\n",
            " [    0   187 16589    10]\n",
            " [  196   353    37  8373]]\n"
          ],
          "name": "stdout"
        }
      ]
    },
    {
      "cell_type": "code",
      "metadata": {
        "id": "6Hy9AotrqiDx"
      },
      "source": [
        ""
      ],
      "execution_count": null,
      "outputs": []
    }
  ]
}